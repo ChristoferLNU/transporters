{
 "cells": [
  {
   "cell_type": "markdown",
   "metadata": {},
   "source": [
    "# Processing the transporter data"
   ]
  },
  {
   "cell_type": "markdown",
   "metadata": {},
   "source": [
    "## Overview"
   ]
  },
  {
   "cell_type": "markdown",
   "metadata": {},
   "source": [
    "This notebook fetches transporter cluster information from the [transporter](https://github.com/johnne/transporters) GitHub repository and metaomic gene abundances and annotations from [figshare](https://figshare.com/s/6e05aa0ea8353098a503)."
   ]
  },
  {
   "cell_type": "code",
   "execution_count": 1,
   "metadata": {},
   "outputs": [],
   "source": [
    "import pandas as pd\n",
    "import os\n",
    "import numpy as np\n",
    "import urllib\n",
    "import hashlib"
   ]
  },
  {
   "cell_type": "code",
   "execution_count": 2,
   "metadata": {},
   "outputs": [],
   "source": [
    "def sha256sum(filename):\n",
    "    h  = hashlib.sha256()\n",
    "    b  = bytearray(128*1024)\n",
    "    mv = memoryview(b)\n",
    "    with open(filename, 'rb', buffering=0) as f:\n",
    "        for n in iter(lambda : f.readinto(mv), 0):\n",
    "            h.update(mv[:n])\n",
    "    return h.hexdigest()"
   ]
  },
  {
   "cell_type": "code",
   "execution_count": 3,
   "metadata": {},
   "outputs": [],
   "source": [
    "def file2df(f, drop=None, axis=1, rename=None):\n",
    "    df = pd.read_csv(f, index_col=0, sep=\"\\t\", header=0)\n",
    "    if drop:\n",
    "        df.drop(drop, axis=axis, inplace=True)\n",
    "    if rename:\n",
    "        if axis == 1:\n",
    "            df.rename(columns=rename, inplace=True)\n",
    "        elif axis == 0:\n",
    "            df.rename(index=rename, inplace=True)\n",
    "    return df"
   ]
  },
  {
   "cell_type": "markdown",
   "metadata": {},
   "source": [
    "## Set up the metaomic data"
   ]
  },
  {
   "cell_type": "markdown",
   "metadata": {},
   "source": [
    "### Download data from figshare"
   ]
  },
  {
   "cell_type": "markdown",
   "metadata": {},
   "source": [
    "Download the abundance data of ORFs in the co-assembly, as well as tables containing taxonomic information."
   ]
  },
  {
   "cell_type": "code",
   "execution_count": 4,
   "metadata": {},
   "outputs": [],
   "source": [
    "# Define data files\n",
    "data_files = {'data/mg/all_genes.raw_counts.taxonomy.tsv.gz': {'url': 'https://ndownloader.figshare.com/files/15168053', 'sha256': '700b83f864791ba801a5912f2673d2e3c09f0e70cf8a0ee685489f705fa75dbc'},\n",
    "              'data/mg/all_genes.raw_counts.tsv.gz': {'url': 'https://ndownloader.figshare.com/files/15168047', 'sha256': '4d532c1f2126028cef6be531fb39802d1d31a27a5e5abba480782607eb419f4f'},\n",
    "              'data/mg/all_genes.tpm.taxonomy.tsv.gz': {'url': 'https://ndownloader.figshare.com/files/15168017', 'sha256': '9f4b29218009c75969d312b0d62243459699fde548efc03545d30e2f262f19e1'},\n",
    "              'data/mg/all_genes.tpm.tsv.gz': {'url': 'https://ndownloader.figshare.com/files/15168011', 'sha256': 'f38aedf2151277d88f6f9fe92af64503baa9ed146ad607b050fb48a488a9a8d8'},\n",
    "              'data/mt/all_genes.tpm.tsv.gz': {'url': 'https://ndownloader.figshare.com/files/15168020', 'sha256': '881a73bcc670f74b567b3875c65c64fd0097ba8b18eabc1ddf159ae39699ac86'},\n",
    "              'data/mt/all_genes.tpm.taxonomy.tsv.gz': {'url': 'https://ndownloader.figshare.com/files/15168023', 'sha256': '89bb9ab8fd34e29df486961147875d3f2aa613b993c88e13694863322475af71'},\n",
    "              'data/mt/all_genes.raw_counts.tsv.gz': {'url': 'https://ndownloader.figshare.com/files/15168026', 'sha256': 'c32ca173e359369f5558b695e1d3108105e59dcc6b3478c7669e32ea3d93825a'},\n",
    "              'data/mt/all_genes.raw_counts.taxonomy.tsv.gz': {'url': 'https://ndownloader.figshare.com/files/15168035', 'sha256': '77efa5d4a1cd22cbd367b41981553ec489a85598ee7328f778c5497976278a04'}}"
   ]
  },
  {
   "cell_type": "code",
   "execution_count": 5,
   "metadata": {},
   "outputs": [
    {
     "name": "stdout",
     "output_type": "stream",
     "text": [
      "Downloading file data/mg/all_genes.raw_counts.taxonomy.tsv.gz from https://ndownloader.figshare.com/files/15168053\n",
      "data/mg/all_genes.raw_counts.taxonomy.tsv.gz OK\n",
      "Downloading file data/mg/all_genes.raw_counts.tsv.gz from https://ndownloader.figshare.com/files/15168047\n",
      "data/mg/all_genes.raw_counts.tsv.gz OK\n",
      "Downloading file data/mg/all_genes.tpm.taxonomy.tsv.gz from https://ndownloader.figshare.com/files/15168017\n",
      "data/mg/all_genes.tpm.taxonomy.tsv.gz OK\n",
      "Downloading file data/mg/all_genes.tpm.tsv.gz from https://ndownloader.figshare.com/files/15168011\n",
      "data/mg/all_genes.tpm.tsv.gz OK\n",
      "Downloading file data/mt/all_genes.tpm.tsv.gz from https://ndownloader.figshare.com/files/15168020\n",
      "data/mt/all_genes.tpm.tsv.gz OK\n",
      "Downloading file data/mt/all_genes.tpm.taxonomy.tsv.gz from https://ndownloader.figshare.com/files/15168023\n",
      "data/mt/all_genes.tpm.taxonomy.tsv.gz OK\n",
      "Downloading file data/mt/all_genes.raw_counts.tsv.gz from https://ndownloader.figshare.com/files/15168026\n",
      "data/mt/all_genes.raw_counts.tsv.gz OK\n",
      "Downloading file data/mt/all_genes.raw_counts.taxonomy.tsv.gz from https://ndownloader.figshare.com/files/15168035\n",
      "data/mt/all_genes.raw_counts.taxonomy.tsv.gz OK\n"
     ]
    }
   ],
   "source": [
    "for f, d in data_files.items():\n",
    "    os.makedirs(os.path.dirname(f), exist_ok=True)\n",
    "    download = False\n",
    "    if os.path.exists(f):\n",
    "        if sha256sum(f) == d['sha256']:\n",
    "            print(\"File {} exists\".format(f))\n",
    "            continue\n",
    "        else:\n",
    "            print(\"File {} has wrong hash. Re-downloading\")\n",
    "            download = True\n",
    "    else:\n",
    "        download = True\n",
    "    if download:\n",
    "        url = d['url']\n",
    "        print(\"Downloading file {} from {}\".format(f, url))\n",
    "        urllib.request.urlretrieve(url, f)\n",
    "        if sha256sum(f) == d['sha256']:\n",
    "            print(\"{} OK\".format(f))\n",
    "        else:\n",
    "            print(\"{} FAILED. Please try re-downloading.\".format(f))"
   ]
  },
  {
   "cell_type": "markdown",
   "metadata": {},
   "source": [
    "Download the environmental data."
   ]
  },
  {
   "cell_type": "code",
   "execution_count": 6,
   "metadata": {},
   "outputs": [
    {
     "data": {
      "text/plain": [
       "('data/LMO.time.series.metadata.csv', <http.client.HTTPMessage at 0x10d063f98>)"
      ]
     },
     "execution_count": 6,
     "metadata": {},
     "output_type": "execute_result"
    }
   ],
   "source": [
    "urllib.request.urlretrieve(\"https://ndownloader.figshare.com/files/15175808\", \"data/LMO.time.series.metadata.csv\")"
   ]
  },
  {
   "cell_type": "markdown",
   "metadata": {},
   "source": [
    "Download TIGRFAM annotations for ORFs. This is done directly from the [Alneberg et al 2018](https://doi.org/10.6084/m9.figshare.c.3831631.v1) collection."
   ]
  },
  {
   "cell_type": "code",
   "execution_count": 7,
   "metadata": {},
   "outputs": [
    {
     "data": {
      "text/plain": [
       "('data/annotations/all.TIGRFAM.standardized.tsv.gz',\n",
       " <http.client.HTTPMessage at 0x10d0895f8>)"
      ]
     },
     "execution_count": 7,
     "metadata": {},
     "output_type": "execute_result"
    }
   ],
   "source": [
    "os.makedirs(\"data/annotations\", exist_ok=True)\n",
    "urllib.request.urlretrieve(\"https://ndownloader.figshare.com/files/9448027\", \"data/annotations/all.TIGRFAM.standardized.tsv.gz\")"
   ]
  },
  {
   "cell_type": "markdown",
   "metadata": {},
   "source": [
    "### Retrieve transporter information"
   ]
  },
  {
   "cell_type": "markdown",
   "metadata": {},
   "source": [
    "Protein families associated with transporter functions have been identified using the https://github.com/johnne/transporters repository. Transporter protein families are clustered using cross-referencing of reviewed entries in the UniProt database (see the GitHub transporter [wiki](https://github.com/johnne/transporters/wiki) for details). Here we use transporter clustering created using the `2017_12` UniProt version."
   ]
  },
  {
   "cell_type": "code",
   "execution_count": 8,
   "metadata": {},
   "outputs": [],
   "source": [
    "uniprot_ver = \"2017_12\""
   ]
  },
  {
   "cell_type": "code",
   "execution_count": 9,
   "metadata": {},
   "outputs": [
    {
     "name": "stdout",
     "output_type": "stream",
     "text": [
      "1076 transporters, 1403 protein families\n"
     ]
    }
   ],
   "source": [
    "transdef = pd.read_csv(\"https://raw.githubusercontent.com/ChristoferLNU/transporters/master/results/transport-clusters.{}.tab\".format(uniprot_ver), \n",
    "                       header=None, sep=\"\\t\", names=[\"transporter\",\"fam\"])\n",
    "print(\"{} transporters, {} protein families\".format(len(transdef.transporter.unique()), len(transdef.fam)))"
   ]
  },
  {
   "cell_type": "markdown",
   "metadata": {},
   "source": [
    "We limit transporters to the ones with at least one TIGRFAM entry."
   ]
  },
  {
   "cell_type": "code",
   "execution_count": 10,
   "metadata": {},
   "outputs": [
    {
     "name": "stdout",
     "output_type": "stream",
     "text": [
      "406 remaining transporters, 458 TIGRFAMs\n"
     ]
    }
   ],
   "source": [
    "transdef = transdef.loc[transdef.fam.str.contains(\"TIGR\")]\n",
    "print(\"{} remaining transporters, {} TIGRFAMs\".format(len(transdef.transporter.unique()), len(transdef.fam)))"
   ]
  },
  {
   "cell_type": "markdown",
   "metadata": {},
   "source": [
    "### TIGRFAM annotations"
   ]
  },
  {
   "cell_type": "markdown",
   "metadata": {},
   "source": [
    "Here we load the TIGRFAM annotations for ORFs in the metagenomic co-assembly."
   ]
  },
  {
   "cell_type": "code",
   "execution_count": 11,
   "metadata": {},
   "outputs": [
    {
     "data": {
      "text/html": [
       "<div>\n",
       "<style scoped>\n",
       "    .dataframe tbody tr th:only-of-type {\n",
       "        vertical-align: middle;\n",
       "    }\n",
       "\n",
       "    .dataframe tbody tr th {\n",
       "        vertical-align: top;\n",
       "    }\n",
       "\n",
       "    .dataframe thead th {\n",
       "        text-align: right;\n",
       "    }\n",
       "</style>\n",
       "<table border=\"1\" class=\"dataframe\">\n",
       "  <thead>\n",
       "    <tr style=\"text-align: right;\">\n",
       "      <th></th>\n",
       "      <th>gene_id</th>\n",
       "      <th>fam</th>\n",
       "    </tr>\n",
       "  </thead>\n",
       "  <tbody>\n",
       "    <tr>\n",
       "      <th>0</th>\n",
       "      <td>k99_10000020_1</td>\n",
       "      <td>TIGR00214</td>\n",
       "    </tr>\n",
       "    <tr>\n",
       "      <th>1</th>\n",
       "      <td>k99_10000020_2</td>\n",
       "      <td>TIGR00510</td>\n",
       "    </tr>\n",
       "    <tr>\n",
       "      <th>2</th>\n",
       "      <td>k99_10000077_5</td>\n",
       "      <td>TIGR01473</td>\n",
       "    </tr>\n",
       "    <tr>\n",
       "      <th>3</th>\n",
       "      <td>k99_1000008_1</td>\n",
       "      <td>TIGR00200</td>\n",
       "    </tr>\n",
       "    <tr>\n",
       "      <th>4</th>\n",
       "      <td>k99_10000154_2</td>\n",
       "      <td>TIGR00049</td>\n",
       "    </tr>\n",
       "    <tr>\n",
       "      <th>5</th>\n",
       "      <td>k99_10000155_3</td>\n",
       "      <td>TIGR01904</td>\n",
       "    </tr>\n",
       "    <tr>\n",
       "      <th>6</th>\n",
       "      <td>k99_1000015_1</td>\n",
       "      <td>TIGR01941</td>\n",
       "    </tr>\n",
       "    <tr>\n",
       "      <th>7</th>\n",
       "      <td>k99_10000270_10</td>\n",
       "      <td>TIGR01063</td>\n",
       "    </tr>\n",
       "    <tr>\n",
       "      <th>8</th>\n",
       "      <td>k99_10000270_12</td>\n",
       "      <td>TIGR00181</td>\n",
       "    </tr>\n",
       "    <tr>\n",
       "      <th>9</th>\n",
       "      <td>k99_10000270_15</td>\n",
       "      <td>TIGR00696</td>\n",
       "    </tr>\n",
       "  </tbody>\n",
       "</table>\n",
       "</div>"
      ],
      "text/plain": [
       "           gene_id        fam\n",
       "0   k99_10000020_1  TIGR00214\n",
       "1   k99_10000020_2  TIGR00510\n",
       "2   k99_10000077_5  TIGR01473\n",
       "3    k99_1000008_1  TIGR00200\n",
       "4   k99_10000154_2  TIGR00049\n",
       "5   k99_10000155_3  TIGR01904\n",
       "6    k99_1000015_1  TIGR01941\n",
       "7  k99_10000270_10  TIGR01063\n",
       "8  k99_10000270_12  TIGR00181\n",
       "9  k99_10000270_15  TIGR00696"
      ]
     },
     "execution_count": 11,
     "metadata": {},
     "output_type": "execute_result"
    }
   ],
   "source": [
    "tigrfams = pd.read_csv(\"data/annotations/all.TIGRFAM.standardized.tsv.gz\", usecols=[0,1],names=[\"gene_id\",\"fam\"],header=0,sep=\"\\t\")\n",
    "tigrfams.head(10)"
   ]
  },
  {
   "cell_type": "markdown",
   "metadata": {},
   "source": [
    "### Merge with annotations"
   ]
  },
  {
   "cell_type": "markdown",
   "metadata": {},
   "source": [
    "The annotation table is then merged with the transporter definitions."
   ]
  },
  {
   "cell_type": "code",
   "execution_count": 12,
   "metadata": {},
   "outputs": [
    {
     "name": "stdout",
     "output_type": "stream",
     "text": [
      " 66029 open reading frames, 275 transporters, 314 TIGRFAMs\n"
     ]
    }
   ],
   "source": [
    "gene_trans = pd.merge(tigrfams, transdef, left_on=\"fam\", right_on=\"fam\")\n",
    "print(\" {} open reading frames, {} transporters, {} TIGRFAMs\".format(len(gene_trans.gene_id.unique()), len(gene_trans.transporter.unique()), len(gene_trans.fam.unique())))"
   ]
  },
  {
   "cell_type": "code",
   "execution_count": 13,
   "metadata": {
    "scrolled": true
   },
   "outputs": [
    {
     "data": {
      "text/html": [
       "<div>\n",
       "<style scoped>\n",
       "    .dataframe tbody tr th:only-of-type {\n",
       "        vertical-align: middle;\n",
       "    }\n",
       "\n",
       "    .dataframe tbody tr th {\n",
       "        vertical-align: top;\n",
       "    }\n",
       "\n",
       "    .dataframe thead th {\n",
       "        text-align: right;\n",
       "    }\n",
       "</style>\n",
       "<table border=\"1\" class=\"dataframe\">\n",
       "  <thead>\n",
       "    <tr style=\"text-align: right;\">\n",
       "      <th></th>\n",
       "      <th>gene_id</th>\n",
       "      <th>fam</th>\n",
       "      <th>transporter</th>\n",
       "    </tr>\n",
       "  </thead>\n",
       "  <tbody>\n",
       "    <tr>\n",
       "      <th>54543</th>\n",
       "      <td>k99_25301012_1</td>\n",
       "      <td>TIGR00801</td>\n",
       "      <td>T94</td>\n",
       "    </tr>\n",
       "    <tr>\n",
       "      <th>2836</th>\n",
       "      <td>k99_10471890_3</td>\n",
       "      <td>TIGR04183</td>\n",
       "      <td>T328</td>\n",
       "    </tr>\n",
       "    <tr>\n",
       "      <th>61628</th>\n",
       "      <td>k99_10909617_6</td>\n",
       "      <td>TIGR01065</td>\n",
       "      <td>T113</td>\n",
       "    </tr>\n",
       "    <tr>\n",
       "      <th>10934</th>\n",
       "      <td>k99_28461483_3</td>\n",
       "      <td>TIGR04183</td>\n",
       "      <td>T328</td>\n",
       "    </tr>\n",
       "    <tr>\n",
       "      <th>27017</th>\n",
       "      <td>k99_27806104_1</td>\n",
       "      <td>TIGR01129</td>\n",
       "      <td>T17</td>\n",
       "    </tr>\n",
       "    <tr>\n",
       "      <th>20308</th>\n",
       "      <td>k99_14338128_1</td>\n",
       "      <td>TIGR00813</td>\n",
       "      <td>T7</td>\n",
       "    </tr>\n",
       "    <tr>\n",
       "      <th>57630</th>\n",
       "      <td>k99_39081650_5</td>\n",
       "      <td>TIGR00975</td>\n",
       "      <td>T3</td>\n",
       "    </tr>\n",
       "    <tr>\n",
       "      <th>34148</th>\n",
       "      <td>k99_8186983_141</td>\n",
       "      <td>TIGR01189</td>\n",
       "      <td>T13</td>\n",
       "    </tr>\n",
       "    <tr>\n",
       "      <th>47709</th>\n",
       "      <td>k99_518338_2</td>\n",
       "      <td>TIGR01190</td>\n",
       "      <td>T13</td>\n",
       "    </tr>\n",
       "    <tr>\n",
       "      <th>22673</th>\n",
       "      <td>k99_30563785_2</td>\n",
       "      <td>TIGR04409</td>\n",
       "      <td>T122</td>\n",
       "    </tr>\n",
       "  </tbody>\n",
       "</table>\n",
       "</div>"
      ],
      "text/plain": [
       "               gene_id        fam transporter\n",
       "54543   k99_25301012_1  TIGR00801         T94\n",
       "2836    k99_10471890_3  TIGR04183        T328\n",
       "61628   k99_10909617_6  TIGR01065        T113\n",
       "10934   k99_28461483_3  TIGR04183        T328\n",
       "27017   k99_27806104_1  TIGR01129         T17\n",
       "20308   k99_14338128_1  TIGR00813          T7\n",
       "57630   k99_39081650_5  TIGR00975          T3\n",
       "34148  k99_8186983_141  TIGR01189         T13\n",
       "47709     k99_518338_2  TIGR01190         T13\n",
       "22673   k99_30563785_2  TIGR04409        T122"
      ]
     },
     "execution_count": 13,
     "metadata": {},
     "output_type": "execute_result"
    }
   ],
   "source": [
    "gene_trans.sample(10)"
   ]
  },
  {
   "cell_type": "code",
   "execution_count": 14,
   "metadata": {},
   "outputs": [],
   "source": [
    "gene_trans.set_index(\"gene_id\", inplace=True)"
   ]
  },
  {
   "cell_type": "markdown",
   "metadata": {},
   "source": [
    "### Merge with abundances"
   ]
  },
  {
   "cell_type": "markdown",
   "metadata": {},
   "source": [
    "#### Metagenomes"
   ]
  },
  {
   "cell_type": "markdown",
   "metadata": {},
   "source": [
    "The metagenomic time-series has some dubious samples that may have been mis-labeled."
   ]
  },
  {
   "cell_type": "code",
   "execution_count": 15,
   "metadata": {},
   "outputs": [],
   "source": [
    "dubious = [\"120507\",\"120521\",\"120910\",\"121123\"]"
   ]
  },
  {
   "cell_type": "markdown",
   "metadata": {},
   "source": [
    "Read abundance tables for metagenomic samples"
   ]
  },
  {
   "cell_type": "code",
   "execution_count": 16,
   "metadata": {},
   "outputs": [],
   "source": [
    "mg_cov = file2df(\"data/mg/all_genes.tpm.tsv.gz\", drop=dubious+[\"gene_length\"])\n",
    "mg_raw = file2df(\"data/mg/all_genes.raw_counts.tsv.gz\", drop=dubious+[\"gene_length\"])"
   ]
  },
  {
   "cell_type": "markdown",
   "metadata": {},
   "source": [
    "Read abundance tables with taxonomic info"
   ]
  },
  {
   "cell_type": "code",
   "execution_count": 17,
   "metadata": {},
   "outputs": [],
   "source": [
    "mg_taxcov = file2df(\"data/mg/all_genes.tpm.taxonomy.tsv.gz\")\n",
    "mg_taxraw = file2df(\"data/mg/all_genes.raw_counts.taxonomy.tsv.gz\")"
   ]
  },
  {
   "cell_type": "markdown",
   "metadata": {},
   "source": [
    "Merge with transporters table."
   ]
  },
  {
   "cell_type": "code",
   "execution_count": 18,
   "metadata": {},
   "outputs": [],
   "source": [
    "mg_transcov = pd.merge(gene_trans, mg_taxcov, left_index=True, right_index=True)\n",
    "mg_transraw = pd.merge(gene_trans, mg_taxraw, left_index=True, right_index=True)"
   ]
  },
  {
   "cell_type": "markdown",
   "metadata": {},
   "source": [
    "Store total raw counts per sample."
   ]
  },
  {
   "cell_type": "code",
   "execution_count": 19,
   "metadata": {},
   "outputs": [],
   "source": [
    "os.makedirs(\"results/mg\", exist_ok=True)\n",
    "mg_raw_tot = mg_raw.loc[mg_raw.index.str.match(\"^k.+\")].sum()\n",
    "mg_raw_tot = pd.DataFrame(mg_raw_tot,columns=[\"total_counts\"])\n",
    "mg_raw_tot.to_csv(\"results/mg/all_genes.total_counts.tsv\", sep=\"\\t\")"
   ]
  },
  {
   "cell_type": "markdown",
   "metadata": {},
   "source": [
    "#### Metatranscriptomes"
   ]
  },
  {
   "cell_type": "markdown",
   "metadata": {},
   "source": [
    "The metatranscriptomic time-series needs to have the sample_ids renamed to sample dates."
   ]
  },
  {
   "cell_type": "code",
   "execution_count": 20,
   "metadata": {},
   "outputs": [],
   "source": [
    "mt_sample_names = {\"P1456_101\":\"120516\", \"P1456_102\":\"120613\", \"P1456_103\":\"120712\", \n",
    "                   \"P1456_104\":\"120813\", \"P1456_105\":\"120927\", \"P1456_106\":\"121024\", \n",
    "                   \"P1456_107\":\"121220\", \"P1456_108\":\"130123\", \"P1456_109\":\"130226\", \n",
    "                   \"P1456_110\":\"130403\", \"P1456_111\":\"130416\", \"P1456_112\":\"130422\", \n",
    "                   \"P3764_101\":\"130507\", \"P3764_102\":\"130605\", \"P3764_103\":\"130705\", \n",
    "                   \"P3764_104\":\"130815\", \"P3764_105\":\"130905\", \"P3764_106\":\"131003\", \n",
    "                   \"P3764_112\":\"140408\", \"P3764_113\":\"140506\", \"P3764_114\":\"140604\", \n",
    "                   \"P3764_115\":\"140709\", \"P3764_116\":\"140820\", \"P3764_117\":\"140916\", \n",
    "                   \"P3764_118\":\"141013\"}"
   ]
  },
  {
   "cell_type": "code",
   "execution_count": 21,
   "metadata": {},
   "outputs": [],
   "source": [
    "mt_cov = file2df(\"data/mt/all_genes.tpm.tsv.gz\", drop=\"gene_length\", rename=mt_sample_names)\n",
    "mt_raw = file2df(\"data/mt/all_genes.raw_counts.tsv.gz\", drop=\"gene_length\", rename=mt_sample_names)"
   ]
  },
  {
   "cell_type": "markdown",
   "metadata": {},
   "source": [
    "Read the files with taxonomic annotations as well."
   ]
  },
  {
   "cell_type": "code",
   "execution_count": 22,
   "metadata": {},
   "outputs": [],
   "source": [
    "mt_taxcov = file2df(\"data/mt/all_genes.tpm.taxonomy.tsv.gz\")\n",
    "mt_taxraw = file2df(\"data/mt/all_genes.raw_counts.taxonomy.tsv.gz\")"
   ]
  },
  {
   "cell_type": "markdown",
   "metadata": {},
   "source": [
    "Merge with transporters table."
   ]
  },
  {
   "cell_type": "code",
   "execution_count": 23,
   "metadata": {},
   "outputs": [],
   "source": [
    "mt_transcov = pd.merge(gene_trans, mt_taxcov, left_index=True, right_index=True)\n",
    "mt_transraw = pd.merge(gene_trans, mt_taxraw, left_index=True, right_index=True)"
   ]
  },
  {
   "cell_type": "markdown",
   "metadata": {},
   "source": [
    "Store total raw counts per sample."
   ]
  },
  {
   "cell_type": "code",
   "execution_count": 24,
   "metadata": {},
   "outputs": [],
   "source": [
    "mt_raw_tot = mt_raw.loc[mt_raw.index.str.match(\"^k.+\")].sum()\n",
    "mt_raw_tot = pd.DataFrame(mt_raw_tot,columns=[\"total_counts\"])\n",
    "mt_raw_tot.to_csv(\"results/mt/all_genes.total_counts.tsv\", sep=\"\\t\")"
   ]
  },
  {
   "cell_type": "markdown",
   "metadata": {},
   "source": [
    "## Calculate total transporter abundance"
   ]
  },
  {
   "cell_type": "markdown",
   "metadata": {},
   "source": [
    "Transporter abundances are calculated using the normalized TPM values. However, the DeSeq2 package requires raw counts so for that purpose the summed raw counts are calculated for 1 representative protein family per transporter cluster."
   ]
  },
  {
   "cell_type": "code",
   "execution_count": 25,
   "metadata": {},
   "outputs": [],
   "source": [
    "def get_representatives(df):\n",
    "    '''Finds representative families for each transporter based on highest mean'''\n",
    "    df_mean = df.groupby([\"fam\",\"transporter\"]).sum().mean(axis=1).reset_index()\n",
    "    df_mean.sort_values(0,ascending=False,inplace=True)\n",
    "    df_mean.index = list(range(0,len(df_mean)))\n",
    "    reps = {}\n",
    "    for i in df_mean.index:\n",
    "        fam = df_mean.loc[i,\"fam\"]\n",
    "        t = df_mean.loc[i,\"transporter\"]\n",
    "        if t in reps.keys():\n",
    "            continue\n",
    "        reps[t] = fam\n",
    "    return reps"
   ]
  },
  {
   "cell_type": "markdown",
   "metadata": {},
   "source": [
    "Sum to protein family."
   ]
  },
  {
   "cell_type": "code",
   "execution_count": 26,
   "metadata": {},
   "outputs": [],
   "source": [
    "mg_fam_sum = mg_transcov.groupby([\"fam\",\"transporter\"]).sum().reset_index()\n",
    "# Get representative families for each transporter cluster (for use with DSeq2)\n",
    "mg_reps = get_representatives(mg_fam_sum)\n",
    "mg_reps = pd.DataFrame(data=mg_reps,index=[\"fam\"]).T"
   ]
  },
  {
   "cell_type": "code",
   "execution_count": 27,
   "metadata": {},
   "outputs": [],
   "source": [
    "mt_fam_sum = mt_transcov.groupby([\"fam\",\"transporter\"]).sum().reset_index()\n",
    "# Get representative families for each transporter cluster (for use with DSeq2)\n",
    "mt_reps = get_representatives(mt_fam_sum)\n",
    "mt_reps = pd.DataFrame(data=mt_reps,index=[\"fam\"]).T"
   ]
  },
  {
   "cell_type": "markdown",
   "metadata": {},
   "source": [
    "Group by transporter and calculate means."
   ]
  },
  {
   "cell_type": "code",
   "execution_count": 28,
   "metadata": {},
   "outputs": [],
   "source": [
    "mg_trans = mg_fam_sum.groupby(\"transporter\").mean()\n",
    "mg_trans_percent = mg_trans.div(mg_trans.sum())*100\n",
    "mg_trans.to_csv(\"results/mg/all_trans.tpm.tsv\", sep=\"\\t\")\n",
    "mg_trans_percent.to_csv(\"results/mg/all_trans.tpm.percent.tsv\", sep=\"\\t\")"
   ]
  },
  {
   "cell_type": "code",
   "execution_count": 29,
   "metadata": {},
   "outputs": [],
   "source": [
    "mt_trans = mt_fam_sum.groupby(\"transporter\").mean()\n",
    "mt_trans_percent = mt_trans.div(mt_trans.sum())*100\n",
    "mt_trans.to_csv(\"results/mt/all_trans.tpm.tsv\", sep=\"\\t\")\n",
    "mt_trans_percent.to_csv(\"results/mt/all_trans.tpm.percent.tsv\", sep=\"\\t\")"
   ]
  },
  {
   "cell_type": "markdown",
   "metadata": {},
   "source": [
    "Calculate transporter maximum (in % of total transporters) across all samples."
   ]
  },
  {
   "cell_type": "code",
   "execution_count": 30,
   "metadata": {},
   "outputs": [],
   "source": [
    "mg_trans_percent_max = mg_trans_percent.max(axis=1)\n",
    "mt_trans_percent_max = mt_trans_percent.max(axis=1)"
   ]
  },
  {
   "cell_type": "markdown",
   "metadata": {},
   "source": [
    "Output max abundances for transporters for filtering"
   ]
  },
  {
   "cell_type": "code",
   "execution_count": 31,
   "metadata": {},
   "outputs": [
    {
     "name": "stdout",
     "output_type": "stream",
     "text": [
      "81 transporters with max% > 0.5 in the mg-samples\n"
     ]
    }
   ],
   "source": [
    "print(\"{} transporters with max% > 0.5 in the mg-samples\".format(len(mg_trans_percent_max.loc[mg_trans_percent_max>=0.5])))"
   ]
  },
  {
   "cell_type": "code",
   "execution_count": 32,
   "metadata": {},
   "outputs": [
    {
     "name": "stdout",
     "output_type": "stream",
     "text": [
      "85 transporters with max% > 0.5 in the mt-samples\n"
     ]
    }
   ],
   "source": [
    "print(\"{} transporters with max% > 0.5 in the mt-samples\".format(len(mt_trans_percent_max.loc[mt_trans_percent_max>=0.5])))"
   ]
  },
  {
   "cell_type": "markdown",
   "metadata": {},
   "source": [
    "Write raw counts for representative protein families."
   ]
  },
  {
   "cell_type": "code",
   "execution_count": 33,
   "metadata": {},
   "outputs": [],
   "source": [
    "mg_reps_raw = pd.merge(mg_reps,mg_transraw,left_on=\"fam\",right_on=\"fam\")\n",
    "mg_reps_raw_sum = mg_reps_raw.groupby(\"transporter\").sum()\n",
    "mg_reps_raw_sum.to_csv(\"results/mg/rep_trans.raw_counts.tsv\", sep=\"\\t\")"
   ]
  },
  {
   "cell_type": "code",
   "execution_count": 34,
   "metadata": {},
   "outputs": [],
   "source": [
    "mt_reps_raw = pd.merge(mt_reps,mt_transraw,left_on=\"fam\",right_on=\"fam\")\n",
    "mt_reps_raw_sum = mt_reps_raw.groupby(\"transporter\").sum()\n",
    "mt_reps_raw_sum.to_csv(\"results/mt/rep_trans.raw_counts.tsv\", sep=\"\\t\")"
   ]
  },
  {
   "cell_type": "markdown",
   "metadata": {},
   "source": [
    "### Calculate transporter abundances for bacteria"
   ]
  },
  {
   "cell_type": "markdown",
   "metadata": {},
   "source": [
    "Metagenome"
   ]
  },
  {
   "cell_type": "code",
   "execution_count": 35,
   "metadata": {},
   "outputs": [],
   "source": [
    "# Get genes classified as bacteria but not cyanobacteria\n",
    "mg_transcov_bac = mg_transcov.loc[(mg_transcov.superkingdom==\"Bacteria\")&(mg_transcov.phylum!=\"Cyanobacteria\")]\n",
    "# Calculate sum of protein families \n",
    "mg_transcov_bac_fam = mg_transcov_bac.groupby([\"fam\",\"transporter\"]).sum().reset_index()\n",
    "# Calculate mean of transporters\n",
    "mg_trans_bac = mg_transcov_bac_fam.groupby(\"transporter\").mean()\n",
    "mg_trans_bac.to_csv(\"results/mg/bac_trans.tpm.tsv\", sep=\"\\t\")"
   ]
  },
  {
   "cell_type": "markdown",
   "metadata": {},
   "source": [
    "Metatranscriptome"
   ]
  },
  {
   "cell_type": "code",
   "execution_count": 36,
   "metadata": {},
   "outputs": [],
   "source": [
    "# Get genes classified as bacteria but not cyanobacteria\n",
    "mt_transcov_bac = mt_transcov.loc[(mt_transcov.superkingdom==\"Bacteria\")&(mt_transcov.phylum!=\"Cyanobacteria\")]\n",
    "# Calculate sum of protein families \n",
    "mt_transcov_bac_fam = mt_transcov_bac.groupby([\"fam\",\"transporter\"]).sum().reset_index()\n",
    "# Calculate mean of transporters\n",
    "mt_trans_bac = mt_transcov_bac_fam.groupby(\"transporter\").mean()\n",
    "mt_trans_bac.to_csv(\"results/mt/bac_trans.tpm.tsv\", sep=\"\\t\")"
   ]
  },
  {
   "cell_type": "markdown",
   "metadata": {},
   "source": [
    "## Selected transporters"
   ]
  },
  {
   "cell_type": "markdown",
   "metadata": {},
   "source": [
    "A subset of 58 transporters were selected for this study, based on abundances in the dataset (>=0.5% max in at least one sample) and their putative substrates. They were classified manually using TIGRFAM roles and Gene Ontology mappings. \n",
    "\n",
    "The curated table is at the [GitHub repository](https://github.com/ChristoferLNU/transporters/blob/master/article/selected_transporters_classified.tab)"
   ]
  },
  {
   "cell_type": "code",
   "execution_count": 37,
   "metadata": {},
   "outputs": [
    {
     "data": {
      "text/html": [
       "<div>\n",
       "<style scoped>\n",
       "    .dataframe tbody tr th:only-of-type {\n",
       "        vertical-align: middle;\n",
       "    }\n",
       "\n",
       "    .dataframe tbody tr th {\n",
       "        vertical-align: top;\n",
       "    }\n",
       "\n",
       "    .dataframe thead th {\n",
       "        text-align: right;\n",
       "    }\n",
       "</style>\n",
       "<table border=\"1\" class=\"dataframe\">\n",
       "  <thead>\n",
       "    <tr style=\"text-align: right;\">\n",
       "      <th></th>\n",
       "      <th>substrate_category</th>\n",
       "      <th>type</th>\n",
       "      <th>name</th>\n",
       "      <th>abbreviation</th>\n",
       "    </tr>\n",
       "    <tr>\n",
       "      <th>transporter</th>\n",
       "      <th></th>\n",
       "      <th></th>\n",
       "      <th></th>\n",
       "      <th></th>\n",
       "    </tr>\n",
       "  </thead>\n",
       "  <tbody>\n",
       "    <tr>\n",
       "      <th>T1068</th>\n",
       "      <td>AA peptide + (NH4+)</td>\n",
       "      <td>2a</td>\n",
       "      <td>cyclic peptide transporter</td>\n",
       "      <td>AA-PEP</td>\n",
       "    </tr>\n",
       "    <tr>\n",
       "      <th>T534</th>\n",
       "      <td>AA peptide + (NH4+)</td>\n",
       "      <td>2a</td>\n",
       "      <td>lao: LAO/AO transport</td>\n",
       "      <td>AA-PEP</td>\n",
       "    </tr>\n",
       "    <tr>\n",
       "      <th>T52</th>\n",
       "      <td>AA peptide + (NH4+)</td>\n",
       "      <td>2a</td>\n",
       "      <td>livcs: branched-chain amino acid transport</td>\n",
       "      <td>AA-PEP</td>\n",
       "    </tr>\n",
       "    <tr>\n",
       "      <th>T37</th>\n",
       "      <td>AA peptide + (NH4+)</td>\n",
       "      <td>2a</td>\n",
       "      <td>potA: polyamine ABC transporter</td>\n",
       "      <td>AA-PEP</td>\n",
       "    </tr>\n",
       "    <tr>\n",
       "      <th>T42</th>\n",
       "      <td>AA peptide + (NH4+)</td>\n",
       "      <td>3a</td>\n",
       "      <td>proV: glycine betaine/L-proline</td>\n",
       "      <td>AA-PEP</td>\n",
       "    </tr>\n",
       "  </tbody>\n",
       "</table>\n",
       "</div>"
      ],
      "text/plain": [
       "              substrate_category type  \\\n",
       "transporter                             \n",
       "T1068        AA peptide + (NH4+)   2a   \n",
       "T534         AA peptide + (NH4+)   2a   \n",
       "T52          AA peptide + (NH4+)   2a   \n",
       "T37          AA peptide + (NH4+)   2a   \n",
       "T42          AA peptide + (NH4+)   3a   \n",
       "\n",
       "                                                   name abbreviation  \n",
       "transporter                                                           \n",
       "T1068                        cyclic peptide transporter       AA-PEP  \n",
       "T534                              lao: LAO/AO transport       AA-PEP  \n",
       "T52          livcs: branched-chain amino acid transport       AA-PEP  \n",
       "T37                     potA: polyamine ABC transporter       AA-PEP  \n",
       "T42                     proV: glycine betaine/L-proline       AA-PEP  "
      ]
     },
     "execution_count": 37,
     "metadata": {},
     "output_type": "execute_result"
    }
   ],
   "source": [
    "transinfo = pd.read_csv(\"https://raw.githubusercontent.com/ChristoferLNU/transporters/master/article/selected_transporters_classified.tab\", index_col=0, sep=\"\\t\")\n",
    "transinfo.head()"
   ]
  },
  {
   "cell_type": "markdown",
   "metadata": {},
   "source": [
    "Limit the transporter definitions to the selected transporters."
   ]
  },
  {
   "cell_type": "code",
   "execution_count": 38,
   "metadata": {},
   "outputs": [
    {
     "name": "stdout",
     "output_type": "stream",
     "text": [
      "65 transporters remaining, comprising 99 TIGRFAMS\n"
     ]
    }
   ],
   "source": [
    "transdef_select = transdef.loc[transdef.transporter.isin(transinfo.index)]\n",
    "print(\"{} transporters remaining, comprising {} TIGRFAMS\".format(len(transdef_select.transporter.unique()), len(transdef_select.fam.unique())))"
   ]
  },
  {
   "cell_type": "markdown",
   "metadata": {},
   "source": [
    "Add substrate categories to the dataframes."
   ]
  },
  {
   "cell_type": "code",
   "execution_count": 39,
   "metadata": {},
   "outputs": [
    {
     "data": {
      "text/html": [
       "<div>\n",
       "<style scoped>\n",
       "    .dataframe tbody tr th:only-of-type {\n",
       "        vertical-align: middle;\n",
       "    }\n",
       "\n",
       "    .dataframe tbody tr th {\n",
       "        vertical-align: top;\n",
       "    }\n",
       "\n",
       "    .dataframe thead th {\n",
       "        text-align: right;\n",
       "    }\n",
       "</style>\n",
       "<table border=\"1\" class=\"dataframe\">\n",
       "  <thead>\n",
       "    <tr style=\"text-align: right;\">\n",
       "      <th></th>\n",
       "      <th>substrate_category</th>\n",
       "      <th>type</th>\n",
       "      <th>name</th>\n",
       "      <th>abbreviation</th>\n",
       "      <th>120314</th>\n",
       "      <th>120322</th>\n",
       "      <th>120328</th>\n",
       "      <th>120403</th>\n",
       "      <th>120416</th>\n",
       "      <th>120419</th>\n",
       "      <th>...</th>\n",
       "      <th>120920</th>\n",
       "      <th>120924</th>\n",
       "      <th>121001</th>\n",
       "      <th>121004</th>\n",
       "      <th>121015</th>\n",
       "      <th>121022</th>\n",
       "      <th>121028</th>\n",
       "      <th>121105</th>\n",
       "      <th>121128</th>\n",
       "      <th>121220</th>\n",
       "    </tr>\n",
       "    <tr>\n",
       "      <th>transporter</th>\n",
       "      <th></th>\n",
       "      <th></th>\n",
       "      <th></th>\n",
       "      <th></th>\n",
       "      <th></th>\n",
       "      <th></th>\n",
       "      <th></th>\n",
       "      <th></th>\n",
       "      <th></th>\n",
       "      <th></th>\n",
       "      <th></th>\n",
       "      <th></th>\n",
       "      <th></th>\n",
       "      <th></th>\n",
       "      <th></th>\n",
       "      <th></th>\n",
       "      <th></th>\n",
       "      <th></th>\n",
       "      <th></th>\n",
       "      <th></th>\n",
       "      <th></th>\n",
       "    </tr>\n",
       "  </thead>\n",
       "  <tbody>\n",
       "    <tr>\n",
       "      <th>T3</th>\n",
       "      <td>Phosphate</td>\n",
       "      <td>3a</td>\n",
       "      <td>pst: phosphate ABC transporter</td>\n",
       "      <td>PI</td>\n",
       "      <td>111.665663</td>\n",
       "      <td>99.196607</td>\n",
       "      <td>47.641896</td>\n",
       "      <td>62.518603</td>\n",
       "      <td>82.239967</td>\n",
       "      <td>72.780571</td>\n",
       "      <td>...</td>\n",
       "      <td>140.473317</td>\n",
       "      <td>113.372772</td>\n",
       "      <td>159.117150</td>\n",
       "      <td>143.642418</td>\n",
       "      <td>152.468953</td>\n",
       "      <td>123.888681</td>\n",
       "      <td>94.326745</td>\n",
       "      <td>124.773051</td>\n",
       "      <td>124.276387</td>\n",
       "      <td>110.695318</td>\n",
       "    </tr>\n",
       "    <tr>\n",
       "      <th>T5</th>\n",
       "      <td>Carbohydrate</td>\n",
       "      <td>2a</td>\n",
       "      <td>dctM: TRAP transporter</td>\n",
       "      <td>CARB</td>\n",
       "      <td>268.636821</td>\n",
       "      <td>335.497604</td>\n",
       "      <td>102.243974</td>\n",
       "      <td>124.497542</td>\n",
       "      <td>175.458081</td>\n",
       "      <td>213.436623</td>\n",
       "      <td>...</td>\n",
       "      <td>233.211703</td>\n",
       "      <td>161.741922</td>\n",
       "      <td>240.296418</td>\n",
       "      <td>246.197774</td>\n",
       "      <td>177.397563</td>\n",
       "      <td>171.127173</td>\n",
       "      <td>103.973296</td>\n",
       "      <td>222.069550</td>\n",
       "      <td>165.948567</td>\n",
       "      <td>194.395479</td>\n",
       "    </tr>\n",
       "    <tr>\n",
       "      <th>T7</th>\n",
       "      <td>AA peptide + (NH4+)</td>\n",
       "      <td>2a</td>\n",
       "      <td>sodium/proline symporter</td>\n",
       "      <td>AA-PEP</td>\n",
       "      <td>78.060674</td>\n",
       "      <td>91.449403</td>\n",
       "      <td>49.805555</td>\n",
       "      <td>64.459425</td>\n",
       "      <td>102.802106</td>\n",
       "      <td>111.323483</td>\n",
       "      <td>...</td>\n",
       "      <td>122.235794</td>\n",
       "      <td>86.714492</td>\n",
       "      <td>133.726890</td>\n",
       "      <td>124.082911</td>\n",
       "      <td>104.086574</td>\n",
       "      <td>98.715917</td>\n",
       "      <td>66.604495</td>\n",
       "      <td>133.018817</td>\n",
       "      <td>112.963159</td>\n",
       "      <td>133.283962</td>\n",
       "    </tr>\n",
       "    <tr>\n",
       "      <th>T12</th>\n",
       "      <td>Cations</td>\n",
       "      <td>2a</td>\n",
       "      <td>cation transport protein</td>\n",
       "      <td>CAT</td>\n",
       "      <td>15.963680</td>\n",
       "      <td>49.550619</td>\n",
       "      <td>18.225840</td>\n",
       "      <td>17.619883</td>\n",
       "      <td>31.228516</td>\n",
       "      <td>48.449218</td>\n",
       "      <td>...</td>\n",
       "      <td>33.415355</td>\n",
       "      <td>38.028089</td>\n",
       "      <td>39.377017</td>\n",
       "      <td>34.866484</td>\n",
       "      <td>33.009017</td>\n",
       "      <td>26.437260</td>\n",
       "      <td>17.679483</td>\n",
       "      <td>49.282565</td>\n",
       "      <td>34.301188</td>\n",
       "      <td>35.723674</td>\n",
       "    </tr>\n",
       "    <tr>\n",
       "      <th>T15</th>\n",
       "      <td>Other</td>\n",
       "      <td>3d</td>\n",
       "      <td>rnf: electron transport complex</td>\n",
       "      <td>OT</td>\n",
       "      <td>13.125817</td>\n",
       "      <td>23.449094</td>\n",
       "      <td>8.327092</td>\n",
       "      <td>11.660654</td>\n",
       "      <td>17.504770</td>\n",
       "      <td>23.729526</td>\n",
       "      <td>...</td>\n",
       "      <td>20.592712</td>\n",
       "      <td>13.716936</td>\n",
       "      <td>23.640316</td>\n",
       "      <td>22.444391</td>\n",
       "      <td>21.128740</td>\n",
       "      <td>16.323116</td>\n",
       "      <td>8.072915</td>\n",
       "      <td>21.017875</td>\n",
       "      <td>18.769937</td>\n",
       "      <td>22.160290</td>\n",
       "    </tr>\n",
       "  </tbody>\n",
       "</table>\n",
       "<p>5 rows × 37 columns</p>\n",
       "</div>"
      ],
      "text/plain": [
       "              substrate_category type                             name  \\\n",
       "transporter                                                              \n",
       "T3                     Phosphate   3a   pst: phosphate ABC transporter   \n",
       "T5                  Carbohydrate   2a           dctM: TRAP transporter   \n",
       "T7           AA peptide + (NH4+)   2a         sodium/proline symporter   \n",
       "T12                      Cations   2a         cation transport protein   \n",
       "T15                        Other   3d  rnf: electron transport complex   \n",
       "\n",
       "            abbreviation      120314      120322      120328      120403  \\\n",
       "transporter                                                                \n",
       "T3                    PI  111.665663   99.196607   47.641896   62.518603   \n",
       "T5                  CARB  268.636821  335.497604  102.243974  124.497542   \n",
       "T7                AA-PEP   78.060674   91.449403   49.805555   64.459425   \n",
       "T12                  CAT   15.963680   49.550619   18.225840   17.619883   \n",
       "T15                   OT   13.125817   23.449094    8.327092   11.660654   \n",
       "\n",
       "                 120416      120419     ...          120920      120924  \\\n",
       "transporter                             ...                               \n",
       "T3            82.239967   72.780571     ...      140.473317  113.372772   \n",
       "T5           175.458081  213.436623     ...      233.211703  161.741922   \n",
       "T7           102.802106  111.323483     ...      122.235794   86.714492   \n",
       "T12           31.228516   48.449218     ...       33.415355   38.028089   \n",
       "T15           17.504770   23.729526     ...       20.592712   13.716936   \n",
       "\n",
       "                 121001      121004      121015      121022      121028  \\\n",
       "transporter                                                               \n",
       "T3           159.117150  143.642418  152.468953  123.888681   94.326745   \n",
       "T5           240.296418  246.197774  177.397563  171.127173  103.973296   \n",
       "T7           133.726890  124.082911  104.086574   98.715917   66.604495   \n",
       "T12           39.377017   34.866484   33.009017   26.437260   17.679483   \n",
       "T15           23.640316   22.444391   21.128740   16.323116    8.072915   \n",
       "\n",
       "                 121105      121128      121220  \n",
       "transporter                                      \n",
       "T3           124.773051  124.276387  110.695318  \n",
       "T5           222.069550  165.948567  194.395479  \n",
       "T7           133.018817  112.963159  133.283962  \n",
       "T12           49.282565   34.301188   35.723674  \n",
       "T15           21.017875   18.769937   22.160290  \n",
       "\n",
       "[5 rows x 37 columns]"
      ]
     },
     "execution_count": 39,
     "metadata": {},
     "output_type": "execute_result"
    }
   ],
   "source": [
    "mg_trans_select = pd.merge(transinfo.loc[transdef_select.transporter.unique()],mg_trans,left_index=True,right_index=True)\n",
    "mg_trans_select.head()"
   ]
  },
  {
   "cell_type": "code",
   "execution_count": 40,
   "metadata": {},
   "outputs": [],
   "source": [
    "# Mean abundances of transporters for selected transporters\n",
    "mg_trans_select = pd.merge(transinfo.loc[transdef_select.transporter.unique()],mg_trans,left_index=True,right_index=True)\n",
    "mg_trans_select.to_csv(\"results/mg/select_trans.tpm.tsv\", sep=\"\\t\")\n",
    "# Mean abundances of transporters for bacteria and selected transporters\n",
    "mg_trans_bac_select = pd.merge(transinfo.loc[transdef_select.transporter.unique()],mg_trans_bac,left_index=True,right_index=True)\n",
    "mg_trans_select.to_csv(\"results/mg/bac_select_trans.tpm.tsv\", sep=\"\\t\")\n",
    "# TPM values per gene for genes matching selected transporters\n",
    "mg_transcov_select = pd.merge(transinfo.loc[transdef_select.transporter.unique()],mg_transcov,left_index=True,right_on=\"transporter\")\n",
    "mg_transcov_select.to_csv(\"results/mg/select_trans_genes.tpm.tsv\", sep=\"\\t\")\n",
    "# TPM values per gene for bacterial genes matching selected transporters\n",
    "mg_transcov_bac_select = pd.merge(transinfo.loc[transdef_select.transporter.unique()],mg_transcov_bac,left_index=True,right_on=\"transporter\")\n",
    "mg_transcov_bac_select.to_csv(\"results/mg/bac_select_trans_genes.tpm.tsv\", sep=\"\\t\")"
   ]
  },
  {
   "cell_type": "markdown",
   "metadata": {},
   "source": [
    "Metatranscriptomes"
   ]
  },
  {
   "cell_type": "code",
   "execution_count": 41,
   "metadata": {},
   "outputs": [],
   "source": [
    "# Mean abundances of transporters for selected transporters\n",
    "mt_trans_select = pd.merge(transinfo.loc[transdef_select.transporter.unique()],mt_trans,left_index=True,right_index=True)\n",
    "mt_trans_select.to_csv(\"results/mt/select_trans.tpm.tsv\", sep=\"\\t\")\n",
    "# Mean abundances of transporters for bacteria and selected transporters\n",
    "mt_trans_bac_select = pd.merge(transinfo.loc[transdef_select.transporter.unique()],mt_trans_bac,left_index=True,right_index=True)\n",
    "mt_trans_select.to_csv(\"results/mt/bac_select_trans.tpm.tsv\", sep=\"\\t\")\n",
    "# TPM values per gene for genes matching selected transporters\n",
    "mt_transcov_select = pd.merge(transinfo.loc[transdef_select.transporter.unique()],mt_transcov,left_index=True,right_on=\"transporter\")\n",
    "mt_transcov_select.to_csv(\"results/mt/select_trans_genes.tpm.tsv\", sep=\"\\t\")\n",
    "# TPM values per gene for bacterial genes matching selected transporters\n",
    "mt_transcov_bac_select = pd.merge(transinfo.loc[transdef_select.transporter.unique()],mt_transcov_bac,left_index=True,right_on=\"transporter\")\n",
    "mt_transcov_bac_select.to_csv(\"results/mt/bac_select_trans_genes.tpm.tsv\", sep=\"\\t\")"
   ]
  },
  {
   "cell_type": "markdown",
   "metadata": {},
   "source": [
    "#### Transporter type and substrate summary"
   ]
  },
  {
   "cell_type": "markdown",
   "metadata": {},
   "source": [
    "Generate count summary across transporter type and substrate category."
   ]
  },
  {
   "cell_type": "code",
   "execution_count": 42,
   "metadata": {},
   "outputs": [
    {
     "data": {
      "text/plain": [
       "type\n",
       "1a     5\n",
       "1b     2\n",
       "2a    37\n",
       "2c     1\n",
       "3a    24\n",
       "3d     1\n",
       "4a     1\n",
       "4b     1\n",
       "9a     1\n",
       "Name: substrate_category, dtype: int64"
      ]
     },
     "execution_count": 42,
     "metadata": {},
     "output_type": "execute_result"
    }
   ],
   "source": [
    "# Group by and count type and substrate category\n",
    "type_counts = transinfo.groupby([\"type\",\"substrate_category\"]).count().reset_index().iloc[:,[0,1,2]]\n",
    "SUM = transinfo.groupby(\"type\").count().iloc[:,0]\n",
    "SUM"
   ]
  },
  {
   "cell_type": "code",
   "execution_count": 43,
   "metadata": {},
   "outputs": [
    {
     "data": {
      "text/html": [
       "<div>\n",
       "<style scoped>\n",
       "    .dataframe tbody tr th:only-of-type {\n",
       "        vertical-align: middle;\n",
       "    }\n",
       "\n",
       "    .dataframe tbody tr th {\n",
       "        vertical-align: top;\n",
       "    }\n",
       "\n",
       "    .dataframe thead th {\n",
       "        text-align: right;\n",
       "    }\n",
       "</style>\n",
       "<table border=\"1\" class=\"dataframe\">\n",
       "  <thead>\n",
       "    <tr style=\"text-align: right;\">\n",
       "      <th>substrate_category</th>\n",
       "      <th>AA peptide + (NH4+)</th>\n",
       "      <th>Anions</th>\n",
       "      <th>Carbohydrate</th>\n",
       "      <th>Cations</th>\n",
       "      <th>Metal</th>\n",
       "      <th>Nitrate</th>\n",
       "      <th>Nucleoside</th>\n",
       "      <th>Other</th>\n",
       "      <th>Phosphate</th>\n",
       "      <th>Phosphonate</th>\n",
       "      <th>Urea</th>\n",
       "      <th>SUM</th>\n",
       "    </tr>\n",
       "  </thead>\n",
       "  <tbody>\n",
       "    <tr>\n",
       "      <th>1a</th>\n",
       "      <td>0</td>\n",
       "      <td>0</td>\n",
       "      <td>0</td>\n",
       "      <td>0</td>\n",
       "      <td>2</td>\n",
       "      <td>1</td>\n",
       "      <td>0</td>\n",
       "      <td>2</td>\n",
       "      <td>0</td>\n",
       "      <td>0</td>\n",
       "      <td>0</td>\n",
       "      <td>5</td>\n",
       "    </tr>\n",
       "    <tr>\n",
       "      <th>1b</th>\n",
       "      <td>0</td>\n",
       "      <td>0</td>\n",
       "      <td>0</td>\n",
       "      <td>1</td>\n",
       "      <td>0</td>\n",
       "      <td>0</td>\n",
       "      <td>0</td>\n",
       "      <td>1</td>\n",
       "      <td>0</td>\n",
       "      <td>0</td>\n",
       "      <td>0</td>\n",
       "      <td>2</td>\n",
       "    </tr>\n",
       "    <tr>\n",
       "      <th>2a</th>\n",
       "      <td>8</td>\n",
       "      <td>2</td>\n",
       "      <td>9</td>\n",
       "      <td>6</td>\n",
       "      <td>4</td>\n",
       "      <td>0</td>\n",
       "      <td>3</td>\n",
       "      <td>4</td>\n",
       "      <td>1</td>\n",
       "      <td>0</td>\n",
       "      <td>0</td>\n",
       "      <td>37</td>\n",
       "    </tr>\n",
       "    <tr>\n",
       "      <th>2c</th>\n",
       "      <td>0</td>\n",
       "      <td>0</td>\n",
       "      <td>0</td>\n",
       "      <td>1</td>\n",
       "      <td>0</td>\n",
       "      <td>0</td>\n",
       "      <td>0</td>\n",
       "      <td>0</td>\n",
       "      <td>0</td>\n",
       "      <td>0</td>\n",
       "      <td>0</td>\n",
       "      <td>1</td>\n",
       "    </tr>\n",
       "    <tr>\n",
       "      <th>3a</th>\n",
       "      <td>1</td>\n",
       "      <td>1</td>\n",
       "      <td>0</td>\n",
       "      <td>1</td>\n",
       "      <td>3</td>\n",
       "      <td>2</td>\n",
       "      <td>0</td>\n",
       "      <td>4</td>\n",
       "      <td>1</td>\n",
       "      <td>5</td>\n",
       "      <td>6</td>\n",
       "      <td>24</td>\n",
       "    </tr>\n",
       "    <tr>\n",
       "      <th>3d</th>\n",
       "      <td>0</td>\n",
       "      <td>0</td>\n",
       "      <td>0</td>\n",
       "      <td>0</td>\n",
       "      <td>0</td>\n",
       "      <td>0</td>\n",
       "      <td>0</td>\n",
       "      <td>1</td>\n",
       "      <td>0</td>\n",
       "      <td>0</td>\n",
       "      <td>0</td>\n",
       "      <td>1</td>\n",
       "    </tr>\n",
       "    <tr>\n",
       "      <th>4a</th>\n",
       "      <td>0</td>\n",
       "      <td>0</td>\n",
       "      <td>1</td>\n",
       "      <td>0</td>\n",
       "      <td>0</td>\n",
       "      <td>0</td>\n",
       "      <td>0</td>\n",
       "      <td>0</td>\n",
       "      <td>0</td>\n",
       "      <td>0</td>\n",
       "      <td>0</td>\n",
       "      <td>1</td>\n",
       "    </tr>\n",
       "    <tr>\n",
       "      <th>4b</th>\n",
       "      <td>0</td>\n",
       "      <td>0</td>\n",
       "      <td>0</td>\n",
       "      <td>0</td>\n",
       "      <td>0</td>\n",
       "      <td>0</td>\n",
       "      <td>1</td>\n",
       "      <td>0</td>\n",
       "      <td>0</td>\n",
       "      <td>0</td>\n",
       "      <td>0</td>\n",
       "      <td>1</td>\n",
       "    </tr>\n",
       "    <tr>\n",
       "      <th>9a</th>\n",
       "      <td>0</td>\n",
       "      <td>0</td>\n",
       "      <td>0</td>\n",
       "      <td>1</td>\n",
       "      <td>0</td>\n",
       "      <td>0</td>\n",
       "      <td>0</td>\n",
       "      <td>0</td>\n",
       "      <td>0</td>\n",
       "      <td>0</td>\n",
       "      <td>0</td>\n",
       "      <td>1</td>\n",
       "    </tr>\n",
       "    <tr>\n",
       "      <th>SUM</th>\n",
       "      <td>9</td>\n",
       "      <td>3</td>\n",
       "      <td>10</td>\n",
       "      <td>10</td>\n",
       "      <td>9</td>\n",
       "      <td>3</td>\n",
       "      <td>4</td>\n",
       "      <td>12</td>\n",
       "      <td>2</td>\n",
       "      <td>5</td>\n",
       "      <td>6</td>\n",
       "      <td>73</td>\n",
       "    </tr>\n",
       "  </tbody>\n",
       "</table>\n",
       "</div>"
      ],
      "text/plain": [
       "substrate_category  AA peptide + (NH4+)  Anions  Carbohydrate  Cations  Metal  \\\n",
       "1a                                    0       0             0        0      2   \n",
       "1b                                    0       0             0        1      0   \n",
       "2a                                    8       2             9        6      4   \n",
       "2c                                    0       0             0        1      0   \n",
       "3a                                    1       1             0        1      3   \n",
       "3d                                    0       0             0        0      0   \n",
       "4a                                    0       0             1        0      0   \n",
       "4b                                    0       0             0        0      0   \n",
       "9a                                    0       0             0        1      0   \n",
       "SUM                                   9       3            10       10      9   \n",
       "\n",
       "substrate_category  Nitrate  Nucleoside  Other  Phosphate  Phosphonate  Urea  \\\n",
       "1a                        1           0      2          0            0     0   \n",
       "1b                        0           0      1          0            0     0   \n",
       "2a                        0           3      4          1            0     0   \n",
       "2c                        0           0      0          0            0     0   \n",
       "3a                        2           0      4          1            5     6   \n",
       "3d                        0           0      1          0            0     0   \n",
       "4a                        0           0      0          0            0     0   \n",
       "4b                        0           1      0          0            0     0   \n",
       "9a                        0           0      0          0            0     0   \n",
       "SUM                       3           4     12          2            5     6   \n",
       "\n",
       "substrate_category  SUM  \n",
       "1a                    5  \n",
       "1b                    2  \n",
       "2a                   37  \n",
       "2c                    1  \n",
       "3a                   24  \n",
       "3d                    1  \n",
       "4a                    1  \n",
       "4b                    1  \n",
       "9a                    1  \n",
       "SUM                  73  "
      ]
     },
     "execution_count": 43,
     "metadata": {},
     "output_type": "execute_result"
    }
   ],
   "source": [
    "# Group by and count type and substrate category\n",
    "type_counts = transinfo.groupby([\"type\",\"substrate_category\"]).count().reset_index().iloc[:,[0,1,2]]\n",
    "# Calculate total type sum\n",
    "SUM = transinfo.groupby(\"type\").count().iloc[:,0]\n",
    "# Calculate total substrate category sum\n",
    "colsum = transinfo.groupby(\"substrate_category\").count().iloc[:,0]\n",
    "colsum.name = \"SUM\"\n",
    "colsum = pd.DataFrame(colsum).T\n",
    "colsum = colsum.assign(SUM=SUM.sum())\n",
    "# Pivot count table\n",
    "type_counts.columns = [\"type\",\"substrate_category\",\"counts\"]\n",
    "type_counts = pd.pivot_table(type_counts, index=[\"type\"], columns=[\"substrate_category\"])\n",
    "type_counts.fillna(\"0\", inplace=True)\n",
    "type_counts = type_counts[\"counts\"]\n",
    "# Add row sums\n",
    "type_counts = type_counts.assign(SUM=SUM)\n",
    "# Add col sums\n",
    "type_counts = pd.concat([type_counts,colsum])\n",
    "# Convert to integer\n",
    "type_counts = type_counts.astype(int)\n",
    "type_counts.to_csv(\"results/transporter_type_table.tsv\", sep=\"\\t\")\n",
    "type_counts"
   ]
  },
  {
   "cell_type": "markdown",
   "metadata": {},
   "source": [
    "Show fraction of the different transporter types."
   ]
  },
  {
   "cell_type": "code",
   "execution_count": 44,
   "metadata": {},
   "outputs": [
    {
     "data": {
      "text/plain": [
       "1a    0.07\n",
       "1b    0.03\n",
       "2a    0.51\n",
       "2c    0.01\n",
       "3a    0.33\n",
       "3d    0.01\n",
       "4a    0.01\n",
       "4b    0.01\n",
       "9a    0.01\n",
       "dtype: float64"
      ]
     },
     "execution_count": 44,
     "metadata": {},
     "output_type": "execute_result"
    }
   ],
   "source": [
    "type_sums = type_counts.sum(axis=1).drop(\"SUM\")\n",
    "round(type_sums.div(type_sums.sum()),2)"
   ]
  }
 ],
 "metadata": {
  "kernelspec": {
   "display_name": "Python 3",
   "language": "python",
   "name": "python3"
  },
  "language_info": {
   "codemirror_mode": {
    "name": "ipython",
    "version": 3
   },
   "file_extension": ".py",
   "mimetype": "text/x-python",
   "name": "python",
   "nbconvert_exporter": "python",
   "pygments_lexer": "ipython3",
   "version": "3.6.7"
  }
 },
 "nbformat": 4,
 "nbformat_minor": 2
}
