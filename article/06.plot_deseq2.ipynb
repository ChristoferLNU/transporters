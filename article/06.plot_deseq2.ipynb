{
 "cells": [
  {
   "cell_type": "markdown",
   "metadata": {},
   "source": [
    "# Plotting the results from DeSeq2"
   ]
  },
  {
   "cell_type": "markdown",
   "metadata": {},
   "source": [
    "## Overview"
   ]
  },
  {
   "cell_type": "markdown",
   "metadata": {},
   "source": [
    "Here the results from Deseq2 are plotted in the form of clustermaps, taxonomic profiles of most abundant transporters and the log2FoldChange between groups."
   ]
  },
  {
   "cell_type": "code",
   "execution_count": null,
   "metadata": {},
   "outputs": [],
   "source": [
    "import pandas as pd, numpy as np, seaborn as sns, matplotlib.pyplot as plt\n",
    "sns.set(font_scale=1)\n",
    "from scipy.spatial.distance import pdist, squareform\n",
    "from scipy.cluster.hierarchy import linkage, dendrogram, leaves_list, fcluster\n",
    "\n",
    "%config InlineBackend.figure_format = 'svg'\n",
    "%matplotlib inline\n",
    "plt.style.use('ggplot')"
   ]
  },
  {
   "cell_type": "markdown",
   "metadata": {},
   "source": [
    "## Functionality"
   ]
  },
  {
   "cell_type": "code",
   "execution_count": null,
   "metadata": {},
   "outputs": [],
   "source": [
    "def get_representatives(df):\n",
    "    '''Finds representative families for each transporter based on highest mean'''\n",
    "    df_mean = df.groupby([\"fam\",\"transporter\"]).sum().mean(axis=1).reset_index()\n",
    "    df_mean.sort_values(0,ascending=False,inplace=True)\n",
    "    df_mean.index = list(range(0,len(df_mean)))\n",
    "    reps = {}\n",
    "    for i in df_mean.index:\n",
    "        fam = df_mean.loc[i,\"fam\"]\n",
    "        t = df_mean.loc[i,\"transporter\"]\n",
    "        if t in reps.keys():\n",
    "            continue\n",
    "        reps[t] = fam\n",
    "    return reps"
   ]
  },
  {
   "cell_type": "code",
   "execution_count": null,
   "metadata": {},
   "outputs": [],
   "source": [
    "def make_groupcols(df,cols,order=False,plot=False):\n",
    "    group_lut = dict(zip(map(str, order),cols))\n",
    "    group_colors = pd.Series([df.loc[x,\"name\"] for x in df.index],index=df.index).map(group_lut)\n",
    "    group_colors.name = \"Sample group\"\n",
    "    if plot: \n",
    "        cat_fig,cat_ax = plot_custom_palette(cols,order,\"name\")\n",
    "    return group_colors"
   ]
  },
  {
   "cell_type": "code",
   "execution_count": null,
   "metadata": {},
   "outputs": [],
   "source": [
    "def row_standardize(df):\n",
    "    for i in df.index:\n",
    "        df.loc[i,:] = (df.loc[i,:]-df.loc[i].min()) / df.loc[i].max()\n",
    "    return df\n",
    "\n",
    "def row_z_score(df):\n",
    "    df_z = df.T\n",
    "    df_z = (df_z-df_z.mean())/df_z.std()\n",
    "    return df_z.T"
   ]
  },
  {
   "cell_type": "code",
   "execution_count": null,
   "metadata": {},
   "outputs": [],
   "source": [
    "def add_xtick_colors(row_axes,groupcols):\n",
    "    for ax in row_axes:\n",
    "        label_colors = []\n",
    "        for tick in ax.get_xticklabels():\n",
    "            label = tick.get_text()\n",
    "            try: tick.set_color(groupcols.loc[label])\n",
    "            except KeyError: tick.set_color(\"black\")\n",
    "        ax.set_xticklabels(ax.get_xticklabels(), rotation=90, fontdict={'fontsize': 4})"
   ]
  },
  {
   "cell_type": "code",
   "execution_count": null,
   "metadata": {},
   "outputs": [],
   "source": [
    "#ax = mg_ax\n",
    "#rows = ax.data.iloc[ax.dendrogram_row.reordered_ind,ax.dendrogram_col.reordered_ind].index"
   ]
  },
  {
   "cell_type": "code",
   "execution_count": null,
   "metadata": {},
   "outputs": [],
   "source": [
    "#data_norm = ax.data2d\n",
    "#data_norm.head()\n",
    "#a = ax.data\n",
    "#a = a.astype(int)\n",
    "#row_labels = [x.get_text() for x in ax.ax_heatmap.yaxis.get_ticklabels()]\n",
    "#for row in range(len(a.index)):\n",
    "    #print(row,row_labels[row])\n",
    "    #row_label = row_labels[row]\n",
    "#a.index    "
   ]
  },
  {
   "cell_type": "code",
   "execution_count": null,
   "metadata": {},
   "outputs": [],
   "source": [
    "def annotate_clustermap(ax, dec=1, minval=0.5, col_break=0.9, lowcol=\"white\", medcol=\"darkgrey\", highcol=\"black\"):\n",
    "    try:\n",
    "        rows = ax.data.iloc[ax.dendrogram_row.reordered_ind,ax.dendrogram_col.reordered_ind].index\n",
    "    except AttributeError:\n",
    "        rows = ax.data.index\n",
    "    try:\n",
    "        cols = ax.data.iloc[ax.dendrogram_row.reordered_ind,ax.dendrogram_col.reordered_ind].columns\n",
    "    except AttributeError:\n",
    "        cols = ax.data.columns\n",
    "    # Extract plotted data from ax\n",
    "    data_norm = ax.data2d\n",
    "    # Extract original data\n",
    "    a = ax.data\n",
    "    if dec == 0:\n",
    "        a = a.astype(int)\n",
    "    else:\n",
    "        a = np.round(a,dec)\n",
    "    row_labels = [x.get_text() for x in ax.ax_heatmap.yaxis.get_ticklabels()]\n",
    "    #row_labels.reverse()\n",
    "    col_labels = [x.get_text() for x in ax.ax_heatmap.xaxis.get_ticklabels()]\n",
    "    # Iterate each row item\n",
    "    for row in range(len(a.index)):\n",
    "        row_label = row_labels[row]\n",
    "        for col in range(len(a.columns)):\n",
    "            col_label = col_labels[col]\n",
    "            zval = data_norm.loc[row_label,col_label]\n",
    "            val = a.loc[row_label,col_label]\n",
    "            textcol=lowcol\n",
    "            if zval == 1.0: \n",
    "                textcol = highcol\n",
    "            elif zval >=col_break:\n",
    "                textcol = medcol\n",
    "            if val<=minval: continue\n",
    "            ax.ax_heatmap.text(col+0.5,row+0.5,val,fontdict={'size':6,'color':textcol, 'horizontalalignment': 'center', 'verticalalignment': 'center'})\n",
    "    return row_labels, col_labels"
   ]
  },
  {
   "cell_type": "code",
   "execution_count": null,
   "metadata": {},
   "outputs": [],
   "source": [
    "def plot_custom_palette(cols,groups,name,axis=None):\n",
    "    sns.set(font_scale=1)\n",
    "    df = pd.DataFrame(data=[[1]*len(cols),groups],index=[name,\"value\"]).T\n",
    "    fig = plt.figure(figsize=(0.25,2))\n",
    "    ax = sns.barplot(data=df,x=name,y=\"value\",palette=cols,ax=axis)\n",
    "    ax.set_xlabel(\"\");\n",
    "    ax.set_ylabel(\"\");\n",
    "    ax.patch.set_facecolor(\"white\");\n",
    "    ax.set_xticklabels(\"\");\n",
    "    return fig,ax"
   ]
  },
  {
   "cell_type": "code",
   "execution_count": null,
   "metadata": {},
   "outputs": [],
   "source": [
    "def get_ntaxa(df,n=50):\n",
    "    taxa = []\n",
    "    for sample in df.columns:\n",
    "        sample_sum =0\n",
    "        df_sample_sort = df.sort_values(sample,ascending=False)\n",
    "        for tax in df_sample_sort.index:\n",
    "            sample_sum+=df_sample_sort.loc[tax,sample]\n",
    "            taxa.append(tax)\n",
    "            if sample_sum>=n: break\n",
    "    taxa_sort = df.loc[set(taxa)].mean(axis=1).sort_values(ascending=False).index\n",
    "    return taxa_sort"
   ]
  },
  {
   "cell_type": "code",
   "execution_count": null,
   "metadata": {},
   "outputs": [],
   "source": [
    "def get_quantile_transporters(df,q=0.5):\n",
    "    '''Pair-wise sample differences are calculated for each transporter and transporters\n",
    "    that have a maximum absolute difference above the 50% quantile across samples are kept'''\n",
    "    data = df.groupby(level=0).sum()\n",
    "    q_trans = []\n",
    "    for sample in data.columns:\n",
    "        sample_diff = abs(data.subtract(data[sample],axis=0))\n",
    "        sample_diff_max = sample_diff.max(axis=1).sort_values(ascending=False)\n",
    "        sample_diff_max_q = sample_diff_max.quantile(q=q)\n",
    "        q_trans += list(sample_diff_max[sample_diff_max>=sample_diff_max_q].index)\n",
    "    return list(set(q_trans))"
   ]
  },
  {
   "cell_type": "markdown",
   "metadata": {},
   "source": [
    "## Load the data"
   ]
  },
  {
   "cell_type": "markdown",
   "metadata": {},
   "source": [
    "### Load environmental data"
   ]
  },
  {
   "cell_type": "code",
   "execution_count": null,
   "metadata": {},
   "outputs": [],
   "source": [
    "env = pd.read_csv(\"data/LMO.time.series.metadata.csv\", header=0, sep=\"\\t\", index_col=0)\n",
    "env.rename(index = lambda x: str(x), inplace=True)"
   ]
  },
  {
   "cell_type": "markdown",
   "metadata": {},
   "source": [
    "### Load the transporter data"
   ]
  },
  {
   "cell_type": "markdown",
   "metadata": {},
   "source": [
    "This has been processed using the [01.process_data](01.process_data.ipynb) notebook."
   ]
  },
  {
   "cell_type": "code",
   "execution_count": null,
   "metadata": {},
   "outputs": [],
   "source": [
    "mg_select_transcov_genes = pd.read_csv(\"results/mg/select_trans_genes.tpm.tsv\", index_col=0, sep=\"\\t\", header=0)\n",
    "mg_select_transcov = pd.read_csv(\"results/mg/select_trans.tpm.tsv\", index_col=0, sep=\"\\t\", header=0)\n",
    "\n",
    "mg_bac_select_transcov_genes = pd.read_csv(\"results/mg/bac_select_trans_genes.tpm.tsv\", index_col=0, sep=\"\\t\", header=0)\n",
    "mg_bac_select_transcov = pd.read_csv(\"results/mg/bac_select_trans.tpm.tsv\", index_col=0, sep=\"\\t\", header=0)"
   ]
  },
  {
   "cell_type": "code",
   "execution_count": null,
   "metadata": {},
   "outputs": [],
   "source": [
    "mt_select_transcov_genes = pd.read_csv(\"results/mt/select_trans_genes.tpm.tsv\", index_col=0, sep=\"\\t\", header=0)\n",
    "mt_select_transcov = pd.read_csv(\"results/mt/select_trans.tpm.tsv\", index_col=0, sep=\"\\t\", header=0)\n",
    "\n",
    "mt_bac_select_transcov_genes = pd.read_csv(\"results/mt/bac_select_trans_genes.tpm.tsv\", index_col=0, sep=\"\\t\", header=0)\n",
    "mt_bac_select_transcov = pd.read_csv(\"results/mt/bac_select_trans.tpm.tsv\", index_col=0, sep=\"\\t\", header=0)"
   ]
  },
  {
   "cell_type": "markdown",
   "metadata": {},
   "source": [
    "### Load results from DESeq2"
   ]
  },
  {
   "cell_type": "markdown",
   "metadata": {},
   "source": [
    "These results were obtained by running Deseq2 with the [05.process_and_run_deseq2.ipynb](05.process_and_run_deseq2.ipynb) notebook."
   ]
  },
  {
   "cell_type": "code",
   "execution_count": null,
   "metadata": {},
   "outputs": [],
   "source": [
    "mg_deseq = pd.read_csv(\"results/mg/deseq2.tab\", header=0, sep=\"\\t\", index_col=7)\n",
    "mt_deseq = pd.read_csv(\"results/mt/deseq2.tab\", header=0, sep=\"\\t\", index_col=7)"
   ]
  },
  {
   "cell_type": "code",
   "execution_count": null,
   "metadata": {},
   "outputs": [],
   "source": [
    "# Get representative TIGRFAMs for use with y-axis\n",
    "trans_reps = get_representatives(mg_select_transcov_genes)"
   ]
  },
  {
   "cell_type": "markdown",
   "metadata": {},
   "source": [
    "### Read sample groupings"
   ]
  },
  {
   "cell_type": "markdown",
   "metadata": {},
   "source": [
    "Sample groups were identified with the [02.cluster_samples.ipynb](02.cluster_samples.ipynb) notebook."
   ]
  },
  {
   "cell_type": "code",
   "execution_count": null,
   "metadata": {},
   "outputs": [],
   "source": [
    "mg_groups = pd.read_csv(\"results/mg/samplegroups.tab\", header=0, sep=\"\\t\", index_col=0)\n",
    "mg_groups.rename(index=lambda x: str(x), inplace=True)\n",
    "mt_groups = pd.read_csv(\"results/mt/samplegroups.tab\", header=0, sep=\"\\t\", index_col=0)\n",
    "mt_groups.rename(index=lambda x: str(x), inplace=True)"
   ]
  },
  {
   "cell_type": "markdown",
   "metadata": {},
   "source": [
    "### Read selected transporters"
   ]
  },
  {
   "cell_type": "code",
   "execution_count": null,
   "metadata": {},
   "outputs": [],
   "source": [
    "transinfo = pd.read_csv(\"selected_transporters_classified.tab\", sep=\"\\t\", header=0)"
   ]
  },
  {
   "cell_type": "code",
   "execution_count": null,
   "metadata": {},
   "outputs": [],
   "source": [
    "cats = [\"Anions\",\"Cations\",\"NH3 Nitrate\",\"Urea\",\"Phosphate\",\"Phosphonate\",\"AA peptide\",\"Nucleoside\",\"Carbohydrate\"]"
   ]
  },
  {
   "cell_type": "markdown",
   "metadata": {},
   "source": [
    "## Plots"
   ]
  },
  {
   "cell_type": "markdown",
   "metadata": {},
   "source": [
    "### Plot group legend"
   ]
  },
  {
   "cell_type": "code",
   "execution_count": null,
   "metadata": {},
   "outputs": [],
   "source": [
    "mg_palette = sns.color_palette(\"YlGn\",n_colors=2)+sns.color_palette(\"YlOrBr\",n_colors=3)+sns.color_palette(\"PuBu\",n_colors=1)"
   ]
  },
  {
   "cell_type": "code",
   "execution_count": null,
   "metadata": {
    "scrolled": true
   },
   "outputs": [],
   "source": [
    "mg_groupcols = make_groupcols(mg_groups,mg_palette,order=[\"early-spring\",\"spring\",\"early-summer\",\"summer1\",\"summer2\",\"fall\"],plot=True)\n",
    "plt.savefig(\"results/MG_grouplegend.svg\",bbox_inches=\"tight\")"
   ]
  },
  {
   "cell_type": "code",
   "execution_count": null,
   "metadata": {},
   "outputs": [],
   "source": [
    "mt_palette = [sns.color_palette(\"YlGn\",n_colors=2)[1]]+[sns.color_palette(\"YlOrBr\",n_colors=2)[1]]+sns.color_palette(\"PuBu\",n_colors=2)"
   ]
  },
  {
   "cell_type": "code",
   "execution_count": null,
   "metadata": {},
   "outputs": [],
   "source": [
    "mt_groupcols = make_groupcols(mt_groups,mt_palette,order=[\"spring\",\"summer\",\"fall\",\"winter\"],plot=True)\n",
    "plt.savefig(\"results/MT_grouplegend.svg\",bbox_inches=\"tight\")"
   ]
  },
  {
   "cell_type": "markdown",
   "metadata": {},
   "source": [
    "### Plot category legend"
   ]
  },
  {
   "cell_type": "code",
   "execution_count": null,
   "metadata": {},
   "outputs": [],
   "source": [
    "cat_cols = sns.color_palette(\"Paired\", 6) + sns.color_palette(\"Dark2\",4)[1:]\n",
    "cat_lut = dict(zip(map(str,cats),cat_cols))\n",
    "cat_lut[\"Other\"] = \"black\"\n",
    "cat_lut[\"Rare nutr\"] = \"grey\"\n",
    "plot_custom_palette(cat_cols,cats,name=\"Category\");\n",
    "plt.savefig(\"results/Substrate_category_legend.svg\", bbox_inches=\"tight\")"
   ]
  },
  {
   "cell_type": "markdown",
   "metadata": {},
   "source": [
    "### Plot clustermaps"
   ]
  },
  {
   "cell_type": "markdown",
   "metadata": {},
   "source": [
    "#### Metagenomes"
   ]
  },
  {
   "cell_type": "code",
   "execution_count": null,
   "metadata": {},
   "outputs": [],
   "source": [
    "# Order samples by their sample group\n",
    "mg_sample_order = []\n",
    "for g in \"early-spring\",\"spring\",\"early-summer\",\"summer1\",\"summer2\",\"fall\":\n",
    "    for s in mg_groups.loc[mg_groups[\"name\"]==g].index: mg_sample_order.append(s)"
   ]
  },
  {
   "cell_type": "code",
   "execution_count": null,
   "metadata": {},
   "outputs": [],
   "source": [
    "# Get transporters with an adjusted p-value < 0.05 in at least one of the Dseq2 comparisons\n",
    "trans = set(mg_deseq.loc[mg_deseq.p_total_adj<0.05].index)\n",
    "# Generate the data for plotting\n",
    "clust_data = mg_select_transcov.loc[trans][mg_groups.index]\n",
    "clust_data = clust_data[mg_sample_order]\n",
    "clust_data_original = clust_data.copy(deep=True)\n",
    "# Cluster transporters\n",
    "row_linkage = linkage(pdist(clust_data, metric=\"correlation\"), metric=\"correlation\", method=\"complete\")\n",
    "\n",
    "# Annotate rows with the category legend colors\n",
    "row_cols = pd.Series([mg_select_transcov.loc[t,\"substrate_category\"] for t in trans],index=trans).map(cat_lut)\n",
    "row_cols.name=\"substrate\"\n",
    "\n",
    "# Plot the clustermap\n",
    "mg_ax = sns.clustermap(clust_data,method=\"complete\",metric=\"correlation\",standard_scale=0, col_cluster=False, row_cluster=True, cmap=sns.cubehelix_palette(8),\n",
    "                       col_colors=mg_groupcols, row_colors=row_cols, yticklabels=True,\n",
    "                       figsize=(9,9),linewidths=0.2)\n",
    "# Rotate the transporter labels\n",
    "plt.setp(mg_ax.ax_heatmap.yaxis.get_majorticklabels(), rotation=0);\n",
    "# Annotate the clustermap to add the TPM values to cells\n",
    "row_labels, col_labels = annotate_clustermap(ax=mg_ax, dec=0, col_break=0.7, lowcol=\"black\", highcol=\"white\", medcol=\"white\")\n",
    "# Change transporter labels to include the second category substrate\n",
    "ticklocs = []\n",
    "ticklabels = []\n",
    "for i,item in enumerate(row_labels):\n",
    "    ticklocs.append(i+0.5)\n",
    "    fam = trans_reps[item]\n",
    "    fam_name = mg_select_transcov_genes.loc[mg_select_transcov_genes.fam==fam,\"name\"].unique()[0]\n",
    "    ticklabels.append(\"{} ({})\".format(fam,fam_name))\n",
    "mg_ax.ax_heatmap.yaxis.set_ticks(ticklocs)\n",
    "mg_ax.ax_heatmap.yaxis.set_ticklabels(ticklabels,fontsize=8);\n",
    "plt.savefig(\"results/Figure7.svg\", bbox_inches=\"tight\")"
   ]
  },
  {
   "cell_type": "markdown",
   "metadata": {},
   "source": [
    "#### Metatranscriptomes"
   ]
  },
  {
   "cell_type": "code",
   "execution_count": null,
   "metadata": {},
   "outputs": [],
   "source": [
    "mt_sample_order = []\n",
    "for g in \"spring\",\"summer\",\"fall\",\"winter\":\n",
    "    for s in mt_groups.loc[mt_groups[\"name\"]==g].index: mt_sample_order.append(s)"
   ]
  },
  {
   "cell_type": "code",
   "execution_count": null,
   "metadata": {},
   "outputs": [],
   "source": [
    "# Get transporters with an adjusted p-value < 0.05 in at least one of the Dseq2 comparisons\n",
    "trans = set(mt_deseq.loc[mt_deseq.p_total_adj<0.05].index)\n",
    "# Generate the data for plotting\n",
    "clust_data = mt_select_transcov.loc[trans][mt_groups.index]\n",
    "clust_data = clust_data[mt_sample_order]\n",
    "clust_data_original = clust_data.copy(deep=True)\n",
    "# Cluster transporters\n",
    "row_linkage = linkage(pdist(clust_data, metric=\"correlation\"), metric=\"correlation\", method=\"complete\")\n",
    "\n",
    "# Annotate rows with the category legend colors\n",
    "row_cols = pd.Series([mt_select_transcov.loc[t,\"substrate_category\"] for t in trans],index=trans).map(cat_lut)\n",
    "row_cols.name=\"substrate\"\n",
    "\n",
    "# Plot the clustermap\n",
    "mt_ax = sns.clustermap(clust_data,method=\"complete\",metric=\"correlation\",standard_scale=0, col_cluster=False, row_cluster=True, cmap=sns.cubehelix_palette(8),\n",
    "                       col_colors=mt_groupcols, row_colors=row_cols, yticklabels=True,\n",
    "                       figsize=(6,6),linewidths=0.2)\n",
    "# Rotate the transporter labels\n",
    "plt.setp(mt_ax.ax_heatmap.yaxis.get_majorticklabels(), rotation=0);\n",
    "# Annotate the clustermap to add the TPM values to cells\n",
    "row_labels, col_labels = annotate_clustermap(ax=mt_ax, dec=0, col_break=0.7, lowcol=\"black\", highcol=\"white\", medcol=\"white\")\n",
    "# Change transporter labels to include the second category substrate\n",
    "ticklocs = []\n",
    "ticklabels = []\n",
    "for i,item in enumerate(row_labels):\n",
    "    ticklocs.append(i+0.5)\n",
    "    fam = trans_reps[item]\n",
    "    fam_name = mg_select_transcov_genes.loc[mg_select_transcov_genes.fam==fam,\"name\"].unique()[0]\n",
    "    ticklabels.append(\"{} ({})\".format(fam,fam_name))\n",
    "mt_ax.ax_heatmap.yaxis.set_ticks(ticklocs)\n",
    "mt_ax.ax_heatmap.yaxis.set_ticklabels(ticklabels,fontsize=8);"
   ]
  },
  {
   "cell_type": "markdown",
   "metadata": {},
   "source": [
    "Extract subsets of transporters with similar abundance profiles and plot their taxonomic distribution"
   ]
  },
  {
   "cell_type": "markdown",
   "metadata": {},
   "source": [
    "### Plot deseq2 log fold change"
   ]
  },
  {
   "cell_type": "code",
   "execution_count": null,
   "metadata": {},
   "outputs": [],
   "source": [
    "def process_deseq_for_plotting(df,transinfo):\n",
    "    df_sig = df.loc[df.p_total_adj<0.05]\n",
    "    df_sig_info = pd.merge(transinfo,df_sig,left_on=\"transporter\",right_index=True)\n",
    "    #df_sig_info[\"transporter\"] = df_sig_info.index\n",
    "    return df_sig_info"
   ]
  },
  {
   "cell_type": "markdown",
   "metadata": {},
   "source": [
    "Here we plot the log2 fold change for transporters that differ significantly in abundance between the sample groups."
   ]
  },
  {
   "cell_type": "code",
   "execution_count": null,
   "metadata": {},
   "outputs": [],
   "source": [
    "mg_select_transcov = pd.read_table(\"results/mg/select_trans.tpm.tsv\")\n",
    "mg_deseq = pd.read_table(\"results/mg/deseq2.tab\", index_col=7)\n",
    "mg_deseq_info = pd.merge(transinfo,mg_deseq,left_on=\"transporter\",right_index=True)\n",
    "mg_deseq_sig_info = process_deseq_for_plotting(mg_deseq,transinfo)\n",
    "mt_select_transcov = pd.read_table(\"results/mt/select_trans.tpm.tsv\")\n",
    "mt_deseq = pd.read_table(\"results/mt/deseq2.tab\", index_col=7)\n",
    "mt_deseq_info = pd.merge(transinfo,mt_deseq,left_on=\"transporter\",right_index=True)\n",
    "mt_deseq_sig_info = process_deseq_for_plotting(mt_deseq,transinfo)"
   ]
  },
  {
   "cell_type": "markdown",
   "metadata": {},
   "source": [
    "Read the DEseq2 results generated by [05.process_and_run_deseq2.ipynb](05.process_and_run_deseq2.ipynb)."
   ]
  },
  {
   "cell_type": "code",
   "execution_count": null,
   "metadata": {},
   "outputs": [],
   "source": [
    "def get_bar_colors(rc):\n",
    "    bar_colors = {}\n",
    "    for t in rc.index:\n",
    "        category = transinfo.loc[transinfo.transporter==t,\"substrate_category\"].values[0]\n",
    "        bar_colors[t] = cat_lut[category]\n",
    "    return bar_colors"
   ]
  },
  {
   "cell_type": "code",
   "execution_count": null,
   "metadata": {},
   "outputs": [],
   "source": [
    "def plot_substrate_bar(df, group, axis):\n",
    "    # Get all comparisons where a transporter has a higher log2FoldChange in the group\n",
    "    _df_up1 = df.loc[(df.groups.str.contains(\"{} vs \".format(group)))&(df.log2FoldChange>0)&(df.substrate_category.isin(cats))]\n",
    "    # Get all comparisons where a transporter has a lower log2FoldChange in another group\n",
    "    _df_up2 = df.loc[(df.groups.str.contains(\" vs {}\".format(group)))&(df.log2FoldChange<0)&(df.substrate_category.isin(cats))]\n",
    "    # Concatenate the two dataframes\n",
    "    _df_up = pd.concat([_df_up1,_df_up2])\n",
    "    # Select only the first of each unique transporter, groupby substrate category and count\n",
    "    _df_up = _df_up.groupby(\"transporter\").first().groupby(\"substrate_category\").count().iloc[:,0]\n",
    "\n",
    "    # Do the same as above but for 'down-regulated' transporters\n",
    "    _df_down1 = df.loc[(df.groups.str.contains(\"{} vs \".format(group)))&(df.log2FoldChange<0)&(df.substrate_category.isin(cats))]\n",
    "    _df_down2 = df.loc[(df.groups.str.contains(\" vs {}\".format(group)))&(df.log2FoldChange>0)&(df.substrate_category.isin(cats))]\n",
    "    _df_down = pd.concat([_df_down1,_df_down2])\n",
    "    _df_down = _df_down.groupby(\"transporter\").first().groupby(\"substrate_category\").count().iloc[:,0]\n",
    "    _df = pd.concat([_df_down,_df_up],axis=1)\n",
    "    _df.columns = [\"-\",\"+\"]\n",
    "    ax = _df.T.plot(kind=\"bar\", stacked=True, color=[cat_lut[x] for x in _df.index], ax=axis, legend=None)\n",
    "    return ax"
   ]
  },
  {
   "cell_type": "markdown",
   "metadata": {},
   "source": [
    "#### Plot pairwise seasonal comparison of groups"
   ]
  },
  {
   "cell_type": "code",
   "execution_count": null,
   "metadata": {},
   "outputs": [],
   "source": [
    "# Sort by substrate category\n",
    "substrate_cats = [\"AA peptide\", \"Anions\", \"Cations\",\"Carbohydrate\", \"NH3 Nitrate\", \"Rare nutr\", \"Urea\", \"Nucleoside\", \"Phosphate\", \"Phosphonate\"]\n",
    "mg_deseq_info.sort_values(\"substrate_category\",inplace=True)\n",
    "mg_deseq_sig_info.sort_values(\"substrate_category\", inplace=True)\n",
    "# Get list of significant transporters (these are all that will be plotted)\n",
    "mg_deseq_sig_info_transporters = mg_deseq_sig_info.loc[mg_deseq_sig_info.substrate_category.isin(substrate_cats)].transporter.unique()\n",
    "groups = [\"early-spring\",\"spring\",\"early-summer\",\"summer1\",\"summer2\",\"fall\"]\n",
    "# Set up figure\n",
    "fig, axes = plt.subplots(ncols=len(groups)-1, nrows=1, sharex=True, sharey=False, figsize=(10,6))\n",
    "j = 0\n",
    "for i, g in enumerate(groups):\n",
    "    if i==0:\n",
    "        continue\n",
    "    # Figure out which groups are being compared and whether to reverse the log2foldchange or not\n",
    "    compare_group = groups[i-1]\n",
    "    deseq_group = \"{} vs {}\".format(g, compare_group)\n",
    "    deseq_group_r = \"{} vs {}\".format(compare_group, g)\n",
    "    if deseq_group in mg_deseq_info.groups.unique():\n",
    "        group_string = deseq_group\n",
    "        reverse = False\n",
    "    else:\n",
    "        group_string = deseq_group_r\n",
    "        reverse = True\n",
    "    # Get transporter results for the groups  \n",
    "    _df = mg_deseq_info.loc[mg_deseq_info.groups==group_string]\n",
    "    # Get significant transporters\n",
    "    sig_trans = _df.loc[_df.p_total_adj<0.05,\"transporter\"]\n",
    "    _df.set_index(\"transporter\",inplace=True)\n",
    "    \n",
    "    \n",
    "    _df = _df.loc[mg_deseq_sig_info_transporters,\"log2FoldChange\"]\n",
    "    # Set colors to blue (non-significant) or red (significant)\n",
    "    colors = []\n",
    "    for trans in _df.index:\n",
    "        if trans in list(sig_trans):\n",
    "            colors.append(sns.color_palette(\"Reds\",1)[0])\n",
    "        else:\n",
    "            colors.append(sns.color_palette(\"Blues\",1)[0])\n",
    "    if reverse:\n",
    "        _df = _df.multiply(-1)\n",
    "    ax = _df.plot(kind=\"barh\", ax=axes[j], color=colors)\n",
    "    ax.set_xlim(-2,2)\n",
    "    ax.set_title(g)\n",
    "    if i>1:\n",
    "        axes[j].set_ylabel(\"\")\n",
    "        axes[j].set_yticklabels(\"\")\n",
    "    else:\n",
    "        ylabels = []\n",
    "        for label in ax.get_yticklabels():\n",
    "            transporter = label.get_text()\n",
    "            fam = trans_reps[transporter]\n",
    "            cat = transinfo.loc[transinfo.transporter==transporter,\"substrate_category\"].values[0]\n",
    "            name = fam_name = mg_select_transcov_genes.loc[mg_select_transcov_genes.fam==fam,\"name\"].unique()[0]\n",
    "            ylabels.append(\"{f} {n} ({c})\".format(f=fam, n=name, c=cat))\n",
    "        ax.set_yticklabels(ylabels, fontsize=8)\n",
    "    axes[j].set_xlabel(\"log2FoldChange\", fontsize=8)\n",
    "    j+=1\n",
    "plt.subplots_adjust(wspace=0.15)"
   ]
  },
  {
   "cell_type": "code",
   "execution_count": null,
   "metadata": {},
   "outputs": [],
   "source": [
    "# Sort by substrate category\n",
    "mt_deseq_info.sort_values(\"substrate_category\",inplace=True)\n",
    "mt_deseq_sig_info.sort_values(\"substrate_category\", inplace=True)\n",
    "# Get list of significant transporters (these are all that will be plotted)\n",
    "mt_deseq_sig_info_transporters = mt_deseq_sig_info.loc[mt_deseq_sig_info.substrate_category.isin(substrate_cats)].transporter.unique()\n",
    "groups = [\"spring\",\"summer\",\"fall\",\"winter\"]\n",
    "# Set up figure\n",
    "fig, axes = plt.subplots(ncols=len(groups)-1, nrows=1, sharex=True, sharey=False, figsize=(5,3))\n",
    "j = 0\n",
    "for i, g in enumerate(groups):\n",
    "    if i==0:\n",
    "        continue\n",
    "    # Figure out which groups are being compared and whether to reverse the log2foldchange or not\n",
    "    compare_group = groups[i-1]\n",
    "    deseq_group = \"{} vs {}\".format(g, compare_group)\n",
    "    deseq_group_r = \"{} vs {}\".format(compare_group, g)\n",
    "    if deseq_group in mt_deseq_info.groups.unique():\n",
    "        group_string = deseq_group\n",
    "        reverse = False\n",
    "    else:\n",
    "        group_string = deseq_group_r\n",
    "        reverse = True\n",
    "    # Get transporter results for the groups  \n",
    "    _df = mt_deseq_info.loc[mt_deseq_info.groups==group_string]\n",
    "    # Get significant transporters\n",
    "    sig_trans = _df.loc[_df.p_total_adj<0.05,\"transporter\"]\n",
    "    _df.set_index(\"transporter\",inplace=True)\n",
    "    \n",
    "    \n",
    "    _df = _df.loc[mt_deseq_sig_info_transporters,\"log2FoldChange\"]\n",
    "    # Set colors to blue (non-significant) or red (significant)\n",
    "    colors = []\n",
    "    for trans in _df.index:\n",
    "        if trans in list(sig_trans):\n",
    "            colors.append(sns.color_palette(\"Reds\",1)[0])\n",
    "        else:\n",
    "            colors.append(sns.color_palette(\"Blues\",1)[0])\n",
    "    if reverse:\n",
    "        _df = _df.multiply(-1)\n",
    "    ax = _df.plot(kind=\"barh\", ax=axes[j], color=colors)\n",
    "    ax.set_xlim(-2,2)\n",
    "    ax.set_title(g)\n",
    "    if i>1:\n",
    "        axes[j].set_ylabel(\"\")\n",
    "        axes[j].set_yticklabels(\"\")\n",
    "    else:\n",
    "        ylabels = []\n",
    "        for label in ax.get_yticklabels():\n",
    "            transporter = label.get_text()\n",
    "            fam = trans_reps[transporter]\n",
    "            cat = transinfo.loc[transinfo.transporter==transporter,\"substrate_category\"].values[0]\n",
    "            name = fam_name = mg_select_transcov_genes.loc[mg_select_transcov_genes.fam==fam,\"name\"].unique()[0]\n",
    "            ylabels.append(\"{f} {n} ({c})\".format(f=fam, n=name, c=cat))\n",
    "        ax.set_yticklabels(ylabels, fontsize=8)\n",
    "    axes[j].set_xlabel(\"log2FoldChange\", fontsize=8)\n",
    "    j+=1\n",
    "plt.subplots_adjust(wspace=0.15)"
   ]
  }
 ],
 "metadata": {
  "kernelspec": {
   "display_name": "Python 3",
   "language": "python",
   "name": "python3"
  },
  "language_info": {
   "codemirror_mode": {
    "name": "ipython",
    "version": 3
   },
   "file_extension": ".py",
   "mimetype": "text/x-python",
   "name": "python",
   "nbconvert_exporter": "python",
   "pygments_lexer": "ipython3",
   "version": "3.6.7"
  }
 },
 "nbformat": 4,
 "nbformat_minor": 2
}
