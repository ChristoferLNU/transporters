{
 "cells": [
  {
   "cell_type": "markdown",
   "metadata": {},
   "source": [
    "# Processing the transporter data"
   ]
  },
  {
   "cell_type": "markdown",
   "metadata": {},
   "source": [
    "## Overview"
   ]
  },
  {
   "cell_type": "markdown",
   "metadata": {},
   "source": [
    "This notebook fetches transporter cluster information from the [transporter](https://github.com/johnne/transporters) GitHub repository and metaomic gene abundances and annotations from [figshare](https://figshare.com/s/6e05aa0ea8353098a503)."
   ]
  },
  {
   "cell_type": "code",
   "execution_count": null,
   "metadata": {},
   "outputs": [],
   "source": [
    "import pandas as pd\n",
    "import os\n",
    "import numpy as np\n",
    "import urllib\n",
    "import hashlib"
   ]
  },
  {
   "cell_type": "code",
   "execution_count": null,
   "metadata": {},
   "outputs": [],
   "source": [
    "def sha256sum(filename):\n",
    "    h  = hashlib.sha256()\n",
    "    b  = bytearray(128*1024)\n",
    "    mv = memoryview(b)\n",
    "    with open(filename, 'rb', buffering=0) as f:\n",
    "        for n in iter(lambda : f.readinto(mv), 0):\n",
    "            h.update(mv[:n])\n",
    "    return h.hexdigest()"
   ]
  },
  {
   "cell_type": "code",
   "execution_count": null,
   "metadata": {},
   "outputs": [],
   "source": [
    "def file2df(f, drop=None, axis=1, rename=None):\n",
    "    df = pd.read_csv(f, index_col=0, sep=\"\\t\", header=0)\n",
    "    if drop:\n",
    "        df.drop(drop, axis=axis, inplace=True)\n",
    "    if rename:\n",
    "        if axis == 1:\n",
    "            df.rename(columns=rename, inplace=True)\n",
    "        elif axis == 0:\n",
    "            df.rename(index=rename, inplace=True)\n",
    "    return df"
   ]
  },
  {
   "cell_type": "markdown",
   "metadata": {},
   "source": [
    "## Set up the metaomic data"
   ]
  },
  {
   "cell_type": "markdown",
   "metadata": {},
   "source": [
    "### Download data from figshare"
   ]
  },
  {
   "cell_type": "markdown",
   "metadata": {},
   "source": [
    "Download the abundance data of ORFs in the co-assembly, as well as tables containing taxonomic information."
   ]
  },
  {
   "cell_type": "code",
   "execution_count": null,
   "metadata": {},
   "outputs": [],
   "source": [
    "# Define data files\n",
    "data_files = {'data/mg/all_genes.raw_counts.taxonomy.tsv.gz': {'url': 'https://ndownloader.figshare.com/files/15168053', 'sha256': '700b83f864791ba801a5912f2673d2e3c09f0e70cf8a0ee685489f705fa75dbc'},\n",
    "              'data/mg/all_genes.raw_counts.tsv.gz': {'url': 'https://ndownloader.figshare.com/files/15168047', 'sha256': '4d532c1f2126028cef6be531fb39802d1d31a27a5e5abba480782607eb419f4f'},\n",
    "              'data/mg/all_genes.tpm.taxonomy.tsv.gz': {'url': 'https://ndownloader.figshare.com/files/15168017', 'sha256': '9f4b29218009c75969d312b0d62243459699fde548efc03545d30e2f262f19e1'},\n",
    "              'data/mg/all_genes.tpm.tsv.gz': {'url': 'https://ndownloader.figshare.com/files/15168011', 'sha256': 'f38aedf2151277d88f6f9fe92af64503baa9ed146ad607b050fb48a488a9a8d8'},\n",
    "              'data/mt/all_genes.tpm.tsv.gz': {'url': 'https://ndownloader.figshare.com/files/15168020', 'sha256': '881a73bcc670f74b567b3875c65c64fd0097ba8b18eabc1ddf159ae39699ac86'},\n",
    "              'data/mt/all_genes.tpm.taxonomy.tsv.gz': {'url': 'https://ndownloader.figshare.com/files/15168023', 'sha256': '89bb9ab8fd34e29df486961147875d3f2aa613b993c88e13694863322475af71'},\n",
    "              'data/mt/all_genes.raw_counts.tsv.gz': {'url': 'https://ndownloader.figshare.com/files/15168026', 'sha256': 'c32ca173e359369f5558b695e1d3108105e59dcc6b3478c7669e32ea3d93825a'},\n",
    "              'data/mt/all_genes.raw_counts.taxonomy.tsv.gz': {'url': 'https://ndownloader.figshare.com/files/15168035', 'sha256': '77efa5d4a1cd22cbd367b41981553ec489a85598ee7328f778c5497976278a04'}}"
   ]
  },
  {
   "cell_type": "code",
   "execution_count": null,
   "metadata": {},
   "outputs": [],
   "source": [
    "for f, d in data_files.items():\n",
    "    os.makedirs(os.path.dirname(f), exist_ok=True)\n",
    "    download = False\n",
    "    if os.path.exists(f):\n",
    "        if sha256sum(f) == d['sha256']:\n",
    "            print(\"File {} exists\".format(f))\n",
    "            continue\n",
    "        else:\n",
    "            print(\"File {} has wrong hash. Re-downloading\")\n",
    "            download = True\n",
    "    else:\n",
    "        download = True\n",
    "    if download:\n",
    "        url = d['url']\n",
    "        print(\"Downloading file {} from {}\".format(f, url))\n",
    "        urllib.request.urlretrieve(url, f)\n",
    "        if sha256sum(f) == d['sha256']:\n",
    "            print(\"{} OK\".format(f))\n",
    "        else:\n",
    "            print(\"{} FAILED. Please try re-downloading.\".format(f))"
   ]
  },
  {
   "cell_type": "markdown",
   "metadata": {},
   "source": [
    "Download the environmental data."
   ]
  },
  {
   "cell_type": "code",
   "execution_count": null,
   "metadata": {},
   "outputs": [],
   "source": [
    "urllib.request.urlretrieve(\"https://ndownloader.figshare.com/files/15175808\", \"data/LMO.time.series.metadata.csv\")"
   ]
  },
  {
   "cell_type": "markdown",
   "metadata": {},
   "source": [
    "Download TIGRFAM annotations for ORFs. This is done directly from the [Alneberg et al 2018](https://doi.org/10.6084/m9.figshare.c.3831631.v1) collection."
   ]
  },
  {
   "cell_type": "code",
   "execution_count": null,
   "metadata": {},
   "outputs": [],
   "source": [
    "os.makedirs(\"data/annotations\", exist_ok=True)\n",
    "urllib.request.urlretrieve(\"https://ndownloader.figshare.com/files/9448027\", \"data/annotations/all.TIGRFAM.standardized.tsv.gz\")"
   ]
  },
  {
   "cell_type": "markdown",
   "metadata": {},
   "source": [
    "### Retrieve transporter information"
   ]
  },
  {
   "cell_type": "markdown",
   "metadata": {},
   "source": [
    "Protein families associated with transporter functions have been identified using the https://github.com/johnne/transporters repository. Transporter protein families are clustered using cross-referencing of reviewed entries in the UniProt database (see the GitHub transporter [wiki](https://github.com/johnne/transporters/wiki) for details). Here we use transporter clustering created using the `2017_12` UniProt version."
   ]
  },
  {
   "cell_type": "code",
   "execution_count": null,
   "metadata": {},
   "outputs": [],
   "source": [
    "uniprot_ver = \"2017_12\""
   ]
  },
  {
   "cell_type": "code",
   "execution_count": null,
   "metadata": {},
   "outputs": [],
   "source": [
    "transdef = pd.read_csv(\"https://raw.githubusercontent.com/johnne/transporters/master/results/transport-clusters.{}.tab\".format(uniprot_ver), \n",
    "                       header=None, sep=\"\\t\", names=[\"transporter\",\"fam\"])\n",
    "print(\"{} transporters, {} protein families\".format(len(transdef.transporter.unique()), len(transdef.fam)))"
   ]
  },
  {
   "cell_type": "markdown",
   "metadata": {},
   "source": [
    "We limit transporters to the ones with at least one TIGRFAM entry."
   ]
  },
  {
   "cell_type": "code",
   "execution_count": null,
   "metadata": {},
   "outputs": [],
   "source": [
    "transdef = transdef.loc[transdef.fam.str.contains(\"TIGR\")]\n",
    "print(\"{} remaining transporters, {} TIGRFAMs\".format(len(transdef.transporter.unique()), len(transdef.fam)))"
   ]
  },
  {
   "cell_type": "markdown",
   "metadata": {},
   "source": [
    "### TIGRFAM annotations"
   ]
  },
  {
   "cell_type": "markdown",
   "metadata": {},
   "source": [
    "Here we load the TIGRFAM annotations for ORFs in the metagenomic co-assembly."
   ]
  },
  {
   "cell_type": "code",
   "execution_count": null,
   "metadata": {},
   "outputs": [],
   "source": [
    "tigrfams = pd.read_csv(\"data/annotations/all.TIGRFAM.standardized.tsv.gz\", usecols=[0,1],names=[\"gene_id\",\"fam\"],header=0,sep=\"\\t\")\n",
    "tigrfams.head(10)"
   ]
  },
  {
   "cell_type": "markdown",
   "metadata": {},
   "source": [
    "### Merge with annotations"
   ]
  },
  {
   "cell_type": "markdown",
   "metadata": {},
   "source": [
    "The annotation table is then merged with the transporter definitions."
   ]
  },
  {
   "cell_type": "code",
   "execution_count": null,
   "metadata": {},
   "outputs": [],
   "source": [
    "gene_trans = pd.merge(tigrfams, transdef, left_on=\"fam\", right_on=\"fam\")\n",
    "print(\" {} open reading frames, {} transporters, {} TIGRFAMs\".format(len(gene_trans.gene_id.unique()), len(gene_trans.transporter.unique()), len(gene_trans.fam.unique())))"
   ]
  },
  {
   "cell_type": "code",
   "execution_count": null,
   "metadata": {
    "scrolled": true
   },
   "outputs": [],
   "source": [
    "gene_trans.sample(10)"
   ]
  },
  {
   "cell_type": "code",
   "execution_count": null,
   "metadata": {},
   "outputs": [],
   "source": [
    "gene_trans.set_index(\"gene_id\", inplace=True)"
   ]
  },
  {
   "cell_type": "markdown",
   "metadata": {},
   "source": [
    "### Merge with abundances"
   ]
  },
  {
   "cell_type": "markdown",
   "metadata": {},
   "source": [
    "#### Metagenomes"
   ]
  },
  {
   "cell_type": "markdown",
   "metadata": {},
   "source": [
    "The metagenomic time-series has some dubious samples that may have been mis-labeled."
   ]
  },
  {
   "cell_type": "code",
   "execution_count": null,
   "metadata": {},
   "outputs": [],
   "source": [
    "dubious = [\"120507\",\"120521\",\"120910\",\"121123\"]"
   ]
  },
  {
   "cell_type": "markdown",
   "metadata": {},
   "source": [
    "Read abundance tables for metagenomic samples"
   ]
  },
  {
   "cell_type": "code",
   "execution_count": null,
   "metadata": {},
   "outputs": [],
   "source": [
    "mg_cov = file2df(\"data/mg/all_genes.tpm.tsv.gz\", drop=dubious+[\"gene_length\"])\n",
    "mg_raw = file2df(\"data/mg/all_genes.raw_counts.tsv.gz\", drop=dubious+[\"gene_length\"])"
   ]
  },
  {
   "cell_type": "markdown",
   "metadata": {},
   "source": [
    "Read abundance tables with taxonomic info"
   ]
  },
  {
   "cell_type": "code",
   "execution_count": null,
   "metadata": {},
   "outputs": [],
   "source": [
    "mg_taxcov = file2df(\"data/mg/all_genes.tpm.taxonomy.tsv.gz\")\n",
    "mg_taxraw = file2df(\"data/mg/all_genes.raw_counts.taxonomy.tsv.gz\")"
   ]
  },
  {
   "cell_type": "markdown",
   "metadata": {},
   "source": [
    "Merge with transporters table."
   ]
  },
  {
   "cell_type": "code",
   "execution_count": null,
   "metadata": {},
   "outputs": [],
   "source": [
    "mg_transcov = pd.merge(gene_trans, mg_taxcov, left_index=True, right_index=True)\n",
    "mg_transraw = pd.merge(gene_trans, mg_taxraw, left_index=True, right_index=True)"
   ]
  },
  {
   "cell_type": "markdown",
   "metadata": {},
   "source": [
    "Store total raw counts per sample."
   ]
  },
  {
   "cell_type": "code",
   "execution_count": null,
   "metadata": {},
   "outputs": [],
   "source": [
    "os.makedirs(\"results/mg\", exist_ok=True)\n",
    "mg_raw_tot = mg_raw.loc[mg_raw.index.str.match(\"^k.+\")].sum()\n",
    "mg_raw_tot = pd.DataFrame(mg_raw_tot,columns=[\"total_counts\"])\n",
    "mg_raw_tot.to_csv(\"results/mg/all_genes.total_counts.tsv\", sep=\"\\t\")"
   ]
  },
  {
   "cell_type": "markdown",
   "metadata": {},
   "source": [
    "#### Metatranscriptomes"
   ]
  },
  {
   "cell_type": "markdown",
   "metadata": {},
   "source": [
    "The metatranscriptomic time-series needs to have the sample_ids renamed to sample dates."
   ]
  },
  {
   "cell_type": "code",
   "execution_count": null,
   "metadata": {},
   "outputs": [],
   "source": [
    "mt_sample_names = {\"P1456_101\":\"120516\", \"P1456_102\":\"120613\", \"P1456_103\":\"120712\", \n",
    "                   \"P1456_104\":\"120813\", \"P1456_105\":\"120927\", \"P1456_106\":\"121024\", \n",
    "                   \"P1456_107\":\"121220\", \"P1456_108\":\"130123\", \"P1456_109\":\"130226\", \n",
    "                   \"P1456_110\":\"130403\", \"P1456_111\":\"130416\", \"P1456_112\":\"130422\", \n",
    "                   \"P3764_101\":\"130507\", \"P3764_102\":\"130605\", \"P3764_103\":\"130705\", \n",
    "                   \"P3764_104\":\"130815\", \"P3764_105\":\"130905\", \"P3764_106\":\"131003\", \n",
    "                   \"P3764_112\":\"140408\", \"P3764_113\":\"140506\", \"P3764_114\":\"140604\", \n",
    "                   \"P3764_115\":\"140709\", \"P3764_116\":\"140820\", \"P3764_117\":\"140916\", \n",
    "                   \"P3764_118\":\"141013\"}"
   ]
  },
  {
   "cell_type": "code",
   "execution_count": null,
   "metadata": {},
   "outputs": [],
   "source": [
    "mt_cov = file2df(\"data/mt/all_genes.tpm.tsv.gz\", drop=\"gene_length\", rename=mt_sample_names)\n",
    "mt_raw = file2df(\"data/mt/all_genes.raw_counts.tsv.gz\", drop=\"gene_length\", rename=mt_sample_names)"
   ]
  },
  {
   "cell_type": "markdown",
   "metadata": {},
   "source": [
    "Read the files with taxonomic annotations as well."
   ]
  },
  {
   "cell_type": "code",
   "execution_count": null,
   "metadata": {},
   "outputs": [],
   "source": [
    "mt_taxcov = file2df(\"data/mt/all_genes.tpm.taxonomy.tsv.gz\")\n",
    "mt_taxraw = file2df(\"data/mt/all_genes.raw_counts.taxonomy.tsv.gz\")"
   ]
  },
  {
   "cell_type": "markdown",
   "metadata": {},
   "source": [
    "Merge with transporters table."
   ]
  },
  {
   "cell_type": "code",
   "execution_count": null,
   "metadata": {},
   "outputs": [],
   "source": [
    "mt_transcov = pd.merge(gene_trans, mt_taxcov, left_index=True, right_index=True)\n",
    "mt_transraw = pd.merge(gene_trans, mt_taxraw, left_index=True, right_index=True)"
   ]
  },
  {
   "cell_type": "markdown",
   "metadata": {},
   "source": [
    "Store total raw counts per sample."
   ]
  },
  {
   "cell_type": "code",
   "execution_count": null,
   "metadata": {},
   "outputs": [],
   "source": [
    "mt_raw_tot = mt_raw.loc[mt_raw.index.str.match(\"^k.+\")].sum()\n",
    "mt_raw_tot = pd.DataFrame(mt_raw_tot,columns=[\"total_counts\"])\n",
    "mt_raw_tot.to_csv(\"results/mt/all_genes.total_counts.tsv\", sep=\"\\t\")"
   ]
  },
  {
   "cell_type": "markdown",
   "metadata": {},
   "source": [
    "## Calculate total transporter abundance"
   ]
  },
  {
   "cell_type": "markdown",
   "metadata": {},
   "source": [
    "Transporter abundances are calculated using the normalized TPM values. However, the DeSeq2 package requires raw counts so for that purpose the summed raw counts are calculated for 1 representative protein family per transporter cluster."
   ]
  },
  {
   "cell_type": "code",
   "execution_count": null,
   "metadata": {},
   "outputs": [],
   "source": [
    "def get_representatives(df):\n",
    "    '''Finds representative families for each transporter based on highest mean'''\n",
    "    df_mean = df.groupby([\"fam\",\"transporter\"]).sum().mean(axis=1).reset_index()\n",
    "    df_mean.sort_values(0,ascending=False,inplace=True)\n",
    "    df_mean.index = list(range(0,len(df_mean)))\n",
    "    reps = {}\n",
    "    for i in df_mean.index:\n",
    "        fam = df_mean.loc[i,\"fam\"]\n",
    "        t = df_mean.loc[i,\"transporter\"]\n",
    "        if t in reps.keys():\n",
    "            continue\n",
    "        reps[t] = fam\n",
    "    return reps"
   ]
  },
  {
   "cell_type": "markdown",
   "metadata": {},
   "source": [
    "Sum to protein family."
   ]
  },
  {
   "cell_type": "code",
   "execution_count": null,
   "metadata": {},
   "outputs": [],
   "source": [
    "mg_fam_sum = mg_transcov.groupby([\"fam\",\"transporter\"]).sum().reset_index()\n",
    "# Get representative families for each transporter cluster (for use with DSeq2)\n",
    "mg_reps = get_representatives(mg_fam_sum)\n",
    "mg_reps = pd.DataFrame(data=mg_reps,index=[\"fam\"]).T"
   ]
  },
  {
   "cell_type": "code",
   "execution_count": null,
   "metadata": {},
   "outputs": [],
   "source": [
    "mt_fam_sum = mt_transcov.groupby([\"fam\",\"transporter\"]).sum().reset_index()\n",
    "# Get representative families for each transporter cluster (for use with DSeq2)\n",
    "mt_reps = get_representatives(mt_fam_sum)\n",
    "mt_reps = pd.DataFrame(data=mt_reps,index=[\"fam\"]).T"
   ]
  },
  {
   "cell_type": "markdown",
   "metadata": {},
   "source": [
    "Group by transporter and calculate means."
   ]
  },
  {
   "cell_type": "code",
   "execution_count": null,
   "metadata": {},
   "outputs": [],
   "source": [
    "mg_trans = mg_fam_sum.groupby(\"transporter\").mean()\n",
    "mg_trans_percent = mg_trans.div(mg_trans.sum())*100\n",
    "mg_trans.to_csv(\"results/mg/all_trans.tpm.tsv\", sep=\"\\t\")\n",
    "mg_trans_percent.to_csv(\"results/mg/all_trans.tpm.percent.tsv\", sep=\"\\t\")"
   ]
  },
  {
   "cell_type": "code",
   "execution_count": null,
   "metadata": {},
   "outputs": [],
   "source": [
    "mt_trans = mt_fam_sum.groupby(\"transporter\").mean()\n",
    "mt_trans_percent = mt_trans.div(mt_trans.sum())*100\n",
    "mt_trans.to_csv(\"results/mt/all_trans.tpm.tsv\", sep=\"\\t\")\n",
    "mt_trans_percent.to_csv(\"results/mt/all_trans.tpm.percent.tsv\", sep=\"\\t\")"
   ]
  },
  {
   "cell_type": "markdown",
   "metadata": {},
   "source": [
    "Calculate transporter maximum (in % of total transporters) across all samples."
   ]
  },
  {
   "cell_type": "code",
   "execution_count": null,
   "metadata": {},
   "outputs": [],
   "source": [
    "mg_trans_percent_max = mg_trans_percent.max(axis=1)\n",
    "mt_trans_percent_max = mt_trans_percent.max(axis=1)"
   ]
  },
  {
   "cell_type": "markdown",
   "metadata": {},
   "source": [
    "Output max abundances for transporters for filtering"
   ]
  },
  {
   "cell_type": "code",
   "execution_count": null,
   "metadata": {},
   "outputs": [],
   "source": [
    "print(\"{} transporters with max% > 0.5 in the mg-samples\".format(len(mg_trans_percent_max.loc[mg_trans_percent_max>=0.5])))"
   ]
  },
  {
   "cell_type": "code",
   "execution_count": null,
   "metadata": {},
   "outputs": [],
   "source": [
    "print(\"{} transporters with max% > 0.5 in the mt-samples\".format(len(mt_trans_percent_max.loc[mt_trans_percent_max>=0.5])))"
   ]
  },
  {
   "cell_type": "markdown",
   "metadata": {},
   "source": [
    "Write raw counts for representative protein families."
   ]
  },
  {
   "cell_type": "code",
   "execution_count": null,
   "metadata": {},
   "outputs": [],
   "source": [
    "mg_reps_raw = pd.merge(mg_reps,mg_transraw,left_on=\"fam\",right_on=\"fam\")\n",
    "mg_reps_raw_sum = mg_reps_raw.groupby(\"transporter\").sum()\n",
    "mg_reps_raw_sum.to_csv(\"results/mg/rep_trans.raw_counts.tsv\", sep=\"\\t\")"
   ]
  },
  {
   "cell_type": "code",
   "execution_count": null,
   "metadata": {},
   "outputs": [],
   "source": [
    "mt_reps_raw = pd.merge(mt_reps,mt_transraw,left_on=\"fam\",right_on=\"fam\")\n",
    "mt_reps_raw_sum = mt_reps_raw.groupby(\"transporter\").sum()\n",
    "mt_reps_raw_sum.to_csv(\"results/mt/rep_trans.raw_counts.tsv\", sep=\"\\t\")"
   ]
  },
  {
   "cell_type": "markdown",
   "metadata": {},
   "source": [
    "### Calculate transporter abundances for bacteria"
   ]
  },
  {
   "cell_type": "markdown",
   "metadata": {},
   "source": [
    "Metagenome"
   ]
  },
  {
   "cell_type": "code",
   "execution_count": null,
   "metadata": {},
   "outputs": [],
   "source": [
    "# Get genes classified as bacteria but not cyanobacteria\n",
    "mg_transcov_bac = mg_transcov.loc[(mg_transcov.superkingdom==\"Bacteria\")&(mg_transcov.phylum!=\"Cyanobacteria\")]\n",
    "# Calculate sum of protein families \n",
    "mg_transcov_bac_fam = mg_transcov_bac.groupby([\"fam\",\"transporter\"]).sum().reset_index()\n",
    "# Calculate mean of transporters\n",
    "mg_trans_bac = mg_transcov_bac_fam.groupby(\"transporter\").mean()\n",
    "mg_trans_bac.to_csv(\"results/mg/bac_trans.tpm.tsv\", sep=\"\\t\")"
   ]
  },
  {
   "cell_type": "markdown",
   "metadata": {},
   "source": [
    "Metatranscriptome"
   ]
  },
  {
   "cell_type": "code",
   "execution_count": null,
   "metadata": {},
   "outputs": [],
   "source": [
    "# Get genes classified as bacteria but not cyanobacteria\n",
    "mt_transcov_bac = mt_transcov.loc[(mt_transcov.superkingdom==\"Bacteria\")&(mt_transcov.phylum!=\"Cyanobacteria\")]\n",
    "# Calculate sum of protein families \n",
    "mt_transcov_bac_fam = mt_transcov_bac.groupby([\"fam\",\"transporter\"]).sum().reset_index()\n",
    "# Calculate mean of transporters\n",
    "mt_trans_bac = mt_transcov_bac_fam.groupby(\"transporter\").mean()\n",
    "mt_trans_bac.to_csv(\"results/mt/bac_trans.tpm.tsv\", sep=\"\\t\")"
   ]
  },
  {
   "cell_type": "markdown",
   "metadata": {},
   "source": [
    "## Selected transporters"
   ]
  },
  {
   "cell_type": "markdown",
   "metadata": {},
   "source": [
    "A subset of 58 transporters were selected for this study, based on abundances in the dataset (>=0.5% max in at least one sample) and their putative substrates. They were classified manually using TIGRFAM roles and Gene Ontology mappings. \n",
    "\n",
    "The curated table is at the [GitHub repository](https://github.com/johnne/transporters/blob/master/article/selected_transporters_classified.tab)"
   ]
  },
  {
   "cell_type": "code",
   "execution_count": null,
   "metadata": {},
   "outputs": [],
   "source": [
    "transinfo = pd.read_csv(\"https://raw.githubusercontent.com/johnne/transporters/master/article/selected_transporters_classified.tab\", index_col=0, sep=\"\\t\")\n",
    "transinfo.head()"
   ]
  },
  {
   "cell_type": "markdown",
   "metadata": {},
   "source": [
    "Limit the transporter definitions to the selected transporters."
   ]
  },
  {
   "cell_type": "code",
   "execution_count": null,
   "metadata": {},
   "outputs": [],
   "source": [
    "transdef_select = transdef.loc[transdef.transporter.isin(transinfo.index)]\n",
    "print(\"{} transporters remaining, comprising {} TIGRFAMS\".format(len(transdef_select.transporter.unique()), len(transdef_select.fam.unique())))"
   ]
  },
  {
   "cell_type": "markdown",
   "metadata": {},
   "source": [
    "Add substrate categories to the dataframes."
   ]
  },
  {
   "cell_type": "code",
   "execution_count": null,
   "metadata": {},
   "outputs": [],
   "source": [
    "mg_trans_select = pd.merge(transinfo.loc[transdef_select.transporter.unique()],mg_trans,left_index=True,right_index=True)\n",
    "mg_trans_select.head()"
   ]
  },
  {
   "cell_type": "code",
   "execution_count": null,
   "metadata": {},
   "outputs": [],
   "source": [
    "# Mean abundances of transporters for selected transporters\n",
    "mg_trans_select = pd.merge(transinfo.loc[transdef_select.transporter.unique()],mg_trans,left_index=True,right_index=True)\n",
    "mg_trans_select.to_csv(\"results/mg/select_trans.tpm.tsv\", sep=\"\\t\")\n",
    "# Mean abundances of transporters for bacteria and selected transporters\n",
    "mg_trans_bac_select = pd.merge(transinfo.loc[transdef_select.transporter.unique()],mg_trans_bac,left_index=True,right_index=True)\n",
    "mg_trans_select.to_csv(\"results/mg/bac_select_trans.tpm.tsv\", sep=\"\\t\")\n",
    "# TPM values per gene for genes matching selected transporters\n",
    "mg_transcov_select = pd.merge(transinfo.loc[transdef_select.transporter.unique()],mg_transcov,left_index=True,right_on=\"transporter\")\n",
    "mg_transcov_select.to_csv(\"results/mg/select_trans_genes.tpm.tsv\", sep=\"\\t\")\n",
    "# TPM values per gene for bacterial genes matching selected transporters\n",
    "mg_transcov_bac_select = pd.merge(transinfo.loc[transdef_select.transporter.unique()],mg_transcov_bac,left_index=True,right_on=\"transporter\")\n",
    "mg_transcov_bac_select.to_csv(\"results/mg/bac_select_trans_genes.tpm.tsv\", sep=\"\\t\")"
   ]
  },
  {
   "cell_type": "markdown",
   "metadata": {},
   "source": [
    "Metatranscriptomes"
   ]
  },
  {
   "cell_type": "code",
   "execution_count": null,
   "metadata": {},
   "outputs": [],
   "source": [
    "# Mean abundances of transporters for selected transporters\n",
    "mt_trans_select = pd.merge(transinfo.loc[transdef_select.transporter.unique()],mt_trans,left_index=True,right_index=True)\n",
    "mt_trans_select.to_csv(\"results/mt/select_trans.tpm.tsv\", sep=\"\\t\")\n",
    "# Mean abundances of transporters for bacteria and selected transporters\n",
    "mt_trans_bac_select = pd.merge(transinfo.loc[transdef_select.transporter.unique()],mt_trans_bac,left_index=True,right_index=True)\n",
    "mt_trans_select.to_csv(\"results/mt/bac_select_trans.tpm.tsv\", sep=\"\\t\")\n",
    "# TPM values per gene for genes matching selected transporters\n",
    "mt_transcov_select = pd.merge(transinfo.loc[transdef_select.transporter.unique()],mt_transcov,left_index=True,right_on=\"transporter\")\n",
    "mt_transcov_select.to_csv(\"results/mt/select_trans_genes.tpm.tsv\", sep=\"\\t\")\n",
    "# TPM values per gene for bacterial genes matching selected transporters\n",
    "mt_transcov_bac_select = pd.merge(transinfo.loc[transdef_select.transporter.unique()],mt_transcov_bac,left_index=True,right_on=\"transporter\")\n",
    "mt_transcov_bac_select.to_csv(\"results/mt/bac_select_trans_genes.tpm.tsv\", sep=\"\\t\")"
   ]
  },
  {
   "cell_type": "markdown",
   "metadata": {},
   "source": [
    "#### Transporter type and substrate summary"
   ]
  },
  {
   "cell_type": "markdown",
   "metadata": {},
   "source": [
    "Generate count summary across transporter type and substrate category."
   ]
  },
  {
   "cell_type": "code",
   "execution_count": null,
   "metadata": {},
   "outputs": [],
   "source": [
    "# Group by and count type and substrate category\n",
    "type_counts = transinfo.groupby([\"type\",\"substrate_category\"]).count().reset_index().iloc[:,[0,1,2]]\n",
    "SUM = transinfo.groupby(\"type\").count().iloc[:,0]\n",
    "SUM"
   ]
  },
  {
   "cell_type": "code",
   "execution_count": null,
   "metadata": {},
   "outputs": [],
   "source": [
    "# Group by and count type and substrate category\n",
    "type_counts = transinfo.groupby([\"type\",\"substrate_category\"]).count().reset_index().iloc[:,[0,1,2]]\n",
    "# Calculate total type sum\n",
    "SUM = transinfo.groupby(\"type\").count().iloc[:,0]\n",
    "# Calculate total substrate category sum\n",
    "colsum = transinfo.groupby(\"substrate_category\").count().iloc[:,0]\n",
    "colsum.name = \"SUM\"\n",
    "colsum = pd.DataFrame(colsum).T\n",
    "colsum = colsum.assign(SUM=SUM.sum())\n",
    "# Pivot count table\n",
    "type_counts.columns = [\"type\",\"substrate_category\",\"counts\"]\n",
    "type_counts = pd.pivot_table(type_counts, index=[\"type\"], columns=[\"substrate_category\"])\n",
    "type_counts.fillna(\"0\", inplace=True)\n",
    "type_counts = type_counts[\"counts\"]\n",
    "# Add row sums\n",
    "type_counts = type_counts.assign(SUM=SUM)\n",
    "# Add col sums\n",
    "type_counts = pd.concat([type_counts,colsum])\n",
    "# Convert to integer\n",
    "type_counts = type_counts.astype(int)\n",
    "type_counts.to_csv(\"results/transporter_type_table.tsv\", sep=\"\\t\")\n",
    "type_counts"
   ]
  },
  {
   "cell_type": "markdown",
   "metadata": {},
   "source": [
    "Show fraction of the different transporter types."
   ]
  },
  {
   "cell_type": "code",
   "execution_count": null,
   "metadata": {},
   "outputs": [],
   "source": [
    "type_sums = type_counts.sum(axis=1).drop(\"SUM\")\n",
    "round(type_sums.div(type_sums.sum()),2)"
   ]
  }
 ],
 "metadata": {
  "kernelspec": {
   "display_name": "Python 3",
   "language": "python",
   "name": "python3"
  },
  "language_info": {
   "codemirror_mode": {
    "name": "ipython",
    "version": 3
   },
   "file_extension": ".py",
   "mimetype": "text/x-python",
   "name": "python",
   "nbconvert_exporter": "python",
   "pygments_lexer": "ipython3",
   "version": "3.6.7"
  }
 },
 "nbformat": 4,
 "nbformat_minor": 2
}
