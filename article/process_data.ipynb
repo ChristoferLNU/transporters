{
 "cells": [
  {
   "cell_type": "markdown",
   "metadata": {},
   "source": [
    "# Processing the transporter data"
   ]
  },
  {
   "cell_type": "code",
   "execution_count": 1,
   "metadata": {},
   "outputs": [],
   "source": [
    "import pandas as pd, os, numpy as np"
   ]
  },
  {
   "cell_type": "code",
   "execution_count": 2,
   "metadata": {},
   "outputs": [],
   "source": [
    "def filter_low_abundance(df, f=0.5):\n",
    "    df_sum = df.groupby(level=0).sum()\n",
    "    df_sum.drop(\"SUM\",inplace=True,errors=\"ignore\")\n",
    "    n = df_sum.div(df_sum.sum())*100\n",
    "    n = n.loc[n.max(axis=1)>=f]\n",
    "    return df.loc[list(n.index)+[\"SUM\"]]"
   ]
  },
  {
   "cell_type": "code",
   "execution_count": 3,
   "metadata": {},
   "outputs": [],
   "source": [
    "def normalize(df):\n",
    "    n = df.groupby(level=0).sum()\n",
    "    n = n.div(n.sum())*100\n",
    "    df.iloc[:,3:] = n\n",
    "    return df"
   ]
  },
  {
   "cell_type": "code",
   "execution_count": 4,
   "metadata": {},
   "outputs": [],
   "source": [
    "def tpm(df,rl=100):\n",
    "    \n",
    "    # Make gene length data frame for divisions\n",
    "    sample_fl = {}\n",
    "    for sample in df.columns[1:]:\n",
    "        sample_fl[sample] = list(df.gene_length)\n",
    "    sample_fl_df = pd.DataFrame(sample_fl,index=df.index)\n",
    "    \n",
    "    t = rl * df.loc[:,df.columns[1:]].divide(sample_fl_df)\n",
    "    T = t.sum()\n",
    "    TPM = t.multiply(1e6).divide(T)\n",
    "    \n",
    "    return TPM"
   ]
  },
  {
   "cell_type": "markdown",
   "metadata": {},
   "source": [
    "## Load the metaomic data"
   ]
  },
  {
   "cell_type": "markdown",
   "metadata": {},
   "source": [
    "### Taxonomy"
   ]
  },
  {
   "cell_type": "code",
   "execution_count": 5,
   "metadata": {},
   "outputs": [],
   "source": [
    "def make_replace_dict(series, old_string, new_string):\n",
    "    replace_dict = {}\n",
    "    for item in series.unique():\n",
    "        replace_dict[item] = item.replace(old_string, new_string)\n",
    "    return replace_dict"
   ]
  },
  {
   "cell_type": "code",
   "execution_count": 6,
   "metadata": {},
   "outputs": [],
   "source": [
    "def reformat_taxtable(tax):\n",
    "    # Fill empty entries\n",
    "    tax_reformatted = tax.fillna(\"\")\n",
    "    for i,rank in enumerate(tax_reformatted.columns):\n",
    "        # Remove trailing numbers\n",
    "        series = tax_reformatted.loc[tax_reformatted[rank].str.match(\".+_{}\".format(i))][rank]\n",
    "        trailing = len(series)\n",
    "        replace_dict = make_replace_dict(series, \"_{}\".format(i), \"\")\n",
    "        tax_reformatted.loc[tax_reformatted[rank].str.match(\".+_{}\".format(i)),rank] = series.replace(replace_dict)\n",
    "        # Remove ranks in parenthesis\n",
    "        try:\n",
    "            prev_rank = tax_reformatted.columns[i-1]\n",
    "            series = tax_reformatted.loc[tax_reformatted[rank].str.match(\".+ \\({}\\)\".format(prev_rank))][rank]\n",
    "            parentheses = len(series)\n",
    "            replace_dict = make_replace_dict(series, \" ({})\".format(prev_rank), \"\")\n",
    "            tax_reformatted.loc[tax_reformatted[rank].str.match(\".+ \\({}\\)\".format(prev_rank)),rank] = series.replace(replace_dict)\n",
    "        except IndexError:\n",
    "            pass\n",
    "        # Replace \"unclassified \" with \"Unclassified.\"\n",
    "        series = tax_reformatted.loc[tax_reformatted[rank].str.contains(\"unclassified .+\"),rank]\n",
    "        unclassifieds = len(series)\n",
    "        replace_dict = make_replace_dict(series, \"unclassified \", \"Unclassified.\")\n",
    "        tax_reformatted.loc[tax_reformatted[rank].str.contains(\"unclassified .+\"),rank] = series.replace(replace_dict)\n",
    "        # Replace empty cells with \"Unclassified.<lca>\"\n",
    "        # Handle unclassified at superkingdom rank\n",
    "        series = tax_reformatted.loc[tax_reformatted[rank]==\"\",rank]\n",
    "        lcas = len(series)\n",
    "        if i == 0:\n",
    "            tax_reformatted.loc[tax_reformatted[rank]==\"\",rank] = series.replace({\"\": \"Unclassified\"})\n",
    "        else:\n",
    "            series = tax_reformatted.loc[tax_reformatted[rank]==\"\",rank]\n",
    "            parent_series = tax_reformatted.loc[series.index, tax_reformatted.columns[i-1]]\n",
    "            replace_dict = {}\n",
    "            for item in parent_series.unique():\n",
    "                if item[0:12] == \"Unclassified\":\n",
    "                    new_string = item\n",
    "                else:\n",
    "                    new_string = \"Unclassified.{}\".format(item)\n",
    "                replace_dict[item] = new_string\n",
    "            tax_reformatted.loc[tax_reformatted[rank]==\"\",rank] = parent_series.replace(replace_dict)\n",
    "        print(\"Processed rank {}: {} trailing numbers removed, {} parentheses replaced, {} unclassifieds replaced, {} empty entries filled\".format(rank, trailing, parentheses, unclassifieds, lcas))\n",
    "    return tax_reformatted"
   ]
  },
  {
   "cell_type": "code",
   "execution_count": 7,
   "metadata": {},
   "outputs": [
    {
     "data": {
      "text/html": [
       "<div>\n",
       "<style scoped>\n",
       "    .dataframe tbody tr th:only-of-type {\n",
       "        vertical-align: middle;\n",
       "    }\n",
       "\n",
       "    .dataframe tbody tr th {\n",
       "        vertical-align: top;\n",
       "    }\n",
       "\n",
       "    .dataframe thead th {\n",
       "        text-align: right;\n",
       "    }\n",
       "</style>\n",
       "<table border=\"1\" class=\"dataframe\">\n",
       "  <thead>\n",
       "    <tr style=\"text-align: right;\">\n",
       "      <th></th>\n",
       "      <th>superkingdom</th>\n",
       "      <th>phylum</th>\n",
       "      <th>class</th>\n",
       "      <th>order</th>\n",
       "      <th>family</th>\n",
       "      <th>genus</th>\n",
       "      <th>species</th>\n",
       "    </tr>\n",
       "    <tr>\n",
       "      <th>gene_id</th>\n",
       "      <th></th>\n",
       "      <th></th>\n",
       "      <th></th>\n",
       "      <th></th>\n",
       "      <th></th>\n",
       "      <th></th>\n",
       "      <th></th>\n",
       "    </tr>\n",
       "  </thead>\n",
       "  <tbody>\n",
       "    <tr>\n",
       "      <th>k99_240438_6</th>\n",
       "      <td>Bacteria</td>\n",
       "      <td>NaN</td>\n",
       "      <td>NaN</td>\n",
       "      <td>NaN</td>\n",
       "      <td>NaN</td>\n",
       "      <td>NaN</td>\n",
       "      <td>NaN</td>\n",
       "    </tr>\n",
       "    <tr>\n",
       "      <th>k99_165505_3</th>\n",
       "      <td>Bacteria</td>\n",
       "      <td>Verrucomicrobia</td>\n",
       "      <td>NaN</td>\n",
       "      <td>NaN</td>\n",
       "      <td>NaN</td>\n",
       "      <td>NaN</td>\n",
       "      <td>NaN</td>\n",
       "    </tr>\n",
       "    <tr>\n",
       "      <th>k99_143289_2</th>\n",
       "      <td>Bacteria</td>\n",
       "      <td>NaN</td>\n",
       "      <td>NaN</td>\n",
       "      <td>NaN</td>\n",
       "      <td>NaN</td>\n",
       "      <td>NaN</td>\n",
       "      <td>NaN</td>\n",
       "    </tr>\n",
       "    <tr>\n",
       "      <th>k99_310166_6</th>\n",
       "      <td>Eukaryota</td>\n",
       "      <td>Chlorophyta</td>\n",
       "      <td>Mamiellophyceae</td>\n",
       "      <td>Mamiellales</td>\n",
       "      <td>NaN</td>\n",
       "      <td>NaN</td>\n",
       "      <td>NaN</td>\n",
       "    </tr>\n",
       "    <tr>\n",
       "      <th>k99_284995_17</th>\n",
       "      <td>Eukaryota</td>\n",
       "      <td>Chlorophyta</td>\n",
       "      <td>NaN</td>\n",
       "      <td>NaN</td>\n",
       "      <td>NaN</td>\n",
       "      <td>NaN</td>\n",
       "      <td>NaN</td>\n",
       "    </tr>\n",
       "  </tbody>\n",
       "</table>\n",
       "</div>"
      ],
      "text/plain": [
       "              superkingdom           phylum            class        order  \\\n",
       "gene_id                                                                     \n",
       "k99_240438_6      Bacteria              NaN              NaN          NaN   \n",
       "k99_165505_3      Bacteria  Verrucomicrobia              NaN          NaN   \n",
       "k99_143289_2      Bacteria              NaN              NaN          NaN   \n",
       "k99_310166_6     Eukaryota      Chlorophyta  Mamiellophyceae  Mamiellales   \n",
       "k99_284995_17    Eukaryota      Chlorophyta              NaN          NaN   \n",
       "\n",
       "              family genus species  \n",
       "gene_id                             \n",
       "k99_240438_6     NaN   NaN     NaN  \n",
       "k99_165505_3     NaN   NaN     NaN  \n",
       "k99_143289_2     NaN   NaN     NaN  \n",
       "k99_310166_6     NaN   NaN     NaN  \n",
       "k99_284995_17    NaN   NaN     NaN  "
      ]
     },
     "execution_count": 7,
     "metadata": {},
     "output_type": "execute_result"
    }
   ],
   "source": [
    "tax = pd.read_table(\"data/barm_files/annotations/taxonomy_per_gene.tsv.gz\", header=0, index_col=0)\n",
    "tax.head()"
   ]
  },
  {
   "cell_type": "markdown",
   "metadata": {},
   "source": [
    "Edit the taxonomic data to:\n",
    "\n",
    "1. Remove trailing '_n' tags\n",
    "2. Remove '(class)' tags for e.g. Actinobacteria\n",
    "3. Add 'Unclassified.<taxname>' to lower unclassified ranks"
   ]
  },
  {
   "cell_type": "code",
   "execution_count": 8,
   "metadata": {},
   "outputs": [],
   "source": [
    "if os.path.exists(\"data/barm_files/annotations/taxonomy_per_gene_reformat.tsv.gz\"):\n",
    "    tax_reformatted = pd.read_table(\"data/barm_files/annotations/taxonomy_per_gene_reformat.tsv.gz\", index_col=0)\n",
    "else:\n",
    "    tax_reformatted = reformat_taxtable(tax)\n",
    "    tax_reformatted.to_csv(\"data/barm_files/annotations/taxonomy_per_gene_reformat.tsv.gz\", sep=\"\\t\", compression='gzip')"
   ]
  },
  {
   "cell_type": "markdown",
   "metadata": {},
   "source": [
    "### TIGRFAM annotations"
   ]
  },
  {
   "cell_type": "code",
   "execution_count": 9,
   "metadata": {},
   "outputs": [
    {
     "data": {
      "text/html": [
       "<div>\n",
       "<style scoped>\n",
       "    .dataframe tbody tr th:only-of-type {\n",
       "        vertical-align: middle;\n",
       "    }\n",
       "\n",
       "    .dataframe tbody tr th {\n",
       "        vertical-align: top;\n",
       "    }\n",
       "\n",
       "    .dataframe thead th {\n",
       "        text-align: right;\n",
       "    }\n",
       "</style>\n",
       "<table border=\"1\" class=\"dataframe\">\n",
       "  <thead>\n",
       "    <tr style=\"text-align: right;\">\n",
       "      <th></th>\n",
       "      <th>gene_id</th>\n",
       "      <th>fam</th>\n",
       "    </tr>\n",
       "  </thead>\n",
       "  <tbody>\n",
       "    <tr>\n",
       "      <th>0</th>\n",
       "      <td>k99_10000020_1</td>\n",
       "      <td>TIGR00214</td>\n",
       "    </tr>\n",
       "    <tr>\n",
       "      <th>1</th>\n",
       "      <td>k99_10000020_2</td>\n",
       "      <td>TIGR00510</td>\n",
       "    </tr>\n",
       "    <tr>\n",
       "      <th>2</th>\n",
       "      <td>k99_10000077_5</td>\n",
       "      <td>TIGR01473</td>\n",
       "    </tr>\n",
       "    <tr>\n",
       "      <th>3</th>\n",
       "      <td>k99_1000008_1</td>\n",
       "      <td>TIGR00200</td>\n",
       "    </tr>\n",
       "    <tr>\n",
       "      <th>4</th>\n",
       "      <td>k99_10000154_2</td>\n",
       "      <td>TIGR00049</td>\n",
       "    </tr>\n",
       "    <tr>\n",
       "      <th>5</th>\n",
       "      <td>k99_10000155_3</td>\n",
       "      <td>TIGR01904</td>\n",
       "    </tr>\n",
       "    <tr>\n",
       "      <th>6</th>\n",
       "      <td>k99_1000015_1</td>\n",
       "      <td>TIGR01941</td>\n",
       "    </tr>\n",
       "    <tr>\n",
       "      <th>7</th>\n",
       "      <td>k99_10000270_10</td>\n",
       "      <td>TIGR01063</td>\n",
       "    </tr>\n",
       "    <tr>\n",
       "      <th>8</th>\n",
       "      <td>k99_10000270_12</td>\n",
       "      <td>TIGR00181</td>\n",
       "    </tr>\n",
       "    <tr>\n",
       "      <th>9</th>\n",
       "      <td>k99_10000270_15</td>\n",
       "      <td>TIGR00696</td>\n",
       "    </tr>\n",
       "  </tbody>\n",
       "</table>\n",
       "</div>"
      ],
      "text/plain": [
       "           gene_id        fam\n",
       "0   k99_10000020_1  TIGR00214\n",
       "1   k99_10000020_2  TIGR00510\n",
       "2   k99_10000077_5  TIGR01473\n",
       "3    k99_1000008_1  TIGR00200\n",
       "4   k99_10000154_2  TIGR00049\n",
       "5   k99_10000155_3  TIGR01904\n",
       "6    k99_1000015_1  TIGR01941\n",
       "7  k99_10000270_10  TIGR01063\n",
       "8  k99_10000270_12  TIGR00181\n",
       "9  k99_10000270_15  TIGR00696"
      ]
     },
     "execution_count": 9,
     "metadata": {},
     "output_type": "execute_result"
    }
   ],
   "source": [
    "tigrfams = pd.read_csv(\"data/barm_files/annotations/all.TIGRFAM.standardized.tsv.gz\", usecols=[0,1],names=[\"gene_id\",\"fam\"],header=0,sep=\"\\t\")\n",
    "tigrfams.head(10)"
   ]
  },
  {
   "cell_type": "markdown",
   "metadata": {},
   "source": [
    "### Transporter info"
   ]
  },
  {
   "cell_type": "markdown",
   "metadata": {},
   "source": [
    "Specify Uniprot version to use"
   ]
  },
  {
   "cell_type": "code",
   "execution_count": 10,
   "metadata": {},
   "outputs": [],
   "source": [
    "uniprot_ver = \"2017_12\""
   ]
  },
  {
   "cell_type": "code",
   "execution_count": 11,
   "metadata": {},
   "outputs": [
    {
     "name": "stdout",
     "output_type": "stream",
     "text": [
      "1076 transporters, 1403 protein families\n"
     ]
    }
   ],
   "source": [
    "transdef = pd.read_csv(\"https://raw.githubusercontent.com/johnne/transporters/master/results/transport-clusters.{}.tab\".format(uniprot_ver), \n",
    "                       header=None, sep=\"\\t\", names=[\"transporter\",\"fam\"])\n",
    "print(\"{} transporters, {} protein families\".format(len(transdef.transporter.unique()), len(transdef.fam)))"
   ]
  },
  {
   "cell_type": "markdown",
   "metadata": {},
   "source": [
    "Limit to TIGRFAM definitions."
   ]
  },
  {
   "cell_type": "code",
   "execution_count": 12,
   "metadata": {},
   "outputs": [
    {
     "name": "stdout",
     "output_type": "stream",
     "text": [
      "406 remaining transporters, 458 TIGRFAMs\n"
     ]
    }
   ],
   "source": [
    "transdef = transdef.loc[transdef.fam.str.contains(\"TIGR\")]\n",
    "print(\"{} remaining transporters, {} TIGRFAMs\".format(len(transdef.transporter.unique()), len(transdef.fam)))"
   ]
  },
  {
   "cell_type": "markdown",
   "metadata": {},
   "source": [
    "## Merge transporter definitions with annotations and abundance"
   ]
  },
  {
   "cell_type": "markdown",
   "metadata": {},
   "source": [
    "### Merge annotations"
   ]
  },
  {
   "cell_type": "markdown",
   "metadata": {},
   "source": [
    "Merge gene TIGRFAM annotations with transporter definitions."
   ]
  },
  {
   "cell_type": "code",
   "execution_count": 13,
   "metadata": {},
   "outputs": [
    {
     "name": "stdout",
     "output_type": "stream",
     "text": [
      " 66029 open reading frames, 275 transporters, 314 TIGRFAMs\n"
     ]
    }
   ],
   "source": [
    "gene_trans = pd.merge(tigrfams,transdef, left_on=\"fam\",right_on=\"fam\")\n",
    "print(\" {} open reading frames, {} transporters, {} TIGRFAMs\".format(len(gene_trans.gene_id.unique()), len(gene_trans.transporter.unique()), len(gene_trans.fam.unique())))"
   ]
  },
  {
   "cell_type": "code",
   "execution_count": 14,
   "metadata": {},
   "outputs": [
    {
     "data": {
      "text/html": [
       "<div>\n",
       "<style scoped>\n",
       "    .dataframe tbody tr th:only-of-type {\n",
       "        vertical-align: middle;\n",
       "    }\n",
       "\n",
       "    .dataframe tbody tr th {\n",
       "        vertical-align: top;\n",
       "    }\n",
       "\n",
       "    .dataframe thead th {\n",
       "        text-align: right;\n",
       "    }\n",
       "</style>\n",
       "<table border=\"1\" class=\"dataframe\">\n",
       "  <thead>\n",
       "    <tr style=\"text-align: right;\">\n",
       "      <th></th>\n",
       "      <th>gene_id</th>\n",
       "      <th>fam</th>\n",
       "      <th>transporter</th>\n",
       "    </tr>\n",
       "  </thead>\n",
       "  <tbody>\n",
       "    <tr>\n",
       "      <th>48302</th>\n",
       "      <td>k99_12626604_11</td>\n",
       "      <td>TIGR01711</td>\n",
       "      <td>T110</td>\n",
       "    </tr>\n",
       "    <tr>\n",
       "      <th>41850</th>\n",
       "      <td>k99_34784859_2</td>\n",
       "      <td>TIGR01098</td>\n",
       "      <td>T1013</td>\n",
       "    </tr>\n",
       "    <tr>\n",
       "      <th>44607</th>\n",
       "      <td>k99_18000771_1</td>\n",
       "      <td>TIGR02123</td>\n",
       "      <td>T388</td>\n",
       "    </tr>\n",
       "    <tr>\n",
       "      <th>14264</th>\n",
       "      <td>k99_37524113_1</td>\n",
       "      <td>TIGR04183</td>\n",
       "      <td>T328</td>\n",
       "    </tr>\n",
       "    <tr>\n",
       "      <th>21000</th>\n",
       "      <td>k99_41728379_2</td>\n",
       "      <td>TIGR00813</td>\n",
       "      <td>T7</td>\n",
       "    </tr>\n",
       "    <tr>\n",
       "      <th>27785</th>\n",
       "      <td>k99_5387714_10</td>\n",
       "      <td>TIGR03648</td>\n",
       "      <td>T1045</td>\n",
       "    </tr>\n",
       "    <tr>\n",
       "      <th>26622</th>\n",
       "      <td>k99_10658364_1</td>\n",
       "      <td>TIGR01129</td>\n",
       "      <td>T17</td>\n",
       "    </tr>\n",
       "    <tr>\n",
       "      <th>60805</th>\n",
       "      <td>k99_21703901_2</td>\n",
       "      <td>TIGR01844</td>\n",
       "      <td>T764</td>\n",
       "    </tr>\n",
       "    <tr>\n",
       "      <th>30848</th>\n",
       "      <td>k99_32423948_1</td>\n",
       "      <td>TIGR01352</td>\n",
       "      <td>T59</td>\n",
       "    </tr>\n",
       "    <tr>\n",
       "      <th>47998</th>\n",
       "      <td>k99_681432_1</td>\n",
       "      <td>TIGR01191</td>\n",
       "      <td>T13</td>\n",
       "    </tr>\n",
       "  </tbody>\n",
       "</table>\n",
       "</div>"
      ],
      "text/plain": [
       "               gene_id        fam transporter\n",
       "48302  k99_12626604_11  TIGR01711        T110\n",
       "41850   k99_34784859_2  TIGR01098       T1013\n",
       "44607   k99_18000771_1  TIGR02123        T388\n",
       "14264   k99_37524113_1  TIGR04183        T328\n",
       "21000   k99_41728379_2  TIGR00813          T7\n",
       "27785   k99_5387714_10  TIGR03648       T1045\n",
       "26622   k99_10658364_1  TIGR01129         T17\n",
       "60805   k99_21703901_2  TIGR01844        T764\n",
       "30848   k99_32423948_1  TIGR01352         T59\n",
       "47998     k99_681432_1  TIGR01191         T13"
      ]
     },
     "execution_count": 14,
     "metadata": {},
     "output_type": "execute_result"
    }
   ],
   "source": [
    "gene_trans.sample(10)"
   ]
  },
  {
   "cell_type": "markdown",
   "metadata": {},
   "source": [
    "Add taxonomy."
   ]
  },
  {
   "cell_type": "code",
   "execution_count": 15,
   "metadata": {},
   "outputs": [
    {
     "data": {
      "text/html": [
       "<div>\n",
       "<style scoped>\n",
       "    .dataframe tbody tr th:only-of-type {\n",
       "        vertical-align: middle;\n",
       "    }\n",
       "\n",
       "    .dataframe tbody tr th {\n",
       "        vertical-align: top;\n",
       "    }\n",
       "\n",
       "    .dataframe thead th {\n",
       "        text-align: right;\n",
       "    }\n",
       "</style>\n",
       "<table border=\"1\" class=\"dataframe\">\n",
       "  <thead>\n",
       "    <tr style=\"text-align: right;\">\n",
       "      <th></th>\n",
       "      <th>gene_id</th>\n",
       "      <th>fam</th>\n",
       "      <th>transporter</th>\n",
       "      <th>superkingdom</th>\n",
       "      <th>phylum</th>\n",
       "      <th>class</th>\n",
       "      <th>order</th>\n",
       "      <th>family</th>\n",
       "      <th>genus</th>\n",
       "      <th>species</th>\n",
       "    </tr>\n",
       "  </thead>\n",
       "  <tbody>\n",
       "    <tr>\n",
       "      <th>0</th>\n",
       "      <td>k99_10000306_14</td>\n",
       "      <td>TIGR00797</td>\n",
       "      <td>T85</td>\n",
       "      <td>Bacteria</td>\n",
       "      <td>Actinobacteria</td>\n",
       "      <td>Unclassified.Actinobacteria</td>\n",
       "      <td>Unclassified.Actinobacteria</td>\n",
       "      <td>Unclassified.Actinobacteria</td>\n",
       "      <td>Unclassified.Actinobacteria</td>\n",
       "      <td>Unclassified.Actinobacteria</td>\n",
       "    </tr>\n",
       "    <tr>\n",
       "      <th>1</th>\n",
       "      <td>k99_10027128_5</td>\n",
       "      <td>TIGR00797</td>\n",
       "      <td>T85</td>\n",
       "      <td>Bacteria</td>\n",
       "      <td>Unclassified.Bacteria</td>\n",
       "      <td>Unclassified.Bacteria</td>\n",
       "      <td>Unclassified.Bacteria</td>\n",
       "      <td>Unclassified.Bacteria</td>\n",
       "      <td>Unclassified.Bacteria</td>\n",
       "      <td>Unclassified.Bacteria</td>\n",
       "    </tr>\n",
       "    <tr>\n",
       "      <th>2</th>\n",
       "      <td>k99_1008623_2</td>\n",
       "      <td>TIGR00797</td>\n",
       "      <td>T85</td>\n",
       "      <td>Bacteria</td>\n",
       "      <td>Bacteroidetes</td>\n",
       "      <td>Unclassified.Bacteroidetes</td>\n",
       "      <td>Unclassified.Bacteroidetes</td>\n",
       "      <td>Unclassified.Bacteroidetes</td>\n",
       "      <td>Unclassified.Bacteroidetes</td>\n",
       "      <td>Unclassified.Bacteroidetes</td>\n",
       "    </tr>\n",
       "    <tr>\n",
       "      <th>3</th>\n",
       "      <td>k99_10095352_6</td>\n",
       "      <td>TIGR00797</td>\n",
       "      <td>T85</td>\n",
       "      <td>Bacteria</td>\n",
       "      <td>Proteobacteria</td>\n",
       "      <td>Unclassified.Proteobacteria</td>\n",
       "      <td>Unclassified.Proteobacteria</td>\n",
       "      <td>Unclassified.Proteobacteria</td>\n",
       "      <td>Unclassified.Proteobacteria</td>\n",
       "      <td>Unclassified.Proteobacteria</td>\n",
       "    </tr>\n",
       "    <tr>\n",
       "      <th>4</th>\n",
       "      <td>k99_10130254_3</td>\n",
       "      <td>TIGR00797</td>\n",
       "      <td>T85</td>\n",
       "      <td>Eukaryota</td>\n",
       "      <td>Unclassified.Eukaryota</td>\n",
       "      <td>Unclassified.Eukaryota</td>\n",
       "      <td>Unclassified.Eukaryota</td>\n",
       "      <td>Unclassified.Eukaryota</td>\n",
       "      <td>Unclassified.Eukaryota</td>\n",
       "      <td>Unclassified.Eukaryota</td>\n",
       "    </tr>\n",
       "  </tbody>\n",
       "</table>\n",
       "</div>"
      ],
      "text/plain": [
       "           gene_id        fam transporter superkingdom  \\\n",
       "0  k99_10000306_14  TIGR00797         T85     Bacteria   \n",
       "1   k99_10027128_5  TIGR00797         T85     Bacteria   \n",
       "2    k99_1008623_2  TIGR00797         T85     Bacteria   \n",
       "3   k99_10095352_6  TIGR00797         T85     Bacteria   \n",
       "4   k99_10130254_3  TIGR00797         T85    Eukaryota   \n",
       "\n",
       "                   phylum                        class  \\\n",
       "0          Actinobacteria  Unclassified.Actinobacteria   \n",
       "1   Unclassified.Bacteria        Unclassified.Bacteria   \n",
       "2           Bacteroidetes   Unclassified.Bacteroidetes   \n",
       "3          Proteobacteria  Unclassified.Proteobacteria   \n",
       "4  Unclassified.Eukaryota       Unclassified.Eukaryota   \n",
       "\n",
       "                         order                       family  \\\n",
       "0  Unclassified.Actinobacteria  Unclassified.Actinobacteria   \n",
       "1        Unclassified.Bacteria        Unclassified.Bacteria   \n",
       "2   Unclassified.Bacteroidetes   Unclassified.Bacteroidetes   \n",
       "3  Unclassified.Proteobacteria  Unclassified.Proteobacteria   \n",
       "4       Unclassified.Eukaryota       Unclassified.Eukaryota   \n",
       "\n",
       "                         genus                      species  \n",
       "0  Unclassified.Actinobacteria  Unclassified.Actinobacteria  \n",
       "1        Unclassified.Bacteria        Unclassified.Bacteria  \n",
       "2   Unclassified.Bacteroidetes   Unclassified.Bacteroidetes  \n",
       "3  Unclassified.Proteobacteria  Unclassified.Proteobacteria  \n",
       "4       Unclassified.Eukaryota       Unclassified.Eukaryota  "
      ]
     },
     "execution_count": 15,
     "metadata": {},
     "output_type": "execute_result"
    }
   ],
   "source": [
    "gene_trans_tax = pd.merge(gene_trans,tax_reformatted,left_on=\"gene_id\",right_index=True)\n",
    "gene_trans_tax.head()"
   ]
  },
  {
   "cell_type": "code",
   "execution_count": 16,
   "metadata": {},
   "outputs": [],
   "source": [
    "gene_trans_tax.set_index(\"gene_id\", inplace=True)"
   ]
  },
  {
   "cell_type": "markdown",
   "metadata": {},
   "source": [
    "### Merge abundances"
   ]
  },
  {
   "cell_type": "markdown",
   "metadata": {},
   "source": [
    "#### Metagenomes"
   ]
  },
  {
   "cell_type": "markdown",
   "metadata": {},
   "source": [
    "The metagenomic time-series has some dubious samples that may have been mis-labeled."
   ]
  },
  {
   "cell_type": "code",
   "execution_count": 17,
   "metadata": {},
   "outputs": [],
   "source": [
    "dubious = [\"120507\",\"120521\",\"120910\",\"121123\"]"
   ]
  },
  {
   "cell_type": "markdown",
   "metadata": {},
   "source": [
    "Read abundance tables for metagenomic samples"
   ]
  },
  {
   "cell_type": "code",
   "execution_count": 18,
   "metadata": {},
   "outputs": [],
   "source": [
    "mg_cov = pd.read_table(\"data/mg/all_genes.tpm.tsv.gz\", index_col=0)\n",
    "mg_raw = pd.read_table(\"data/mg/all_genes.raw_counts.tsv.gz\", index_col=0)\n",
    "\n",
    "# Drop gene length column and dubious samples\n",
    "mg_cov.drop(\"gene_length\",axis=1,inplace=True,errors=\"ignore\")\n",
    "mg_cov.drop(dubious,inplace=True,axis=1,errors=\"ignore\")\n",
    "\n",
    "mg_raw.drop(\"gene_length\",axis=1,inplace=True,errors=\"ignore\")\n",
    "mg_raw.drop(dubious,inplace=True,axis=1,errors=\"ignore\")"
   ]
  },
  {
   "cell_type": "markdown",
   "metadata": {},
   "source": [
    "Merge with taxonomic annotations for all genes"
   ]
  },
  {
   "cell_type": "code",
   "execution_count": 19,
   "metadata": {},
   "outputs": [],
   "source": [
    "mg_taxcov = pd.merge(tax_reformatted,mg_cov,left_index=True,right_index=True)\n",
    "mg_taxraw = pd.merge(tax_reformatted,mg_raw,left_index=True,right_index=True)\n",
    "if not os.path.exists(\"data/mg/all_genes.tpm.taxonomy.tsv.gz\"):\n",
    "    mg_taxcov.to_csv(\"data/mg/all_genes.tpm.taxonomy.tsv.gz\", sep=\"\\t\", compression=\"gzip\")\n",
    "if not os.path.exists(\"data/mg/all_genes.raw_counts.taxonomy.tsv.gz\"):\n",
    "    mg_taxraw.to_csv(\"data/mg/all_genes.raw_counts.taxonomy.tsv.gz\", sep=\"\\t\", compression=\"gzip\")"
   ]
  },
  {
   "cell_type": "markdown",
   "metadata": {},
   "source": [
    "Merge with transporters/taxonomy table."
   ]
  },
  {
   "cell_type": "code",
   "execution_count": 20,
   "metadata": {},
   "outputs": [],
   "source": [
    "mg_transcov = pd.merge(gene_trans_tax, mg_cov, left_index=True, right_index=True)\n",
    "mg_transraw = pd.merge(gene_trans_tax, mg_raw, left_index=True, right_index=True)\n",
    "if not os.path.exists(\"results/mg/all_transporters.tpm.taxonomy.tsv.gz\"):\n",
    "    mg_transcov.to_csv(\"results/mg/all_transporters.tpm.taxonomy.tsv.gz\", sep=\"\\t\", compression=\"gzip\")\n",
    "if not os.path.exists(\"results/mg/all_transporters.raw_counts.taxonomy.tsv.gz\"):\n",
    "    mg_transraw.to_csv(\"results/mg/all_transporters.raw_counts.taxonomy.tsv.gz\", sep=\"\\t\", compression=\"gzip\")"
   ]
  },
  {
   "cell_type": "markdown",
   "metadata": {},
   "source": [
    "Store total raw counts per sample."
   ]
  },
  {
   "cell_type": "code",
   "execution_count": 21,
   "metadata": {},
   "outputs": [],
   "source": [
    "mg_raw_tot = mg_raw.loc[mg_raw.index.str.match(\"^k.+\")].sum()\n",
    "mg_raw_tot = pd.DataFrame(mg_raw_tot,columns=[\"total_counts\"])\n",
    "mg_raw_tot.to_csv(\"data/mg/all_genes.total_counts.tsv\", sep=\"\\t\")"
   ]
  },
  {
   "cell_type": "markdown",
   "metadata": {},
   "source": [
    "#### Metatranscriptomes"
   ]
  },
  {
   "cell_type": "markdown",
   "metadata": {},
   "source": [
    "The metatranscriptomic time-series needs to have the sample_ids renamed to sample dates."
   ]
  },
  {
   "cell_type": "code",
   "execution_count": 22,
   "metadata": {},
   "outputs": [],
   "source": [
    "mt_sample_names = {\"P1456_101\":\"120516\", \"P1456_102\":\"120613\", \"P1456_103\":\"120712\", \n",
    "                   \"P1456_104\":\"120813\", \"P1456_105\":\"120927\", \"P1456_106\":\"121024\", \n",
    "                   \"P1456_107\":\"121220\", \"P1456_108\":\"130123\", \"P1456_109\":\"130226\", \n",
    "                   \"P1456_110\":\"130403\", \"P1456_111\":\"130416\", \"P1456_112\":\"130422\", \n",
    "                   \"P3764_101\":\"130507\", \"P3764_102\":\"130605\", \"P3764_103\":\"130705\", \n",
    "                   \"P3764_104\":\"130815\", \"P3764_105\":\"130905\", \"P3764_106\":\"131003\", \n",
    "                   \"P3764_112\":\"140408\", \"P3764_113\":\"140506\", \"P3764_114\":\"140604\", \n",
    "                   \"P3764_115\":\"140709\", \"P3764_116\":\"140820\", \"P3764_117\":\"140916\", \n",
    "                   \"P3764_118\":\"141013\"}"
   ]
  },
  {
   "cell_type": "code",
   "execution_count": 23,
   "metadata": {},
   "outputs": [],
   "source": [
    "mt_cov = pd.read_csv(\"data/mt/all_genes.tpm.tsv.gz\", header=0, sep=\"\\t\", index_col=0)\n",
    "mt_raw = pd.read_csv(\"data/mt/all_genes.raw_counts.tsv.gz\", header=0, sep=\"\\t\", index_col=0)"
   ]
  },
  {
   "cell_type": "code",
   "execution_count": 24,
   "metadata": {},
   "outputs": [],
   "source": [
    "mt_cov.drop(\"gene_length\",axis=1,inplace=True,errors=\"ignore\")\n",
    "mt_cov.rename(columns=mt_sample_names,inplace=True)\n",
    "mt_raw.drop(\"gene_length\",axis=1,inplace=True,errors=\"ignore\")\n",
    "mt_raw.rename(columns=mt_sample_names,inplace=True)"
   ]
  },
  {
   "cell_type": "markdown",
   "metadata": {},
   "source": [
    "Merge with taxonomic annotations for all genes"
   ]
  },
  {
   "cell_type": "code",
   "execution_count": 25,
   "metadata": {},
   "outputs": [],
   "source": [
    "mt_taxcov = pd.merge(tax_reformatted,mt_cov,left_index=True,right_index=True)\n",
    "mt_taxraw = pd.merge(tax_reformatted,mt_raw,left_index=True,right_index=True)\n",
    "if not os.path.exists(\"data/mt/all_genes.tpm.taxonomy.tsv.gz\"):\n",
    "    mt_taxcov.to_csv(\"data/mt/all_genes.tpm.taxonomy.tsv.gz\", sep=\"\\t\", compression=\"gzip\")\n",
    "if not os.path.exists(\"data/mt/all_genes.raw_counts.taxonomy.tsv.gz\"):\n",
    "    mt_taxraw.to_csv(\"data/mt/all_genes.raw_counts.taxonomy.tsv.gz\", sep=\"\\t\", compression=\"gzip\")"
   ]
  },
  {
   "cell_type": "markdown",
   "metadata": {},
   "source": [
    "Merge with transporters/taxonomy table."
   ]
  },
  {
   "cell_type": "code",
   "execution_count": 26,
   "metadata": {},
   "outputs": [],
   "source": [
    "mt_transcov = pd.merge(gene_trans_tax, mt_cov, left_index=True, right_index=True)\n",
    "mt_transraw = pd.merge(gene_trans_tax, mt_raw, left_index=True, right_index=True)\n",
    "if not os.path.exists(\"results/mt/all_transporters.tpm.taxonomy.tsv.gz\"):\n",
    "    mt_transcov.to_csv(\"results/mt/all_transporters.tpm.taxonomy.tsv.gz\", sep=\"\\t\", compression=\"gzip\")\n",
    "if not os.path.exists(\"results/mt/all_transporters.raw_counts.taxonomy.tsv.gz\"):\n",
    "    mt_transraw.to_csv(\"results/mt/all_transporters.raw_counts.taxonomy.tsv.gz\", sep=\"\\t\", compression=\"gzip\")"
   ]
  },
  {
   "cell_type": "markdown",
   "metadata": {},
   "source": [
    "Store total raw counts per sample."
   ]
  },
  {
   "cell_type": "code",
   "execution_count": 27,
   "metadata": {},
   "outputs": [],
   "source": [
    "mt_raw_tot = mt_raw.loc[mt_raw.index.str.match(\"^k.+\")].sum()\n",
    "mt_raw_tot = pd.DataFrame(mt_raw_tot,columns=[\"total_counts\"])\n",
    "mt_raw_tot.to_csv(\"data/mt/all_genes.total_counts.tsv\", sep=\"\\t\")"
   ]
  },
  {
   "cell_type": "markdown",
   "metadata": {},
   "source": [
    "## Calculate total transporter abundance"
   ]
  },
  {
   "cell_type": "markdown",
   "metadata": {},
   "source": [
    "Transporter abundances are calculated using the normalized TPM values. However, the DeSeq2 package requires raw counts so for that purpose the summed raw counts are calculated for 1 representative protein family per transporter cluster."
   ]
  },
  {
   "cell_type": "code",
   "execution_count": 28,
   "metadata": {},
   "outputs": [],
   "source": [
    "def get_representatives(df):\n",
    "    '''Finds representative families for each transporter based on highest mean'''\n",
    "    df_mean = df.groupby([\"fam\",\"transporter\"]).sum().mean(axis=1).reset_index()\n",
    "    df_mean.sort_values(0,ascending=False,inplace=True)\n",
    "    df_mean.index = list(range(0,len(df_mean)))\n",
    "    reps = {}\n",
    "    for i in df_mean.index:\n",
    "        fam = df_mean.loc[i,\"fam\"]\n",
    "        t = df_mean.loc[i,\"transporter\"]\n",
    "        if t in reps.keys():\n",
    "            continue\n",
    "        reps[t] = fam\n",
    "    return reps"
   ]
  },
  {
   "cell_type": "markdown",
   "metadata": {},
   "source": [
    "Sum to protein family."
   ]
  },
  {
   "cell_type": "code",
   "execution_count": 29,
   "metadata": {},
   "outputs": [],
   "source": [
    "mg_fam_sum = mg_transcov.groupby([\"fam\",\"transporter\"]).sum().reset_index()\n",
    "# Get representative families for each transporter cluster (for use with DSeq2)\n",
    "mg_reps = get_representatives(mg_fam_sum)\n",
    "mg_reps = pd.DataFrame(data=mg_reps,index=[\"fam\"]).T"
   ]
  },
  {
   "cell_type": "code",
   "execution_count": 30,
   "metadata": {},
   "outputs": [],
   "source": [
    "mt_fam_sum = mt_transcov.groupby([\"fam\",\"transporter\"]).sum().reset_index()\n",
    "# Get representative families for each transporter cluster (for use with DSeq2)\n",
    "mt_reps = get_representatives(mt_fam_sum)\n",
    "mt_reps = pd.DataFrame(data=mt_reps,index=[\"fam\"]).T"
   ]
  },
  {
   "cell_type": "markdown",
   "metadata": {},
   "source": [
    "Group by transporter and calculate means."
   ]
  },
  {
   "cell_type": "code",
   "execution_count": 31,
   "metadata": {},
   "outputs": [],
   "source": [
    "mg_trans = mg_fam_sum.groupby(\"transporter\").mean()\n",
    "mg_trans_percent = mg_trans.div(mg_trans.sum())*100\n",
    "mg_trans.to_csv(\"results/mg/all_trans.tpm.tsv\", sep=\"\\t\")\n",
    "mg_trans_percent.to_csv(\"results/mg/all_trans.tpm.percent.tsv\", sep=\"\\t\")"
   ]
  },
  {
   "cell_type": "code",
   "execution_count": 32,
   "metadata": {},
   "outputs": [],
   "source": [
    "mt_trans = mt_fam_sum.groupby(\"transporter\").mean()\n",
    "mt_trans_percent = mt_trans.div(mt_trans.sum())*100\n",
    "mt_trans.to_csv(\"results/mt/all_trans.tpm.tsv\", sep=\"\\t\")\n",
    "mt_trans_percent.to_csv(\"results/mt/all_trans.tpm.percent.tsv\", sep=\"\\t\")"
   ]
  },
  {
   "cell_type": "markdown",
   "metadata": {},
   "source": [
    "Calculate transporter maximum (in % of total transporters) across all samples."
   ]
  },
  {
   "cell_type": "code",
   "execution_count": 33,
   "metadata": {},
   "outputs": [],
   "source": [
    "mg_trans_percent_max = mg_trans_percent.max(axis=1)\n",
    "mt_trans_percent_max = mt_trans_percent.max(axis=1)"
   ]
  },
  {
   "cell_type": "markdown",
   "metadata": {},
   "source": [
    "Output max abundances for transporters for filtering"
   ]
  },
  {
   "cell_type": "code",
   "execution_count": 34,
   "metadata": {},
   "outputs": [
    {
     "name": "stdout",
     "output_type": "stream",
     "text": [
      "81 transporters with max% > 0.5 in the mg-samples\n"
     ]
    }
   ],
   "source": [
    "print(\"{} transporters with max% > 0.5 in the mg-samples\".format(len(mg_trans_percent_max.loc[mg_trans_percent_max>=0.5])))"
   ]
  },
  {
   "cell_type": "code",
   "execution_count": 35,
   "metadata": {},
   "outputs": [
    {
     "name": "stdout",
     "output_type": "stream",
     "text": [
      "84 transporters with max% > 0.5 in the mt-samples\n"
     ]
    }
   ],
   "source": [
    "print(\"{} transporters with max% > 0.5 in the mt-samples\".format(len(mt_trans_percent_max.loc[mt_trans_percent_max>=0.5])))"
   ]
  },
  {
   "cell_type": "markdown",
   "metadata": {},
   "source": [
    "Write raw counts for representative protein families."
   ]
  },
  {
   "cell_type": "code",
   "execution_count": 36,
   "metadata": {},
   "outputs": [],
   "source": [
    "mg_reps_raw = pd.merge(mg_reps,mg_transraw,left_on=\"fam\",right_on=\"fam\")\n",
    "mg_reps_raw_sum = mg_reps_raw.groupby(\"transporter\").sum()\n",
    "mg_reps_raw_sum.to_csv(\"results/mg/rep_trans.raw_counts.tsv\", sep=\"\\t\")"
   ]
  },
  {
   "cell_type": "code",
   "execution_count": 37,
   "metadata": {},
   "outputs": [],
   "source": [
    "mt_reps_raw = pd.merge(mt_reps,mt_transraw,left_on=\"fam\",right_on=\"fam\")\n",
    "mt_reps_raw_sum = mt_reps_raw.groupby(\"transporter\").sum()\n",
    "mt_reps_raw_sum.to_csv(\"results/mt/rep_trans.raw_counts.tsv\", sep=\"\\t\")"
   ]
  },
  {
   "cell_type": "markdown",
   "metadata": {
    "collapsed": true
   },
   "source": [
    "### Calculate transporter abundances for bacteria"
   ]
  },
  {
   "cell_type": "markdown",
   "metadata": {},
   "source": [
    "Metagenome"
   ]
  },
  {
   "cell_type": "code",
   "execution_count": 38,
   "metadata": {},
   "outputs": [],
   "source": [
    "# Get genes classified as bacteria but not cyanobacteria\n",
    "mg_transcov_bac = mg_transcov.loc[(mg_transcov.superkingdom==\"Bacteria\")&(mg_transcov.phylum!=\"Cyanobacteria\")]\n",
    "# Calculate sum of protein families \n",
    "mg_transcov_bac_fam = mg_transcov_bac.groupby([\"fam\",\"transporter\"]).sum().reset_index()\n",
    "# Calculate mean of transporters\n",
    "mg_trans_bac = mg_transcov_bac_fam.groupby(\"transporter\").mean()\n",
    "mg_trans_bac.to_csv(\"results/mg/bac_trans.tpm.tsv\", sep=\"\\t\")"
   ]
  },
  {
   "cell_type": "markdown",
   "metadata": {},
   "source": [
    "Metatranscriptome"
   ]
  },
  {
   "cell_type": "code",
   "execution_count": 39,
   "metadata": {},
   "outputs": [],
   "source": [
    "# Get genes classified as bacteria but not cyanobacteria\n",
    "mt_transcov_bac = mt_transcov.loc[(mt_transcov.superkingdom==\"Bacteria\")&(mt_transcov.phylum!=\"Cyanobacteria\")]\n",
    "# Calculate sum of protein families \n",
    "mt_transcov_bac_fam = mt_transcov_bac.groupby([\"fam\",\"transporter\"]).sum().reset_index()\n",
    "# Calculate mean of transporters\n",
    "mt_trans_bac = mt_transcov_bac_fam.groupby(\"transporter\").mean()\n",
    "mt_trans_bac.to_csv(\"results/mt/bac_trans.tpm.tsv\", sep=\"\\t\")"
   ]
  },
  {
   "cell_type": "markdown",
   "metadata": {},
   "source": [
    "## Selected transporters"
   ]
  },
  {
   "cell_type": "markdown",
   "metadata": {},
   "source": [
    "A subset of 58 transporters were selected for this study, based on abundances in the dataset (>=0.5% max in at least one sample) and their putative substrates. They were classified manually using TIGRFAM roles and Gene Ontology mappings. \n",
    "\n",
    "The curated table is stored under **results/selected_transporters_classified.tab**"
   ]
  },
  {
   "cell_type": "code",
   "execution_count": 40,
   "metadata": {},
   "outputs": [
    {
     "data": {
      "text/html": [
       "<div>\n",
       "<style scoped>\n",
       "    .dataframe tbody tr th:only-of-type {\n",
       "        vertical-align: middle;\n",
       "    }\n",
       "\n",
       "    .dataframe tbody tr th {\n",
       "        vertical-align: top;\n",
       "    }\n",
       "\n",
       "    .dataframe thead th {\n",
       "        text-align: right;\n",
       "    }\n",
       "</style>\n",
       "<table border=\"1\" class=\"dataframe\">\n",
       "  <thead>\n",
       "    <tr style=\"text-align: right;\">\n",
       "      <th></th>\n",
       "      <th>substrate_category</th>\n",
       "      <th>type</th>\n",
       "      <th>name</th>\n",
       "      <th>abbreviation</th>\n",
       "    </tr>\n",
       "    <tr>\n",
       "      <th>transporter</th>\n",
       "      <th></th>\n",
       "      <th></th>\n",
       "      <th></th>\n",
       "      <th></th>\n",
       "    </tr>\n",
       "  </thead>\n",
       "  <tbody>\n",
       "    <tr>\n",
       "      <th>T1068</th>\n",
       "      <td>AA peptide</td>\n",
       "      <td>2a</td>\n",
       "      <td>cyclic peptide transporter</td>\n",
       "      <td>AA-PEP</td>\n",
       "    </tr>\n",
       "    <tr>\n",
       "      <th>T534</th>\n",
       "      <td>AA peptide</td>\n",
       "      <td>2a</td>\n",
       "      <td>lao: LAO/AO transport</td>\n",
       "      <td>AA-PEP</td>\n",
       "    </tr>\n",
       "    <tr>\n",
       "      <th>T52</th>\n",
       "      <td>AA peptide</td>\n",
       "      <td>2a</td>\n",
       "      <td>livcs: branched-chain amino acid transport</td>\n",
       "      <td>AA-PEP</td>\n",
       "    </tr>\n",
       "    <tr>\n",
       "      <th>T37</th>\n",
       "      <td>AA peptide</td>\n",
       "      <td>2a</td>\n",
       "      <td>potA: polyamine ABC transporter</td>\n",
       "      <td>AA-PEP</td>\n",
       "    </tr>\n",
       "    <tr>\n",
       "      <th>T42</th>\n",
       "      <td>AA peptide</td>\n",
       "      <td>3a</td>\n",
       "      <td>proV: glycine betaine/L-proline</td>\n",
       "      <td>AA-PEP</td>\n",
       "    </tr>\n",
       "  </tbody>\n",
       "</table>\n",
       "</div>"
      ],
      "text/plain": [
       "            substrate_category type  \\\n",
       "transporter                           \n",
       "T1068               AA peptide   2a   \n",
       "T534                AA peptide   2a   \n",
       "T52                 AA peptide   2a   \n",
       "T37                 AA peptide   2a   \n",
       "T42                 AA peptide   3a   \n",
       "\n",
       "                                                   name abbreviation  \n",
       "transporter                                                           \n",
       "T1068                        cyclic peptide transporter       AA-PEP  \n",
       "T534                              lao: LAO/AO transport       AA-PEP  \n",
       "T52          livcs: branched-chain amino acid transport       AA-PEP  \n",
       "T37                     potA: polyamine ABC transporter       AA-PEP  \n",
       "T42                     proV: glycine betaine/L-proline       AA-PEP  "
      ]
     },
     "execution_count": 40,
     "metadata": {},
     "output_type": "execute_result"
    }
   ],
   "source": [
    "transinfo = pd.read_table(\"results/selected_transporters_classified.tab\", index_col=0)\n",
    "transinfo.head()"
   ]
  },
  {
   "cell_type": "markdown",
   "metadata": {},
   "source": [
    "Limit the transporter definitions to the selected transporters."
   ]
  },
  {
   "cell_type": "code",
   "execution_count": 41,
   "metadata": {},
   "outputs": [
    {
     "name": "stdout",
     "output_type": "stream",
     "text": [
      "58 transporters remaining, comprising 90 TIGRFAMS\n"
     ]
    }
   ],
   "source": [
    "transdef_select = transdef.loc[transdef.transporter.isin(transinfo.index)]\n",
    "print(\"{} transporters remaining, comprising {} TIGRFAMS\".format(len(transdef_select.transporter.unique()), len(transdef_select.fam.unique())))"
   ]
  },
  {
   "cell_type": "markdown",
   "metadata": {},
   "source": [
    "Add substrate categories to the dataframes."
   ]
  },
  {
   "cell_type": "code",
   "execution_count": 42,
   "metadata": {},
   "outputs": [],
   "source": [
    "# Mean abundances of transporters for selected transporters\n",
    "mg_trans_select = pd.merge(transinfo.loc[transdef_select.transporter.unique()],mg_trans,left_index=True,right_index=True)\n",
    "mg_trans_select.to_csv(\"results/mg/select_trans.tpm.tsv\", sep=\"\\t\")\n",
    "# Mean abundances of transporters for bacteria and selected transporters\n",
    "mg_trans_bac_select = pd.merge(transinfo.loc[transdef_select.transporter.unique()],mg_trans_bac,left_index=True,right_index=True)\n",
    "mg_trans_select.to_csv(\"results/mg/bac_select_trans.tpm.tsv\", sep=\"\\t\")\n",
    "# TPM values per gene for genes matching selected transporters\n",
    "mg_transcov_select = pd.merge(transinfo.loc[transdef_select.transporter.unique()],mg_transcov,left_index=True,right_on=\"transporter\")\n",
    "mg_transcov_select.to_csv(\"results/mg/select_trans_genes.tpm.tsv\", sep=\"\\t\")\n",
    "# TPM values per gene for bacterial genes matching selected transporters\n",
    "mg_transcov_bac_select = pd.merge(transinfo.loc[transdef_select.transporter.unique()],mg_transcov_bac,left_index=True,right_on=\"transporter\")\n",
    "mg_transcov_bac_select.to_csv(\"results/mg/bac_select_trans_genes.tpm.tsv\", sep=\"\\t\")"
   ]
  },
  {
   "cell_type": "markdown",
   "metadata": {},
   "source": [
    "Metatranscriptomes"
   ]
  },
  {
   "cell_type": "code",
   "execution_count": 43,
   "metadata": {},
   "outputs": [],
   "source": [
    "# Mean abundances of transporters for selected transporters\n",
    "mt_trans_select = pd.merge(transinfo.loc[transdef_select.transporter.unique()],mt_trans,left_index=True,right_index=True)\n",
    "mt_trans_select.to_csv(\"results/mt/select_trans.tpm.tsv\", sep=\"\\t\")\n",
    "# Mean abundances of transporters for bacteria and selected transporters\n",
    "mt_trans_bac_select = pd.merge(transinfo.loc[transdef_select.transporter.unique()],mt_trans_bac,left_index=True,right_index=True)\n",
    "mt_trans_select.to_csv(\"results/mt/bac_select_trans.tpm.tsv\", sep=\"\\t\")\n",
    "# TPM values per gene for genes matching selected transporters\n",
    "mt_transcov_select = pd.merge(transinfo.loc[transdef_select.transporter.unique()],mt_transcov,left_index=True,right_on=\"transporter\")\n",
    "mt_transcov_select.to_csv(\"results/mt/select_trans_genes.tpm.tsv\", sep=\"\\t\")\n",
    "# TPM values per gene for bacterial genes matching selected transporters\n",
    "mt_transcov_bac_select = pd.merge(transinfo.loc[transdef_select.transporter.unique()],mt_transcov_bac,left_index=True,right_on=\"transporter\")\n",
    "mt_transcov_bac_select.to_csv(\"results/mt/bac_select_trans_genes.tpm.tsv\", sep=\"\\t\")"
   ]
  },
  {
   "cell_type": "markdown",
   "metadata": {},
   "source": [
    "#### Transporter type and substrate summary"
   ]
  },
  {
   "cell_type": "markdown",
   "metadata": {},
   "source": [
    "Generate count summary across transporter type and substrate category."
   ]
  },
  {
   "cell_type": "code",
   "execution_count": 44,
   "metadata": {},
   "outputs": [
    {
     "data": {
      "text/html": [
       "<div>\n",
       "<style scoped>\n",
       "    .dataframe tbody tr th:only-of-type {\n",
       "        vertical-align: middle;\n",
       "    }\n",
       "\n",
       "    .dataframe tbody tr th {\n",
       "        vertical-align: top;\n",
       "    }\n",
       "\n",
       "    .dataframe thead th {\n",
       "        text-align: right;\n",
       "    }\n",
       "</style>\n",
       "<table border=\"1\" class=\"dataframe\">\n",
       "  <thead>\n",
       "    <tr style=\"text-align: right;\">\n",
       "      <th>substrate_category</th>\n",
       "      <th>AA peptide</th>\n",
       "      <th>Anions</th>\n",
       "      <th>CO3</th>\n",
       "      <th>Cations</th>\n",
       "      <th>N-FIX</th>\n",
       "      <th>NH3 Nitrate</th>\n",
       "      <th>Other</th>\n",
       "      <th>Rare nutr</th>\n",
       "      <th>Urea</th>\n",
       "      <th>carbohydrate</th>\n",
       "      <th>nucleoside</th>\n",
       "      <th>phosphate</th>\n",
       "      <th>phosphonate</th>\n",
       "      <th>SUM</th>\n",
       "    </tr>\n",
       "  </thead>\n",
       "  <tbody>\n",
       "    <tr>\n",
       "      <th>1a</th>\n",
       "      <td>0</td>\n",
       "      <td>0</td>\n",
       "      <td>0</td>\n",
       "      <td>2</td>\n",
       "      <td>0</td>\n",
       "      <td>1</td>\n",
       "      <td>0</td>\n",
       "      <td>0</td>\n",
       "      <td>0</td>\n",
       "      <td>0</td>\n",
       "      <td>0</td>\n",
       "      <td>0</td>\n",
       "      <td>0</td>\n",
       "      <td>3</td>\n",
       "    </tr>\n",
       "    <tr>\n",
       "      <th>1b</th>\n",
       "      <td>0</td>\n",
       "      <td>0</td>\n",
       "      <td>0</td>\n",
       "      <td>1</td>\n",
       "      <td>0</td>\n",
       "      <td>0</td>\n",
       "      <td>0</td>\n",
       "      <td>1</td>\n",
       "      <td>0</td>\n",
       "      <td>0</td>\n",
       "      <td>0</td>\n",
       "      <td>0</td>\n",
       "      <td>0</td>\n",
       "      <td>2</td>\n",
       "    </tr>\n",
       "    <tr>\n",
       "      <th>2a</th>\n",
       "      <td>8</td>\n",
       "      <td>2</td>\n",
       "      <td>1</td>\n",
       "      <td>8</td>\n",
       "      <td>0</td>\n",
       "      <td>0</td>\n",
       "      <td>1</td>\n",
       "      <td>0</td>\n",
       "      <td>0</td>\n",
       "      <td>9</td>\n",
       "      <td>3</td>\n",
       "      <td>1</td>\n",
       "      <td>0</td>\n",
       "      <td>33</td>\n",
       "    </tr>\n",
       "    <tr>\n",
       "      <th>2c</th>\n",
       "      <td>0</td>\n",
       "      <td>0</td>\n",
       "      <td>0</td>\n",
       "      <td>1</td>\n",
       "      <td>0</td>\n",
       "      <td>0</td>\n",
       "      <td>0</td>\n",
       "      <td>0</td>\n",
       "      <td>0</td>\n",
       "      <td>0</td>\n",
       "      <td>0</td>\n",
       "      <td>0</td>\n",
       "      <td>0</td>\n",
       "      <td>1</td>\n",
       "    </tr>\n",
       "    <tr>\n",
       "      <th>3a</th>\n",
       "      <td>1</td>\n",
       "      <td>3</td>\n",
       "      <td>0</td>\n",
       "      <td>3</td>\n",
       "      <td>0</td>\n",
       "      <td>1</td>\n",
       "      <td>1</td>\n",
       "      <td>0</td>\n",
       "      <td>2</td>\n",
       "      <td>0</td>\n",
       "      <td>0</td>\n",
       "      <td>1</td>\n",
       "      <td>3</td>\n",
       "      <td>15</td>\n",
       "    </tr>\n",
       "    <tr>\n",
       "      <th>3d</th>\n",
       "      <td>0</td>\n",
       "      <td>0</td>\n",
       "      <td>0</td>\n",
       "      <td>0</td>\n",
       "      <td>1</td>\n",
       "      <td>0</td>\n",
       "      <td>0</td>\n",
       "      <td>0</td>\n",
       "      <td>0</td>\n",
       "      <td>0</td>\n",
       "      <td>0</td>\n",
       "      <td>0</td>\n",
       "      <td>0</td>\n",
       "      <td>1</td>\n",
       "    </tr>\n",
       "    <tr>\n",
       "      <th>4a</th>\n",
       "      <td>0</td>\n",
       "      <td>0</td>\n",
       "      <td>0</td>\n",
       "      <td>0</td>\n",
       "      <td>0</td>\n",
       "      <td>0</td>\n",
       "      <td>0</td>\n",
       "      <td>0</td>\n",
       "      <td>0</td>\n",
       "      <td>1</td>\n",
       "      <td>0</td>\n",
       "      <td>0</td>\n",
       "      <td>0</td>\n",
       "      <td>1</td>\n",
       "    </tr>\n",
       "    <tr>\n",
       "      <th>4b</th>\n",
       "      <td>0</td>\n",
       "      <td>0</td>\n",
       "      <td>0</td>\n",
       "      <td>0</td>\n",
       "      <td>0</td>\n",
       "      <td>0</td>\n",
       "      <td>0</td>\n",
       "      <td>0</td>\n",
       "      <td>0</td>\n",
       "      <td>0</td>\n",
       "      <td>1</td>\n",
       "      <td>0</td>\n",
       "      <td>0</td>\n",
       "      <td>1</td>\n",
       "    </tr>\n",
       "    <tr>\n",
       "      <th>9a</th>\n",
       "      <td>0</td>\n",
       "      <td>0</td>\n",
       "      <td>0</td>\n",
       "      <td>1</td>\n",
       "      <td>0</td>\n",
       "      <td>0</td>\n",
       "      <td>0</td>\n",
       "      <td>0</td>\n",
       "      <td>0</td>\n",
       "      <td>0</td>\n",
       "      <td>0</td>\n",
       "      <td>0</td>\n",
       "      <td>0</td>\n",
       "      <td>1</td>\n",
       "    </tr>\n",
       "    <tr>\n",
       "      <th>SUM</th>\n",
       "      <td>9</td>\n",
       "      <td>5</td>\n",
       "      <td>1</td>\n",
       "      <td>16</td>\n",
       "      <td>1</td>\n",
       "      <td>2</td>\n",
       "      <td>2</td>\n",
       "      <td>1</td>\n",
       "      <td>2</td>\n",
       "      <td>10</td>\n",
       "      <td>4</td>\n",
       "      <td>2</td>\n",
       "      <td>3</td>\n",
       "      <td>58</td>\n",
       "    </tr>\n",
       "  </tbody>\n",
       "</table>\n",
       "</div>"
      ],
      "text/plain": [
       "substrate_category  AA peptide  Anions  CO3  Cations  N-FIX  NH3 Nitrate  \\\n",
       "1a                           0       0    0        2      0            1   \n",
       "1b                           0       0    0        1      0            0   \n",
       "2a                           8       2    1        8      0            0   \n",
       "2c                           0       0    0        1      0            0   \n",
       "3a                           1       3    0        3      0            1   \n",
       "3d                           0       0    0        0      1            0   \n",
       "4a                           0       0    0        0      0            0   \n",
       "4b                           0       0    0        0      0            0   \n",
       "9a                           0       0    0        1      0            0   \n",
       "SUM                          9       5    1       16      1            2   \n",
       "\n",
       "substrate_category  Other  Rare nutr  Urea  carbohydrate  nucleoside  \\\n",
       "1a                      0          0     0             0           0   \n",
       "1b                      0          1     0             0           0   \n",
       "2a                      1          0     0             9           3   \n",
       "2c                      0          0     0             0           0   \n",
       "3a                      1          0     2             0           0   \n",
       "3d                      0          0     0             0           0   \n",
       "4a                      0          0     0             1           0   \n",
       "4b                      0          0     0             0           1   \n",
       "9a                      0          0     0             0           0   \n",
       "SUM                     2          1     2            10           4   \n",
       "\n",
       "substrate_category  phosphate  phosphonate  SUM  \n",
       "1a                          0            0    3  \n",
       "1b                          0            0    2  \n",
       "2a                          1            0   33  \n",
       "2c                          0            0    1  \n",
       "3a                          1            3   15  \n",
       "3d                          0            0    1  \n",
       "4a                          0            0    1  \n",
       "4b                          0            0    1  \n",
       "9a                          0            0    1  \n",
       "SUM                         2            3   58  "
      ]
     },
     "execution_count": 44,
     "metadata": {},
     "output_type": "execute_result"
    }
   ],
   "source": [
    "# Group by and count type and substrate category\n",
    "type_counts = transinfo.groupby([\"type\",\"substrate_category\"]).count().reset_index().iloc[:,[0,1,2]]\n",
    "# Calculate total type sum\n",
    "SUM = transinfo.groupby(\"type\").count().iloc[:,0]\n",
    "# Calculate total substrate category sum\n",
    "colsum = transinfo.groupby(\"substrate_category\").count().iloc[:,0]\n",
    "colsum.name = \"SUM\"\n",
    "colsum = pd.DataFrame(colsum).T\n",
    "colsum = colsum.assign(SUM=SUM.sum())\n",
    "# Pivot count table\n",
    "type_counts.columns = [\"type\",\"substrate_category\",\"counts\"]\n",
    "type_counts = pd.pivot_table(type_counts, index=[\"type\"], columns=[\"substrate_category\"])\n",
    "type_counts.fillna(\"0\", inplace=True)\n",
    "type_counts = type_counts[\"counts\"]\n",
    "# Add row sums\n",
    "type_counts = type_counts.assign(SUM=SUM)\n",
    "# Add col sums\n",
    "type_counts = pd.concat([type_counts,colsum])\n",
    "# Convert to integer\n",
    "type_counts = type_counts.astype(int)\n",
    "type_counts.to_csv(\"results/transporter_type_table.tsv\", sep=\"\\t\")\n",
    "type_counts"
   ]
  }
 ],
 "metadata": {
  "kernelspec": {
   "display_name": "Python 3",
   "language": "python",
   "name": "python3"
  },
  "language_info": {
   "codemirror_mode": {
    "name": "ipython",
    "version": 3
   },
   "file_extension": ".py",
   "mimetype": "text/x-python",
   "name": "python",
   "nbconvert_exporter": "python",
   "pygments_lexer": "ipython3",
   "version": "3.6.4"
  }
 },
 "nbformat": 4,
 "nbformat_minor": 2
}
