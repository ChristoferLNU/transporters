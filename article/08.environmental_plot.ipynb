{
 "cells": [
  {
   "cell_type": "markdown",
   "metadata": {},
   "source": [
    "# Plot environmental data"
   ]
  },
  {
   "cell_type": "code",
   "execution_count": null,
   "metadata": {},
   "outputs": [],
   "source": [
    "import seaborn as sns, pandas as pd, matplotlib.pyplot as plt, numpy as np, os, datetime\n",
    "import matplotlib.colors\n",
    "%config InlineBackend.figure_format = 'svg'\n",
    "%matplotlib inline\n",
    "plt.style.use('ggplot')"
   ]
  },
  {
   "cell_type": "code",
   "execution_count": null,
   "metadata": {},
   "outputs": [],
   "source": [
    "def add_missing_days(df):\n",
    "    for year in df.Year.unique():\n",
    "        for var in df.variable.unique():\n",
    "            days = df.loc[(df.Year==year)&(df.variable==var),\"Day\"]\n",
    "            missing_days = list(set(range(1,366)).difference(set(days)))\n",
    "            _df = pd.DataFrame(data={\"Year\": [year]*len(missing_days),\"Day\": missing_days, \"variable\": [var]*len(missing_days), \"value\": np.nan})\n",
    "            df = pd.concat([df,_df])\n",
    "    return df"
   ]
  },
  {
   "cell_type": "code",
   "execution_count": null,
   "metadata": {},
   "outputs": [],
   "source": [
    "def doy(s):\n",
    "    '''Returns day of year'''\n",
    "    fmt = '%Y-%m-%d'\n",
    "    dt = datetime.datetime.strptime(s, fmt)\n",
    "    tt = dt.timetuple()\n",
    "    return tt.tm_yday\n",
    "\n",
    "def plotenv(env):\n",
    "    '''Plots environmental panels'''\n",
    "    ## Extract day of year\n",
    "    days = [doy(str(s)[0:10]) for s in env.SampleID]\n",
    "    ## Extract year\n",
    "    y = [str(x)[0:4] for x in env.SampleID]\n",
    "    ## Set ticks\n",
    "    month_ticks = [1,32,60,91,121,152,182,213,244,274,305,335]\n",
    "    month_labels = [\"Jan\",\"Feb\",\"Mar\",\"Apr\",\"May\",\"Jun\",\"Jul\",\"Aug\",\"Sep\",\"Oct\",\"Nov\",\"Dec\"]\n",
    "    ## Define variables\n",
    "    var = [\"Temperature\",\"Salinity\",\"Chla\",\"Nitrate\",\"Phosphate\",\"Silicate\",\"Ammonium\",\"DOC\",\"TotalN\",\"Bacterial abundance\"]\n",
    "    ## Extract columns\n",
    "    e = env.loc[:,var]\n",
    "    ## Add day and year info\n",
    "    e[\"Day\"] = days\n",
    "    e[\"Year\"] = y\n",
    "    ## Melt\n",
    "    e = pd.melt(e,id_vars=[\"Year\",\"Day\"], value_name=\"Value\")\n",
    "    ## Remove DOC outliers\n",
    "    e.loc[(e.variable==\"DOC\") & (e.Value>=450),\"Value\"] = np.nan\n",
    "    ## Add missing days\n",
    "    e = add_missing_days(e)\n",
    "    \n",
    "    ## Create facetgrid\n",
    "    g = sns.FacetGrid(e, col=\"variable\", hue=\"Year\", col_wrap=5, height=3, sharey=False, legend_out=True)\n",
    "    g = (g.map(plt.plot, \"Day\", \"Value\", linewidth=1, marker=\"o\", ms=3).add_legend())\n",
    "    g.set(xticks=month_ticks,xticklabels=month_labels)\n",
    "    g.set_xticklabels(rotation=90)\n",
    "    g.set_titles(\"{col_name}\")\n",
    "    return e"
   ]
  },
  {
   "cell_type": "code",
   "execution_count": null,
   "metadata": {},
   "outputs": [],
   "source": [
    "env = pd.read_csv(\"data/LMO.time.series.metadata.csv\", header=0, sep=\"\\t\", parse_dates=[\"SampleID\"])\n",
    "env = env.loc[env.Year.isin([2012.0,2013.0,2014.0])]\n",
    "env.rename(columns = {'BacterialAbundance': 'Bacterial abundance'}, inplace=True)\n",
    "e = plotenv(env)\n",
    "plt.savefig(\"results/Figure10.svg\", bbox_inches=\"tight\")"
   ]
  }
 ],
 "metadata": {
  "kernelspec": {
   "display_name": "Python 3",
   "language": "python",
   "name": "python3"
  },
  "language_info": {
   "codemirror_mode": {
    "name": "ipython",
    "version": 3
   },
   "file_extension": ".py",
   "mimetype": "text/x-python",
   "name": "python",
   "nbconvert_exporter": "python",
   "pygments_lexer": "ipython3",
   "version": "3.6.7"
  }
 },
 "nbformat": 4,
 "nbformat_minor": 2
}
