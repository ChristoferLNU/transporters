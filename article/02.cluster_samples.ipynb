{
 "cells": [
  {
   "cell_type": "markdown",
   "metadata": {},
   "source": [
    "# Clustering samples by environmental and functional data"
   ]
  },
  {
   "cell_type": "markdown",
   "metadata": {},
   "source": [
    "## Overview"
   ]
  },
  {
   "cell_type": "markdown",
   "metadata": {},
   "source": [
    "In this notebook samples are clustered both by their measured environmental data and the functional metaomics data in order to identify sample groups to be used for statistical analyses. The [01.process_data](01.process_data.ipynb) notebook should have been run prior to this to download and set up the required files."
   ]
  },
  {
   "cell_type": "code",
   "execution_count": null,
   "metadata": {},
   "outputs": [],
   "source": [
    "import pandas as pd, numpy as np, seaborn as sns, matplotlib.pyplot as plt, os\n",
    "from sklearn import cluster, manifold\n",
    "from scipy.spatial.distance import pdist, squareform\n",
    "from scipy.cluster.hierarchy import linkage,dendrogram,leaves_list,fcluster, set_link_color_palette\n",
    "\n",
    "%config InlineBackend.figure_format = 'svg'\n",
    "%matplotlib inline\n",
    "plt.style.use('ggplot')"
   ]
  },
  {
   "cell_type": "code",
   "execution_count": null,
   "metadata": {},
   "outputs": [],
   "source": [
    "os.makedirs(\"figures\", exist_ok=True)"
   ]
  },
  {
   "cell_type": "code",
   "execution_count": null,
   "metadata": {},
   "outputs": [],
   "source": [
    "def standardize(df):\n",
    "    df = df.T\n",
    "    for i in df.index:\n",
    "        df.loc[i,:] = (df.loc[i,:]-df.loc[i].min()) / df.loc[i].max()\n",
    "    return df.T"
   ]
  },
  {
   "cell_type": "code",
   "execution_count": null,
   "metadata": {},
   "outputs": [],
   "source": [
    "def paired_dendrograms(meta,fun,combined=pd.DataFrame(),metric=\"correlation\",method=\"complete\",wspace=0.75,x=8,y=4,color_threshold=None, t=1):\n",
    "    # Set color threshold for dendrogram plot\n",
    "    if color_threshold:\n",
    "        if type(color_threshold)==int or type(color_threshold)==float: color_threshold = [color_threshold]*3\n",
    "    else:\n",
    "        color_threshold = [None,None,None]\n",
    "    # Set up plot with either 2 or three subplots\n",
    "    if combined.empty: \n",
    "        fig,axes = plt.subplots(ncols=2,nrows=1)\n",
    "    else: \n",
    "        fig,axes = plt.subplots(ncols=3,nrows=1,figsize=(x,y))\n",
    "    \n",
    "    # Create a distance matrix from the metadata\n",
    "    meta_dist = pdist(meta,metric=metric)\n",
    "    # Create hierarchical clustering based on distance matrix\n",
    "    meta_Z = linkage(meta_dist,method=method,metric=metric)\n",
    "    \n",
    "    # Create a distance matrix from the functional data\n",
    "    fun_dist = pdist(fun,metric=metric)\n",
    "    # Create hierarchical clustering based on distance matrix\n",
    "    fun_Z = linkage(fun_dist,method=method,metric=metric)\n",
    "    # Extract group numbers and create dictionary that groups sample names into corresponding groups\n",
    "    fun_g = pd.DataFrame(fcluster(fun_Z,criterion=\"distance\",t=t),index=fun.index).to_dict()[0]\n",
    "    # Create list of labels for the functional dendrogram\n",
    "    fun_labels = [x+\" (\"+str(fun_g[x])+\")\" for x in fun.index]\n",
    "    \n",
    "    # Create distance matrix for the combined data\n",
    "    if not combined.empty: \n",
    "        com_dist = pdist(combined,metric=metric)\n",
    "    \n",
    "    # Plot dendrogram for metadata\n",
    "    dendrogram(meta_Z, labels=meta.index,ax=axes[0], orientation=\"left\", color_threshold=color_threshold[0]);\n",
    "    axes[0].set_title(\"Metadata\")\n",
    "    \n",
    "    # Plot dendrogram for functional data\n",
    "    dendrogram(linkage(fun_dist,method=method,metric=metric),labels=fun_labels,ax=axes[1],orientation=\"right\", color_threshold=color_threshold[1]);\n",
    "    axes[1].set_title(\"Functional\")\n",
    "    \n",
    "    # Plot dendrogram for combined data\n",
    "    if not combined.empty: \n",
    "        dendrogram(linkage(com_dist,method=method,metric=metric),labels=combined.index,ax=axes[2],orientation=\"right\", color_threshold=color_threshold[2]);\n",
    "        axes[2].set_title(\"Combined\")\n",
    "    fig.subplots_adjust(wspace=wspace)\n",
    "    return fun_g"
   ]
  },
  {
   "cell_type": "code",
   "execution_count": null,
   "metadata": {},
   "outputs": [],
   "source": [
    "def dist_dataframe(df,metric=\"correlation\"):\n",
    "    dist = pdist(df,metric=metric)\n",
    "    return pd.DataFrame(squareform(dist),columns=df.index, index=df.index)"
   ]
  },
  {
   "cell_type": "code",
   "execution_count": null,
   "metadata": {},
   "outputs": [],
   "source": [
    "def plot_env_groupings(f,e,metric,method,threshold,order=False):\n",
    "    d = pdist(f,metric=metric)\n",
    "    Z = linkage(d,method=method)\n",
    "    g = pd.DataFrame(fcluster(Z,criterion=\"distance\",t=threshold),index=f.index).to_dict()[0]\n",
    "    e[\"Sample\"] = e.index\n",
    "    e[\"Group\"] = [g[x] for x in e.index]\n",
    "    em = pd.melt(e,id_vars=[\"Sample\",\"Group\"])\n",
    "    if order: x_order = order\n",
    "    else: x_order = sorted(set(g.values()))\n",
    "    ax = sns.factorplot(data=em, col=\"variable\", col_wrap=3, x=\"Group\", order=x_order, \n",
    "                    y=\"value\",errwidth=0.5,sharey=False,sharex=False,scale=0.5, size=2, aspect=1.5)\n",
    "    ax.set_titles(\"{col_name}\");\n",
    "    for a in ax.axes: a.set_xticklabels(a.get_xticklabels(), rotation=90,fontsize=8);\n",
    "    ax.fig.subplots_adjust(wspace=.15, hspace=1)\n",
    "    return g"
   ]
  },
  {
   "cell_type": "code",
   "execution_count": null,
   "metadata": {},
   "outputs": [],
   "source": [
    "def get_cumulative_proportion(df, c=0.75):\n",
    "    \"\"\"\n",
    "    Calculate cumulative proportion of transporters in a dataset\n",
    "    \n",
    "    Sorts transporters by their total sum over the season (high to low), then calculates the \n",
    "    cumulative proportion. Returns transporters that make up at least c cumulative proportion.\n",
    "    \"\"\"\n",
    "    df_season_sum = df.groupby(level=0).sum().sum(axis=1).sort_values(ascending=False)\n",
    "    tmp = df_season_sum.div(df_season_sum.sum())\n",
    "    cumulative_sum = []\n",
    "    for i,t in enumerate(tmp.index):\n",
    "        cumulative_sum.append(tmp[0:i+1].sum())\n",
    "    tmp = pd.DataFrame(tmp)\n",
    "    tmp = tmp.assign(SUM=pd.Series(cumulative_sum, index=tmp.index))\n",
    "    df = df.loc[tmp.loc[tmp.SUM<=c].index]\n",
    "    return df"
   ]
  },
  {
   "cell_type": "markdown",
   "metadata": {},
   "source": [
    "## Load the data"
   ]
  },
  {
   "cell_type": "markdown",
   "metadata": {},
   "source": [
    "Load the environmental data."
   ]
  },
  {
   "cell_type": "code",
   "execution_count": null,
   "metadata": {},
   "outputs": [],
   "source": [
    "metadata = pd.read_csv(\"data/LMO.time.series.metadata.csv\", header=0, sep=\"\\t\", index_col=0)\n",
    "metadata.rename(index=lambda x: str(x)[2:], inplace=True)\n",
    "metavars = [\"Temperature\",\"Chla\",\"Phosphate\",\"Nitrate\",\"Silicate\",\"Ammonium\"]"
   ]
  },
  {
   "cell_type": "markdown",
   "metadata": {},
   "source": [
    "Load the metaomic data"
   ]
  },
  {
   "cell_type": "markdown",
   "metadata": {},
   "source": [
    "For the metagenomes, transporters making up 95% of the cumulative proportion over the season were used for the functional clustering."
   ]
  },
  {
   "cell_type": "code",
   "execution_count": null,
   "metadata": {},
   "outputs": [],
   "source": [
    "mg_trans = pd.read_table(\"results/mg/all_trans.tpm.tsv\", header=0, sep=\"\\t\", index_col=0)\n",
    "mg_trans = mg_trans.loc[mg_trans.sum(axis=1)>0]\n",
    "mg_trans = get_cumulative_proportion(mg_trans,c=0.95)\n",
    "print(len(mg_trans))"
   ]
  },
  {
   "cell_type": "markdown",
   "metadata": {},
   "source": [
    "The metatranscriptomic data proved to be more unstable, probably due to sparser sampling and/or different prefiltering applied during sampling. Here all transporters with a sum >0 over the season were used."
   ]
  },
  {
   "cell_type": "code",
   "execution_count": null,
   "metadata": {},
   "outputs": [],
   "source": [
    "mt_trans = pd.read_table(\"results/mt/all_trans.tpm.tsv\", header=0, sep=\"\\t\", index_col=0)\n",
    "mt_trans = mt_trans.loc[mt_trans.sum(axis=1)>0]\n",
    "mt_trans = get_cumulative_proportion(mt_trans,c=1)\n",
    "print(len(mt_trans))"
   ]
  },
  {
   "cell_type": "markdown",
   "metadata": {},
   "source": [
    "## Make data conform"
   ]
  },
  {
   "cell_type": "markdown",
   "metadata": {},
   "source": [
    "Make metadata and functional data dataframes match up in term of samples."
   ]
  },
  {
   "cell_type": "code",
   "execution_count": null,
   "metadata": {},
   "outputs": [],
   "source": [
    "mg_metadata = metadata.loc[mg_trans.columns,metavars]\n",
    "mg_transm = mg_trans[mg_metadata.index].T"
   ]
  },
  {
   "cell_type": "markdown",
   "metadata": {},
   "source": [
    "The metatranscriptomic time-series are missing values for TotalN for 5 samples and 2 of these samples have no metadata measured."
   ]
  },
  {
   "cell_type": "code",
   "execution_count": null,
   "metadata": {},
   "outputs": [],
   "source": [
    "mt_metadata = metadata.loc[mt_trans.columns, metavars]\n",
    "mt_metadata.drop([\"140916\",\"141013\"],inplace=True)\n",
    "mt_transm = mt_trans.T.loc[set(mt_metadata.index).intersection(mt_trans.columns)]"
   ]
  },
  {
   "cell_type": "markdown",
   "metadata": {},
   "source": [
    "## Standardize data"
   ]
  },
  {
   "cell_type": "markdown",
   "metadata": {},
   "source": [
    "Standardize the data to zero mean and standard deviation of 1."
   ]
  },
  {
   "cell_type": "code",
   "execution_count": null,
   "metadata": {},
   "outputs": [],
   "source": [
    "mg_metadata_stand = standardize(mg_metadata)\n",
    "mg_transm_stand = standardize(mg_transm)"
   ]
  },
  {
   "cell_type": "code",
   "execution_count": null,
   "metadata": {},
   "outputs": [],
   "source": [
    "mt_metadata_stand = standardize(mt_metadata)\n",
    "mt_transm_stand = standardize(mt_transm)"
   ]
  },
  {
   "cell_type": "markdown",
   "metadata": {},
   "source": [
    "Combine the standardized dataframes per dataset."
   ]
  },
  {
   "cell_type": "code",
   "execution_count": null,
   "metadata": {},
   "outputs": [],
   "source": [
    "mg_combined = pd.concat([mg_transm_stand,mg_metadata_stand],axis=1)"
   ]
  },
  {
   "cell_type": "code",
   "execution_count": null,
   "metadata": {},
   "outputs": [],
   "source": [
    "mt_combined = pd.concat([mt_transm_stand,mt_metadata_stand],axis=1)"
   ]
  },
  {
   "cell_type": "markdown",
   "metadata": {},
   "source": [
    "## Dendrograms"
   ]
  },
  {
   "cell_type": "markdown",
   "metadata": {},
   "source": [
    "### Metagenomes"
   ]
  },
  {
   "cell_type": "code",
   "execution_count": null,
   "metadata": {
    "scrolled": false
   },
   "outputs": [],
   "source": [
    "mg_fun_g = paired_dendrograms(mg_metadata_stand, mg_transm_stand, mg_combined, method=\"complete\", metric=\"correlation\", wspace=1.2,t=1,color_threshold=1)"
   ]
  },
  {
   "cell_type": "markdown",
   "metadata": {},
   "source": [
    "Set names for sample groups:"
   ]
  },
  {
   "cell_type": "code",
   "execution_count": null,
   "metadata": {},
   "outputs": [],
   "source": [
    "mg_group_names_list = ['early-spring', 'spring', 'early-summer', 'summer1', 'summer2', 'fall']\n",
    "mg_group_names = {3: 'early-spring', 1: 'spring', 2: 'early-summer', 4: 'summer1', 5: 'summer2', 6: 'fall'}\n",
    "mg_group_name_df = pd.merge(pd.DataFrame(mg_fun_g, index=[\"group\"]).T, pd.DataFrame(mg_group_names, index=[\"name\"]).T, left_on=\"group\", right_index=True)\n",
    "mg_group_name_df.head()"
   ]
  },
  {
   "cell_type": "code",
   "execution_count": null,
   "metadata": {},
   "outputs": [],
   "source": [
    "mg_groupdict = {}\n",
    "for g in mg_group_names.values():\n",
    "    mg_groupdict[g] = list(mg_group_name_df.loc[mg_group_name_df[\"name\"]==g].index)\n",
    "mg_groupdict"
   ]
  },
  {
   "cell_type": "markdown",
   "metadata": {},
   "source": [
    "Plot the environmental data for the defined sample groups."
   ]
  },
  {
   "cell_type": "code",
   "execution_count": null,
   "metadata": {},
   "outputs": [],
   "source": [
    "mg_group_env = pd.merge(mg_metadata, mg_group_name_df, left_index=True, right_index=True).reset_index()\n",
    "mg_group_env.head()"
   ]
  },
  {
   "cell_type": "code",
   "execution_count": null,
   "metadata": {},
   "outputs": [],
   "source": [
    "mg_group_envm = pd.melt(mg_group_env,id_vars=[\"index\",\"group\", \"name\"])\n",
    "ax = sns.factorplot(data=mg_group_envm, col=\"variable\", col_wrap=3, x=\"name\", \n",
    "                    order=mg_group_names_list,\n",
    "                    y=\"value\",errwidth=0.5,sharey=False,sharex=False,scale=0.5, size=2, aspect=1.5)\n",
    "ax.set_titles(\"{col_name}\");\n",
    "for a in ax.axes: a.set_xticklabels(a.get_xticklabels(), rotation=90,fontsize=8);\n",
    "ax.fig.subplots_adjust(wspace=.25, hspace=1.5)"
   ]
  },
  {
   "cell_type": "markdown",
   "metadata": {},
   "source": [
    "Re-plot dendrogram with updated group names."
   ]
  },
  {
   "cell_type": "code",
   "execution_count": null,
   "metadata": {},
   "outputs": [],
   "source": [
    "mg_map = {}\n",
    "for i in mg_transm.index:\n",
    "    try: mg_map[i] = mg_group_name_df.loc[i,\"name\"]\n",
    "    except KeyError: mg_map[i] = \"NA\"\n",
    "mg_grouped_stand = mg_transm.copy()\n",
    "mg_grouped_stand = mg_grouped_stand.rename(index=lambda x: \"{} ({})\".format(x,mg_map[x]))\n",
    "d = pdist(mg_grouped_stand,metric=\"correlation\")\n",
    "Z = linkage(d,method=\"complete\")\n",
    "plt.figure(figsize=(2,6))\n",
    "set_link_color_palette(['green','orange','lightgreen','red','lightblue','blue'])\n",
    "dendrogram(Z, orientation=\"left\", labels=mg_grouped_stand.index, color_threshold=1, above_threshold_color=\"grey\")\n",
    "plt.xlabel(\"correlation distance\");\n",
    "plt.savefig(\"results/Figure2.svg\", bbox_inches=\"tight\")"
   ]
  },
  {
   "cell_type": "markdown",
   "metadata": {},
   "source": [
    "Write sample groups to file."
   ]
  },
  {
   "cell_type": "code",
   "execution_count": null,
   "metadata": {},
   "outputs": [],
   "source": [
    "mg_group_name_df.drop(\"group\", axis=1).to_csv(\"results/mg/samplegroups.tab\", sep=\"\\t\")"
   ]
  },
  {
   "cell_type": "markdown",
   "metadata": {},
   "source": [
    "### Metatranscriptomes"
   ]
  },
  {
   "cell_type": "code",
   "execution_count": null,
   "metadata": {},
   "outputs": [],
   "source": [
    "mt_fun_g = paired_dendrograms(mt_metadata_stand, mt_transm_stand, mt_combined, method=\"complete\", metric=\"correlation\", wspace=1.5,t=0.9, color_threshold=0.9)"
   ]
  },
  {
   "cell_type": "markdown",
   "metadata": {},
   "source": [
    "The overall picture is that there are 4 main sample groups:\n",
    "\n",
    "- spring\n",
    "  - 130416, 130422, 120712, 130507, 120516, 130605, 140408, 130605, 140408, 130403\n",
    "- summer\n",
    "  - 140604, 140820, 130815, 140709, 130705\n",
    "- fall\n",
    "  - 130905, 131003, 121024, 120927\n",
    "- winter\n",
    "  - 130226, 130123, 121220\n",
    "\n",
    "Outliers to this seasonal pattern were:\n",
    "- 140506 which clustered separately from the rest in the functional data but as a typical early-summer sample in the metadata\n",
    "- 120613 which clustered with the winter samples in the functional data\n",
    "- 120813 which clustered at the root of the spring and summer samples\n",
    "\n",
    "Nevertheless, the overall pattern was one where the fall and winter sample groups appeared more similar *wrt* the spring and summer sample groups."
   ]
  },
  {
   "cell_type": "code",
   "execution_count": null,
   "metadata": {},
   "outputs": [],
   "source": [
    "mt_group_names_list = ['spring', 'summer', 'fall', 'winter']\n",
    "mt_group_names = {1: 'winter', 2: 'fall', 3: 'spring', 4: 'summer', 5: 'summer'}\n",
    "mt_group_name_df = pd.merge(pd.DataFrame(mt_fun_g, index=[\"group\"]).T, pd.DataFrame(mt_group_names, index=[\"name\"]).T, left_on=\"group\", right_index=True)\n",
    "# Remove the 120613 sample\n",
    "mt_group_name_df.drop(\"120613\", inplace=True)\n",
    "mt_group_name_df.head()"
   ]
  },
  {
   "cell_type": "code",
   "execution_count": null,
   "metadata": {},
   "outputs": [],
   "source": [
    "mt_groupdict = {}\n",
    "for g in mt_group_names.values():\n",
    "    mt_groupdict[g] = list(mt_group_name_df.loc[mt_group_name_df[\"name\"]==g].index)\n",
    "mt_groupdict"
   ]
  },
  {
   "cell_type": "code",
   "execution_count": null,
   "metadata": {},
   "outputs": [],
   "source": [
    "mt_group_env = pd.merge(mt_metadata, mt_group_name_df, left_index=True, right_index=True).reset_index()\n",
    "mt_group_env.head()"
   ]
  },
  {
   "cell_type": "code",
   "execution_count": null,
   "metadata": {},
   "outputs": [],
   "source": [
    "mt_group_envm = pd.melt(mt_group_env,id_vars=[\"index\",\"group\", \"name\"])\n",
    "ax = sns.factorplot(data=mt_group_envm, col=\"variable\", col_wrap=3, x=\"name\", \n",
    "                    order=mt_group_names_list,\n",
    "                    y=\"value\",errwidth=0.5,sharey=False,sharex=False,scale=0.5, size=2, aspect=1.5)\n",
    "ax.set_titles(\"{col_name}\");\n",
    "for a in ax.axes: a.set_xticklabels(a.get_xticklabels(), rotation=90,fontsize=8);\n",
    "ax.fig.subplots_adjust(wspace=.25, hspace=1)"
   ]
  },
  {
   "cell_type": "code",
   "execution_count": null,
   "metadata": {},
   "outputs": [],
   "source": [
    "mt_map = {}\n",
    "for i in mt_transm.index:\n",
    "    try: \n",
    "        mt_map[i] = mt_group_name_df.loc[i,\"name\"]\n",
    "    except KeyError: \n",
    "        continue\n",
    "mt_grouped_stand = mt_transm.loc[mt_map.keys()]\n",
    "mt_grouped_stand = mt_grouped_stand.rename(index=lambda x: \"{} ({})\".format(x,mt_map[x]))\n",
    "d = pdist(mt_grouped_stand,metric=\"correlation\")\n",
    "Z = linkage(d,method=\"complete\")\n",
    "plt.figure(figsize=(2,6))\n",
    "set_link_color_palette(['blue','lightblue','green', 'red'])\n",
    "dendrogram(Z, orientation=\"left\", labels=mt_grouped_stand.index, color_threshold=0.85, above_threshold_color=\"grey\")\n",
    "plt.xlabel(\"correlation distance\");"
   ]
  },
  {
   "cell_type": "code",
   "execution_count": null,
   "metadata": {},
   "outputs": [],
   "source": [
    "mt_group_name_df.drop(\"group\", axis=1).to_csv(\"results/mt/samplegroups.tab\", sep=\"\\t\")"
   ]
  }
 ],
 "metadata": {
  "anaconda-cloud": {},
  "kernelspec": {
   "display_name": "Python 3",
   "language": "python",
   "name": "python3"
  },
  "language_info": {
   "codemirror_mode": {
    "name": "ipython",
    "version": 3
   },
   "file_extension": ".py",
   "mimetype": "text/x-python",
   "name": "python",
   "nbconvert_exporter": "python",
   "pygments_lexer": "ipython3",
   "version": "3.6.7"
  }
 },
 "nbformat": 4,
 "nbformat_minor": 1
}
