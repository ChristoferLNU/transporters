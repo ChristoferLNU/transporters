{
 "cells": [
  {
   "cell_type": "markdown",
   "metadata": {},
   "source": [
    "# Process transporter data for use with DESeq2"
   ]
  },
  {
   "cell_type": "markdown",
   "metadata": {},
   "source": [
    "Because statistical analysis of metagenomes may suffer due to genes with low abundance ([Jonsson et. al 2016](https://www.ncbi.nlm.nih.gov/pmc/articles/PMC4727335/)) we will filter transporters with an average read count <100. This is a tradeoff between producing trustworthy results and producing any results at all (because filtering at higher average read counts will remove too many transporters). In addition, the statistical analysis is performed on representative protein families for each transporter cluster. Representative families are selected by sorting by mean abundance across the samples."
   ]
  },
  {
   "cell_type": "code",
   "execution_count": 1,
   "metadata": {},
   "outputs": [],
   "source": [
    "import pandas as pd"
   ]
  },
  {
   "cell_type": "markdown",
   "metadata": {},
   "source": [
    "Read selected transporters."
   ]
  },
  {
   "cell_type": "code",
   "execution_count": 2,
   "metadata": {},
   "outputs": [],
   "source": [
    "transinfo = pd.read_table(\"results/selected_transporters_classified.tab\", header=0, sep=\"\\t\", index_col=0)"
   ]
  },
  {
   "cell_type": "markdown",
   "metadata": {},
   "source": [
    "Read raw counts for transporters (calculated from representative protein families)."
   ]
  },
  {
   "cell_type": "code",
   "execution_count": 3,
   "metadata": {},
   "outputs": [],
   "source": [
    "mg_trans_reps = pd.read_table(\"results/mg/rep_trans.raw_counts.tsv\", header=0, sep=\"\\t\", index_col=0)\n",
    "mt_trans_reps = pd.read_table(\"results/mt/rep_trans.raw_counts.tsv\", header=0, sep=\"\\t\", index_col=0)"
   ]
  },
  {
   "cell_type": "markdown",
   "metadata": {},
   "source": [
    "Intersect with the selected transporters."
   ]
  },
  {
   "cell_type": "code",
   "execution_count": 4,
   "metadata": {},
   "outputs": [],
   "source": [
    "mg_select_trans_reps = mg_trans_reps.reindex(transinfo.index)\n",
    "mt_select_trans_reps = mt_trans_reps.reindex(transinfo.index)"
   ]
  },
  {
   "cell_type": "markdown",
   "metadata": {},
   "source": [
    "## Filter out transporters with low coverage."
   ]
  },
  {
   "cell_type": "code",
   "execution_count": 5,
   "metadata": {},
   "outputs": [],
   "source": [
    "threshold = 100"
   ]
  },
  {
   "cell_type": "code",
   "execution_count": 6,
   "metadata": {},
   "outputs": [
    {
     "name": "stdout",
     "output_type": "stream",
     "text": [
      "37 transporters remaining after filtering\n"
     ]
    }
   ],
   "source": [
    "mg_select_trans_reps_filt = mg_select_trans_reps.loc[mg_select_trans_reps.mean(axis=1)>=100]\n",
    "mg_select_trans_reps_filt.to_csv(\"results/mg/rep_trans_filt.raw_counts.tsv\", sep=\"\\t\")\n",
    "print(\"{} transporters remaining after filtering\".format(len(mg_select_trans_reps_filt)))"
   ]
  },
  {
   "cell_type": "code",
   "execution_count": 7,
   "metadata": {},
   "outputs": [
    {
     "name": "stdout",
     "output_type": "stream",
     "text": [
      "22 transporters remaining after filtering\n"
     ]
    }
   ],
   "source": [
    "mt_select_trans_reps_filt = mt_select_trans_reps.loc[mt_select_trans_reps.mean(axis=1)>=100]\n",
    "mt_select_trans_reps_filt.to_csv(\"results/mt/rep_trans_filt.raw_counts.tsv\", sep=\"\\t\")\n",
    "print(\"{} transporters remaining after filtering\".format(len(mt_select_trans_reps_filt)))"
   ]
  }
 ],
 "metadata": {
  "kernelspec": {
   "display_name": "Python 3",
   "language": "python",
   "name": "python3"
  },
  "language_info": {
   "codemirror_mode": {
    "name": "ipython",
    "version": 3
   },
   "file_extension": ".py",
   "mimetype": "text/x-python",
   "name": "python",
   "nbconvert_exporter": "python",
   "pygments_lexer": "ipython3",
   "version": "3.6.4"
  }
 },
 "nbformat": 4,
 "nbformat_minor": 2
}
