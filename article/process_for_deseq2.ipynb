{
 "cells": [
  {
   "cell_type": "markdown",
   "metadata": {},
   "source": [
    "# Process transporter data for use with DESeq2"
   ]
  },
  {
   "cell_type": "markdown",
   "metadata": {},
   "source": [
    "Because statistical analysis of metagenomes may suffer due to genes with low abundance ([Jonsson et. al 2016](https://www.ncbi.nlm.nih.gov/pmc/articles/PMC4727335/)) we will filter transporters with an average read count <100. This is a tradeoff between producing trustworthy results and producing any results at all (because filtering at higher average read counts will remove too many transporters). In addition, the statistical analysis is performed on representative protein families for each transporter cluster. Representative families are selected by sorting by mean abundance across the samples."
   ]
  },
  {
   "cell_type": "code",
   "execution_count": 1,
   "metadata": {},
   "outputs": [],
   "source": [
    "import pandas as pd"
   ]
  },
  {
   "cell_type": "markdown",
   "metadata": {},
   "source": [
    "Read selected transporters."
   ]
  },
  {
   "cell_type": "code",
   "execution_count": 9,
   "metadata": {},
   "outputs": [],
   "source": [
    "transinfo = pd.read_table(\"results/selected_transporters_classified.tab\", header=0, sep=\"\\t\", index_col=0)"
   ]
  },
  {
   "cell_type": "markdown",
   "metadata": {},
   "source": [
    "Read raw counts for transporters (calculated from representative protein families)."
   ]
  },
  {
   "cell_type": "code",
   "execution_count": 19,
   "metadata": {},
   "outputs": [],
   "source": [
    "mg_trans_reps = pd.read_table(\"results/mg/rep_trans.raw_counts.tsv\", header=0, sep=\"\\t\", index_col=0)\n",
    "mt_trans_reps = pd.read_table(\"results/mt/rep_trans.raw_counts.tsv\", header=0, sep=\"\\t\", index_col=0)"
   ]
  },
  {
   "cell_type": "markdown",
   "metadata": {},
   "source": [
    "Intersect with the selected transporters."
   ]
  },
  {
   "cell_type": "code",
   "execution_count": 25,
   "metadata": {},
   "outputs": [],
   "source": [
    "mg_select_trans_reps = mg_trans_reps.reindex(transinfo.index)\n",
    "mt_select_trans_reps = mt_trans_reps.reindex(transinfo.index)"
   ]
  },
  {
   "cell_type": "markdown",
   "metadata": {},
   "source": [
    "## Read sample groups for datasets."
   ]
  },
  {
   "cell_type": "markdown",
   "metadata": {},
   "source": [
    "### Metagenome"
   ]
  },
  {
   "cell_type": "code",
   "execution_count": 12,
   "metadata": {},
   "outputs": [
    {
     "data": {
      "text/html": [
       "<div>\n",
       "<style scoped>\n",
       "    .dataframe tbody tr th:only-of-type {\n",
       "        vertical-align: middle;\n",
       "    }\n",
       "\n",
       "    .dataframe tbody tr th {\n",
       "        vertical-align: top;\n",
       "    }\n",
       "\n",
       "    .dataframe thead th {\n",
       "        text-align: right;\n",
       "    }\n",
       "</style>\n",
       "<table border=\"1\" class=\"dataframe\">\n",
       "  <thead>\n",
       "    <tr style=\"text-align: right;\">\n",
       "      <th></th>\n",
       "      <th>Group</th>\n",
       "    </tr>\n",
       "  </thead>\n",
       "  <tbody>\n",
       "    <tr>\n",
       "      <th>120314</th>\n",
       "      <td>pre/post-bloom</td>\n",
       "    </tr>\n",
       "    <tr>\n",
       "      <th>120322</th>\n",
       "      <td>pre/post-bloom</td>\n",
       "    </tr>\n",
       "    <tr>\n",
       "      <th>120328</th>\n",
       "      <td>spring-bloom</td>\n",
       "    </tr>\n",
       "    <tr>\n",
       "      <th>120403</th>\n",
       "      <td>spring-bloom</td>\n",
       "    </tr>\n",
       "    <tr>\n",
       "      <th>120416</th>\n",
       "      <td>spring-bloom</td>\n",
       "    </tr>\n",
       "    <tr>\n",
       "      <th>120419</th>\n",
       "      <td>spring-bloom</td>\n",
       "    </tr>\n",
       "    <tr>\n",
       "      <th>120423</th>\n",
       "      <td>spring-bloom</td>\n",
       "    </tr>\n",
       "    <tr>\n",
       "      <th>120516</th>\n",
       "      <td>pre/post-bloom</td>\n",
       "    </tr>\n",
       "    <tr>\n",
       "      <th>120531</th>\n",
       "      <td>early-summer</td>\n",
       "    </tr>\n",
       "    <tr>\n",
       "      <th>120604</th>\n",
       "      <td>pre/post-bloom</td>\n",
       "    </tr>\n",
       "    <tr>\n",
       "      <th>120613</th>\n",
       "      <td>early-summer</td>\n",
       "    </tr>\n",
       "    <tr>\n",
       "      <th>120619</th>\n",
       "      <td>early-summer</td>\n",
       "    </tr>\n",
       "    <tr>\n",
       "      <th>120628</th>\n",
       "      <td>early-summer</td>\n",
       "    </tr>\n",
       "    <tr>\n",
       "      <th>120705</th>\n",
       "      <td>fall</td>\n",
       "    </tr>\n",
       "    <tr>\n",
       "      <th>120709</th>\n",
       "      <td>summer</td>\n",
       "    </tr>\n",
       "    <tr>\n",
       "      <th>120717</th>\n",
       "      <td>summer</td>\n",
       "    </tr>\n",
       "    <tr>\n",
       "      <th>120802</th>\n",
       "      <td>summer</td>\n",
       "    </tr>\n",
       "    <tr>\n",
       "      <th>120806</th>\n",
       "      <td>summer</td>\n",
       "    </tr>\n",
       "    <tr>\n",
       "      <th>120813</th>\n",
       "      <td>summer</td>\n",
       "    </tr>\n",
       "    <tr>\n",
       "      <th>120820</th>\n",
       "      <td>summer</td>\n",
       "    </tr>\n",
       "    <tr>\n",
       "      <th>120823</th>\n",
       "      <td>fall</td>\n",
       "    </tr>\n",
       "    <tr>\n",
       "      <th>120828</th>\n",
       "      <td>fall</td>\n",
       "    </tr>\n",
       "    <tr>\n",
       "      <th>120903</th>\n",
       "      <td>fall</td>\n",
       "    </tr>\n",
       "    <tr>\n",
       "      <th>120920</th>\n",
       "      <td>winter</td>\n",
       "    </tr>\n",
       "    <tr>\n",
       "      <th>121001</th>\n",
       "      <td>winter</td>\n",
       "    </tr>\n",
       "    <tr>\n",
       "      <th>121004</th>\n",
       "      <td>winter</td>\n",
       "    </tr>\n",
       "    <tr>\n",
       "      <th>121015</th>\n",
       "      <td>fall</td>\n",
       "    </tr>\n",
       "    <tr>\n",
       "      <th>121022</th>\n",
       "      <td>fall</td>\n",
       "    </tr>\n",
       "    <tr>\n",
       "      <th>121105</th>\n",
       "      <td>winter</td>\n",
       "    </tr>\n",
       "    <tr>\n",
       "      <th>121128</th>\n",
       "      <td>winter</td>\n",
       "    </tr>\n",
       "    <tr>\n",
       "      <th>121220</th>\n",
       "      <td>winter</td>\n",
       "    </tr>\n",
       "  </tbody>\n",
       "</table>\n",
       "</div>"
      ],
      "text/plain": [
       "                 Group\n",
       "120314  pre/post-bloom\n",
       "120322  pre/post-bloom\n",
       "120328    spring-bloom\n",
       "120403    spring-bloom\n",
       "120416    spring-bloom\n",
       "120419    spring-bloom\n",
       "120423    spring-bloom\n",
       "120516  pre/post-bloom\n",
       "120531    early-summer\n",
       "120604  pre/post-bloom\n",
       "120613    early-summer\n",
       "120619    early-summer\n",
       "120628    early-summer\n",
       "120705            fall\n",
       "120709          summer\n",
       "120717          summer\n",
       "120802          summer\n",
       "120806          summer\n",
       "120813          summer\n",
       "120820          summer\n",
       "120823            fall\n",
       "120828            fall\n",
       "120903            fall\n",
       "120920          winter\n",
       "121001          winter\n",
       "121004          winter\n",
       "121015            fall\n",
       "121022            fall\n",
       "121105          winter\n",
       "121128          winter\n",
       "121220          winter"
      ]
     },
     "execution_count": 12,
     "metadata": {},
     "output_type": "execute_result"
    }
   ],
   "source": [
    "mg_groups = pd.read_csv(\"results/mg/samplegroups.tab\", header=0, sep=\"\\t\",index_col=0)\n",
    "mg_groups.rename(index=lambda x: str(x),inplace=True)\n",
    "mg_groups"
   ]
  },
  {
   "cell_type": "markdown",
   "metadata": {},
   "source": [
    "### Metatranscriptome"
   ]
  },
  {
   "cell_type": "code",
   "execution_count": 13,
   "metadata": {},
   "outputs": [
    {
     "data": {
      "text/html": [
       "<div>\n",
       "<style scoped>\n",
       "    .dataframe tbody tr th:only-of-type {\n",
       "        vertical-align: middle;\n",
       "    }\n",
       "\n",
       "    .dataframe tbody tr th {\n",
       "        vertical-align: top;\n",
       "    }\n",
       "\n",
       "    .dataframe thead th {\n",
       "        text-align: right;\n",
       "    }\n",
       "</style>\n",
       "<table border=\"1\" class=\"dataframe\">\n",
       "  <thead>\n",
       "    <tr style=\"text-align: right;\">\n",
       "      <th></th>\n",
       "      <th>Group</th>\n",
       "    </tr>\n",
       "  </thead>\n",
       "  <tbody>\n",
       "    <tr>\n",
       "      <th>120712</th>\n",
       "      <td>spring/early-summer</td>\n",
       "    </tr>\n",
       "    <tr>\n",
       "      <th>120813</th>\n",
       "      <td>fall</td>\n",
       "    </tr>\n",
       "    <tr>\n",
       "      <th>120927</th>\n",
       "      <td>fall</td>\n",
       "    </tr>\n",
       "    <tr>\n",
       "      <th>121024</th>\n",
       "      <td>fall</td>\n",
       "    </tr>\n",
       "    <tr>\n",
       "      <th>121220</th>\n",
       "      <td>winter</td>\n",
       "    </tr>\n",
       "    <tr>\n",
       "      <th>130123</th>\n",
       "      <td>winter</td>\n",
       "    </tr>\n",
       "    <tr>\n",
       "      <th>130226</th>\n",
       "      <td>winter</td>\n",
       "    </tr>\n",
       "    <tr>\n",
       "      <th>130403</th>\n",
       "      <td>winter</td>\n",
       "    </tr>\n",
       "    <tr>\n",
       "      <th>130416</th>\n",
       "      <td>spring/early-summer</td>\n",
       "    </tr>\n",
       "    <tr>\n",
       "      <th>130422</th>\n",
       "      <td>spring/early-summer</td>\n",
       "    </tr>\n",
       "    <tr>\n",
       "      <th>130507</th>\n",
       "      <td>spring/early-summer</td>\n",
       "    </tr>\n",
       "    <tr>\n",
       "      <th>130605</th>\n",
       "      <td>spring/early-summer</td>\n",
       "    </tr>\n",
       "    <tr>\n",
       "      <th>130815</th>\n",
       "      <td>summer</td>\n",
       "    </tr>\n",
       "    <tr>\n",
       "      <th>131003</th>\n",
       "      <td>fall</td>\n",
       "    </tr>\n",
       "    <tr>\n",
       "      <th>140408</th>\n",
       "      <td>spring/early-summer</td>\n",
       "    </tr>\n",
       "    <tr>\n",
       "      <th>140506</th>\n",
       "      <td>spring/early-summer</td>\n",
       "    </tr>\n",
       "    <tr>\n",
       "      <th>140604</th>\n",
       "      <td>summer</td>\n",
       "    </tr>\n",
       "    <tr>\n",
       "      <th>140820</th>\n",
       "      <td>summer</td>\n",
       "    </tr>\n",
       "  </tbody>\n",
       "</table>\n",
       "</div>"
      ],
      "text/plain": [
       "                      Group\n",
       "120712  spring/early-summer\n",
       "120813                 fall\n",
       "120927                 fall\n",
       "121024                 fall\n",
       "121220               winter\n",
       "130123               winter\n",
       "130226               winter\n",
       "130403               winter\n",
       "130416  spring/early-summer\n",
       "130422  spring/early-summer\n",
       "130507  spring/early-summer\n",
       "130605  spring/early-summer\n",
       "130815               summer\n",
       "131003                 fall\n",
       "140408  spring/early-summer\n",
       "140506  spring/early-summer\n",
       "140604               summer\n",
       "140820               summer"
      ]
     },
     "execution_count": 13,
     "metadata": {},
     "output_type": "execute_result"
    }
   ],
   "source": [
    "mt_groups = pd.read_csv(\"results/mt/samplegroups.tab\", header=0, sep=\"\\t\",index_col=0)\n",
    "mt_groups.rename(index=lambda x: str(x),inplace=True)\n",
    "mt_groups"
   ]
  },
  {
   "cell_type": "markdown",
   "metadata": {},
   "source": [
    "## Filter out transporters with low coverage."
   ]
  },
  {
   "cell_type": "code",
   "execution_count": 15,
   "metadata": {},
   "outputs": [],
   "source": [
    "threshold = 100"
   ]
  },
  {
   "cell_type": "code",
   "execution_count": 35,
   "metadata": {},
   "outputs": [
    {
     "name": "stdout",
     "output_type": "stream",
     "text": [
      "37 transporters remaining after filtering\n"
     ]
    }
   ],
   "source": [
    "mg_select_trans_reps_filt = mg_select_trans_reps.loc[mg_select_trans_reps.mean(axis=1)>=100]\n",
    "mg_select_trans_reps_filt.to_csv(\"results/mg/rep_trans_filt.raw_counts.tsv\", sep=\"\\t\")\n",
    "print(\"{} transporters remaining after filtering\".format(len(mg_select_trans_reps_filt)))"
   ]
  },
  {
   "cell_type": "code",
   "execution_count": 34,
   "metadata": {},
   "outputs": [
    {
     "name": "stdout",
     "output_type": "stream",
     "text": [
      "22 transporters remaining after filtering\n"
     ]
    }
   ],
   "source": [
    "mt_select_trans_reps_filt = mt_select_trans_reps.loc[mt_select_trans_reps.mean(axis=1)>=100]\n",
    "mt_select_trans_reps_filt.to_csv(\"results/mt/rep_trans_filt.raw_counts.tsv\", sep=\"\\t\")\n",
    "print(\"{} transporters remaining after filtering\".format(len(mt_select_trans_reps_filt)))"
   ]
  }
 ],
 "metadata": {
  "kernelspec": {
   "display_name": "Python 3",
   "language": "python",
   "name": "python3"
  },
  "language_info": {
   "codemirror_mode": {
    "name": "ipython",
    "version": 3
   },
   "file_extension": ".py",
   "mimetype": "text/x-python",
   "name": "python",
   "nbconvert_exporter": "python",
   "pygments_lexer": "ipython3",
   "version": "3.6.4"
  }
 },
 "nbformat": 4,
 "nbformat_minor": 2
}
