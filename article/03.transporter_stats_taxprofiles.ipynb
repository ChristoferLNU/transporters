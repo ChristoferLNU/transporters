{
 "cells": [
  {
   "cell_type": "markdown",
   "metadata": {},
   "source": [
    "# Transporter statistics and taxonomic profiles"
   ]
  },
  {
   "cell_type": "markdown",
   "metadata": {},
   "source": [
    "## Overview"
   ]
  },
  {
   "cell_type": "markdown",
   "metadata": {},
   "source": [
    "In this notebook some overview statistics of the datasets are computed and taxonomic profiles investigated. The notebook uses data produced by running the [01.process_data](01.process_data.ipynb) notebook."
   ]
  },
  {
   "cell_type": "code",
   "execution_count": null,
   "metadata": {},
   "outputs": [],
   "source": [
    "import numpy as np\n",
    "import pandas as pd\n",
    "import seaborn as sns\n",
    "import glob\n",
    "import os\n",
    "import matplotlib.pyplot as plt, matplotlib\n",
    "%matplotlib inline\n",
    "%config InlineBackend.figure_format = 'svg'\n",
    "plt.style.use('ggplot')"
   ]
  },
  {
   "cell_type": "code",
   "execution_count": null,
   "metadata": {},
   "outputs": [],
   "source": [
    "def make_tax_table(df,name=\"\",rank=\"superkingdom\"):\n",
    "    df_t = df.groupby(rank).sum()\n",
    "    df_tp = df_t.div(df_t.sum())*100\n",
    "    df_tp_mean = df_tp.mean(axis=1)\n",
    "    df_tp_max = df_tp.max(axis=1)\n",
    "    df_tp_min = df_tp.min(axis=1)\n",
    "    df_tp_sd = df_tp.std(axis=1)\n",
    "    table = pd.concat([df_tp_mean,df_tp_max,df_tp_min,df_tp_sd],axis=1)\n",
    "    table.columns = [name+\" mean(%)\",name+\" max(%)\",name+\" min(%)\",name+\" std\"]\n",
    "    table.rename(index=lambda x: x.split(\"_\")[0], inplace=True)\n",
    "    return table"
   ]
  },
  {
   "cell_type": "markdown",
   "metadata": {},
   "source": [
    "## Load the data"
   ]
  },
  {
   "cell_type": "code",
   "execution_count": null,
   "metadata": {},
   "outputs": [],
   "source": [
    "transinfo = pd.read_csv(\"selected_transporters_classified.tab\", header=0, sep=\"\\t\", index_col=0)\n",
    "transinfo.head()"
   ]
  },
  {
   "cell_type": "markdown",
   "metadata": {},
   "source": [
    "Read gene abundance values with taxonomic annotations."
   ]
  },
  {
   "cell_type": "code",
   "execution_count": null,
   "metadata": {},
   "outputs": [],
   "source": [
    "mg_cov = pd.read_table(\"data/mg/all_genes.tpm.taxonomy.tsv.gz\", header=0, sep=\"\\t\", index_col=0)\n",
    "mt_cov = pd.read_table(\"data/mt/all_genes.tpm.taxonomy.tsv.gz\", header=0, sep=\"\\t\", index_col=0)"
   ]
  },
  {
   "cell_type": "markdown",
   "metadata": {},
   "source": [
    "Read orf level transporter data."
   ]
  },
  {
   "cell_type": "code",
   "execution_count": null,
   "metadata": {},
   "outputs": [],
   "source": [
    "mg_transcov = pd.read_table(\"results/mg/all_transporters.tpm.taxonomy.tsv.gz\", header=0, sep=\"\\t\", index_col=0)\n",
    "mt_transcov = pd.read_table(\"results/mt/all_transporters.tpm.taxonomy.tsv.gz\", header=0, sep=\"\\t\", index_col=0)"
   ]
  },
  {
   "cell_type": "code",
   "execution_count": null,
   "metadata": {},
   "outputs": [],
   "source": [
    "mg_select_transcov = pd.read_table(\"results/mg/select_trans_genes.tpm.tsv\", header=0, sep=\"\\t\", index_col=0)\n",
    "mt_select_transcov = pd.read_table(\"results/mt/select_trans_genes.tpm.tsv\", header=0, sep=\"\\t\", index_col=0)"
   ]
  },
  {
   "cell_type": "markdown",
   "metadata": {},
   "source": [
    "Read transporter abundances."
   ]
  },
  {
   "cell_type": "code",
   "execution_count": null,
   "metadata": {},
   "outputs": [],
   "source": [
    "mg_trans = pd.read_csv(\"results/mg/all_trans.tpm.tsv\", header=0, sep=\"\\t\", index_col=0)\n",
    "mt_trans = pd.read_csv(\"results/mt/all_trans.tpm.tsv\", header=0, sep=\"\\t\", index_col=0)"
   ]
  },
  {
   "cell_type": "markdown",
   "metadata": {},
   "source": [
    "## Generate taxonomic overview table"
   ]
  },
  {
   "cell_type": "code",
   "execution_count": null,
   "metadata": {},
   "outputs": [],
   "source": [
    "mg_tax_table = make_tax_table(mg_cov,name=\"MG \")\n",
    "mg_tax_table_cyano = make_tax_table(mg_cov,name=\"MG \",rank=\"phylum\").loc[\"Cyanobacteria\"]\n",
    "mg_tax_table = pd.concat([mg_tax_table,pd.DataFrame(mg_tax_table_cyano).T])\n",
    "mg_tax_table"
   ]
  },
  {
   "cell_type": "code",
   "execution_count": null,
   "metadata": {},
   "outputs": [],
   "source": [
    "mt_tax_table = make_tax_table(mt_cov,name=\"MT \")\n",
    "mt_tax_table_cyano = make_tax_table(mt_cov,name=\"MT \",rank=\"phylum\").loc[\"Cyanobacteria\"]\n",
    "mt_tax_table = pd.concat([mt_tax_table,pd.DataFrame(mt_tax_table_cyano).T])\n",
    "mt_tax_table"
   ]
  },
  {
   "cell_type": "markdown",
   "metadata": {},
   "source": [
    "Concatenate overview tables. This is **Table 2** in the paper."
   ]
  },
  {
   "cell_type": "code",
   "execution_count": null,
   "metadata": {},
   "outputs": [],
   "source": [
    "tax_table = pd.concat([mg_tax_table,mt_tax_table],axis=1).round(2)"
   ]
  },
  {
   "cell_type": "code",
   "execution_count": null,
   "metadata": {},
   "outputs": [],
   "source": [
    "tax_table.to_csv(\"results/Table2.tsv\",sep=\"\\t\")"
   ]
  },
  {
   "cell_type": "markdown",
   "metadata": {},
   "source": [
    "## Generate general overview of transporters"
   ]
  },
  {
   "cell_type": "markdown",
   "metadata": {},
   "source": [
    "Make table with number of ORFs, ORFs classified as transporters, min, mean and max coverage for transporter ORFs."
   ]
  },
  {
   "cell_type": "code",
   "execution_count": null,
   "metadata": {},
   "outputs": [],
   "source": [
    "num_genes = len(mg_cov)\n",
    "gene_lengths = pd.read_table(\"data/mg/all_genes.tpm.tsv.gz\", usecols=[1])\n",
    "gene_lengths = np.round(gene_lengths.mean())"
   ]
  },
  {
   "cell_type": "code",
   "execution_count": null,
   "metadata": {},
   "outputs": [],
   "source": [
    "def generate_transporter_stats(df):\n",
    "    # Number of transporter genes (genes with sum > 0)\n",
    "    num_trans_genes = len(df.loc[df.groupby(level=0).sum().sum(axis=1)>0])\n",
    "    # Percent of transporter genes\n",
    "    num_trans_genes_p = np.round((num_trans_genes / float(num_genes))*100,2)\n",
    "    # Mean total coverage for transporter genes across the samples\n",
    "    transcov_mean = np.round(((df.groupby(level=0).sum().sum().mean()) / 1e6)*100,2)\n",
    "    # Minimum total coverage for transporter genes across the samples\n",
    "    transcov_min = np.round(((df.groupby(level=0).sum().sum().min()) / 1e6)*100,2)\n",
    "    # Maximum ...\n",
    "    transcov_max = np.round(((df.groupby(level=0).sum().sum().max()) / 1e6)*100,2)\n",
    "    # Standard dev\n",
    "    transcov_std = np.round(((df.groupby(level=0).sum().sum() / 1e6)*100).std(),2)\n",
    "    return num_trans_genes, num_trans_genes_p, transcov_mean, transcov_min, transcov_max, transcov_std"
   ]
  },
  {
   "cell_type": "code",
   "execution_count": null,
   "metadata": {},
   "outputs": [],
   "source": [
    "mg_num_trans_genes, mg_num_trans_genes_p, mg_transcov_mean, mg_transcov_min, mg_transcov_max, mg_transcov_std = generate_transporter_stats(mg_transcov)"
   ]
  },
  {
   "cell_type": "code",
   "execution_count": null,
   "metadata": {},
   "outputs": [],
   "source": [
    "mt_num_trans_genes, mt_num_trans_genes_p, mt_transcov_mean, mt_transcov_min, mt_transcov_max, mt_transcov_std = generate_transporter_stats(mt_transcov)"
   ]
  },
  {
   "cell_type": "markdown",
   "metadata": {},
   "source": [
    "Create table with transporter statistics for MG and MT datasets (**Table 3** in the paper)."
   ]
  },
  {
   "cell_type": "code",
   "execution_count": null,
   "metadata": {},
   "outputs": [],
   "source": [
    "stats_df = pd.DataFrame(data={\n",
    "                   \"Transporter genes\": [\"{} ({}%)\".format(mg_num_trans_genes,mg_num_trans_genes_p),\"{} ({}%)\".format(mt_num_trans_genes,mt_num_trans_genes_p)],\n",
    "                   \"Transporter mean\": [\"{}%\".format(mg_transcov_mean),\"{}%\".format(mt_transcov_mean)],\n",
    "                   \"Transporter min\": [\"{}%\".format(mg_transcov_min),\"{}%\".format(mt_transcov_min)],\n",
    "                   \"Transporter max\": [\"{}%\".format(mg_transcov_max),\"{}%\".format(mt_transcov_max)],\n",
    "                   \"Transporter std\": [\"{}%\".format(mg_transcov_std),\"{}%\".format(mt_transcov_std)]},index=[\"MG\",\"MT\"]).T\n",
    "stats_df.to_csv(\"results/Table3.tsv\",sep=\"\\t\")\n",
    "stats_df"
   ]
  },
  {
   "cell_type": "markdown",
   "metadata": {},
   "source": [
    "Do the same with the selected transporters."
   ]
  },
  {
   "cell_type": "code",
   "execution_count": null,
   "metadata": {},
   "outputs": [],
   "source": [
    "mg_select_num_trans_genes, mg_select_num_trans_genes_p, mg_select_transcov_mean, mg_select_transcov_min, mg_select_transcov_max, mg_select_transcov_std = generate_transporter_stats(mg_select_transcov)"
   ]
  },
  {
   "cell_type": "code",
   "execution_count": null,
   "metadata": {},
   "outputs": [],
   "source": [
    "mt_select_num_trans_genes, mt_select_num_trans_genes_p, mt_select_transcov_mean, mt_select_transcov_min, mt_select_transcov_max, mt_select_transcov_std = generate_transporter_stats(mt_select_transcov)"
   ]
  },
  {
   "cell_type": "code",
   "execution_count": null,
   "metadata": {},
   "outputs": [],
   "source": [
    "select_stats_df = pd.DataFrame(data={\n",
    "                   \"Selected transporter genes\": [\"{} ({}%)\".format(mg_select_num_trans_genes,mg_select_num_trans_genes_p),\"{} ({}%)\".format(mt_select_num_trans_genes,mt_select_num_trans_genes_p)],\n",
    "                   \"Selected transporter mean\": [\"{}%\".format(mg_select_transcov_mean),\"{}%\".format(mt_select_transcov_mean)],\n",
    "                   \"Selected transporter min\": [\"{}%\".format(mg_select_transcov_min),\"{}%\".format(mt_select_transcov_min)],\n",
    "                   \"Selected transporter max\": [\"{}%\".format(mg_select_transcov_max),\"{}%\".format(mt_select_transcov_max)],\n",
    "                   \"Selected transporter std\": [\"{}%\".format(mg_select_transcov_std),\"{}%\".format(mt_select_transcov_std)]},index=[\"mg_select\",\"mt_select\"]).T\n",
    "select_stats_df.to_csv(\"results/selected_transporter_stats.tab\",sep=\"\\t\")\n",
    "select_stats_df"
   ]
  },
  {
   "cell_type": "markdown",
   "metadata": {},
   "source": [
    "## Generate kingdom/phylum level taxonomic plots"
   ]
  },
  {
   "cell_type": "code",
   "execution_count": null,
   "metadata": {},
   "outputs": [],
   "source": [
    "def get_euk_taxa(taxa, df, rank):\n",
    "    euk_taxa = []\n",
    "    for t in taxa:\n",
    "        k = df.loc[df[rank]==t, \"superkingdom\"].unique()[0]\n",
    "        if k==\"Eukaryota\":\n",
    "            euk_taxa.append(t)\n",
    "    return euk_taxa"
   ]
  },
  {
   "cell_type": "code",
   "execution_count": null,
   "metadata": {},
   "outputs": [],
   "source": [
    "def set_euk_hatches(ax):\n",
    "    for patch in ax.patches:\n",
    "        t = color2taxmap[patch.properties()['facecolor'][0:-1]]\n",
    "        if t in euk_taxa:\n",
    "            patch.set_hatch(\"////\")"
   ]
  },
  {
   "cell_type": "markdown",
   "metadata": {},
   "source": [
    "Generate profiles for metagenomes."
   ]
  },
  {
   "cell_type": "code",
   "execution_count": null,
   "metadata": {},
   "outputs": [],
   "source": [
    "# Get sum of abundances at superkingdom level\n",
    "mg_k = mg_cov.groupby(\"superkingdom\").sum()\n",
    "# Normalize to %\n",
    "mg_kn = mg_k.div(mg_k.sum())*100\n",
    "mg_kn = mg_kn.loc[[\"Archaea\",\"Bacteria\",\"Eukaryota\",\"Viruses\",\"Unclassified.sequences\",\"other sequences\"]]\n",
    "mg_kn = mg_kn.loc[mg_kn.sum(axis=1).sort_values(ascending=False).index]\n",
    "# Swtich Proteobacterial classes to phylum\n",
    "mg_cov.loc[mg_cov.phylum==\"Proteobacteria\",\"phylum\"] = mg_cov.loc[mg_cov.phylum==\"Proteobacteria\",\"class\"]\n",
    "# Normalize at phylum level\n",
    "mg_p = mg_cov.groupby(\"phylum\").sum()\n",
    "mg_pn = mg_p.div(mg_p.sum())*100"
   ]
  },
  {
   "cell_type": "markdown",
   "metadata": {},
   "source": [
    "Create the taxonomic overview of the 7 most abundant phyla in the metagenomic dataset. This is **Figure 1** in the paper."
   ]
  },
  {
   "cell_type": "code",
   "execution_count": null,
   "metadata": {},
   "outputs": [],
   "source": [
    "select_taxa = [\"Verrucomicrobia\",\"Actinobacteria\",\"Alphaproteobacteria\",\"Gammaproteobacteria\",\"Cyanobacteria\",\"Bacteroidetes\",\"Betaproteobacteria\"]\n",
    "# Sort taxa by mean abundance\n",
    "taxa_order = mg_pn.loc[select_taxa].mean(axis=1).sort_values(ascending=False).index\n",
    "ax = mg_pn.loc[taxa_order].T.plot(kind=\"area\",stacked=True)\n",
    "ax.legend(bbox_to_anchor=(1,1))\n",
    "ax.set_ylabel(\"% normalized abundance\");\n",
    "xticks = list(range(0,33))\n",
    "ax.set_xticks(xticks);\n",
    "ax.set_xticklabels(mg_pn.columns, rotation=90);\n",
    "plt.savefig(\"results/Figure1.svg\", bbox_inches=\"tight\")"
   ]
  },
  {
   "cell_type": "markdown",
   "metadata": {},
   "source": [
    "Generate profiles for metatranscriptomes."
   ]
  },
  {
   "cell_type": "code",
   "execution_count": null,
   "metadata": {},
   "outputs": [],
   "source": [
    "# Get sum of abundances at superkingdom level\n",
    "mt_k = mt_cov.groupby(\"superkingdom\").sum()\n",
    "# Normalize to %\n",
    "mt_kn = mt_k.div(mt_k.sum())*100\n",
    "mt_kn = mt_kn.loc[[\"Archaea\",\"Bacteria\",\"Eukaryota\",\"Viruses\",\"Unclassified.sequences\",\"other sequences\"]]\n",
    "mt_kn = mt_kn.loc[mt_kn.sum(axis=1).sort_values(ascending=False).index]\n",
    "# Swtich Proteobacterial classes to phylum\n",
    "mt_cov.loc[mt_cov.phylum==\"Proteobacteria\",\"phylum\"] = mt_cov.loc[mt_cov.phylum==\"Proteobacteria\",\"class\"]\n",
    "# Normalize at phylum level\n",
    "mt_p = mt_cov.groupby(\"phylum\").sum()\n",
    "mt_pn = mt_p.div(mt_p.sum())*100"
   ]
  },
  {
   "cell_type": "markdown",
   "metadata": {},
   "source": [
    "Get common taxa for both datasets by taking the union of the top 15 most abundant taxa"
   ]
  },
  {
   "cell_type": "code",
   "execution_count": null,
   "metadata": {},
   "outputs": [],
   "source": [
    "mg_taxa = mg_pn.mean(axis=1).sort_values(ascending=False).head(15).index\n",
    "mt_taxa = mt_pn.mean(axis=1).sort_values(ascending=False).head(15).index\n",
    "taxa = set(mg_taxa).union(set(mt_taxa))"
   ]
  },
  {
   "cell_type": "markdown",
   "metadata": {},
   "source": [
    "Single out eukaryotic taxa"
   ]
  },
  {
   "cell_type": "code",
   "execution_count": null,
   "metadata": {},
   "outputs": [],
   "source": [
    "euk_taxa = get_euk_taxa(taxa, mg_cov, rank=\"phylum\")"
   ]
  },
  {
   "cell_type": "markdown",
   "metadata": {},
   "source": [
    "Sort the taxa by their mean abundance in the mg data"
   ]
  },
  {
   "cell_type": "code",
   "execution_count": null,
   "metadata": {},
   "outputs": [],
   "source": [
    "taxa_sort = mg_pn.loc[taxa].mean(axis=1).sort_values(ascending=False).index\n",
    "taxa_colors = dict(zip(taxa_sort,(sns.color_palette(\"Set1\",7)+sns.color_palette(\"Set2\",7)+sns.color_palette(\"Dark2\",5))))\n",
    "color2taxmap = {}\n",
    "for t, c in taxa_colors.items():\n",
    "    color2taxmap[c] = t"
   ]
  },
  {
   "cell_type": "markdown",
   "metadata": {},
   "source": [
    "Plot metagenome profiles"
   ]
  },
  {
   "cell_type": "code",
   "execution_count": null,
   "metadata": {},
   "outputs": [],
   "source": [
    "fig,axes = plt.subplots(ncols=2,nrows=1, figsize=(12,4))\n",
    "# Plot the kingdoms\n",
    "ax1 = mg_kn.T.plot(kind=\"bar\",stacked=True,ax=axes[0])\n",
    "ax1.legend(loc=\"lower right\",fontsize=\"small\")\n",
    "ax1.set_ylabel(\"%\")\n",
    "\n",
    "# Plot the phyla\n",
    "ax2 = mg_pn.loc[taxa_sort].T.plot(kind=\"bar\",stacked=True, color=[taxa_colors[tax] for tax in taxa_sort], legend=None,ax=axes[1])\n",
    "set_euk_hatches(ax2)\n",
    "ax2.set_ylabel(\"%\")\n",
    "ax2.legend(bbox_to_anchor=(1,1),fontsize=\"small\");"
   ]
  },
  {
   "cell_type": "markdown",
   "metadata": {},
   "source": [
    "Plot metatranscriptome profiles"
   ]
  },
  {
   "cell_type": "code",
   "execution_count": null,
   "metadata": {
    "scrolled": true
   },
   "outputs": [],
   "source": [
    "fig,axes = plt.subplots(ncols=2,nrows=1, figsize=(12,4))\n",
    "# Plot the kingdoms\n",
    "ax1 = mt_kn.T.plot(kind=\"bar\",stacked=True,ax=axes[0])\n",
    "ax1.legend(loc=\"lower center\",fontsize=\"small\")\n",
    "ax1.set_ylabel(\"%\")\n",
    "\n",
    "# Plot the phyla\n",
    "ax2 = mt_pn.loc[taxa_sort].T.plot(kind=\"bar\",stacked=True, color=[taxa_colors[tax] for tax in taxa_sort], legend=None,ax=axes[1])\n",
    "set_euk_hatches(ax2)\n",
    "ax2.set_ylabel(\"%\")\n",
    "ax2.legend(bbox_to_anchor=(1,1),fontsize=\"small\");"
   ]
  },
  {
   "cell_type": "markdown",
   "metadata": {},
   "source": [
    "Calculate total number of orders."
   ]
  },
  {
   "cell_type": "code",
   "execution_count": null,
   "metadata": {},
   "outputs": [],
   "source": [
    "mg_ordersum = mg_cov.groupby(\"order\").sum()\n",
    "mg_total_orders = len(mg_ordersum.loc[mg_ordersum.sum(axis=1)>0])\n",
    "print(\"{} orders in the entire mg dataset\".format(mg_total_orders))\n",
    "\n",
    "mg_trans_ordersum = mg_select_transcov.groupby(\"order\").sum()\n",
    "mg_trans_total_orders = len(mg_trans_ordersum.loc[mg_trans_ordersum.sum(axis=1)>0])\n",
    "print(\"{} orders in the transporter mg dataset\".format(mg_trans_total_orders))"
   ]
  },
  {
   "cell_type": "code",
   "execution_count": null,
   "metadata": {},
   "outputs": [],
   "source": [
    "mt_ordersum = mt_cov.groupby(\"order\").sum()\n",
    "mt_total_orders = len(mt_ordersum.loc[mt_ordersum.sum(axis=1)>0])\n",
    "print(\"{} orders in the entire mt dataset\".format(mt_total_orders))\n",
    "\n",
    "mt_trans_ordersum = mt_select_transcov.groupby(\"order\").sum()\n",
    "mt_trans_total_orders = len(mt_trans_ordersum.loc[mt_trans_ordersum.sum(axis=1)>0])\n",
    "print(\"{} orders in the transporter mt dataset\".format(mt_trans_total_orders))"
   ]
  },
  {
   "cell_type": "markdown",
   "metadata": {},
   "source": [
    "## Calculate and plot distributions per taxonomic subsets."
   ]
  },
  {
   "cell_type": "markdown",
   "metadata": {},
   "source": [
    "Extract ORFs belonging to each subset."
   ]
  },
  {
   "cell_type": "code",
   "execution_count": null,
   "metadata": {},
   "outputs": [],
   "source": [
    "cya_orfs = mg_transcov.loc[mg_transcov.phylum==\"Cyanobacteria\"].index\n",
    "bac_orfs = mg_transcov.loc[(mg_transcov.phylum!=\"Cyanobacteria\")&(mg_transcov.superkingdom==\"Bacteria\")].index\n",
    "euk_orfs = mg_transcov.loc[mg_transcov.superkingdom==\"Eukaryota\"].index"
   ]
  },
  {
   "cell_type": "markdown",
   "metadata": {},
   "source": [
    "Calculate contribution of taxonomic subsets to the identified transporters."
   ]
  },
  {
   "cell_type": "code",
   "execution_count": null,
   "metadata": {},
   "outputs": [],
   "source": [
    "taxgroup_df = pd.DataFrame(columns=[\"MG\",\"MT\"],index=[\"Bacteria\",\"Cyanobacteria\",\"Eukaryota\"])"
   ]
  },
  {
   "cell_type": "code",
   "execution_count": null,
   "metadata": {},
   "outputs": [],
   "source": [
    "mg_all_transcov_info = pd.merge(transinfo,mg_transcov,left_index=True,right_on=\"transporter\")\n",
    "mg_bac_transcov_info = pd.merge(transinfo,mg_transcov.loc[bac_orfs],left_index=True,right_on=\"transporter\")\n",
    "mg_euk_transcov_info = pd.merge(transinfo,mg_transcov.loc[euk_orfs],left_index=True,right_on=\"transporter\")\n",
    "mg_cya_transcov_info = pd.merge(transinfo,mg_transcov.loc[cya_orfs],left_index=True,right_on=\"transporter\")"
   ]
  },
  {
   "cell_type": "code",
   "execution_count": null,
   "metadata": {},
   "outputs": [],
   "source": [
    "mt_all_transcov_info = pd.merge(transinfo,mt_transcov,left_index=True,right_on=\"transporter\")\n",
    "mt_bac_transcov_info = pd.merge(transinfo,mt_transcov.loc[bac_orfs],left_index=True,right_on=\"transporter\")\n",
    "mt_euk_transcov_info = pd.merge(transinfo,mt_transcov.loc[euk_orfs],left_index=True,right_on=\"transporter\")\n",
    "mt_cya_transcov_info = pd.merge(transinfo,mt_transcov.loc[cya_orfs],left_index=True,right_on=\"transporter\")"
   ]
  },
  {
   "cell_type": "code",
   "execution_count": null,
   "metadata": {},
   "outputs": [],
   "source": [
    "mg_cya_part = mg_cya_transcov_info.groupby(\"transporter\").sum().sum().div(mg_all_transcov_info.groupby(\"transporter\").sum().sum())*100\n",
    "mi,ma,me = mg_cya_part.min(),mg_cya_part.max(),mg_cya_part.mean()\n",
    "taxgroup_df.loc[\"Cyanobacteria\",\"MG\"] = \"{}% ({}-{}%)\".format(round(me,2),round(mi,2),round(ma,2))\n",
    "\n",
    "mg_euk_part = mg_euk_transcov_info.groupby(\"transporter\").sum().sum().div(mg_all_transcov_info.groupby(\"transporter\").sum().sum())*100\n",
    "mi,ma,me = mg_euk_part.min(),mg_euk_part.max(),mg_euk_part.mean()\n",
    "taxgroup_df.loc[\"Eukaryota\",\"MG\"] = \"{}% ({}-{}%)\".format(round(me,2),round(mi,2),round(ma,2))\n",
    "\n",
    "mg_bac_part = mg_bac_transcov_info.groupby(\"transporter\").sum().sum().div(mg_all_transcov_info.groupby(\"transporter\").sum().sum())*100\n",
    "mi,ma,me = mg_bac_part.min(),mg_bac_part.max(),mg_bac_part.mean()\n",
    "taxgroup_df.loc[\"Bacteria\",\"MG\"] = \"{}% ({}-{}%)\".format(round(me,2),round(mi,2),round(ma,2))"
   ]
  },
  {
   "cell_type": "code",
   "execution_count": null,
   "metadata": {},
   "outputs": [],
   "source": [
    "mt_cya_part = mt_cya_transcov_info.groupby(\"transporter\").sum().sum().div(mt_all_transcov_info.groupby(\"transporter\").sum().sum())*100\n",
    "mi,ma,me = mt_cya_part.min(),mt_cya_part.max(),mt_cya_part.mean()\n",
    "taxgroup_df.loc[\"Cyanobacteria\",\"MT\"] = \"{}% ({}-{}%)\".format(round(me,2),round(mi,2),round(ma,2))\n",
    "\n",
    "mt_euk_part = mt_euk_transcov_info.groupby(\"transporter\").sum().sum().div(mt_all_transcov_info.groupby(\"transporter\").sum().sum())*100\n",
    "mi,ma,me = mt_euk_part.min(),mt_euk_part.max(),mt_euk_part.mean()\n",
    "taxgroup_df.loc[\"Eukaryota\",\"MT\"] = \"{}% ({}-{}%)\".format(round(me,2),round(mi,2),round(ma,2))\n",
    "\n",
    "mt_bac_part = mt_bac_transcov_info.groupby(\"transporter\").sum().sum().div(mt_all_transcov_info.groupby(\"transporter\").sum().sum())*100\n",
    "mi,ma,me = mt_bac_part.min(),mt_bac_part.max(),mt_bac_part.mean()\n",
    "taxgroup_df.loc[\"Bacteria\",\"MT\"] = \"{}% ({}-{}%)\".format(round(me,2),round(mi,2),round(ma,2))"
   ]
  },
  {
   "cell_type": "code",
   "execution_count": null,
   "metadata": {},
   "outputs": [],
   "source": [
    "taxgroup_df"
   ]
  },
  {
   "cell_type": "markdown",
   "metadata": {},
   "source": [
    "### Taxonomic subsets per substrate category"
   ]
  },
  {
   "cell_type": "code",
   "execution_count": null,
   "metadata": {},
   "outputs": [],
   "source": [
    "def calculate_mean_total_substrate_subset(df,df_sum,subset,var_name=\"Sample\",value_name=\"%\"):\n",
    "    cols = [\"fam\",\"transporter\",\"substrate_category\",\"name\"]\n",
    "    # Sum to protein family\n",
    "    x = df.groupby([\"fam\",\"transporter\",\"substrate_category\",\"name\"]).sum().reset_index()\n",
    "    cols.pop(cols.index(\"fam\"))\n",
    "    # Calculate mean of transporters\n",
    "    x.groupby(cols).mean().reset_index()\n",
    "    xt = x.copy()\n",
    "    # Normalize to sum of all transporters\n",
    "    x.iloc[:,4:] = x.iloc[:,4:].div(df_sum)*100\n",
    "    # Sum percent to substrate category\n",
    "    x = x.groupby(\"substrate_category\").sum()\n",
    "    # Melt dataframe and add subset column\n",
    "    x[\"substrate_category\"] = x.index\n",
    "    xm = pd.melt(x,id_vars=\"substrate_category\", var_name=\"Sample\",value_name=\"%\")\n",
    "    xm = xm.assign(Subset=pd.Series(data=subset,index=xm.index))\n",
    "    return xm,xt"
   ]
  },
  {
   "cell_type": "code",
   "execution_count": null,
   "metadata": {},
   "outputs": [],
   "source": [
    "# Get contribution of bacterial transporters to total for substrate category\n",
    "mg_bac_cat_melt,mg_bac_cat = calculate_mean_total_substrate_subset(mg_bac_transcov_info,mg_trans.sum(),\"Bacteria\")\n",
    "# Get contribution of eukaryotic transporters to total for substrate category\n",
    "mg_euk_cat_melt,mg_euk_cat = calculate_mean_total_substrate_subset(mg_euk_transcov_info,mg_trans.sum(),\"Eukaryota\")\n",
    "# Get contribution of cyanobacterial transporters to total for substrate category\n",
    "mg_cya_cat_melt,mg_cya_cat = calculate_mean_total_substrate_subset(mg_cya_transcov_info,mg_trans.sum(),\"Cyanobacteria\")"
   ]
  },
  {
   "cell_type": "code",
   "execution_count": null,
   "metadata": {},
   "outputs": [],
   "source": [
    "# Get contribution of bacterial transporters to total for substrate category\n",
    "mt_bac_cat_melt,mt_bac_cat = calculate_mean_total_substrate_subset(mt_bac_transcov_info,mt_trans.sum(),\"Bacteria\")\n",
    "# Get contribution of eukaryotic transporters to total for substrate category\n",
    "mt_euk_cat_melt,mt_euk_cat = calculate_mean_total_substrate_subset(mt_euk_transcov_info,mt_trans.sum(),\"Eukaryota\")\n",
    "# Get contribution of cyanobacterial transporters to total for substrate category\n",
    "mt_cya_cat_melt,mt_cya_cat = calculate_mean_total_substrate_subset(mt_cya_transcov_info,mt_trans.sum(),\"Cyanobacteria\")"
   ]
  },
  {
   "cell_type": "code",
   "execution_count": null,
   "metadata": {},
   "outputs": [],
   "source": [
    "# Concatenate dataframes for metagenomes\n",
    "mg_subsets_cat = pd.concat([pd.concat([mg_bac_cat_melt,mg_euk_cat_melt]),mg_cya_cat_melt])\n",
    "mg_subsets_cat = mg_subsets_cat.assign(dataset=pd.Series(data=\"MG\",index=mg_subsets_cat.index))"
   ]
  },
  {
   "cell_type": "code",
   "execution_count": null,
   "metadata": {},
   "outputs": [],
   "source": [
    "# Concatenate dataframes for metagenomes\n",
    "mt_subsets_cat = pd.concat([pd.concat([mt_bac_cat_melt,mt_euk_cat_melt]),mt_cya_cat_melt])\n",
    "mt_subsets_cat = mt_subsets_cat.assign(dataset=pd.Series(data=\"MT\",index=mt_subsets_cat.index))"
   ]
  },
  {
   "cell_type": "markdown",
   "metadata": {},
   "source": [
    "**Concatenate MG and MT**"
   ]
  },
  {
   "cell_type": "code",
   "execution_count": null,
   "metadata": {},
   "outputs": [],
   "source": [
    "subsets_cat = pd.concat([mg_subsets_cat,mt_subsets_cat])"
   ]
  },
  {
   "cell_type": "markdown",
   "metadata": {},
   "source": [
    "### Plot substrate category distributions"
   ]
  },
  {
   "cell_type": "code",
   "execution_count": null,
   "metadata": {},
   "outputs": [],
   "source": [
    "cats = transinfo.substrate_category.unique()"
   ]
  },
  {
   "cell_type": "code",
   "execution_count": null,
   "metadata": {},
   "outputs": [],
   "source": [
    "# Update Eukaryota subset label\n",
    "subsets_cat.loc[subsets_cat.Subset==\"Eukaryota\",\"Subset\"] = [\"Picoeukaryota\"]*len(subsets_cat.loc[subsets_cat.Subset==\"Eukaryota\",\"Subset\"])"
   ]
  },
  {
   "cell_type": "code",
   "execution_count": null,
   "metadata": {},
   "outputs": [],
   "source": [
    "sns.set(font_scale=0.8)\n",
    "ax = sns.catplot(kind=\"bar\",data=subsets_cat.loc[subsets_cat.substrate_category.isin(cats)],hue=\"dataset\", \n",
    "                 y=\"substrate_category\", x=\"%\", col=\"Subset\",\n",
    "                    errwidth=1, height=3, palette=\"Set1\", aspect=1)\n",
    "ax.set_titles(\"{col_name}\")\n",
    "ax.set_axis_labels(\"% of normalized transporter abundance\",\"Substrate category\")\n",
    "plt.savefig(\"results/Figure3.svg\", bbox_inches=\"tight\")"
   ]
  }
 ],
 "metadata": {
  "kernelspec": {
   "display_name": "Python 3",
   "language": "python",
   "name": "python3"
  },
  "language_info": {
   "codemirror_mode": {
    "name": "ipython",
    "version": 3
   },
   "file_extension": ".py",
   "mimetype": "text/x-python",
   "name": "python",
   "nbconvert_exporter": "python",
   "pygments_lexer": "ipython3",
   "version": "3.6.7"
  }
 },
 "nbformat": 4,
 "nbformat_minor": 2
}
