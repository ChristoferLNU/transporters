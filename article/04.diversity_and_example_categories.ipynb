{
 "cells": [
  {
   "cell_type": "markdown",
   "metadata": {},
   "source": [
    "# Calculating functional and taxonomic diversity of transporters"
   ]
  },
  {
   "cell_type": "markdown",
   "metadata": {},
   "source": [
    "## Overview"
   ]
  },
  {
   "cell_type": "markdown",
   "metadata": {},
   "source": [
    "Here we will use the [Shannon diversity index](https://en.wikipedia.org/wiki/Diversity_index) to calculate both taxonomic diversity of transporters and functional diversity of most abundant taxa in each sample."
   ]
  },
  {
   "cell_type": "code",
   "execution_count": null,
   "metadata": {},
   "outputs": [],
   "source": [
    "import pandas as pd, matplotlib.pyplot as plt, seaborn as sns\n",
    "import matplotlib.patches as mpatches\n",
    "from scipy.stats import spearmanr, wilcoxon\n",
    "import numpy as np\n",
    "%config InlineBackend.figure_format = 'svg'\n",
    "%matplotlib inline\n",
    "plt.style.use('ggplot')"
   ]
  },
  {
   "cell_type": "markdown",
   "metadata": {},
   "source": [
    "## Functionality"
   ]
  },
  {
   "cell_type": "code",
   "execution_count": null,
   "metadata": {},
   "outputs": [],
   "source": [
    "def filter_low_abundance(df, f=0.5):\n",
    "    # Calculate mean abundance of transporters\n",
    "    df_trans_mean = df.groupby([\"fam\",\"transporter\"]).sum().reset_index().groupby([\"transporter\"]).mean()\n",
    "    # Normalize to percent\n",
    "    n = df_trans_mean.div(df_trans_mean.sum())*100\n",
    "    # Filter to those with max % >= to the threshold\n",
    "    n = n.loc[n.max(axis=1)>=f]\n",
    "    return set(n.index)"
   ]
  },
  {
   "cell_type": "code",
   "execution_count": null,
   "metadata": {},
   "outputs": [],
   "source": [
    "def shannon_proportions(counts,base=2):\n",
    "    '''Modified version of shannon to handle proportions instead of absolute counts.'''\n",
    "    # Generate list of floats\n",
    "    counts = [float(item) for item in counts]\n",
    "    counts = np.asarray(counts)\n",
    "    if counts.sum()==0: return -1,0\n",
    "    # frequencies are \n",
    "    freqs = counts / counts.sum()\n",
    "    nonzero_freqs = freqs[freqs.nonzero()]\n",
    "    return -(nonzero_freqs * np.log(nonzero_freqs)).sum() / np.log(base),len(nonzero_freqs)"
   ]
  },
  {
   "cell_type": "code",
   "execution_count": null,
   "metadata": {},
   "outputs": [],
   "source": [
    "def transporter_taxonomic_diversity(df,ranks,transporters,data_type,taxa):\n",
    "    data = pd.DataFrame(columns=[\"rank\",\"sample\",\"transporter\",\"dataset\",\"taxa\",\"diversity\",\"num_taxa\"])\n",
    "    index = -1\n",
    "    for rank in ranks:\n",
    "        # Sum to abundance per family for each rank\n",
    "        tmp_sum = df.groupby([rank,\"fam\",\"transporter\"]).sum().reset_index()\n",
    "        # Get mean transporter abundance for each rank\n",
    "        tmp_mean = tmp_sum.groupby([\"transporter\",rank]).mean().reset_index()\n",
    "        samples = tmp_mean.columns[2:]\n",
    "        for transporter in transporters:\n",
    "            # Get transporter data\n",
    "            tmp_trans = tmp_mean.loc[tmp_mean.transporter==transporter] \n",
    "            # Sum for the current rank and transporter\n",
    "            tmp_trans_rank = tmp_trans.groupby(rank).sum() \n",
    "            # Normalize to % in each sample\n",
    "            tmp_trans_rank_norm = tmp_trans_rank.div(tmp_trans_rank.sum())*100\n",
    "            # Fill gaps\n",
    "            tmp_trans_rank_norm.fillna(0,inplace=True)\n",
    "            # For each sample, calculate diversity and number of taxa for this transporter\n",
    "            for sample in samples:\n",
    "                div,num_taxa = shannon_proportions(tmp_trans_rank_norm[sample])\n",
    "                index+=1\n",
    "                df_tmp = pd.DataFrame(index=[index],data={\"rank\":rank,\"taxa\":taxa,\"dataset\":data_type,\"sample\":sample,\"transporter\":transporter,\"diversity\":div,\"num_taxa\":num_taxa})\n",
    "                data = pd.concat([data,df_tmp])\n",
    "    return data"
   ]
  },
  {
   "cell_type": "code",
   "execution_count": null,
   "metadata": {},
   "outputs": [],
   "source": [
    "def taxonomic_functional_diversity(df,rank,data_type,t_quantile=0.9):\n",
    "    # Create empty dataframe\n",
    "    data = pd.DataFrame(columns=[\"taxa\",\"sample\",\"type\",\"diversity\",\"num_transporters\"])\n",
    "    # Sum to abundance per family for each rank\n",
    "    tmp_sum = df.groupby([rank,\"fam\",\"transporter\"]).sum().reset_index()\n",
    "    # Get mean transporter abundance for each rank\n",
    "    tmp_mean = tmp_sum.groupby([\"transporter\",rank]).mean().reset_index()\n",
    "    # Get total transporter abundance for each rank (sum over all transporters)\n",
    "    # Also remove unclassified orders and environmental samples\n",
    "    tmp_mean = tmp_mean.loc[~tmp_mean[rank].str.contains(\"unclassified\", case=False)]\n",
    "    tmp_mean = tmp_mean.loc[~tmp_mean[rank].str.contains(\"environmental samples\", case=False)]\n",
    "    tmp_trans_tax_sum = tmp_mean.groupby(rank).sum()    \n",
    "    samples = tmp_mean.columns[2:]\n",
    "    index=-1\n",
    "    for sample in samples:\n",
    "        # Calculate taxa that make up the quantiles for the transporter data\n",
    "        q_trans_taxa = list(tmp_trans_tax_sum.loc[tmp_trans_tax_sum[sample]>tmp_trans_tax_sum[sample].quantile(q=t_quantile)].index)\n",
    "        sample_taxa = q_trans_taxa\n",
    "        for tax in sample_taxa:\n",
    "            # Get tax data\n",
    "            tmp_tax_trans = tmp_mean.loc[tmp_mean[rank]==tax,sample] \n",
    "            # Normalize\n",
    "            tmp_tax_trans_norm = tmp_tax_trans.div(tmp_tax_trans.sum())*100\n",
    "            # Calculate diversity and number of transporters for this order in this sample\n",
    "            div,num_transporters = shannon_proportions(tmp_tax_trans_norm)\n",
    "            index+=1\n",
    "            # Add to dataframe\n",
    "            df_tmp = pd.DataFrame(index=[index],data={\"taxa\":tax,\"type\":data_type,\"sample\":sample,\"diversity\":div,\"num_transporters\":num_transporters})\n",
    "            data = pd.concat([data,df_tmp])\n",
    "    taxsort = list(tmp_trans_tax_sum.loc[list(set(data.taxa))].mean(axis=1).sort_values(ascending=False).index)\n",
    "    return data,taxsort"
   ]
  },
  {
   "cell_type": "markdown",
   "metadata": {},
   "source": [
    "## Read sample groups"
   ]
  },
  {
   "cell_type": "code",
   "execution_count": null,
   "metadata": {},
   "outputs": [],
   "source": [
    "mg_groups = pd.read_csv(\"results/mg/samplegroups.tab\", index_col=0, sep=\"\\t\")\n",
    "mg_groups.rename(index=lambda x: str(x), inplace=True)"
   ]
  },
  {
   "cell_type": "code",
   "execution_count": null,
   "metadata": {},
   "outputs": [],
   "source": [
    "mt_groups = pd.read_csv(\"results/mt/samplegroups.tab\", index_col=0, sep=\"\\t\")\n",
    "mt_groups.rename(index=lambda x: str(x), inplace=True)"
   ]
  },
  {
   "cell_type": "markdown",
   "metadata": {},
   "source": [
    "## Read transporter/taxonomic data"
   ]
  },
  {
   "cell_type": "code",
   "execution_count": null,
   "metadata": {},
   "outputs": [],
   "source": [
    "mg_taxcov = pd.read_table(\"results/mg/select_trans_genes.tpm.tsv\", index_col=0)\n",
    "mt_taxcov = pd.read_table(\"results/mt/select_trans_genes.tpm.tsv\", index_col=0)\n",
    "\n",
    "mg_all_taxcov = pd.read_table(\"results/mg/all_transporters.tpm.taxonomy.tsv.gz\", index_col=0)\n",
    "mt_all_taxcov = pd.read_table(\"results/mt/all_transporters.tpm.taxonomy.tsv.gz\", index_col=0)\n",
    "\n",
    "mg_all_taxraw = pd.read_table(\"results/mg/all_transporters.raw_counts.taxonomy.tsv.gz\", index_col=0)\n",
    "mt_all_taxraw = pd.read_table(\"results/mt/all_transporters.raw_counts.taxonomy.tsv.gz\", index_col=0)"
   ]
  },
  {
   "cell_type": "markdown",
   "metadata": {},
   "source": [
    "Filter low abundant transporters."
   ]
  },
  {
   "cell_type": "code",
   "execution_count": null,
   "metadata": {},
   "outputs": [],
   "source": [
    "f = 0.5\n",
    "mg_filtered = filter_low_abundance(mg_all_taxcov, f=f)\n",
    "mt_filtered = filter_low_abundance(mt_all_taxcov, f=f)\n",
    "all_filtered = list(mg_filtered.union(mt_filtered))\n",
    "print(\"{} and {} ({} total) transporters with max % >= {} in the metagenomes and metatranscriptomes, respectively.\".format(len(mg_filtered), len(mt_filtered), len(all_filtered), f))"
   ]
  },
  {
   "cell_type": "code",
   "execution_count": null,
   "metadata": {},
   "outputs": [],
   "source": [
    "mg_all_taxcov = mg_all_taxcov.loc[mg_all_taxcov.transporter.isin(all_filtered)]\n",
    "mt_all_taxcov = mt_all_taxcov.loc[mt_all_taxcov.transporter.isin(all_filtered)]"
   ]
  },
  {
   "cell_type": "code",
   "execution_count": null,
   "metadata": {},
   "outputs": [],
   "source": [
    "mg_filtered_taxraw = mg_all_taxraw.loc[mg_all_taxraw.transporter.isin(all_filtered)]\n",
    "mt_filtered_taxraw = mt_all_taxraw.loc[mt_all_taxraw.transporter.isin(all_filtered)]"
   ]
  },
  {
   "cell_type": "markdown",
   "metadata": {},
   "source": [
    "Filter out orders to those that have at least 500 reads mapped on average across the datasets."
   ]
  },
  {
   "cell_type": "code",
   "execution_count": null,
   "metadata": {},
   "outputs": [],
   "source": [
    "mg_filtered_taxraw_ordermean = mg_filtered_taxraw.groupby(\"order\").sum().mean(axis=1)\n",
    "mg_filtered_orders = mg_filtered_taxraw_ordermean.loc[(mg_filtered_taxraw_ordermean>=500)&(~mg_filtered_taxraw_ordermean.index.str.match(\"Unclassified\"))].sort_values(ascending=False).index\n",
    "print(\"\\n\".join([\"{}: {} average reads\".format(x,np.round(mg_filtered_taxraw_ordermean.loc[x],0)) for x in mg_filtered_orders]))"
   ]
  },
  {
   "cell_type": "code",
   "execution_count": null,
   "metadata": {},
   "outputs": [],
   "source": [
    "mt_filtered_taxraw_ordermean = mt_filtered_taxraw.groupby(\"order\").sum().mean(axis=1)\n",
    "mt_filtered_orders = mt_filtered_taxraw_ordermean.loc[(mt_filtered_taxraw_ordermean>=500)&(~mt_filtered_taxraw_ordermean.index.str.match(\"Unclassified\"))].sort_values(ascending=False).index\n",
    "list(mt_filtered_orders)\n",
    "print(\"\\n\".join([\"{}: {} average reads\".format(x,np.round(mt_filtered_taxraw_ordermean.loc[x],0)) for x in mt_filtered_orders]))"
   ]
  },
  {
   "cell_type": "markdown",
   "metadata": {},
   "source": [
    "Read information on transporters."
   ]
  },
  {
   "cell_type": "code",
   "execution_count": null,
   "metadata": {},
   "outputs": [],
   "source": [
    "transinfo = pd.read_csv(\"selected_transporters_classified.tab\", index_col=0, header=0, sep=\"\\t\")"
   ]
  },
  {
   "cell_type": "code",
   "execution_count": null,
   "metadata": {},
   "outputs": [],
   "source": [
    "categories = [\"Anions\",\"Cations\",\"NH3 Nitrate\",\"Urea\",\"Phosphate\",\"Phosphonate\",\"AA peptide\",\"Nucleoside\",\"Carbohydrate\"]"
   ]
  },
  {
   "cell_type": "code",
   "execution_count": null,
   "metadata": {},
   "outputs": [],
   "source": [
    "genera = mg_all_taxcov.loc[(mg_all_taxcov.transporter.isin(transinfo.index))&(mg_all_taxcov[\"order\"].isin(mg_filtered_orders)),\"genus\"].unique()\n",
    "len([x for x in genera if not \"Unclassified\" in x])"
   ]
  },
  {
   "cell_type": "markdown",
   "metadata": {},
   "source": [
    "Calculate functional diversity per sample for taxa at rank order. **For each sample, only consider taxa that are part of the upper 90% quantile.** This will hopefully make the functional diversity estimates more reliable."
   ]
  },
  {
   "cell_type": "code",
   "execution_count": null,
   "metadata": {},
   "outputs": [],
   "source": [
    "mg_tax_fun_div,mg_taxsort = taxonomic_functional_diversity(mg_taxcov,rank=\"order\",t_quantile=0.9,data_type=\"mg\")"
   ]
  },
  {
   "cell_type": "code",
   "execution_count": null,
   "metadata": {},
   "outputs": [],
   "source": [
    "coldict = dict(zip(set(mg_filtered_orders).union(mt_filtered_orders),sns.color_palette(\"Set2\", n_colors=len(set(mg_filtered_orders).union(mt_filtered_orders)))))"
   ]
  },
  {
   "cell_type": "code",
   "execution_count": null,
   "metadata": {},
   "outputs": [],
   "source": [
    "fig,axes = plt.subplots(ncols=2,nrows=1,figsize=(10,3))\n",
    "ax1 = sns.pointplot(data=mg_tax_fun_div.loc[mg_tax_fun_div.taxa.isin(mg_filtered_orders)],y=\"diversity\",x=\"sample\",hue=\"taxa\",\n",
    "                    scale=0.5, ax=axes[0],palette=coldict, hue_order=mg_filtered_orders)\n",
    "ax1.set_xticklabels(ax1.get_xticklabels(),rotation=90, fontsize=8);\n",
    "ax1.legend_.remove()\n",
    "ax1.set_ylabel(\"Transporter diversity\", fontsize=10)\n",
    "\n",
    "ax2 = sns.pointplot(data=mg_tax_fun_div.loc[mg_tax_fun_div.taxa.isin(mg_filtered_orders)],y=\"num_transporters\",x=\"sample\",hue=\"taxa\",\n",
    "                    scale=0.5, ax=axes[1],palette=coldict, hue_order=mg_filtered_orders)\n",
    "ax2.set_xticklabels(ax2.get_xticklabels(),rotation=90, fontsize=8);\n",
    "ax2.legend(bbox_to_anchor=(1,1))\n",
    "ax2.set_ylabel(\"Number of transporters\", fontsize=10)\n",
    "\n",
    "plt.savefig(\"results/Figure4.svg\", bbox_inches=\"tight\")"
   ]
  },
  {
   "cell_type": "code",
   "execution_count": null,
   "metadata": {},
   "outputs": [],
   "source": [
    "mt_tax_fun_div,mt_taxsort = taxonomic_functional_diversity(mt_taxcov,rank=\"order\",t_quantile=0.9,data_type=\"mt\")"
   ]
  },
  {
   "cell_type": "code",
   "execution_count": null,
   "metadata": {
    "scrolled": true
   },
   "outputs": [],
   "source": [
    "fig,axes = plt.subplots(ncols=2,nrows=1,figsize=(10,3))\n",
    "ax1 = sns.pointplot(data=mt_tax_fun_div.loc[mt_tax_fun_div.taxa.isin(mt_filtered_orders)],y=\"diversity\",x=\"sample\",hue=\"taxa\",\n",
    "                    scale=0.5, ax=axes[0],palette=coldict, hue_order=mt_filtered_orders)\n",
    "ax1.set_xticklabels(ax1.get_xticklabels(),rotation=90, fontsize=8);\n",
    "ax1.legend_.remove()\n",
    "ax1.set_ylabel(\"Transporter diversity\", fontsize=10)\n",
    "\n",
    "ax2 = sns.pointplot(data=mt_tax_fun_div.loc[mt_tax_fun_div.taxa.isin(mt_filtered_orders)],y=\"num_transporters\",x=\"sample\",hue=\"taxa\",\n",
    "                    scale=0.5, ax=axes[1],palette=coldict, hue_order=mt_filtered_orders)\n",
    "ax2.set_xticklabels(ax2.get_xticklabels(),rotation=90, fontsize=8);\n",
    "ax2.legend(bbox_to_anchor=(1,1))\n",
    "ax2.set_ylabel(\"Number of transporters\", fontsize=10)"
   ]
  },
  {
   "cell_type": "markdown",
   "metadata": {},
   "source": [
    "## Calculate profiles for rank order"
   ]
  },
  {
   "cell_type": "code",
   "execution_count": null,
   "metadata": {},
   "outputs": [],
   "source": [
    "# Sum to protein family\n",
    "mg_order_famsum = mg_taxcov.groupby([\"fam\",\"transporter\",\"order\"]).sum().reset_index()\n",
    "# Take mean of transporter\n",
    "mg_order_transmean = mg_order_famsum.groupby([\"transporter\",\"order\"]).mean().reset_index()\n",
    "# Add substrate categories\n",
    "mg_order_transmean = pd.merge(transinfo, mg_order_transmean, left_index=True, right_on=\"transporter\")"
   ]
  },
  {
   "cell_type": "code",
   "execution_count": null,
   "metadata": {},
   "outputs": [],
   "source": [
    "# Sum to protein family\n",
    "mt_order_famsum = mt_taxcov.groupby([\"fam\",\"transporter\",\"order\"]).sum().reset_index()\n",
    "# Take mean of transporter\n",
    "mt_order_transmean = mt_order_famsum.groupby([\"transporter\",\"order\"]).mean().reset_index()\n",
    "# Add substrate categories\n",
    "mt_order_transmean = pd.merge(transinfo, mt_order_transmean, left_index=True, right_on=\"transporter\")"
   ]
  },
  {
   "cell_type": "code",
   "execution_count": null,
   "metadata": {},
   "outputs": [],
   "source": [
    "cats = [\"Anions\",\"Cations\",\"NH3 Nitrate\",\"Urea\",\"Phosphate\",\"Phosphonate\",\"AA peptide\",\"Nucleoside\",\"Carbohydrate\"]"
   ]
  },
  {
   "cell_type": "code",
   "execution_count": null,
   "metadata": {},
   "outputs": [],
   "source": [
    "mg_orders = [\"Pelagibacterales\",\"Flavobacteriales\",\"Cellvibrionales\",\"Rhodobacterales\"]\n",
    "mg_substrates = [\"AA peptide\",\"Anions\",\"Carbohydrate\",\"Cations\",\"Phosphate\",\"NH3 Nitrate\",\"Urea\",\"Phosphonate\"]\n",
    "mt_substrates = [\"AA peptide\",\"Anions\",\"Carbohydrate\",\"Cations\",\"Phosphate\",\"NH3 Nitrate\",\"Urea\",\"Phosphonate\"]"
   ]
  },
  {
   "cell_type": "code",
   "execution_count": null,
   "metadata": {},
   "outputs": [],
   "source": [
    "cat_cols = sns.color_palette(\"Paired\", 6) + sns.color_palette(\"Dark2\",4)[1:]\n",
    "cat_lut = dict(zip(map(str,cats),cat_cols))\n",
    "cat_lut[\"Other\"] = \"black\""
   ]
  },
  {
   "cell_type": "code",
   "execution_count": null,
   "metadata": {},
   "outputs": [],
   "source": [
    "fig, axes = plt.subplots(ncols=2, nrows=4, figsize=(10,9))\n",
    "all_axes = list(axes[0])+list(axes[1])+list(axes[2])+list(axes[3])\n",
    "\n",
    "substrates = []\n",
    "for i, o in enumerate(mg_filtered_orders):\n",
    "    _df = mg_order_transmean.loc[mg_order_transmean[\"order\"]==o].groupby(\"substrate_category\").sum()\n",
    "    _df = _df.loc[set(mg_substrates).intersection(_df.index)]\n",
    "    substrates+=list(_df.index)\n",
    "    ax = _df.T.plot(kind=\"bar\",stacked=True,ax=all_axes[i], legend=None, color=[cat_lut[x] for x in _df.index])\n",
    "    if i in [0,2,4,6]:\n",
    "        ax.set_ylabel(\"Transcripts per\\nmillion\", fontsize=10)\n",
    "    if i in [6,7]:\n",
    "        ax.set_xlabel(\"Date\", fontsize=10)\n",
    "    ax.set_title(o, fontsize=10)\n",
    "    ax.set_xticklabels(ax.get_xticklabels(), fontsize=9)\n",
    "plt.subplots_adjust(hspace=0.7, wspace=0.12)\n",
    "# Add legend\n",
    "handles = [mpatches.Patch(color=cat_lut[substrate], label=substrate) for substrate in sorted(set(substrates))]\n",
    "all_axes[3].legend(handles=handles, bbox_to_anchor=(1,1))\n",
    "plt.savefig(\"results/Figure5A.svg\", bbox_inches=\"tight\")"
   ]
  },
  {
   "cell_type": "code",
   "execution_count": null,
   "metadata": {},
   "outputs": [],
   "source": [
    "fig, axes = plt.subplots(ncols=2, nrows=4, figsize=(10,9))\n",
    "all_axes = list(axes[0])+list(axes[1])+list(axes[2])+list(axes[3])\n",
    "\n",
    "substrates = []\n",
    "for i, o in enumerate(mg_filtered_orders):\n",
    "    _df = mg_order_transmean.loc[mg_order_transmean[\"order\"]==o].groupby(\"substrate_category\").sum()\n",
    "    _df = _df.loc[set(mg_substrates).intersection(_df.index)]\n",
    "    _df = _df.div(_df.sum())*100\n",
    "    substrates+=list(_df.index)\n",
    "    ax = _df.T.plot(kind=\"bar\",stacked=True,ax=all_axes[i], legend=None, color=[cat_lut[x] for x in _df.index])\n",
    "    if i in [0,2,4,6]:\n",
    "        ax.set_ylabel(\"% of transporters\\nfor taxa\", fontsize=10)\n",
    "    if i in [6,7]:\n",
    "        ax.set_xlabel(\"Date\", fontsize=10)\n",
    "    ax.set_title(o, fontsize=10)\n",
    "    ax.set_xticklabels(ax.get_xticklabels(), fontsize=9)\n",
    "plt.subplots_adjust(hspace=0.7, wspace=0.12)\n",
    "# Add legend\n",
    "handles = [mpatches.Patch(color=cat_lut[substrate], label=substrate) for substrate in sorted(set(substrates))]\n",
    "all_axes[3].legend(handles=handles, bbox_to_anchor=(1,1))\n",
    "plt.savefig(\"results/Figure5B.svg\", bbox_inches=\"tight\")"
   ]
  },
  {
   "cell_type": "markdown",
   "metadata": {},
   "source": [
    "Metatranscriptomes."
   ]
  },
  {
   "cell_type": "code",
   "execution_count": null,
   "metadata": {},
   "outputs": [],
   "source": [
    "fig, axes = plt.subplots(ncols=2, nrows=2, figsize=(10,4.5))\n",
    "all_axes = list(axes[0])+list(axes[1])\n",
    "\n",
    "substrates = []\n",
    "for i, o in enumerate(mt_filtered_orders):\n",
    "    _df = mt_order_transmean.loc[mt_order_transmean[\"order\"]==o].groupby(\"substrate_category\").sum()\n",
    "    _df = _df.loc[set(mt_substrates).intersection(_df.index)]\n",
    "    substrates+=list(_df.index)\n",
    "    ax = _df.T.plot(kind=\"bar\",stacked=True,ax=all_axes[i], legend=None, color=[cat_lut[x] for x in _df.index])\n",
    "    if i in [0,2,4,6]:\n",
    "        ax.set_ylabel(\"Transcripts per\\nmillion\", fontsize=10)\n",
    "    if i in [6,7]:\n",
    "        ax.set_xlabel(\"Date\", fontsize=10)\n",
    "    ax.set_title(o, fontsize=10)\n",
    "    ax.set_xticklabels(ax.get_xticklabels(), fontsize=9)\n",
    "plt.subplots_adjust(hspace=0.7, wspace=0.12)\n",
    "# Add legend\n",
    "handles = [mpatches.Patch(color=cat_lut[substrate], label=substrate) for substrate in sorted(set(substrates))]\n",
    "all_axes[3].legend(handles=handles, bbox_to_anchor=(1,1))"
   ]
  },
  {
   "cell_type": "code",
   "execution_count": null,
   "metadata": {},
   "outputs": [],
   "source": [
    "fig, axes = plt.subplots(ncols=2, nrows=2, figsize=(10,4.5))\n",
    "all_axes = list(axes[0])+list(axes[1])\n",
    "\n",
    "substrates = []\n",
    "for i, o in enumerate(mt_filtered_orders):\n",
    "    _df = mt_order_transmean.loc[mt_order_transmean[\"order\"]==o].groupby(\"substrate_category\").sum()\n",
    "    _df = _df.loc[set(mt_substrates).intersection(_df.index)]\n",
    "    _df = _df.div(_df.sum())*100\n",
    "    substrates+=list(_df.index)\n",
    "    ax = _df.T.plot(kind=\"bar\",stacked=True,ax=all_axes[i], legend=None, color=[cat_lut[x] for x in _df.index])\n",
    "    if i in [0,2,4,6]:\n",
    "        ax.set_ylabel(\"% of transporters\\nfor taxa\", fontsize=10)\n",
    "    if i in [6,7]:\n",
    "        ax.set_xlabel(\"Date\", fontsize=10)\n",
    "    ax.set_title(o, fontsize=10)\n",
    "    ax.set_xticklabels(ax.get_xticklabels(), fontsize=9)\n",
    "plt.subplots_adjust(hspace=0.7, wspace=0.12)\n",
    "# Add legend\n",
    "handles = [mpatches.Patch(color=cat_lut[substrate], label=substrate) for substrate in sorted(set(substrates))]\n",
    "all_axes[3].legend(handles=handles, bbox_to_anchor=(1,1))"
   ]
  },
  {
   "cell_type": "markdown",
   "metadata": {},
   "source": [
    "### Correlations for shared dates"
   ]
  },
  {
   "cell_type": "markdown",
   "metadata": {},
   "source": [
    "Here we correlate abundance of transporters in the metagenomic vs. metatranscriptomic data for dates found with both datasets. We compare abundances for the overlapping dates and for the 4 filtered orders that have >500 reads mapped on average in both datasets."
   ]
  },
  {
   "cell_type": "code",
   "execution_count": null,
   "metadata": {},
   "outputs": [],
   "source": [
    "common_dates = sorted(list(set(mg_order_transmean.columns[6:]).intersection(set(mt_order_transmean.columns[6:]))))\n",
    "common_orders = [\"Flavobacteriales\", \"Mamiellales\", \"Cellvibrionales\", \"Sphingobacteriales\"]"
   ]
  },
  {
   "cell_type": "code",
   "execution_count": null,
   "metadata": {},
   "outputs": [],
   "source": [
    "def df_sum(df, order, dates):\n",
    "    x = df.loc[df.order==order].groupby(\"substrate_category\").sum().loc[:,dates]\n",
    "    x = x.loc[x.sum(axis=1)>0]\n",
    "    return x"
   ]
  },
  {
   "cell_type": "code",
   "execution_count": null,
   "metadata": {},
   "outputs": [],
   "source": [
    "fig, axes = plt.subplots(ncols=2, nrows=2, figsize=(8,8))\n",
    "all_axes = [x[i] for x in axes for i in [0,1]]\n",
    "cor_df = pd.DataFrame()\n",
    "substrates = []\n",
    "for i, order in enumerate(common_orders):\n",
    "    ax = all_axes[i]\n",
    "    # Sum by substrate category for each order in both datasets\n",
    "    x = df_sum(mg_order_transmean, order, common_dates)\n",
    "    y = df_sum(mt_order_transmean, order, common_dates)\n",
    "    # Standardize the data\n",
    "    xt = x.T\n",
    "    xt = (xt - xt.mean()) / xt.std()\n",
    "    yt = y.T\n",
    "    yt = (yt - yt.mean()) / yt.std()\n",
    "    # Correlate\n",
    "    c = xt.corrwith(yt, drop=True)\n",
    "    patches = []\n",
    "    temp = pd.merge(xt.T,yt.T,left_index=True,right_index=True, suffixes=[\"_mg\",\"_mt\"])\n",
    "    temp = temp.assign(Order=pd.Series(order, index=temp.index))\n",
    "    cor_df = pd.concat([cor_df,temp])\n",
    "    for cat in (set(xt.columns).intersection(yt.columns)).intersection(cats):\n",
    "        substrates.append(cat)\n",
    "        color = cat_lut[cat]\n",
    "        label = \"{} ({})\".format(cat, np.round(c.loc[cat], 2))\n",
    "        patches.append(mpatches.Patch(color=color, label=label))\n",
    "        axis = pd.merge(xt, yt, right_index=True, left_index=True, \n",
    "             suffixes=[\"_mg\",\"_mt\"]).plot.scatter(x=\"{}_mg\".format(cat), y=\"{}_mt\".format(cat), color=cat_lut[cat], ax=ax)\n",
    "    ax.legend(handles=patches, bbox_to_anchor=(1,1), fontsize=\"8\")\n",
    "    ax.set_ylabel(\"Standardized MT\")\n",
    "    ax.set_xlabel(\"Standardized MG\")\n",
    "    ax.set_title(order, fontsize=10)\n",
    "plt.subplots_adjust(hspace=0.4, wspace=1.2)\n",
    "plt.savefig(\"results/Figure8A.svg\", bbox_inches=\"tight\")"
   ]
  },
  {
   "cell_type": "code",
   "execution_count": null,
   "metadata": {},
   "outputs": [],
   "source": [
    "cor_df.to_csv(\"results/abundant_orders_standardized.tab\", sep=\"\\t\")"
   ]
  },
  {
   "cell_type": "markdown",
   "metadata": {},
   "source": [
    "## Calculate diversity per transporter and rank."
   ]
  },
  {
   "cell_type": "markdown",
   "metadata": {},
   "source": [
    "Calculate for different subsets."
   ]
  },
  {
   "cell_type": "code",
   "execution_count": null,
   "metadata": {},
   "outputs": [],
   "source": [
    "ranks = [\"order\"]\n",
    "mg_trans_div = transporter_taxonomic_diversity(mg_taxcov,ranks,list(set(mg_taxcov.transporter)),\"mg\",\"all\")\n",
    "mg_trans_div_bac = transporter_taxonomic_diversity(mg_taxcov.loc[(mg_taxcov.superkingdom==\"Bacteria\")&(mg_taxcov.phylum!=\"Cyanobacteria\")],ranks,list(set(mg_taxcov.transporter)),\"mg\",\"Bacteria\")\n",
    "mg_trans_div_euk = transporter_taxonomic_diversity(mg_taxcov.loc[mg_taxcov.superkingdom==\"Eukaryota\"],ranks,list(set(mg_taxcov.transporter)),\"mg\",\"Eukaryota\")\n",
    "mg_trans_div_cya = transporter_taxonomic_diversity(mg_taxcov.loc[mg_taxcov.phylum==\"Cyanobacteria\"],ranks,list(set(mg_taxcov.transporter)),\"mg\",\"Cyanobacteria\")"
   ]
  },
  {
   "cell_type": "code",
   "execution_count": null,
   "metadata": {},
   "outputs": [],
   "source": [
    "ranks = [\"order\"]\n",
    "mt_trans_div = transporter_taxonomic_diversity(mt_taxcov,ranks,list(set(mt_taxcov.transporter)),\"mt\",\"all\")\n",
    "mt_trans_div_bac = transporter_taxonomic_diversity(mt_taxcov.loc[(mt_taxcov.superkingdom==\"Bacteria\")&(mt_taxcov.phylum!=\"Cyanobacteria\")],ranks,list(set(mt_taxcov.transporter)),\"mt\",\"Bacteria\")\n",
    "mt_trans_div_euk = transporter_taxonomic_diversity(mt_taxcov.loc[mt_taxcov.superkingdom==\"Eukaryota\"],ranks,list(set(mt_taxcov.transporter)),\"mt\",\"Eukaryota\")\n",
    "mt_trans_div_cya = transporter_taxonomic_diversity(mt_taxcov.loc[mt_taxcov.phylum==\"Cyanobacteria\"],ranks,list(set(mt_taxcov.transporter)),\"mt\",\"Cyanobacteria\")"
   ]
  },
  {
   "cell_type": "markdown",
   "metadata": {},
   "source": [
    "Combine dataframes."
   ]
  },
  {
   "cell_type": "code",
   "execution_count": null,
   "metadata": {},
   "outputs": [],
   "source": [
    "transporter_diversity = pd.concat([mg_trans_div,mg_trans_div_bac])\n",
    "transporter_diversity = pd.concat([transporter_diversity,mg_trans_div_euk])\n",
    "transporter_diversity = pd.concat([transporter_diversity,mg_trans_div_cya])"
   ]
  },
  {
   "cell_type": "code",
   "execution_count": null,
   "metadata": {},
   "outputs": [],
   "source": [
    "transporter_diversity = pd.concat([transporter_diversity,mt_trans_div])\n",
    "transporter_diversity = pd.concat([transporter_diversity,mt_trans_div_bac])\n",
    "transporter_diversity = pd.concat([transporter_diversity,mt_trans_div_euk])\n",
    "transporter_diversity = pd.concat([transporter_diversity,mt_trans_div_cya])"
   ]
  },
  {
   "cell_type": "markdown",
   "metadata": {},
   "source": [
    "Merge with transporter info."
   ]
  },
  {
   "cell_type": "code",
   "execution_count": null,
   "metadata": {},
   "outputs": [],
   "source": [
    "transporter_diversity = pd.merge(transporter_diversity,transinfo,left_on=\"transporter\",right_index=True)"
   ]
  },
  {
   "cell_type": "code",
   "execution_count": null,
   "metadata": {},
   "outputs": [],
   "source": [
    "transporter_diversity.to_csv(\"results/transporter_diversity.tab\", sep=\"\\t\")"
   ]
  },
  {
   "cell_type": "code",
   "execution_count": null,
   "metadata": {},
   "outputs": [],
   "source": [
    "transporter_diversity.sample(5)"
   ]
  },
  {
   "cell_type": "markdown",
   "metadata": {},
   "source": [
    "### Plot bars for each category, by taxa and dataset"
   ]
  },
  {
   "cell_type": "code",
   "execution_count": null,
   "metadata": {},
   "outputs": [],
   "source": [
    "transporter_diversity.loc[transporter_diversity.dataset==\"mg\",\"dataset\"] = \"MG\"\n",
    "transporter_diversity.loc[transporter_diversity.dataset==\"mt\",\"dataset\"] = \"MT\""
   ]
  },
  {
   "cell_type": "code",
   "execution_count": null,
   "metadata": {},
   "outputs": [],
   "source": [
    "transporter_diversity.loc[transporter_diversity.taxa==\"Eukaryota\",\"taxa\"] = \"Picoeukaryota\""
   ]
  },
  {
   "cell_type": "code",
   "execution_count": null,
   "metadata": {},
   "outputs": [],
   "source": [
    "ax = sns.catplot(data=transporter_diversity.loc[transporter_diversity.diversity>=0],\n",
    "                    height=3, col_order = [\"Bacteria\",\"Picoeukaryota\",\"Cyanobacteria\"],x=\"diversity\",y=\"substrate_category\",hue=\"dataset\",col=\"taxa\",\n",
    "                 kind=\"bar\",aspect=1,order=sorted(list(set(transporter_diversity.substrate_category))),errwidth=1)\n",
    "ax.set_titles(\"{col_name}\");\n",
    "ax.axes[0][0].set_ylabel(\"Substrate category\", fontsize=10)\n",
    "ax.axes[0][0].set_xlabel(\"Diversity\", fontsize=10)"
   ]
  },
  {
   "cell_type": "code",
   "execution_count": null,
   "metadata": {},
   "outputs": [],
   "source": [
    "sns.set(font_scale=0.8)\n",
    "ax = sns.catplot(data=transporter_diversity.loc[transporter_diversity.diversity>=0],\n",
    "                    height=3, col_order = [\"Bacteria\",\"Picoeukaryota\",\"Cyanobacteria\"],\n",
    "                 x=\"num_taxa\",y=\"substrate_category\",hue=\"dataset\",col=\"taxa\",kind=\"bar\",palette=\"Set1\",\n",
    "                 aspect=1,order=sorted(list(set(transporter_diversity.substrate_category))),errwidth=1)\n",
    "ax.set_titles(\"{col_name}\");\n",
    "axis = ax.axes[0]\n",
    "for i, a in enumerate(axis):\n",
    "    a.set_xlabel(\"Orders\");\n",
    "    if i==0:\n",
    "        a.set_ylabel(\"Substrate category\")\n",
    "plt.savefig(\"results/Figure3B.svg\", bbox_inches=\"tight\")"
   ]
  },
  {
   "cell_type": "markdown",
   "metadata": {},
   "source": [
    "## Plot profiles for select transporter substrates"
   ]
  },
  {
   "cell_type": "markdown",
   "metadata": {},
   "source": [
    "Generate transporter means in each taxgroup."
   ]
  },
  {
   "cell_type": "code",
   "execution_count": null,
   "metadata": {},
   "outputs": [],
   "source": [
    "mg_df = mg_all_taxcov.copy(deep=True)\n",
    "mt_df = mt_all_taxcov.copy(deep=True)"
   ]
  },
  {
   "cell_type": "code",
   "execution_count": null,
   "metadata": {},
   "outputs": [],
   "source": [
    "mg_bac_sum = mg_df.loc[(mg_df.superkingdom==\"Bacteria\")&(mg_df.phylum!=\"Cyanobacteria\")].groupby([\"fam\",\"transporter\"]).sum().reset_index()\n",
    "mg_bac_mean = mg_bac_sum.groupby(\"transporter\").mean()\n",
    "mg_bac_meanp = mg_bac_mean.div(mg_bac_mean.sum())*100\n",
    "mg_bac_meanp = pd.merge(transinfo,mg_bac_meanp,left_index=True, right_index=True)\n",
    "mg_bac_melt = pd.melt(mg_bac_meanp.reset_index()[[\"transporter\",\"substrate_category\"]+list(mg_bac_mean.columns)],id_vars=[\"transporter\",\"substrate_category\"], var_name=\"Sample\", value_name=\"%taxgroup\")\n",
    "mg_bac_melt = mg_bac_melt.assign(Taxgroup=pd.Series([\"Bacteria\"]*len(mg_bac_melt)))"
   ]
  },
  {
   "cell_type": "code",
   "execution_count": null,
   "metadata": {},
   "outputs": [],
   "source": [
    "mg_arc_sum = mg_df.loc[(mg_df.superkingdom==\"Archaea\")].groupby([\"fam\",\"transporter\"]).sum().reset_index()\n",
    "mg_arc_mean = mg_arc_sum.groupby(\"transporter\").mean()\n",
    "mg_arc_meanp = mg_arc_mean.div(mg_arc_mean.sum())*100\n",
    "mg_arc_meanp = pd.merge(transinfo,mg_arc_meanp,left_index=True, right_index=True)\n",
    "mg_arc_melt = pd.melt(mg_arc_meanp.reset_index()[[\"transporter\",\"substrate_category\"]+list(mg_arc_mean.columns)],id_vars=[\"transporter\",\"substrate_category\"], var_name=\"Sample\", value_name=\"%taxgroup\")\n",
    "mg_arc_melt = mg_arc_melt.assign(Taxgroup=pd.Series([\"Archaea\"]*len(mg_arc_melt)))"
   ]
  },
  {
   "cell_type": "code",
   "execution_count": null,
   "metadata": {},
   "outputs": [],
   "source": [
    "mg_cya_sum = mg_df.loc[(mg_df.phylum==\"Cyanobacteria\")].groupby([\"fam\",\"transporter\"]).sum().reset_index()\n",
    "mg_cya_mean = mg_cya_sum.groupby(\"transporter\").mean()\n",
    "mg_cya_meanp = mg_cya_mean.div(mg_cya_mean.sum())*100\n",
    "mg_cya_meanp = pd.merge(transinfo,mg_cya_meanp,left_index=True, right_index=True)\n",
    "mg_cya_melt = pd.melt(mg_cya_meanp.reset_index()[[\"transporter\",\"substrate_category\"]+list(mg_cya_mean.columns)],id_vars=[\"transporter\",\"substrate_category\"], var_name=\"Sample\", value_name=\"%taxgroup\")\n",
    "mg_cya_melt = mg_cya_melt.assign(Taxgroup=pd.Series([\"Cyanobacteria\"]*len(mg_cya_melt)))"
   ]
  },
  {
   "cell_type": "code",
   "execution_count": null,
   "metadata": {},
   "outputs": [],
   "source": [
    "mg_euk_sum = mg_df.loc[(mg_df.superkingdom==\"Eukaryota\")].groupby([\"fam\",\"transporter\"]).sum().reset_index()\n",
    "mg_euk_mean = mg_euk_sum.groupby(\"transporter\").mean()\n",
    "mg_euk_meanp = mg_euk_mean.div(mg_euk_mean.sum())*100\n",
    "mg_euk_meanp = pd.merge(transinfo,mg_euk_meanp,left_index=True, right_index=True)\n",
    "mg_euk_melt = pd.melt(mg_euk_meanp.reset_index()[[\"transporter\",\"substrate_category\"]+list(mg_euk_mean.columns)],id_vars=[\"transporter\",\"substrate_category\"], var_name=\"Sample\", value_name=\"%taxgroup\")\n",
    "mg_euk_melt = mg_euk_melt.assign(Taxgroup=pd.Series([\"Eukaryota\"]*len(mg_euk_melt)))"
   ]
  },
  {
   "cell_type": "code",
   "execution_count": null,
   "metadata": {},
   "outputs": [],
   "source": [
    "mg_melt = pd.concat([mg_bac_melt,mg_cya_melt])\n",
    "mg_melt = pd.concat([mg_melt,mg_arc_melt])\n",
    "mg_melt = pd.concat([mg_melt,mg_euk_melt])"
   ]
  },
  {
   "cell_type": "code",
   "execution_count": null,
   "metadata": {},
   "outputs": [],
   "source": [
    "mt_bac_sum = mt_df.loc[(mt_df.superkingdom==\"Bacteria\")&(mt_df.phylum!=\"Cyanobacteria\")].groupby([\"fam\",\"transporter\"]).sum().reset_index()\n",
    "mt_bac_mean = mt_bac_sum.groupby(\"transporter\").mean()\n",
    "mt_bac_meanp = mt_bac_mean.div(mt_bac_mean.sum())*100\n",
    "mt_bac_meanp = pd.merge(transinfo,mt_bac_meanp,left_index=True, right_index=True)\n",
    "mt_bac_melt = pd.melt(mt_bac_meanp.reset_index()[[\"transporter\",\"substrate_category\"]+list(mt_bac_mean.columns)],id_vars=[\"transporter\",\"substrate_category\"], var_name=\"Sample\", value_name=\"%taxgroup\")\n",
    "mt_bac_melt = mt_bac_melt.assign(Taxgroup=pd.Series([\"Bacteria\"]*len(mt_bac_melt)))"
   ]
  },
  {
   "cell_type": "code",
   "execution_count": null,
   "metadata": {},
   "outputs": [],
   "source": [
    "mt_arc_sum = mt_df.loc[(mt_df.superkingdom==\"Archaea\")].groupby([\"fam\",\"transporter\"]).sum().reset_index()\n",
    "mt_arc_mean = mt_arc_sum.groupby(\"transporter\").mean()\n",
    "mt_arc_meanp = mt_arc_mean.div(mt_arc_mean.sum())*100\n",
    "mt_arc_meanp = pd.merge(transinfo,mt_arc_meanp,left_index=True, right_index=True)\n",
    "mt_arc_melt = pd.melt(mt_arc_meanp.reset_index()[[\"transporter\",\"substrate_category\"]+list(mt_arc_mean.columns)],id_vars=[\"transporter\",\"substrate_category\"], var_name=\"Sample\", value_name=\"%taxgroup\")\n",
    "mt_arc_melt = mt_arc_melt.assign(Taxgroup=pd.Series([\"Archaea\"]*len(mt_arc_melt)))"
   ]
  },
  {
   "cell_type": "code",
   "execution_count": null,
   "metadata": {},
   "outputs": [],
   "source": [
    "mt_cya_sum = mt_df.loc[(mt_df.phylum==\"Cyanobacteria\")].groupby([\"fam\",\"transporter\"]).sum().reset_index()\n",
    "mt_cya_mean = mt_cya_sum.groupby(\"transporter\").mean()\n",
    "mt_cya_meanp = mt_cya_mean.div(mt_cya_mean.sum())*100\n",
    "mt_cya_meanp = pd.merge(transinfo,mt_cya_meanp,left_index=True, right_index=True)\n",
    "mt_cya_melt = pd.melt(mt_cya_meanp.reset_index()[[\"transporter\",\"substrate_category\"]+list(mt_cya_mean.columns)],id_vars=[\"transporter\",\"substrate_category\"], var_name=\"Sample\", value_name=\"%taxgroup\")\n",
    "mt_cya_melt = mt_cya_melt.assign(Taxgroup=pd.Series([\"Cyanobacteria\"]*len(mt_cya_melt)))"
   ]
  },
  {
   "cell_type": "code",
   "execution_count": null,
   "metadata": {},
   "outputs": [],
   "source": [
    "mt_euk_sum = mt_df.loc[(mt_df.superkingdom==\"Eukaryota\")].groupby([\"fam\",\"transporter\"]).sum().reset_index()\n",
    "mt_euk_mean = mt_euk_sum.groupby(\"transporter\").mean()\n",
    "mt_euk_meanp = mt_euk_mean.div(mt_euk_mean.sum())*100\n",
    "mt_euk_meanp = pd.merge(transinfo,mt_euk_meanp,left_index=True, right_index=True)\n",
    "mt_euk_melt = pd.melt(mt_euk_meanp.reset_index()[[\"transporter\",\"substrate_category\"]+list(mt_euk_mean.columns)],id_vars=[\"transporter\",\"substrate_category\"], var_name=\"Sample\", value_name=\"%taxgroup\")\n",
    "mt_euk_melt = mt_euk_melt.assign(Taxgroup=pd.Series([\"Eukaryota\"]*len(mt_euk_melt)))"
   ]
  },
  {
   "cell_type": "code",
   "execution_count": null,
   "metadata": {},
   "outputs": [],
   "source": [
    "mt_melt = pd.concat([mt_bac_melt,mt_cya_melt])\n",
    "mt_melt = pd.concat([mt_melt,mt_arc_melt])\n",
    "mt_melt = pd.concat([mt_melt,mt_euk_melt])"
   ]
  },
  {
   "cell_type": "markdown",
   "metadata": {},
   "source": [
    "Show contribution of different taxgroups to total transporters."
   ]
  },
  {
   "cell_type": "code",
   "execution_count": null,
   "metadata": {},
   "outputs": [],
   "source": [
    "b = pd.DataFrame(mg_bac_mean.sum(), columns=[\"Bac\"])\n",
    "c = pd.DataFrame(mg_cya_mean.sum(), columns=[\"Cya\"])\n",
    "e = pd.DataFrame(mg_euk_mean.sum(), columns=[\"Euk\"])\n",
    "bce = pd.concat([e,pd.concat([b,c],axis=1)],axis=1)\n",
    "bce.sum().div(bce.sum().sum())*100"
   ]
  },
  {
   "cell_type": "code",
   "execution_count": null,
   "metadata": {},
   "outputs": [],
   "source": [
    "b = pd.DataFrame(mt_bac_mean.sum(), columns=[\"Bac\"])\n",
    "c = pd.DataFrame(mt_cya_mean.sum(), columns=[\"Cya\"])\n",
    "e = pd.DataFrame(mt_euk_mean.sum(), columns=[\"Euk\"])\n",
    "bce = pd.concat([e,pd.concat([b,c],axis=1)],axis=1)\n",
    "bce.sum().div(bce.sum().sum())*100"
   ]
  },
  {
   "cell_type": "code",
   "execution_count": null,
   "metadata": {},
   "outputs": [],
   "source": [
    "def plot_indiv_trans(df, cats, pal=\"Set1\", outfile=None):\n",
    "    fig, axes = plt.subplots(ncols=3, nrows=1, figsize=(12,3), sharey=True)\n",
    "    plot_data = df.loc[df.substrate_category.isin(cats)]\n",
    "    renamed_trans = []\n",
    "    for t in plot_data.transporter:\n",
    "        renamed_trans.append(\"{} ({})\".format(t,transinfo.loc[t,\"name\"]))\n",
    "    plot_data = plot_data.assign(Transporter=pd.Series(renamed_trans,index=plot_data.index))\n",
    "    palette = dict(zip(plot_data.Transporter.unique(), sns.color_palette(pal, n_colors=len(plot_data.Transporter.unique()))))\n",
    "    for i, taxgroup in enumerate([\"Bacteria\",\"Eukaryota\",\"Cyanobacteria\"]):\n",
    "        if len(plot_data.loc[plot_data.Taxgroup==taxgroup]) > 0:\n",
    "            ax = sns.pointplot(data=plot_data.loc[plot_data.Taxgroup==taxgroup], x=\"Sample\",y=\"%taxgroup\", \n",
    "                               hue=\"Transporter\", scale=0.5, ax=axes[i], palette=palette, legend=False)\n",
    "            ax.get_legend().remove()\n",
    "            if i>0:\n",
    "                ax.set_ylabel(\"\")\n",
    "            else:\n",
    "                ax.set_ylabel(\"% of transporter in taxa\")\n",
    "            ax.set_xticklabels(ax.get_xticklabels(), rotation=90, fontdict={\"fontsize\": 8})\n",
    "        else:\n",
    "            axes[i].set_xticks(list(range(len(plot_data.Sample.unique()))))\n",
    "            axes[i].set_xticklabels(plot_data.Sample.unique(), rotation=90, fontdict={\"fontsize\": 8})\n",
    "        if taxgroup == \"Eukaryota\":\n",
    "            title = \"Picoeukaryota\"\n",
    "        else:\n",
    "            title = taxgroup\n",
    "        axes[i].set_title(title, fontsize=10)\n",
    "    plt.subplots_adjust(wspace=0.1)\n",
    "    # Set up legend\n",
    "    handles = [mpatches.Patch(color=palette[x], label=x) for x in sorted(palette.keys())]\n",
    "    legend = axes[2].legend(handles=handles, bbox_to_anchor=(1,1))\n",
    "    legend.get_frame().set_facecolor('white')\n",
    "    if outfile:\n",
    "        plt.savefig(outfile, bbox_inches=\"tight\")"
   ]
  },
  {
   "cell_type": "markdown",
   "metadata": {},
   "source": [
    "### Phosphate/phosphonate"
   ]
  },
  {
   "cell_type": "code",
   "execution_count": null,
   "metadata": {},
   "outputs": [],
   "source": [
    "def generate_p_data(df):\n",
    "    # Phosphate transporters\n",
    "    pi = list(transinfo.loc[transinfo.substrate_category==\"Phosphate\"].index)\n",
    "    # Phosphonate transporters\n",
    "    po = list(transinfo.loc[transinfo.substrate_category==\"Phosphonate\"].index)\n",
    "    # Generate sum of phosphate transporters\n",
    "    df_pi = df.loc[df.transporter.isin(pi)]\n",
    "    df_pi = df_pi.groupby([\"substrate_category\",\"Sample\",\"Taxgroup\"]).sum().reset_index()\n",
    "    # Generate sum of phosphonate transporters\n",
    "    df_po = df.loc[df.transporter.isin(po)]\n",
    "    df_po = df_po.groupby([\"substrate_category\",\"Sample\",\"Taxgroup\"]).sum().reset_index()\n",
    "    df_p = pd.concat([df_pi,df_po])\n",
    "    return df_p"
   ]
  },
  {
   "cell_type": "code",
   "execution_count": null,
   "metadata": {},
   "outputs": [],
   "source": [
    "fig, axes = plt.subplots(ncols=3, nrows=1, figsize=(12,3), sharey=True)\n",
    "mg_p = generate_p_data(mg_melt)\n",
    "for i, taxgroup in enumerate([\"Bacteria\",\"Eukaryota\",\"Cyanobacteria\"]):\n",
    "    ax = sns.pointplot(data=mg_p.loc[mg_p.Taxgroup==taxgroup], x=\"Sample\", y=\"%taxgroup\", hue=\"substrate_category\",\n",
    "                       ax=axes[i], legend=False, scale=0.5)\n",
    "    ax.get_legend().remove()\n",
    "    if i>0:\n",
    "        ax.set_ylabel(\"\")\n",
    "    else:\n",
    "        ax.set_ylabel(\"% of transporter in taxa\")\n",
    "    ax.set_xticklabels(ax.get_xticklabels(), rotation=90, fontdict={\"fontsize\": 8})\n",
    "    if taxgroup == \"Eukaryota\":\n",
    "        title = \"Picoeukaryota\"\n",
    "    else:\n",
    "        title = taxgroup\n",
    "    ax.set_title(title, fontsize=10)\n",
    "plt.subplots_adjust(wspace=0.1)\n",
    "# Set up legend\n",
    "handles = [mpatches.Patch(color=sns.color_palette(\"Set1\", n_colors=2)[0], label='Phosphate'),\n",
    "           mpatches.Patch(color=sns.color_palette(\"Set1\", n_colors=2)[1], label='Phosphonate')]\n",
    "legend = axes[2].legend(handles=handles, bbox_to_anchor=(1,1))\n",
    "legend.get_frame().set_facecolor('white')\n",
    "legend.set_title(\"Substrate category\")\n",
    "plt.savefig(\"results/Figure9A.svg\", bbox_inches=\"tight\")"
   ]
  },
  {
   "cell_type": "code",
   "execution_count": null,
   "metadata": {},
   "outputs": [],
   "source": [
    "fig, axes = plt.subplots(ncols=3, nrows=1, figsize=(12,3), sharey=True)\n",
    "mt_p = generate_p_data(mt_melt)\n",
    "for i, taxgroup in enumerate([\"Bacteria\",\"Eukaryota\",\"Cyanobacteria\"]):\n",
    "    ax = sns.pointplot(data=mt_p.loc[mt_p.Taxgroup==taxgroup], x=\"Sample\", y=\"%taxgroup\", hue=\"substrate_category\",\n",
    "                       ax=axes[i], legend=False, scale=0.5)\n",
    "    ax.get_legend().remove()\n",
    "    if i>0:\n",
    "        ax.set_ylabel(\"\")\n",
    "    else:\n",
    "        ax.set_ylabel(\"% of transporter in taxa\")\n",
    "    ax.set_xticklabels(ax.get_xticklabels(), rotation=90, fontdict={\"fontsize\": 8})\n",
    "    if taxgroup == \"Eukaryota\":\n",
    "        title = \"Picoeukaryota\"\n",
    "    else:\n",
    "        title = taxgroup\n",
    "    ax.set_title(title, fontsize=10)\n",
    "plt.subplots_adjust(wspace=0.1)\n",
    "# Set up legend\n",
    "handles = [mpatches.Patch(color=sns.color_palette(\"Set1\", n_colors=2)[0], label='Phosphate'),\n",
    "           mpatches.Patch(color=sns.color_palette(\"Set1\", n_colors=2)[1], label='Phosphonate')]\n",
    "legend = axes[2].legend(handles=handles, bbox_to_anchor=(1,1))\n",
    "legend.get_frame().set_facecolor('white')"
   ]
  },
  {
   "cell_type": "markdown",
   "metadata": {},
   "source": [
    "Plot individual transporters"
   ]
  },
  {
   "cell_type": "code",
   "execution_count": null,
   "metadata": {},
   "outputs": [],
   "source": [
    "plot_indiv_trans(mg_melt, cats = [\"Phosphate\",\"Phosphonate\"], pal=\"Set2\")"
   ]
  },
  {
   "cell_type": "code",
   "execution_count": null,
   "metadata": {},
   "outputs": [],
   "source": [
    "plot_indiv_trans(mt_melt, cats = [\"Phosphate\",\"Phosphonate\"], pal=\"Set2\")"
   ]
  },
  {
   "cell_type": "markdown",
   "metadata": {},
   "source": [
    "### Nitrogen compounds"
   ]
  },
  {
   "cell_type": "code",
   "execution_count": null,
   "metadata": {},
   "outputs": [],
   "source": [
    "def generate_n_data(df):\n",
    "    # Generate sum of peptide transporters\n",
    "    pep = list(transinfo.loc[transinfo.substrate_category==\"AA peptide\"].index)\n",
    "    peps = df.loc[df.transporter.isin(pep)]\n",
    "    peps = peps.groupby([\"substrate_category\",\"Sample\",\"Taxgroup\"]).sum().reset_index()\n",
    "    # Generate sum of urea transporters\n",
    "    ure = list(transinfo.loc[transinfo.substrate_category==\"Urea\"].index)\n",
    "    urea = df.loc[df.transporter.isin(ure)]\n",
    "    urea = urea.groupby([\"substrate_category\",\"Sample\",\"Taxgroup\"]).sum().reset_index()\n",
    "    # Generate the N-fix, NH4 and NO3 dataframe\n",
    "    nfi = list(transinfo.loc[transinfo.abbreviation==\"N-FIX\"].index)\n",
    "    nfix = df.loc[df.transporter.isin(nfi)]\n",
    "    nh4 = list(transinfo.loc[transinfo.name.str.contains(\"ammonium\")].index)\n",
    "    nh4 = df.loc[df.transporter.isin(nh4)]\n",
    "    nh4 = nh4.assign(substrate_category=pd.Series([\"NH4\"]*len(nh4), index=nh4.index))\n",
    "    no3 = list(transinfo.loc[transinfo.name.str.contains(\"nitrate\")].index)\n",
    "    no3 = df.loc[df.transporter.isin(no3)]\n",
    "    no3 = no3.assign(substrate_category=pd.Series([\"NO3\"]*len(no3), index=no3.index))\n",
    "    # Concatenate\n",
    "    n = pd.concat([peps,urea])\n",
    "    n = pd.concat([n,nfix])\n",
    "    n = pd.concat([n,nh4])\n",
    "    n = pd.concat([n,no3])\n",
    "    n.loc[n.substrate_category==\"Other\",\"substrate_category\"] = \"N-FIX\"\n",
    "    return n"
   ]
  },
  {
   "cell_type": "code",
   "execution_count": null,
   "metadata": {},
   "outputs": [],
   "source": [
    "fig, axes = plt.subplots(ncols=3, nrows=1, figsize=(12,3), sharey=True)\n",
    "mg_n = generate_n_data(mg_melt)\n",
    "palette = dict(zip(mg_n.substrate_category.unique(), sns.color_palette(\"Set1\", n_colors=len(mg_n.substrate_category.unique()))))\n",
    "for i, taxgroup in enumerate([\"Bacteria\",\"Eukaryota\",\"Cyanobacteria\"]):\n",
    "    ax = sns.pointplot(data=mg_n.loc[mg_n.Taxgroup==taxgroup], x=\"Sample\", y=\"%taxgroup\", hue=\"substrate_category\",\n",
    "                       ax=axes[i], legend=False, scale=0.5, palette=palette)\n",
    "    ax.get_legend().remove()\n",
    "    if i>0:\n",
    "        ax.set_ylabel(\"\")\n",
    "    else:\n",
    "        ax.set_ylabel(\"% of transporter in taxa\")\n",
    "    ax.set_xticklabels(ax.get_xticklabels(), rotation=90, fontdict={\"fontsize\": 8})\n",
    "    if taxgroup == \"Eukaryota\":\n",
    "        title = \"Picoeukaryota\"\n",
    "    else:\n",
    "        title = taxgroup\n",
    "    ax.set_title(title, fontsize=10)\n",
    "plt.subplots_adjust(wspace=0.1)\n",
    "# Set up legend\n",
    "handles = [mpatches.Patch(color=palette[x], label=x) for x in sorted(palette.keys())]\n",
    "legend = axes[2].legend(handles=handles, bbox_to_anchor=(1,1))\n",
    "legend.get_frame().set_facecolor('white')\n",
    "legend.set_title(\"Substrate category\")\n",
    "plt.savefig(\"results/Figure9B.svg\", bbox_inches=\"tight\")"
   ]
  },
  {
   "cell_type": "code",
   "execution_count": null,
   "metadata": {},
   "outputs": [],
   "source": [
    "fig, axes = plt.subplots(ncols=3, nrows=1, figsize=(12,3), sharey=True)\n",
    "mt_n = generate_n_data(mt_melt)\n",
    "palette = dict(zip(mt_n.substrate_category.unique(), sns.color_palette(\"Set1\", n_colors=len(mt_n.substrate_category.unique()))))\n",
    "for i, taxgroup in enumerate([\"Bacteria\",\"Eukaryota\",\"Cyanobacteria\"]):\n",
    "    ax = sns.pointplot(data=mt_n.loc[mt_n.Taxgroup==taxgroup], x=\"Sample\", y=\"%taxgroup\", hue=\"substrate_category\",\n",
    "                       ax=axes[i], legend=False, scale=0.5, palette=palette)\n",
    "    ax.get_legend().remove()\n",
    "    if i>0:\n",
    "        ax.set_ylabel(\"\")\n",
    "    else:\n",
    "        ax.set_ylabel(\"% of transporter in taxa\")\n",
    "    ax.set_xticklabels(ax.get_xticklabels(), rotation=90, fontdict={\"fontsize\": 8})\n",
    "    if taxgroup == \"Eukaryota\":\n",
    "        title = \"Picoeukaryota\"\n",
    "    else:\n",
    "        title = taxgroup\n",
    "    ax.set_title(title, fontsize=10)\n",
    "plt.subplots_adjust(wspace=0.1)\n",
    "# Set up legend\n",
    "handles = [mpatches.Patch(color=palette[x], label=x) for x in sorted(palette.keys())]\n",
    "legend = axes[2].legend(handles=handles, bbox_to_anchor=(1,1))\n",
    "legend.get_frame().set_facecolor('white')\n",
    "legend.set_title(\"Substrate category\")"
   ]
  },
  {
   "cell_type": "code",
   "execution_count": null,
   "metadata": {},
   "outputs": [],
   "source": [
    "plot_indiv_trans(mg_melt, cats=[\"NH3 Nitrate\"])"
   ]
  },
  {
   "cell_type": "code",
   "execution_count": null,
   "metadata": {},
   "outputs": [],
   "source": [
    "plot_indiv_trans(mt_melt, cats=[\"NH3 Nitrate\"])"
   ]
  },
  {
   "cell_type": "code",
   "execution_count": null,
   "metadata": {},
   "outputs": [],
   "source": [
    "plot_indiv_trans(mg_melt, cats=[\"Urea\"])"
   ]
  },
  {
   "cell_type": "code",
   "execution_count": null,
   "metadata": {},
   "outputs": [],
   "source": [
    "plot_indiv_trans(mt_melt, cats=[\"Urea\"])"
   ]
  },
  {
   "cell_type": "markdown",
   "metadata": {},
   "source": [
    "### Plot also the total contribution"
   ]
  },
  {
   "cell_type": "code",
   "execution_count": null,
   "metadata": {},
   "outputs": [],
   "source": [
    "mg_bac_mean_melt = pd.melt(mg_bac_mean.reset_index(), id_vars=[\"transporter\"], var_name=\"Sample\", value_name=\"TPM\")\n",
    "mg_bac_mean_melt = mg_bac_mean_melt.assign(Taxgroup=pd.Series([\"Bacteria\"]*len(mg_bac_mean_melt), index=mg_bac_mean_melt.index))"
   ]
  },
  {
   "cell_type": "code",
   "execution_count": null,
   "metadata": {},
   "outputs": [],
   "source": [
    "mg_euk_mean_melt = pd.melt(mg_euk_mean.reset_index(), id_vars=[\"transporter\"], var_name=\"Sample\", value_name=\"TPM\")\n",
    "mg_euk_mean_melt = mg_euk_mean_melt.assign(Taxgroup=pd.Series([\"Eukaryota\"]*len(mg_euk_mean_melt), index=mg_euk_mean_melt.index))"
   ]
  },
  {
   "cell_type": "code",
   "execution_count": null,
   "metadata": {},
   "outputs": [],
   "source": [
    "mg_cya_mean_melt = pd.melt(mg_cya_mean.reset_index(), id_vars=[\"transporter\"], var_name=\"Sample\", value_name=\"TPM\")\n",
    "mg_cya_mean_melt = mg_cya_mean_melt.assign(Taxgroup=pd.Series([\"Cyanobacteria\"]*len(mg_cya_mean_melt), index=mg_cya_mean_melt.index))"
   ]
  },
  {
   "cell_type": "code",
   "execution_count": null,
   "metadata": {},
   "outputs": [],
   "source": [
    "mg_mean_melt = pd.concat([mg_bac_mean_melt,mg_euk_mean_melt])\n",
    "mg_mean_melt = pd.concat([mg_mean_melt,mg_cya_mean_melt])"
   ]
  },
  {
   "cell_type": "code",
   "execution_count": null,
   "metadata": {},
   "outputs": [],
   "source": [
    "mg_mean_melt = pd.merge(transinfo,mg_mean_melt, left_index=True, right_on=\"transporter\")"
   ]
  },
  {
   "cell_type": "code",
   "execution_count": null,
   "metadata": {},
   "outputs": [],
   "source": [
    "fig, axes = plt.subplots(ncols=3, nrows=1, figsize=(12,3), sharey=True)\n",
    "mg_tot_p = generate_p_data(mg_mean_melt)\n",
    "for i, taxgroup in enumerate([\"Bacteria\",\"Eukaryota\",\"Cyanobacteria\"]):\n",
    "    ax = sns.pointplot(data=mg_tot_p.loc[mg_tot_p.Taxgroup==taxgroup], x=\"Sample\", y=\"TPM\", hue=\"substrate_category\",\n",
    "                       ax=axes[i], legend=False, scale=0.5)\n",
    "    ax.get_legend().remove()\n",
    "    if i>0:\n",
    "        ax.set_ylabel(\"\")\n",
    "    else:\n",
    "        ax.set_ylabel(\"Transcripts per\\nmillion\", fontsize=10)\n",
    "    ax.set_xticklabels(ax.get_xticklabels(), rotation=90, fontdict={\"fontsize\": 8})\n",
    "    if taxgroup == \"Eukaryota\":\n",
    "        title = \"Picoeukaryota\"\n",
    "    else:\n",
    "        title = taxgroup\n",
    "    ax.set_title(title, fontsize=10)\n",
    "plt.subplots_adjust(wspace=0.1)\n",
    "# Set up legend\n",
    "handles = [mpatches.Patch(color=sns.color_palette(\"Set1\", n_colors=2)[0], label='Phosphate'),\n",
    "           mpatches.Patch(color=sns.color_palette(\"Set1\", n_colors=2)[1], label='Phosphonate')]\n",
    "legend = axes[2].legend(handles=handles, bbox_to_anchor=(1,1))\n",
    "legend.get_frame().set_facecolor('white')\n",
    "legend.set_title(\"Substrate category\")"
   ]
  },
  {
   "cell_type": "code",
   "execution_count": null,
   "metadata": {},
   "outputs": [],
   "source": [
    "fig, axes = plt.subplots(ncols=3, nrows=1, figsize=(12,3), sharey=True)\n",
    "mg_tot_n = generate_n_data(mg_mean_melt)\n",
    "palette = dict(zip(mg_tot_n.substrate_category.unique(), sns.color_palette(\"Set1\", n_colors=len(mg_tot_n.substrate_category.unique()))))\n",
    "for i, taxgroup in enumerate([\"Bacteria\",\"Eukaryota\",\"Cyanobacteria\"]):\n",
    "    ax = sns.pointplot(data=mg_tot_n.loc[mg_tot_n.Taxgroup==taxgroup], x=\"Sample\", y=\"TPM\", hue=\"substrate_category\",\n",
    "                       ax=axes[i], legend=False, scale=0.5, palette=palette)\n",
    "    ax.get_legend().remove()\n",
    "    if i>0:\n",
    "        ax.set_ylabel(\"\")\n",
    "    else:\n",
    "        ax.set_ylabel(\"Transcripts per\\nmillion\", fontsize=10)\n",
    "    ax.set_xticklabels(ax.get_xticklabels(), rotation=90, fontdict={\"fontsize\": 8})\n",
    "    if taxgroup == \"Eukaryota\":\n",
    "        title = \"Picoeukaryota\"\n",
    "    else:\n",
    "        title = taxgroup\n",
    "    ax.set_title(title, fontsize=10)\n",
    "plt.subplots_adjust(wspace=0.1)\n",
    "# Set up legend\n",
    "handles = [mpatches.Patch(color=palette[x], label=x) for x in sorted(palette.keys())]\n",
    "legend = axes[2].legend(handles=handles, bbox_to_anchor=(2.1,1))\n",
    "legend.get_frame().set_facecolor('white')\n",
    "legend.set_title(\"Substrate category\")"
   ]
  },
  {
   "cell_type": "code",
   "execution_count": null,
   "metadata": {},
   "outputs": [],
   "source": [
    "mt_bac_mean_melt = pd.melt(mt_bac_mean.reset_index(), id_vars=[\"transporter\"], var_name=\"Sample\", value_name=\"TPM\")\n",
    "mt_bac_mean_melt = mt_bac_mean_melt.assign(Taxgroup=pd.Series([\"Bacteria\"]*len(mt_bac_mean_melt), index=mt_bac_mean_melt.index))"
   ]
  },
  {
   "cell_type": "code",
   "execution_count": null,
   "metadata": {},
   "outputs": [],
   "source": [
    "mt_euk_mean_melt = pd.melt(mt_euk_mean.reset_index(), id_vars=[\"transporter\"], var_name=\"Sample\", value_name=\"TPM\")\n",
    "mt_euk_mean_melt = mt_euk_mean_melt.assign(Taxgroup=pd.Series([\"Eukaryota\"]*len(mt_euk_mean_melt), index=mt_euk_mean_melt.index))"
   ]
  },
  {
   "cell_type": "code",
   "execution_count": null,
   "metadata": {},
   "outputs": [],
   "source": [
    "mt_cya_mean_melt = pd.melt(mt_cya_mean.reset_index(), id_vars=[\"transporter\"], var_name=\"Sample\", value_name=\"TPM\")\n",
    "mt_cya_mean_melt = mt_cya_mean_melt.assign(Taxgroup=pd.Series([\"Cyanobacteria\"]*len(mt_cya_mean_melt), index=mt_cya_mean_melt.index))"
   ]
  },
  {
   "cell_type": "code",
   "execution_count": null,
   "metadata": {},
   "outputs": [],
   "source": [
    "mt_mean_melt = pd.concat([mt_bac_mean_melt,mt_euk_mean_melt])\n",
    "mt_mean_melt = pd.concat([mt_mean_melt,mt_cya_mean_melt])"
   ]
  },
  {
   "cell_type": "code",
   "execution_count": null,
   "metadata": {},
   "outputs": [],
   "source": [
    "mt_mean_melt = pd.merge(transinfo,mt_mean_melt, left_index=True, right_on=\"transporter\")"
   ]
  },
  {
   "cell_type": "code",
   "execution_count": null,
   "metadata": {},
   "outputs": [],
   "source": [
    "fig, axes = plt.subplots(ncols=3, nrows=1, figsize=(12,3), sharey=True)\n",
    "mt_tot_p = generate_p_data(mt_mean_melt)\n",
    "for i, taxgroup in enumerate([\"Bacteria\",\"Eukaryota\",\"Cyanobacteria\"]):\n",
    "    ax = sns.pointplot(data=mt_tot_p.loc[mt_tot_p.Taxgroup==taxgroup], x=\"Sample\", y=\"TPM\", hue=\"substrate_category\",\n",
    "                       ax=axes[i], legend=False, scale=0.5)\n",
    "    ax.get_legend().remove()\n",
    "    if i>0:\n",
    "        ax.set_ylabel(\"\")\n",
    "    else:\n",
    "        ax.set_ylabel(\"Transcripts per\\nmillion\", fontsize=10)\n",
    "    ax.set_xticklabels(ax.get_xticklabels(), rotation=90, fontdict={\"fontsize\": 8})\n",
    "    if taxgroup == \"Eukaryota\":\n",
    "        title = \"Picoeukaryota\"\n",
    "    else:\n",
    "        title = taxgroup\n",
    "    ax.set_title(title, fontsize=10)\n",
    "plt.subplots_adjust(wspace=0.1)\n",
    "# Set up legend\n",
    "handles = [mpatches.Patch(color=sns.color_palette(\"Set1\", n_colors=2)[0], label='Phosphate'),\n",
    "           mpatches.Patch(color=sns.color_palette(\"Set1\", n_colors=2)[1], label='Phosphonate')]\n",
    "legend = axes[2].legend(handles=handles, bbox_to_anchor=(1,1))\n",
    "legend.get_frame().set_facecolor('white')\n",
    "legend.set_title(\"Substrate category\")"
   ]
  },
  {
   "cell_type": "code",
   "execution_count": null,
   "metadata": {},
   "outputs": [],
   "source": [
    "fig, axes = plt.subplots(ncols=3, nrows=1, figsize=(12,3), sharey=True)\n",
    "mt_tot_n = generate_n_data(mt_mean_melt)\n",
    "palette = dict(zip(mt_tot_n.substrate_category.unique(), sns.color_palette(\"Set1\", n_colors=len(mt_tot_n.substrate_category.unique()))))\n",
    "for i, taxgroup in enumerate([\"Bacteria\",\"Eukaryota\",\"Cyanobacteria\"]):\n",
    "    ax = sns.pointplot(data=mt_tot_n.loc[mt_tot_n.Taxgroup==taxgroup], x=\"Sample\", y=\"TPM\", hue=\"substrate_category\",\n",
    "                       ax=axes[i], legend=False, scale=0.5, palette=palette)\n",
    "    ax.get_legend().remove()\n",
    "    if i>0:\n",
    "        ax.set_ylabel(\"\")\n",
    "    else:\n",
    "        ax.set_ylabel(\"Transcripts per\\nmillion\", fontsize=10)\n",
    "    ax.set_xticklabels(ax.get_xticklabels(), rotation=90, fontdict={\"fontsize\": 8})\n",
    "    if taxgroup == \"Eukaryota\":\n",
    "        title = \"Picoeukaryota\"\n",
    "    else:\n",
    "        title = taxgroup\n",
    "    ax.set_title(title, fontsize=10)\n",
    "plt.subplots_adjust(wspace=0.1)\n",
    "# Set up legend\n",
    "handles = [mpatches.Patch(color=palette[x], label=x) for x in sorted(palette.keys())]\n",
    "legend = axes[2].legend(handles=handles, bbox_to_anchor=(2.1,1))\n",
    "legend.get_frame().set_facecolor('white')\n",
    "legend.set_title(\"Substrate category\")"
   ]
  }
 ],
 "metadata": {
  "anaconda-cloud": {},
  "kernelspec": {
   "display_name": "Python 3",
   "language": "python",
   "name": "python3"
  },
  "language_info": {
   "codemirror_mode": {
    "name": "ipython",
    "version": 3
   },
   "file_extension": ".py",
   "mimetype": "text/x-python",
   "name": "python",
   "nbconvert_exporter": "python",
   "pygments_lexer": "ipython3",
   "version": "3.6.7"
  }
 },
 "nbformat": 4,
 "nbformat_minor": 2
}
