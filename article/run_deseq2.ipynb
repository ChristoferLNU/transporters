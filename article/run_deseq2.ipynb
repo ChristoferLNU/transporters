{
 "cells": [
  {
   "cell_type": "markdown",
   "metadata": {},
   "source": [
    "# Statistical analysis using DESeq2"
   ]
  },
  {
   "cell_type": "markdown",
   "metadata": {},
   "source": [
    "## Installation"
   ]
  },
  {
   "cell_type": "code",
   "execution_count": 1,
   "metadata": {},
   "outputs": [
    {
     "name": "stderr",
     "output_type": "stream",
     "text": [
      "Loading required package: S4Vectors\n",
      "Loading required package: stats4\n",
      "Loading required package: BiocGenerics\n",
      "Loading required package: parallel\n",
      "\n",
      "Attaching package: ‘BiocGenerics’\n",
      "\n",
      "The following objects are masked from ‘package:parallel’:\n",
      "\n",
      "    clusterApply, clusterApplyLB, clusterCall, clusterEvalQ,\n",
      "    clusterExport, clusterMap, parApply, parCapply, parLapply,\n",
      "    parLapplyLB, parRapply, parSapply, parSapplyLB\n",
      "\n",
      "The following objects are masked from ‘package:stats’:\n",
      "\n",
      "    IQR, mad, xtabs\n",
      "\n",
      "The following objects are masked from ‘package:base’:\n",
      "\n",
      "    anyDuplicated, append, as.data.frame, cbind, colnames, do.call,\n",
      "    duplicated, eval, evalq, Filter, Find, get, grep, grepl, intersect,\n",
      "    is.unsorted, lapply, lengths, Map, mapply, match, mget, order,\n",
      "    paste, pmax, pmax.int, pmin, pmin.int, Position, rank, rbind,\n",
      "    Reduce, rownames, sapply, setdiff, sort, table, tapply, union,\n",
      "    unique, unsplit, which, which.max, which.min\n",
      "\n",
      "\n",
      "Attaching package: ‘S4Vectors’\n",
      "\n",
      "The following objects are masked from ‘package:base’:\n",
      "\n",
      "    colMeans, colSums, expand.grid, rowMeans, rowSums\n",
      "\n",
      "Loading required package: IRanges\n",
      "Loading required package: GenomicRanges\n",
      "Loading required package: GenomeInfoDb\n",
      "Loading required package: SummarizedExperiment\n",
      "Loading required package: Biobase\n",
      "Welcome to Bioconductor\n",
      "\n",
      "    Vignettes contain introductory material; view with\n",
      "    'browseVignettes()'. To cite Bioconductor, see\n",
      "    'citation(\"Biobase\")', and for packages 'citation(\"pkgname\")'.\n",
      "\n"
     ]
    }
   ],
   "source": [
    "library(\"DESeq2\")"
   ]
  },
  {
   "cell_type": "markdown",
   "metadata": {},
   "source": [
    "## Functionality"
   ]
  },
  {
   "cell_type": "code",
   "execution_count": 2,
   "metadata": {},
   "outputs": [],
   "source": [
    "doy <- function(samples){\n",
    "    doys <- rep(1,length(samples))\n",
    "    i = 1\n",
    "    for (sample in samples){\n",
    "        x = as.Date(sample,\"%y%m%d\")\n",
    "        day = as.numeric(strftime(x, format = \"%j\"))\n",
    "        doys[i] = day\n",
    "        i = i+1\n",
    "    }\n",
    "    doys\n",
    "}"
   ]
  },
  {
   "cell_type": "code",
   "execution_count": 3,
   "metadata": {},
   "outputs": [],
   "source": [
    "dseq_groups <- function(coldata,countdata,group1,group2){\n",
    "    coldata = as.data.frame(coldata)\n",
    "    this_coldata = coldata[coldata$group%in%c(group1,group2),]\n",
    "    \n",
    "    this_coldata$group = droplevels(this_coldata$group)\n",
    "    dseq = DESeqDataSetFromMatrix(countData = countdata[,rownames(this_coldata)],colData = this_coldata, design = ~group)\n",
    "    dseq_run = DESeq(dseq)\n",
    "    res = results(dseq_run)\n",
    "    string=paste(group2,group1,sep=\" vs \")\n",
    "    res$groups = rep(string,nrow(res))\n",
    "    res$transporter = row.names(res)\n",
    "    res\n",
    "}"
   ]
  },
  {
   "cell_type": "markdown",
   "metadata": {},
   "source": [
    "## Read filtered counts data for abundant transporters"
   ]
  },
  {
   "cell_type": "markdown",
   "metadata": {},
   "source": [
    "Because the power of statistical analyses of metagenomes depends heavily on the number of reads mapped to features, only TIGRFAMs with >= 100 average counts across datasets were included here. The representative TIGRFAMs of each transporter was used as a proxy for that transporter and the read counts summed."
   ]
  },
  {
   "cell_type": "code",
   "execution_count": 4,
   "metadata": {},
   "outputs": [],
   "source": [
    "mg_counts <- read.table(\"results/mg/rep_trans_filt.raw_counts.tsv\", header=T, sep=\"\\t\", row.names=1)\n",
    "colnames(mg_counts) <- gsub(\"X\",\"\",colnames(mg_counts))"
   ]
  },
  {
   "cell_type": "code",
   "execution_count": 5,
   "metadata": {},
   "outputs": [
    {
     "data": {
      "text/html": [
       "<table>\n",
       "<thead><tr><th></th><th scope=col>120314</th><th scope=col>120322</th><th scope=col>120328</th><th scope=col>120403</th><th scope=col>120416</th><th scope=col>120419</th><th scope=col>120423</th><th scope=col>120516</th><th scope=col>120531</th><th scope=col>120604</th><th scope=col>⋯</th><th scope=col>120920</th><th scope=col>120924</th><th scope=col>121001</th><th scope=col>121004</th><th scope=col>121015</th><th scope=col>121022</th><th scope=col>121028</th><th scope=col>121105</th><th scope=col>121128</th><th scope=col>121220</th></tr></thead>\n",
       "<tbody>\n",
       "\t<tr><th scope=row>T534</th><td>382 </td><td>883 </td><td>204 </td><td>131 </td><td>168 </td><td>443 </td><td>90  </td><td>69  </td><td>188 </td><td>90  </td><td>⋯   </td><td>836 </td><td>1464</td><td>604 </td><td>177 </td><td>624 </td><td>240 </td><td>138 </td><td>168 </td><td>326 </td><td>1003</td></tr>\n",
       "\t<tr><th scope=row>T37</th><td>362 </td><td>1826</td><td>192 </td><td>130 </td><td>158 </td><td>458 </td><td>72  </td><td>83  </td><td>237 </td><td>77  </td><td>⋯   </td><td>928 </td><td>944 </td><td>535 </td><td>138 </td><td>704 </td><td>352 </td><td>164 </td><td>135 </td><td>373 </td><td>984 </td></tr>\n",
       "\t<tr><th scope=row>T42</th><td>181</td><td>652</td><td>79 </td><td>59 </td><td>51 </td><td>148</td><td>34 </td><td>31 </td><td>89 </td><td>40 </td><td>⋯  </td><td>553</td><td>542</td><td>354</td><td>73 </td><td>430</td><td>158</td><td>95 </td><td>68 </td><td>163</td><td>449</td></tr>\n",
       "\t<tr><th scope=row>T7</th><td>935 </td><td>2419</td><td>668 </td><td>424 </td><td>459 </td><td>1182</td><td>226 </td><td>141 </td><td>597 </td><td>157 </td><td>⋯   </td><td>3753</td><td>3881</td><td>2762</td><td>653 </td><td>2781</td><td>1280</td><td>645 </td><td>583 </td><td>1484</td><td>4176</td></tr>\n",
       "\t<tr><th scope=row>T71</th><td>403 </td><td>2023</td><td>567 </td><td>363 </td><td>417 </td><td>1294</td><td>263 </td><td>207 </td><td>684 </td><td>152 </td><td>⋯   </td><td>2154</td><td>2484</td><td>1662</td><td>364 </td><td>1682</td><td>748 </td><td>303 </td><td>391 </td><td>828 </td><td>2842</td></tr>\n",
       "\t<tr><th scope=row>T56</th><td>930 </td><td>1897</td><td>561 </td><td>268 </td><td>237 </td><td>939 </td><td>131 </td><td>154 </td><td>765 </td><td>274 </td><td>⋯   </td><td>1824</td><td>2744</td><td>1272</td><td>314 </td><td>1363</td><td>512 </td><td>258 </td><td>341 </td><td>646 </td><td>1584</td></tr>\n",
       "</tbody>\n",
       "</table>\n"
      ],
      "text/latex": [
       "\\begin{tabular}{r|lllllllllllllllllllllllllllllllll}\n",
       "  & 120314 & 120322 & 120328 & 120403 & 120416 & 120419 & 120423 & 120516 & 120531 & 120604 & ⋯ & 120920 & 120924 & 121001 & 121004 & 121015 & 121022 & 121028 & 121105 & 121128 & 121220\\\\\n",
       "\\hline\n",
       "\tT534 & 382  & 883  & 204  & 131  & 168  & 443  & 90   & 69   & 188  & 90   & ⋯    & 836  & 1464 & 604  & 177  & 624  & 240  & 138  & 168  & 326  & 1003\\\\\n",
       "\tT37 & 362  & 1826 & 192  & 130  & 158  & 458  & 72   & 83   & 237  & 77   & ⋯    & 928  & 944  & 535  & 138  & 704  & 352  & 164  & 135  & 373  & 984 \\\\\n",
       "\tT42 & 181 & 652 & 79  & 59  & 51  & 148 & 34  & 31  & 89  & 40  & ⋯   & 553 & 542 & 354 & 73  & 430 & 158 & 95  & 68  & 163 & 449\\\\\n",
       "\tT7 & 935  & 2419 & 668  & 424  & 459  & 1182 & 226  & 141  & 597  & 157  & ⋯    & 3753 & 3881 & 2762 & 653  & 2781 & 1280 & 645  & 583  & 1484 & 4176\\\\\n",
       "\tT71 & 403  & 2023 & 567  & 363  & 417  & 1294 & 263  & 207  & 684  & 152  & ⋯    & 2154 & 2484 & 1662 & 364  & 1682 & 748  & 303  & 391  & 828  & 2842\\\\\n",
       "\tT56 & 930  & 1897 & 561  & 268  & 237  & 939  & 131  & 154  & 765  & 274  & ⋯    & 1824 & 2744 & 1272 & 314  & 1363 & 512  & 258  & 341  & 646  & 1584\\\\\n",
       "\\end{tabular}\n"
      ],
      "text/plain": [
       "     120314 120322 120328 120403 120416 120419 120423 120516 120531 120604 ⋯\n",
       "T534    382    883    204    131    168    443     90     69    188     90 ⋯\n",
       "T37     362   1826    192    130    158    458     72     83    237     77 ⋯\n",
       "T42     181    652     79     59     51    148     34     31     89     40 ⋯\n",
       "T7      935   2419    668    424    459   1182    226    141    597    157 ⋯\n",
       "T71     403   2023    567    363    417   1294    263    207    684    152 ⋯\n",
       "T56     930   1897    561    268    237    939    131    154    765    274 ⋯\n",
       "     120920 120924 121001 121004 121015 121022 121028 121105 121128 121220\n",
       "T534    836   1464    604    177    624    240    138    168    326   1003\n",
       "T37     928    944    535    138    704    352    164    135    373    984\n",
       "T42     553    542    354     73    430    158     95     68    163    449\n",
       "T7     3753   3881   2762    653   2781   1280    645    583   1484   4176\n",
       "T71    2154   2484   1662    364   1682    748    303    391    828   2842\n",
       "T56    1824   2744   1272    314   1363    512    258    341    646   1584"
      ]
     },
     "metadata": {},
     "output_type": "display_data"
    }
   ],
   "source": [
    "head(mg_counts)"
   ]
  },
  {
   "cell_type": "code",
   "execution_count": 6,
   "metadata": {},
   "outputs": [],
   "source": [
    "mt_counts <- read.table(\"results/mt/rep_trans_filt.raw_counts.tsv\", header=T, sep=\"\\t\", row.names=1)\n",
    "colnames(mt_counts) <- gsub(\"X\",\"\",colnames(mt_counts))"
   ]
  },
  {
   "cell_type": "code",
   "execution_count": 7,
   "metadata": {},
   "outputs": [
    {
     "data": {
      "text/html": [
       "<table>\n",
       "<thead><tr><th></th><th scope=col>120516</th><th scope=col>120613</th><th scope=col>120712</th><th scope=col>120813</th><th scope=col>120927</th><th scope=col>121024</th><th scope=col>121220</th><th scope=col>130123</th><th scope=col>130226</th><th scope=col>130403</th><th scope=col>⋯</th><th scope=col>130815</th><th scope=col>130905</th><th scope=col>131003</th><th scope=col>140408</th><th scope=col>140506</th><th scope=col>140604</th><th scope=col>140709</th><th scope=col>140820</th><th scope=col>140916</th><th scope=col>141013</th></tr></thead>\n",
       "<tbody>\n",
       "\t<tr><th scope=row>T37</th><td>98 </td><td>131</td><td>93 </td><td>208</td><td>126</td><td>137</td><td>270</td><td>351</td><td>138</td><td>69 </td><td>⋯  </td><td>34 </td><td>56 </td><td>79 </td><td>11 </td><td>16 </td><td>66 </td><td>162</td><td>154</td><td>59 </td><td>69 </td></tr>\n",
       "\t<tr><th scope=row>T7</th><td>538 </td><td>120 </td><td>813 </td><td>448 </td><td>609 </td><td>776 </td><td>629 </td><td>1537</td><td>864 </td><td>1478</td><td>⋯   </td><td>351 </td><td>331 </td><td>338 </td><td>840 </td><td>601 </td><td>239 </td><td>678 </td><td>719 </td><td>346 </td><td>565 </td></tr>\n",
       "\t<tr><th scope=row>T71</th><td>447 </td><td>177 </td><td>684 </td><td>403 </td><td>333 </td><td>401 </td><td>295 </td><td>568 </td><td>295 </td><td>193 </td><td>⋯   </td><td>241 </td><td>557 </td><td>409 </td><td>226 </td><td>203 </td><td>338 </td><td>542 </td><td>1014</td><td>283 </td><td>473 </td></tr>\n",
       "\t<tr><th scope=row>T56</th><td>366 </td><td>67  </td><td>563 </td><td>120 </td><td>215 </td><td>204 </td><td>191 </td><td>485 </td><td>380 </td><td>512 </td><td>⋯   </td><td>107 </td><td>157 </td><td>163 </td><td>860 </td><td>2229</td><td>159 </td><td>589 </td><td>191 </td><td>239 </td><td>474 </td></tr>\n",
       "\t<tr><th scope=row>T18</th><td>1324</td><td>1906</td><td>297 </td><td>102 </td><td>774 </td><td>376 </td><td>230 </td><td>465 </td><td>601 </td><td>693 </td><td>⋯   </td><td>18  </td><td>34  </td><td>53  </td><td>160 </td><td>113 </td><td>168 </td><td>26  </td><td>102 </td><td>76  </td><td>201 </td></tr>\n",
       "\t<tr><th scope=row>T5</th><td>493 </td><td>416 </td><td>562 </td><td>388 </td><td>688 </td><td>753 </td><td>766 </td><td>1353</td><td>629 </td><td>686 </td><td>⋯   </td><td>272 </td><td>333 </td><td>227 </td><td>252 </td><td>48  </td><td>295 </td><td>1431</td><td>985 </td><td>478 </td><td>393 </td></tr>\n",
       "</tbody>\n",
       "</table>\n"
      ],
      "text/latex": [
       "\\begin{tabular}{r|lllllllllllllllllllllllll}\n",
       "  & 120516 & 120613 & 120712 & 120813 & 120927 & 121024 & 121220 & 130123 & 130226 & 130403 & ⋯ & 130815 & 130905 & 131003 & 140408 & 140506 & 140604 & 140709 & 140820 & 140916 & 141013\\\\\n",
       "\\hline\n",
       "\tT37 & 98  & 131 & 93  & 208 & 126 & 137 & 270 & 351 & 138 & 69  & ⋯   & 34  & 56  & 79  & 11  & 16  & 66  & 162 & 154 & 59  & 69 \\\\\n",
       "\tT7 & 538  & 120  & 813  & 448  & 609  & 776  & 629  & 1537 & 864  & 1478 & ⋯    & 351  & 331  & 338  & 840  & 601  & 239  & 678  & 719  & 346  & 565 \\\\\n",
       "\tT71 & 447  & 177  & 684  & 403  & 333  & 401  & 295  & 568  & 295  & 193  & ⋯    & 241  & 557  & 409  & 226  & 203  & 338  & 542  & 1014 & 283  & 473 \\\\\n",
       "\tT56 & 366  & 67   & 563  & 120  & 215  & 204  & 191  & 485  & 380  & 512  & ⋯    & 107  & 157  & 163  & 860  & 2229 & 159  & 589  & 191  & 239  & 474 \\\\\n",
       "\tT18 & 1324 & 1906 & 297  & 102  & 774  & 376  & 230  & 465  & 601  & 693  & ⋯    & 18   & 34   & 53   & 160  & 113  & 168  & 26   & 102  & 76   & 201 \\\\\n",
       "\tT5 & 493  & 416  & 562  & 388  & 688  & 753  & 766  & 1353 & 629  & 686  & ⋯    & 272  & 333  & 227  & 252  & 48   & 295  & 1431 & 985  & 478  & 393 \\\\\n",
       "\\end{tabular}\n"
      ],
      "text/plain": [
       "    120516 120613 120712 120813 120927 121024 121220 130123 130226 130403 ⋯\n",
       "T37     98    131     93    208    126    137    270    351    138     69 ⋯\n",
       "T7     538    120    813    448    609    776    629   1537    864   1478 ⋯\n",
       "T71    447    177    684    403    333    401    295    568    295    193 ⋯\n",
       "T56    366     67    563    120    215    204    191    485    380    512 ⋯\n",
       "T18   1324   1906    297    102    774    376    230    465    601    693 ⋯\n",
       "T5     493    416    562    388    688    753    766   1353    629    686 ⋯\n",
       "    130815 130905 131003 140408 140506 140604 140709 140820 140916 141013\n",
       "T37     34     56     79     11     16     66    162    154     59     69\n",
       "T7     351    331    338    840    601    239    678    719    346    565\n",
       "T71    241    557    409    226    203    338    542   1014    283    473\n",
       "T56    107    157    163    860   2229    159    589    191    239    474\n",
       "T18     18     34     53    160    113    168     26    102     76    201\n",
       "T5     272    333    227    252     48    295   1431    985    478    393"
      ]
     },
     "metadata": {},
     "output_type": "display_data"
    }
   ],
   "source": [
    "head(mt_counts)"
   ]
  },
  {
   "cell_type": "code",
   "execution_count": 25,
   "metadata": {},
   "outputs": [
    {
     "data": {
      "text/html": [
       "<ol class=list-inline>\n",
       "\t<li>'T37'</li>\n",
       "\t<li>'T7'</li>\n",
       "\t<li>'T71'</li>\n",
       "\t<li>'T56'</li>\n",
       "\t<li>'T18'</li>\n",
       "\t<li>'T5'</li>\n",
       "\t<li>'T67'</li>\n",
       "\t<li>'T40'</li>\n",
       "\t<li>'T388'</li>\n",
       "\t<li>'T761'</li>\n",
       "\t<li>'T12'</li>\n",
       "\t<li>'T35'</li>\n",
       "\t<li>'T27'</li>\n",
       "\t<li>'T724'</li>\n",
       "\t<li>'T60'</li>\n",
       "\t<li>'T1059'</li>\n",
       "\t<li>'T59'</li>\n",
       "\t<li>'T133'</li>\n",
       "\t<li>'T154'</li>\n",
       "\t<li>'T109'</li>\n",
       "\t<li>'T3'</li>\n",
       "\t<li>'T317'</li>\n",
       "</ol>\n"
      ],
      "text/latex": [
       "\\begin{enumerate*}\n",
       "\\item 'T37'\n",
       "\\item 'T7'\n",
       "\\item 'T71'\n",
       "\\item 'T56'\n",
       "\\item 'T18'\n",
       "\\item 'T5'\n",
       "\\item 'T67'\n",
       "\\item 'T40'\n",
       "\\item 'T388'\n",
       "\\item 'T761'\n",
       "\\item 'T12'\n",
       "\\item 'T35'\n",
       "\\item 'T27'\n",
       "\\item 'T724'\n",
       "\\item 'T60'\n",
       "\\item 'T1059'\n",
       "\\item 'T59'\n",
       "\\item 'T133'\n",
       "\\item 'T154'\n",
       "\\item 'T109'\n",
       "\\item 'T3'\n",
       "\\item 'T317'\n",
       "\\end{enumerate*}\n"
      ],
      "text/markdown": [
       "1. 'T37'\n",
       "2. 'T7'\n",
       "3. 'T71'\n",
       "4. 'T56'\n",
       "5. 'T18'\n",
       "6. 'T5'\n",
       "7. 'T67'\n",
       "8. 'T40'\n",
       "9. 'T388'\n",
       "10. 'T761'\n",
       "11. 'T12'\n",
       "12. 'T35'\n",
       "13. 'T27'\n",
       "14. 'T724'\n",
       "15. 'T60'\n",
       "16. 'T1059'\n",
       "17. 'T59'\n",
       "18. 'T133'\n",
       "19. 'T154'\n",
       "20. 'T109'\n",
       "21. 'T3'\n",
       "22. 'T317'\n",
       "\n",
       "\n"
      ],
      "text/plain": [
       " [1] \"T37\"   \"T7\"    \"T71\"   \"T56\"   \"T18\"   \"T5\"    \"T67\"   \"T40\"   \"T388\" \n",
       "[10] \"T761\"  \"T12\"   \"T35\"   \"T27\"   \"T724\"  \"T60\"   \"T1059\" \"T59\"   \"T133\" \n",
       "[19] \"T154\"  \"T109\"  \"T3\"    \"T317\" "
      ]
     },
     "metadata": {},
     "output_type": "display_data"
    }
   ],
   "source": [
    "rownames(mt_counts)"
   ]
  },
  {
   "cell_type": "markdown",
   "metadata": {},
   "source": [
    "## Set sample metadata"
   ]
  },
  {
   "cell_type": "markdown",
   "metadata": {},
   "source": [
    "### Read group information on samples"
   ]
  },
  {
   "cell_type": "code",
   "execution_count": 8,
   "metadata": {},
   "outputs": [
    {
     "data": {
      "text/html": [
       "<table>\n",
       "<thead><tr><th></th><th scope=col>Sample</th><th scope=col>Group</th></tr></thead>\n",
       "<tbody>\n",
       "\t<tr><th scope=row>120314</th><td>120314      </td><td>early-spring</td></tr>\n",
       "\t<tr><th scope=row>120322</th><td>120322      </td><td>early-spring</td></tr>\n",
       "\t<tr><th scope=row>120531</th><td>120531      </td><td>early-summer</td></tr>\n",
       "\t<tr><th scope=row>120604</th><td>120604      </td><td>early-summer</td></tr>\n",
       "\t<tr><th scope=row>120613</th><td>120613      </td><td>early-summer</td></tr>\n",
       "\t<tr><th scope=row>120619</th><td>120619      </td><td>early-summer</td></tr>\n",
       "\t<tr><th scope=row>120628</th><td>120628      </td><td>early-summer</td></tr>\n",
       "\t<tr><th scope=row>120705</th><td>120705</td><td>fall  </td></tr>\n",
       "\t<tr><th scope=row>120820</th><td>120820</td><td>fall  </td></tr>\n",
       "\t<tr><th scope=row>120823</th><td>120823</td><td>fall  </td></tr>\n",
       "\t<tr><th scope=row>120828</th><td>120828</td><td>fall  </td></tr>\n",
       "\t<tr><th scope=row>120903</th><td>120903</td><td>fall  </td></tr>\n",
       "\t<tr><th scope=row>120328</th><td>120328</td><td>spring</td></tr>\n",
       "\t<tr><th scope=row>120403</th><td>120403</td><td>spring</td></tr>\n",
       "\t<tr><th scope=row>120416</th><td>120416</td><td>spring</td></tr>\n",
       "\t<tr><th scope=row>120419</th><td>120419</td><td>spring</td></tr>\n",
       "\t<tr><th scope=row>120423</th><td>120423</td><td>spring</td></tr>\n",
       "\t<tr><th scope=row>120516</th><td>120516</td><td>spring</td></tr>\n",
       "\t<tr><th scope=row>120709</th><td>120709</td><td>summer</td></tr>\n",
       "\t<tr><th scope=row>120717</th><td>120717</td><td>summer</td></tr>\n",
       "\t<tr><th scope=row>120802</th><td>120802</td><td>summer</td></tr>\n",
       "\t<tr><th scope=row>120806</th><td>120806</td><td>summer</td></tr>\n",
       "\t<tr><th scope=row>120813</th><td>120813</td><td>summer</td></tr>\n",
       "\t<tr><th scope=row>120920</th><td>120920</td><td>winter</td></tr>\n",
       "\t<tr><th scope=row>120924</th><td>120924</td><td>winter</td></tr>\n",
       "\t<tr><th scope=row>121001</th><td>121001</td><td>winter</td></tr>\n",
       "\t<tr><th scope=row>121004</th><td>121004</td><td>winter</td></tr>\n",
       "\t<tr><th scope=row>121015</th><td>121015</td><td>winter</td></tr>\n",
       "\t<tr><th scope=row>121022</th><td>121022</td><td>winter</td></tr>\n",
       "\t<tr><th scope=row>121105</th><td>121105</td><td>winter</td></tr>\n",
       "\t<tr><th scope=row>121128</th><td>121128</td><td>winter</td></tr>\n",
       "\t<tr><th scope=row>121220</th><td>121220</td><td>winter</td></tr>\n",
       "</tbody>\n",
       "</table>\n"
      ],
      "text/latex": [
       "\\begin{tabular}{r|ll}\n",
       "  & Sample & Group\\\\\n",
       "\\hline\n",
       "\t120314 & 120314       & early-spring\\\\\n",
       "\t120322 & 120322       & early-spring\\\\\n",
       "\t120531 & 120531       & early-summer\\\\\n",
       "\t120604 & 120604       & early-summer\\\\\n",
       "\t120613 & 120613       & early-summer\\\\\n",
       "\t120619 & 120619       & early-summer\\\\\n",
       "\t120628 & 120628       & early-summer\\\\\n",
       "\t120705 & 120705 & fall  \\\\\n",
       "\t120820 & 120820 & fall  \\\\\n",
       "\t120823 & 120823 & fall  \\\\\n",
       "\t120828 & 120828 & fall  \\\\\n",
       "\t120903 & 120903 & fall  \\\\\n",
       "\t120328 & 120328 & spring\\\\\n",
       "\t120403 & 120403 & spring\\\\\n",
       "\t120416 & 120416 & spring\\\\\n",
       "\t120419 & 120419 & spring\\\\\n",
       "\t120423 & 120423 & spring\\\\\n",
       "\t120516 & 120516 & spring\\\\\n",
       "\t120709 & 120709 & summer\\\\\n",
       "\t120717 & 120717 & summer\\\\\n",
       "\t120802 & 120802 & summer\\\\\n",
       "\t120806 & 120806 & summer\\\\\n",
       "\t120813 & 120813 & summer\\\\\n",
       "\t120920 & 120920 & winter\\\\\n",
       "\t120924 & 120924 & winter\\\\\n",
       "\t121001 & 121001 & winter\\\\\n",
       "\t121004 & 121004 & winter\\\\\n",
       "\t121015 & 121015 & winter\\\\\n",
       "\t121022 & 121022 & winter\\\\\n",
       "\t121105 & 121105 & winter\\\\\n",
       "\t121128 & 121128 & winter\\\\\n",
       "\t121220 & 121220 & winter\\\\\n",
       "\\end{tabular}\n"
      ],
      "text/plain": [
       "       Sample        Group\n",
       "120314 120314 early-spring\n",
       "120322 120322 early-spring\n",
       "120531 120531 early-summer\n",
       "120604 120604 early-summer\n",
       "120613 120613 early-summer\n",
       "120619 120619 early-summer\n",
       "120628 120628 early-summer\n",
       "120705 120705         fall\n",
       "120820 120820         fall\n",
       "120823 120823         fall\n",
       "120828 120828         fall\n",
       "120903 120903         fall\n",
       "120328 120328       spring\n",
       "120403 120403       spring\n",
       "120416 120416       spring\n",
       "120419 120419       spring\n",
       "120423 120423       spring\n",
       "120516 120516       spring\n",
       "120709 120709       summer\n",
       "120717 120717       summer\n",
       "120802 120802       summer\n",
       "120806 120806       summer\n",
       "120813 120813       summer\n",
       "120920 120920       winter\n",
       "120924 120924       winter\n",
       "121001 121001       winter\n",
       "121004 121004       winter\n",
       "121015 121015       winter\n",
       "121022 121022       winter\n",
       "121105 121105       winter\n",
       "121128 121128       winter\n",
       "121220 121220       winter"
      ]
     },
     "metadata": {},
     "output_type": "display_data"
    }
   ],
   "source": [
    "mg_groups <- read.table(\"results/mg/samplegroups.tab\", header=T, sep=\"\\t\", col.names = c(\"Sample\",\"Group\"))\n",
    "rownames(mg_groups) = mg_groups$Sample\n",
    "mg_groups[order(mg_groups$Group),]"
   ]
  },
  {
   "cell_type": "code",
   "execution_count": 9,
   "metadata": {},
   "outputs": [
    {
     "data": {
      "text/html": [
       "<table>\n",
       "<thead><tr><th></th><th scope=col>Sample</th><th scope=col>Group</th></tr></thead>\n",
       "<tbody>\n",
       "\t<tr><th scope=row>130605</th><td>130605      </td><td>early-summer</td></tr>\n",
       "\t<tr><th scope=row>140408</th><td>140408      </td><td>early-summer</td></tr>\n",
       "\t<tr><th scope=row>140506</th><td>140506      </td><td>early-summer</td></tr>\n",
       "\t<tr><th scope=row>120712</th><td>120712</td><td>spring</td></tr>\n",
       "\t<tr><th scope=row>130403</th><td>130403</td><td>spring</td></tr>\n",
       "\t<tr><th scope=row>130416</th><td>130416</td><td>spring</td></tr>\n",
       "\t<tr><th scope=row>130422</th><td>130422</td><td>spring</td></tr>\n",
       "\t<tr><th scope=row>130507</th><td>130507</td><td>spring</td></tr>\n",
       "\t<tr><th scope=row>140604</th><td>140604</td><td>spring</td></tr>\n",
       "\t<tr><th scope=row>120813</th><td>120813</td><td>summer</td></tr>\n",
       "\t<tr><th scope=row>130815</th><td>130815</td><td>summer</td></tr>\n",
       "\t<tr><th scope=row>130905</th><td>130905</td><td>summer</td></tr>\n",
       "\t<tr><th scope=row>140820</th><td>140820</td><td>summer</td></tr>\n",
       "\t<tr><th scope=row>120927</th><td>120927</td><td>winter</td></tr>\n",
       "\t<tr><th scope=row>121220</th><td>121220</td><td>winter</td></tr>\n",
       "\t<tr><th scope=row>130123</th><td>130123</td><td>winter</td></tr>\n",
       "\t<tr><th scope=row>130226</th><td>130226</td><td>winter</td></tr>\n",
       "\t<tr><th scope=row>131003</th><td>131003</td><td>winter</td></tr>\n",
       "</tbody>\n",
       "</table>\n"
      ],
      "text/latex": [
       "\\begin{tabular}{r|ll}\n",
       "  & Sample & Group\\\\\n",
       "\\hline\n",
       "\t130605 & 130605       & early-summer\\\\\n",
       "\t140408 & 140408       & early-summer\\\\\n",
       "\t140506 & 140506       & early-summer\\\\\n",
       "\t120712 & 120712 & spring\\\\\n",
       "\t130403 & 130403 & spring\\\\\n",
       "\t130416 & 130416 & spring\\\\\n",
       "\t130422 & 130422 & spring\\\\\n",
       "\t130507 & 130507 & spring\\\\\n",
       "\t140604 & 140604 & spring\\\\\n",
       "\t120813 & 120813 & summer\\\\\n",
       "\t130815 & 130815 & summer\\\\\n",
       "\t130905 & 130905 & summer\\\\\n",
       "\t140820 & 140820 & summer\\\\\n",
       "\t120927 & 120927 & winter\\\\\n",
       "\t121220 & 121220 & winter\\\\\n",
       "\t130123 & 130123 & winter\\\\\n",
       "\t130226 & 130226 & winter\\\\\n",
       "\t131003 & 131003 & winter\\\\\n",
       "\\end{tabular}\n"
      ],
      "text/plain": [
       "       Sample        Group\n",
       "130605 130605 early-summer\n",
       "140408 140408 early-summer\n",
       "140506 140506 early-summer\n",
       "120712 120712       spring\n",
       "130403 130403       spring\n",
       "130416 130416       spring\n",
       "130422 130422       spring\n",
       "130507 130507       spring\n",
       "140604 140604       spring\n",
       "120813 120813       summer\n",
       "130815 130815       summer\n",
       "130905 130905       summer\n",
       "140820 140820       summer\n",
       "120927 120927       winter\n",
       "121220 121220       winter\n",
       "130123 130123       winter\n",
       "130226 130226       winter\n",
       "131003 131003       winter"
      ]
     },
     "metadata": {},
     "output_type": "display_data"
    }
   ],
   "source": [
    "mt_groups <- read.table(\"results/mt/samplegroups.tab\", header=T, sep=\"\\t\", col.names = c(\"Sample\",\"Group\"))\n",
    "rownames(mt_groups) = mt_groups$Sample\n",
    "mt_groups[order(mt_groups$Group),]"
   ]
  },
  {
   "cell_type": "markdown",
   "metadata": {},
   "source": [
    "Use only samples that are clustered into groups."
   ]
  },
  {
   "cell_type": "code",
   "execution_count": 10,
   "metadata": {},
   "outputs": [],
   "source": [
    "mg_counts <- mg_counts[as.character(mg_groups$Sample)]"
   ]
  },
  {
   "cell_type": "code",
   "execution_count": 11,
   "metadata": {},
   "outputs": [],
   "source": [
    "mt_counts <- mt_counts[as.character(mt_groups$Sample)]"
   ]
  },
  {
   "cell_type": "markdown",
   "metadata": {},
   "source": [
    "### Create dataframe with sample groups"
   ]
  },
  {
   "cell_type": "code",
   "execution_count": 12,
   "metadata": {},
   "outputs": [],
   "source": [
    "mg_coldata <- data.frame(row.names = colnames(mg_counts), sample=colnames(mg_counts), group=mg_groups[colnames(mg_counts),\"Group\"],day=doy(colnames(mg_counts)))"
   ]
  },
  {
   "cell_type": "code",
   "execution_count": 13,
   "metadata": {},
   "outputs": [],
   "source": [
    "mt_coldata <- data.frame(row.names = colnames(mt_counts), sample=colnames(mt_counts), group=mt_groups[colnames(mt_counts),\"Group\"])"
   ]
  },
  {
   "cell_type": "markdown",
   "metadata": {},
   "source": [
    "For the metagenome, add day of year as a variable as well."
   ]
  },
  {
   "cell_type": "code",
   "execution_count": 14,
   "metadata": {},
   "outputs": [
    {
     "data": {
      "text/html": [
       "<table>\n",
       "<thead><tr><th></th><th scope=col>sample</th><th scope=col>group</th><th scope=col>day</th></tr></thead>\n",
       "<tbody>\n",
       "\t<tr><th scope=row>120314</th><td>120314      </td><td>early-spring</td><td>74          </td></tr>\n",
       "\t<tr><th scope=row>120322</th><td>120322      </td><td>early-spring</td><td>82          </td></tr>\n",
       "\t<tr><th scope=row>120328</th><td>120328</td><td>spring</td><td>88    </td></tr>\n",
       "\t<tr><th scope=row>120403</th><td>120403</td><td>spring</td><td>94    </td></tr>\n",
       "\t<tr><th scope=row>120416</th><td>120416</td><td>spring</td><td>107   </td></tr>\n",
       "\t<tr><th scope=row>120419</th><td>120419</td><td>spring</td><td>110   </td></tr>\n",
       "</tbody>\n",
       "</table>\n"
      ],
      "text/latex": [
       "\\begin{tabular}{r|lll}\n",
       "  & sample & group & day\\\\\n",
       "\\hline\n",
       "\t120314 & 120314       & early-spring & 74          \\\\\n",
       "\t120322 & 120322       & early-spring & 82          \\\\\n",
       "\t120328 & 120328 & spring & 88    \\\\\n",
       "\t120403 & 120403 & spring & 94    \\\\\n",
       "\t120416 & 120416 & spring & 107   \\\\\n",
       "\t120419 & 120419 & spring & 110   \\\\\n",
       "\\end{tabular}\n"
      ],
      "text/plain": [
       "       sample        group day\n",
       "120314 120314 early-spring  74\n",
       "120322 120322 early-spring  82\n",
       "120328 120328       spring  88\n",
       "120403 120403       spring  94\n",
       "120416 120416       spring 107\n",
       "120419 120419       spring 110"
      ]
     },
     "metadata": {},
     "output_type": "display_data"
    }
   ],
   "source": [
    "head(mg_coldata)"
   ]
  },
  {
   "cell_type": "code",
   "execution_count": 15,
   "metadata": {},
   "outputs": [
    {
     "data": {
      "text/html": [
       "<table>\n",
       "<thead><tr><th></th><th scope=col>sample</th><th scope=col>group</th></tr></thead>\n",
       "<tbody>\n",
       "\t<tr><th scope=row>120712</th><td>120712</td><td>spring</td></tr>\n",
       "\t<tr><th scope=row>120813</th><td>120813</td><td>summer</td></tr>\n",
       "\t<tr><th scope=row>120927</th><td>120927</td><td>winter</td></tr>\n",
       "\t<tr><th scope=row>121220</th><td>121220</td><td>winter</td></tr>\n",
       "\t<tr><th scope=row>130123</th><td>130123</td><td>winter</td></tr>\n",
       "\t<tr><th scope=row>130226</th><td>130226</td><td>winter</td></tr>\n",
       "</tbody>\n",
       "</table>\n"
      ],
      "text/latex": [
       "\\begin{tabular}{r|ll}\n",
       "  & sample & group\\\\\n",
       "\\hline\n",
       "\t120712 & 120712 & spring\\\\\n",
       "\t120813 & 120813 & summer\\\\\n",
       "\t120927 & 120927 & winter\\\\\n",
       "\t121220 & 121220 & winter\\\\\n",
       "\t130123 & 130123 & winter\\\\\n",
       "\t130226 & 130226 & winter\\\\\n",
       "\\end{tabular}\n"
      ],
      "text/plain": [
       "       sample  group\n",
       "120712 120712 spring\n",
       "120813 120813 summer\n",
       "120927 120927 winter\n",
       "121220 121220 winter\n",
       "130123 130123 winter\n",
       "130226 130226 winter"
      ]
     },
     "metadata": {},
     "output_type": "display_data"
    }
   ],
   "source": [
    "head(mt_coldata)"
   ]
  },
  {
   "cell_type": "markdown",
   "metadata": {},
   "source": [
    "## Analysis of the MG dataset"
   ]
  },
  {
   "cell_type": "markdown",
   "metadata": {},
   "source": [
    "<img style=\"float: left;\" src=\"results/figures/mg_sample_clusters_groups.png\",width=25%/>"
   ]
  },
  {
   "cell_type": "markdown",
   "metadata": {},
   "source": [
    "Perform pair-wise comparisons of spring, early-summer, summer and winter groups."
   ]
  },
  {
   "cell_type": "code",
   "execution_count": 17,
   "metadata": {},
   "outputs": [
    {
     "data": {
      "text/html": [
       "<ol class=list-inline>\n",
       "\t<li>'early-spring'</li>\n",
       "\t<li>'early-summer'</li>\n",
       "\t<li>'fall'</li>\n",
       "\t<li>'spring'</li>\n",
       "\t<li>'summer'</li>\n",
       "\t<li>'winter'</li>\n",
       "</ol>\n"
      ],
      "text/latex": [
       "\\begin{enumerate*}\n",
       "\\item 'early-spring'\n",
       "\\item 'early-summer'\n",
       "\\item 'fall'\n",
       "\\item 'spring'\n",
       "\\item 'summer'\n",
       "\\item 'winter'\n",
       "\\end{enumerate*}\n"
      ],
      "text/markdown": [
       "1. 'early-spring'\n",
       "2. 'early-summer'\n",
       "3. 'fall'\n",
       "4. 'spring'\n",
       "5. 'summer'\n",
       "6. 'winter'\n",
       "\n",
       "\n"
      ],
      "text/plain": [
       "[1] \"early-spring\" \"early-summer\" \"fall\"         \"spring\"       \"summer\"      \n",
       "[6] \"winter\"      "
      ]
     },
     "metadata": {},
     "output_type": "display_data"
    }
   ],
   "source": [
    "groups <- c(\"early-spring\",\"spring\",\"early-summer\",\"summer\",\"fall\",\"winter\")\n",
    "groups <- sort(groups)\n",
    "groups"
   ]
  },
  {
   "cell_type": "code",
   "execution_count": 18,
   "metadata": {},
   "outputs": [
    {
     "name": "stderr",
     "output_type": "stream",
     "text": [
      "converting counts to integer mode\n",
      "estimating size factors\n",
      "estimating dispersions\n",
      "gene-wise dispersion estimates\n",
      "mean-dispersion relationship\n",
      "final dispersion estimates\n",
      "fitting model and testing\n",
      "converting counts to integer mode\n",
      "estimating size factors\n",
      "estimating dispersions\n",
      "gene-wise dispersion estimates\n",
      "mean-dispersion relationship\n",
      "final dispersion estimates\n",
      "fitting model and testing\n",
      "converting counts to integer mode\n",
      "estimating size factors\n",
      "estimating dispersions\n",
      "gene-wise dispersion estimates\n",
      "mean-dispersion relationship\n",
      "final dispersion estimates\n",
      "fitting model and testing\n",
      "converting counts to integer mode\n",
      "estimating size factors\n",
      "estimating dispersions\n",
      "gene-wise dispersion estimates\n",
      "mean-dispersion relationship\n",
      "final dispersion estimates\n",
      "fitting model and testing\n",
      "converting counts to integer mode\n",
      "estimating size factors\n",
      "estimating dispersions\n",
      "gene-wise dispersion estimates\n",
      "mean-dispersion relationship\n",
      "final dispersion estimates\n",
      "fitting model and testing\n",
      "-- replacing outliers and refitting for 3 genes\n",
      "-- DESeq argument 'minReplicatesForReplace' = 7 \n",
      "-- original counts are preserved in counts(dds)\n",
      "estimating dispersions\n",
      "fitting model and testing\n",
      "converting counts to integer mode\n",
      "estimating size factors\n",
      "estimating dispersions\n",
      "gene-wise dispersion estimates\n",
      "mean-dispersion relationship\n",
      "final dispersion estimates\n",
      "fitting model and testing\n",
      "converting counts to integer mode\n",
      "estimating size factors\n",
      "estimating dispersions\n",
      "gene-wise dispersion estimates\n",
      "mean-dispersion relationship\n",
      "final dispersion estimates\n",
      "fitting model and testing\n",
      "converting counts to integer mode\n",
      "estimating size factors\n",
      "estimating dispersions\n",
      "gene-wise dispersion estimates\n",
      "mean-dispersion relationship\n",
      "final dispersion estimates\n",
      "fitting model and testing\n",
      "converting counts to integer mode\n",
      "estimating size factors\n",
      "estimating dispersions\n",
      "gene-wise dispersion estimates\n",
      "mean-dispersion relationship\n",
      "final dispersion estimates\n",
      "fitting model and testing\n",
      "converting counts to integer mode\n",
      "estimating size factors\n",
      "estimating dispersions\n",
      "gene-wise dispersion estimates\n",
      "mean-dispersion relationship\n",
      "final dispersion estimates\n",
      "fitting model and testing\n",
      "converting counts to integer mode\n",
      "estimating size factors\n",
      "estimating dispersions\n",
      "gene-wise dispersion estimates\n",
      "mean-dispersion relationship\n",
      "final dispersion estimates\n",
      "fitting model and testing\n",
      "converting counts to integer mode\n",
      "estimating size factors\n",
      "estimating dispersions\n",
      "gene-wise dispersion estimates\n",
      "mean-dispersion relationship\n",
      "final dispersion estimates\n",
      "fitting model and testing\n",
      "converting counts to integer mode\n",
      "estimating size factors\n",
      "estimating dispersions\n",
      "gene-wise dispersion estimates\n",
      "mean-dispersion relationship\n",
      "final dispersion estimates\n",
      "fitting model and testing\n",
      "converting counts to integer mode\n",
      "estimating size factors\n",
      "estimating dispersions\n",
      "gene-wise dispersion estimates\n",
      "mean-dispersion relationship\n",
      "final dispersion estimates\n",
      "fitting model and testing\n",
      "converting counts to integer mode\n",
      "estimating size factors\n",
      "estimating dispersions\n",
      "gene-wise dispersion estimates\n",
      "mean-dispersion relationship\n",
      "final dispersion estimates\n",
      "fitting model and testing\n"
     ]
    }
   ],
   "source": [
    "done <- c()\n",
    "df <- data.frame(baseMean=NA,log2FoldChange=NA,lfcSE=NA,stat=NA,pvalue=NA,padj=NA,groups=\"\",transporter=\"\")\n",
    "for (group1 in groups){\n",
    "    for (group2 in groups[!(groups%in%c(group1))]) {\n",
    "        sort_groups = sort(c(group2,group1))\n",
    "        x = paste(sort_groups[1],sort_groups[2],sep=\"X\")\n",
    "        if (!x%in%done){\n",
    "            df_dseq = as.data.frame(dseq_groups(coldata = mg_coldata, \n",
    "                                                countdata = mg_counts, group1=group1,group2=group2))\n",
    "            df <- rbind(df,df_dseq)\n",
    "            done <- c(done,x)\n",
    "        }\n",
    "    }\n",
    "}\n",
    "mg_df = df[2:nrow(df),]"
   ]
  },
  {
   "cell_type": "markdown",
   "metadata": {},
   "source": [
    "Add adjusted p-values"
   ]
  },
  {
   "cell_type": "code",
   "execution_count": 19,
   "metadata": {},
   "outputs": [],
   "source": [
    "mg_df$p_total_adj = p.adjust(mg_df$pvalue,method=\"fdr\")"
   ]
  },
  {
   "cell_type": "code",
   "execution_count": 20,
   "metadata": {},
   "outputs": [],
   "source": [
    "write.table(x=mg_df,\"results/mg/deseq2.tab\",sep=\"\\t\",row.names = FALSE, quote=FALSE)"
   ]
  },
  {
   "cell_type": "markdown",
   "metadata": {},
   "source": [
    "## Analysis of the MT dataset"
   ]
  },
  {
   "cell_type": "markdown",
   "metadata": {},
   "source": [
    "<img style=\"float: left;\" src=\"results/figures/mt_sample_clusters_groups.png\",width=25%/>"
   ]
  },
  {
   "cell_type": "code",
   "execution_count": 21,
   "metadata": {},
   "outputs": [
    {
     "data": {
      "text/html": [
       "<ol class=list-inline>\n",
       "\t<li>'early-summer'</li>\n",
       "\t<li>'spring'</li>\n",
       "\t<li>'summer'</li>\n",
       "\t<li>'winter'</li>\n",
       "</ol>\n"
      ],
      "text/latex": [
       "\\begin{enumerate*}\n",
       "\\item 'early-summer'\n",
       "\\item 'spring'\n",
       "\\item 'summer'\n",
       "\\item 'winter'\n",
       "\\end{enumerate*}\n"
      ],
      "text/markdown": [
       "1. 'early-summer'\n",
       "2. 'spring'\n",
       "3. 'summer'\n",
       "4. 'winter'\n",
       "\n",
       "\n"
      ],
      "text/plain": [
       "[1] \"early-summer\" \"spring\"       \"summer\"       \"winter\"      "
      ]
     },
     "metadata": {},
     "output_type": "display_data"
    }
   ],
   "source": [
    "groups <- c(\"spring\",\"early-summer\",\"summer\",\"winter\")\n",
    "groups <- sort(groups)\n",
    "groups"
   ]
  },
  {
   "cell_type": "code",
   "execution_count": 22,
   "metadata": {},
   "outputs": [
    {
     "name": "stderr",
     "output_type": "stream",
     "text": [
      "converting counts to integer mode\n",
      "estimating size factors\n",
      "estimating dispersions\n",
      "gene-wise dispersion estimates\n",
      "mean-dispersion relationship\n",
      "final dispersion estimates\n",
      "fitting model and testing\n",
      "converting counts to integer mode\n",
      "estimating size factors\n",
      "estimating dispersions\n",
      "gene-wise dispersion estimates\n",
      "mean-dispersion relationship\n",
      "final dispersion estimates\n",
      "fitting model and testing\n",
      "converting counts to integer mode\n",
      "estimating size factors\n",
      "estimating dispersions\n",
      "gene-wise dispersion estimates\n",
      "mean-dispersion relationship\n",
      "final dispersion estimates\n",
      "fitting model and testing\n",
      "converting counts to integer mode\n",
      "estimating size factors\n",
      "estimating dispersions\n",
      "gene-wise dispersion estimates\n",
      "mean-dispersion relationship\n",
      "-- note: fitType='parametric', but the dispersion trend was not well captured by the\n",
      "   function: y = a/x + b, and a local regression fit was automatically substituted.\n",
      "   specify fitType='local' or 'mean' to avoid this message next time.\n",
      "final dispersion estimates\n",
      "fitting model and testing\n",
      "converting counts to integer mode\n",
      "estimating size factors\n",
      "estimating dispersions\n",
      "gene-wise dispersion estimates\n",
      "mean-dispersion relationship\n",
      "final dispersion estimates\n",
      "fitting model and testing\n",
      "converting counts to integer mode\n",
      "estimating size factors\n",
      "estimating dispersions\n",
      "gene-wise dispersion estimates\n",
      "mean-dispersion relationship\n",
      "-- note: fitType='parametric', but the dispersion trend was not well captured by the\n",
      "   function: y = a/x + b, and a local regression fit was automatically substituted.\n",
      "   specify fitType='local' or 'mean' to avoid this message next time.\n",
      "final dispersion estimates\n",
      "fitting model and testing\n"
     ]
    }
   ],
   "source": [
    "done <- c()\n",
    "df <- data.frame(baseMean=NA,log2FoldChange=NA,lfcSE=NA,stat=NA,pvalue=NA,padj=NA,groups=\"\",transporter=\"\")\n",
    "for (group1 in sort(groups)){\n",
    "    for (group2 in groups[!(groups%in%c(group1))]) {\n",
    "        sort_groups = sort(c(group2,group1))\n",
    "        x = paste(sort_groups[1],sort_groups[2],sep=\"X\")\n",
    "        if (!x%in%done){\n",
    "            df_dseq = as.data.frame(dseq_groups(coldata = mt_coldata, \n",
    "                                                countdata = mt_counts, group1=group1,group2=group2))\n",
    "            df <- rbind(df,df_dseq)\n",
    "            done <- c(done,x)\n",
    "        }\n",
    "    }\n",
    "}\n",
    "mt_df = df[2:nrow(df),]"
   ]
  },
  {
   "cell_type": "code",
   "execution_count": 23,
   "metadata": {},
   "outputs": [],
   "source": [
    "mt_df$p_total_adj = p.adjust(mt_df$pvalue,method=\"fdr\")"
   ]
  },
  {
   "cell_type": "code",
   "execution_count": 24,
   "metadata": {},
   "outputs": [],
   "source": [
    "write.table(x=mt_df,\"results/mt/deseq2.tab\",sep=\"\\t\",row.names = FALSE, quote=FALSE)"
   ]
  }
 ],
 "metadata": {
  "kernelspec": {
   "display_name": "R",
   "language": "R",
   "name": "ir"
  },
  "language_info": {
   "codemirror_mode": "r",
   "file_extension": ".r",
   "mimetype": "text/x-r-source",
   "name": "R",
   "pygments_lexer": "r",
   "version": "3.3.1"
  }
 },
 "nbformat": 4,
 "nbformat_minor": 2
}
