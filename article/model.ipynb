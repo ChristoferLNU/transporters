{
 "cells": [
  {
   "cell_type": "code",
   "execution_count": null,
   "metadata": {},
   "outputs": [],
   "source": [
    "import pandas as pd\n",
    "import seaborn as sns\n",
    "import matplotlib.pyplot as plt\n",
    "import urllib\n",
    "import os\n",
    "%config InlineBackend.figure_format = 'svg'\n",
    "%matplotlib inline\n",
    "plt.style.use('ggplot')"
   ]
  },
  {
   "cell_type": "markdown",
   "metadata": {},
   "source": [
    "## Background"
   ]
  },
  {
   "cell_type": "markdown",
   "metadata": {},
   "source": [
    "Seeking data that may be integrated with model output we will look at ratios of different taxa and processes. In particular we will look at:\n",
    "\n",
    "* ratios of heterotrophic prokaryotes to nitrifiers\n",
    "* ratios between CO2 fixation (using Rubisco as proxy) by cyanobacteria, eukaryotes, nitrifiers and denitrifiers\n",
    "* ratios between phosphonate, carbohydrate and protein transport\n",
    "\n",
    "\n",
    "* Look at metatranscriptome total for taxonomic groups\n",
    "* Look at metatrans total for functions (e.g. Rubisco & amoA genes)\n",
    "* Look at rRNA mapping for OTUs\n",
    "\n",
    "\n",
    "* Ratio between nitrifiers and heterotroph abundance based on metagenome\n",
    "* Ratios between carbon fixation by cyanobacteria, eukaryotes, nitrifiers, denitrifiers\n",
    "* Ratio between phosphonate, carbohydrate, protein (?) transport\n",
    "\n",
    "\n",
    "**Nitrifiers**\n",
    "\n",
    "Within the Nitrosomonadaceae:\n",
    "Genera of ammonia-oxidizing bacteria (AOB):\n",
    "\n",
    "- Nitrosomonas sp. (Betaproteobacteria) - https://www.ncbi.nlm.nih.gov/Taxonomy/Browser/wwwtax.cgi?id=914 \n",
    "- Nitrosospira sp. (Betaproteobacteria) - https://www.ncbi.nlm.nih.gov/Taxonomy/Browser/wwwtax.cgi?id=35798\n",
    "- Nitrosococcus sp. (Gammaproteobacteria) - https://www.ncbi.nlm.nih.gov/Taxonomy/Browser/wwwtax.cgi?id=1227\n",
    "\n",
    "In the Baltic it's probably Nitrosospira sp. There is also Nitrosovibrio sp. and more.. depending on how you search for them you can just search for all bacteria within the Nitrosomonadaceae or search for names with Nitroso***.\n",
    "\n",
    "Phylum of ammonia-oxidizing archaea (AOA):\n",
    "- Thaumarchaeota - https://www.ncbi.nlm.nih.gov/Taxonomy/Browser/wwwtax.cgi?id=651137\n",
    "\n",
    "Thaumarchaeal genera most probably relevant to the Baltic: Nitrosopumilus sp. and Nitrosoarchaeum sp. but potentially also others within the Thaumarchaeota."
   ]
  },
  {
   "cell_type": "code",
   "execution_count": null,
   "metadata": {},
   "outputs": [],
   "source": [
    "os.makedirs(\"model/figures\", exist_ok=True)\n",
    "os.makedirs(\"model/results\", exist_ok=True)"
   ]
  },
  {
   "cell_type": "markdown",
   "metadata": {},
   "source": [
    "### Calculating ratio between nitrifiers and heterotrophs"
   ]
  },
  {
   "cell_type": "code",
   "execution_count": null,
   "metadata": {},
   "outputs": [],
   "source": [
    "tpmr = pd.read_csv(\"data/mt/all_genes.tpm.taxonomy.tsv.gz\", header=0, index_col=0, sep=\"\\t\")\n",
    "tpmd = pd.read_csv(\"data/mg/all_genes.tpm.taxonomy.tsv.gz\", header=0, index_col=0, sep=\"\\t\")"
   ]
  },
  {
   "cell_type": "code",
   "execution_count": null,
   "metadata": {},
   "outputs": [],
   "source": [
    "def plot_nit_het_ratio(taxcov, outfig, outtab, title):\n",
    "    ## Define nitrifiers and extract coverage\n",
    "    ndict = {\"phylum\": [\"Thaumarchaeota\"], \n",
    "             \"family\": [\"Nitrosomonadaceae\"], \n",
    "             \"genus\": [\"Nitrosococcus\"]}\n",
    "    nitrocov = taxcov.loc[(taxcov.phylum.isin(ndict[\"phylum\"])) | (taxcov.family.isin(ndict[\"family\"])) | (taxcov.genus.isin(ndict[\"genus\"]))]\n",
    "    ## Define heterotrophs\n",
    "    ## Filter to prokaryotes but exclude Cyanobacteria and Unclassified.Bacteria\n",
    "    h1 = taxcov.loc[(taxcov.superkingdom.isin([\"Bacteria\",\"Archaea\"])) & (~taxcov.phylum.isin([\"Cyanobacteria\",\"Unclassified.Bacteria\"]))]\n",
    "    ## Filter out the nitrifiers\n",
    "    h2 = h1.loc[(~h1.phylum.isin(ndict[\"phylum\"])) & (~h1.family.isin(ndict[\"family\"])) & (~h1.genus.isin(ndict[\"genus\"]))]\n",
    "    ## Filter out nitrifiers also on the lower ranks\n",
    "    h3 = h2.loc[(h2[\"class\"]!=\"Unclassified.Thaumarchaeota\") & (h2[\"genus\"]!=\"Unclassified.Nitrosomonadaceae\") & (h2[\"species\"]!=\"Unclassified.Nitrosococcus\")]\n",
    "    hetcov = h3.loc[(~h3[\"family\"].isin([\"Unclassified.Betaproteobacteria\",\"Unclassified.Proteobacteria\"]) & (~h3[\"genus\"].isin([\"Unclassified.Gammaproteobacteria\",\"Unclassified.Proteobacteria\"])))]\n",
    "    ## Calculate sum for each group\n",
    "    hetsum = hetcov.groupby(\"superkingdom\").sum().sum()\n",
    "    nitsum = nitrocov.groupby(\"superkingdom\").sum().sum()\n",
    "    ## Calculate ratio\n",
    "    nit2het = nitsum.div(hetsum)\n",
    "    \n",
    "    ## Plot ratio\n",
    "    rank=\"family\"\n",
    "    nitsum = nitrocov.groupby(rank).sum()\n",
    "    df = pd.concat([nitsum,pd.DataFrame(nit2het,columns=[\"Nit:Het\"]).T])\n",
    "    ax1 = df.drop(\"Nit:Het\").T.plot(kind=\"bar\",stacked=True, legend=None)\n",
    "    ax2 = df.loc[\"Nit:Het\"].T.plot(ax=ax1, secondary_y=True, style=\"k--\")\n",
    "    ax1.legend(bbox_to_anchor=(1.9,1))\n",
    "    ax1.set_ylabel(\"TPM\")\n",
    "    ax2.legend()\n",
    "    ax1.set_title(title)\n",
    "    plt.setp(ax1.get_xticklabels(), rotation=90);\n",
    "    plt.setp(ax2.get_xticklabels(), rotation=90);\n",
    "    xmin, xmax = ax1.get_xlim()\n",
    "    ax1.set_xlim(xmin-0.5, xmax+0.5)\n",
    "    plt.savefig(outfig, dpi=300, bbox_inches=\"tight\")\n",
    "    df.to_csv(outtab, sep=\"\\t\")"
   ]
  },
  {
   "cell_type": "code",
   "execution_count": null,
   "metadata": {},
   "outputs": [],
   "source": [
    "plot_nit_het_ratio(tpmd, outfig=\"model/figures/lmo_nit2hetratio_metagenome.png\", outtab=\"model/results/lmo_nit2hetratio_metagenome.tab\", title=\"Metagenome\")"
   ]
  },
  {
   "cell_type": "code",
   "execution_count": null,
   "metadata": {},
   "outputs": [],
   "source": [
    "plot_nit_het_ratio(tpmr, outfig=\"model/figures/lmo_nit2hetratio_metatrans.png\", outtab=\"model/results/lmo_nit2hetratio_metatranscriptome.tab\", title=\"Metatranscriptome\")"
   ]
  },
  {
   "cell_type": "markdown",
   "metadata": {},
   "source": [
    "### Calculating CO2 fixation ratios by taxa"
   ]
  },
  {
   "cell_type": "code",
   "execution_count": null,
   "metadata": {},
   "outputs": [],
   "source": [
    "# Use the RbcL pfam as proxy for CO2 fixation\n",
    "co2 = [\"PF00016\"]"
   ]
  },
  {
   "cell_type": "code",
   "execution_count": null,
   "metadata": {},
   "outputs": [],
   "source": [
    "# Download the pfam annotation data from Figshare \n",
    "url = \"https://ndownloader.figshare.com/files/9448024\"\n",
    "os.makedirs(\"data/\", exist_ok=True)\n",
    "annot_data = urllib.request.urlretrieve(url, \"data/all.pfam.standardized.tsv.gz\")\n",
    "pfams = pd.read_csv(\"data/all.pfam.standardized.tsv.gz\", header=None, sep=\"\\t\", index_col=0, usecols=[0,1],names=[\"orf\",\"pfam\"])"
   ]
  },
  {
   "cell_type": "code",
   "execution_count": null,
   "metadata": {},
   "outputs": [],
   "source": [
    "mg_pfamcov = pd.merge(pfams,tpmd,left_index=True,right_index=True)"
   ]
  },
  {
   "cell_type": "code",
   "execution_count": null,
   "metadata": {},
   "outputs": [],
   "source": [
    "mt_pfamcov = pd.merge(pfams,tpmr,left_index=True,right_index=True)"
   ]
  },
  {
   "cell_type": "code",
   "execution_count": null,
   "metadata": {},
   "outputs": [],
   "source": [
    "mg_co2cov = mg_pfamcov.loc[mg_pfamcov.pfam.isin(co2)]\n",
    "ax = mg_co2cov.groupby(\"pfam\").sum().T.plot(kind=\"bar\");\n",
    "ax.set_ylabel(\"TPM\")\n",
    "ax.set_title(\"CO2 proxy (Metagenome)\",fontsize=10)\n",
    "plt.savefig(\"model/figures/mg_CO2_total.png\",dpi=300,bbox_inches=\"tight\")"
   ]
  },
  {
   "cell_type": "markdown",
   "metadata": {},
   "source": [
    "#### Monthly average"
   ]
  },
  {
   "cell_type": "code",
   "execution_count": null,
   "metadata": {},
   "outputs": [],
   "source": [
    "_ = pd.melt(mg_co2cov.groupby(\"pfam\").sum().reset_index(), id_vars=[\"pfam\"], var_name=\"Date\")\n",
    "_.columns = [\"RbcL\", \"Date\", \"value\"]\n",
    "months = [\"\".join(list(x)[2:4]) for x in _.Date]\n",
    "_ = _.assign(Month=pd.Series(months, index=_.index))\n",
    "ax = sns.barplot(data=_, x=\"Month\", y=\"value\", hue=\"RbcL\", errwidth=.7)\n",
    "ax.legend(bbox_to_anchor=(1,1))\n",
    "ax.set_title(\"Metagenome\")\n",
    "plt.savefig(\"model/figures/mg_CO2_total_monthly.png\", dpi=300, bbox_to_inches=\"tight\")\n",
    "pd.pivot_table(_.groupby([\"RbcL\",\"Month\"]).mean().reset_index(), columns=\"Month\", index=\"RbcL\")[\"value\"].to_csv(\"model/results/mg_CO2_monthly.tsv\", sep=\"\\t\")"
   ]
  },
  {
   "cell_type": "code",
   "execution_count": null,
   "metadata": {},
   "outputs": [],
   "source": [
    "mg_co2cov_kingdom = mg_co2cov.groupby([\"pfam\",\"superkingdom\"]).sum().reset_index().groupby(\"superkingdom\").sum()\n",
    "ax = mg_co2cov_kingdom.div(mg_co2cov_kingdom.sum()).T.plot(kind=\"bar\",stacked=True)\n",
    "ax.set_title(\"CO2 proxy (Metagenome)\", fontsize=10)\n",
    "ax.set_ylabel(\"Ratio\")\n",
    "plt.legend(bbox_to_anchor=(1,1))\n",
    "plt.savefig(\"model/figures/mg_CO2_kingdoms.png\", dpi=300, bbox_inches=\"tight\")\n",
    "mg_co2cov_kingdom.to_csv(\"model/results/mg_CO2_kingdoms.tsv\", sep=\"\\t\")"
   ]
  },
  {
   "cell_type": "code",
   "execution_count": null,
   "metadata": {},
   "outputs": [],
   "source": [
    "mt_co2cov = mt_pfamcov.loc[mt_pfamcov.pfam.isin(co2)]\n",
    "ax = mt_co2cov.groupby(\"pfam\").sum().T.plot(kind=\"bar\");\n",
    "ax.set_ylabel(\"TPM\")\n",
    "ax.set_title(\"CO2 proxy (Metatranscriptome)\",fontsize=10)\n",
    "plt.savefig(\"model/figures/mt_CO2_total.png\",dpi=300,bbox_inches=\"tight\")"
   ]
  },
  {
   "cell_type": "markdown",
   "metadata": {},
   "source": [
    "#### Montly average"
   ]
  },
  {
   "cell_type": "code",
   "execution_count": null,
   "metadata": {},
   "outputs": [],
   "source": [
    "_ = pd.melt(mt_co2cov.groupby(\"pfam\").sum().reset_index(), id_vars=[\"pfam\"], var_name=\"Date\")\n",
    "_.columns = [\"RbcL\", \"Date\", \"value\"]\n",
    "months = [\"\".join(list(x)[2:4]) for x in _.Date]\n",
    "_ = _.assign(Month=pd.Series(months, index=_.index))\n",
    "ax = sns.barplot(data=_, x=\"Month\", y=\"value\", hue=\"RbcL\", errwidth=.7)\n",
    "ax.legend(bbox_to_anchor=(1,1))\n",
    "ax.set_title(\"Metatranscriptome\")\n",
    "plt.savefig(\"model/figures/mt_CO2_total_monthly.png\", dpi=300, bbox_to_inches=\"tight\")\n",
    "pd.pivot_table(_.groupby([\"RbcL\",\"Month\"]).mean().reset_index(), columns=\"Month\", index=\"RbcL\")[\"value\"].to_csv(\"model/results/mt_CO2_monthly.tsv\", sep=\"\\t\")"
   ]
  },
  {
   "cell_type": "code",
   "execution_count": null,
   "metadata": {},
   "outputs": [],
   "source": [
    "mt_co2cov_kingdom = mt_co2cov.groupby([\"pfam\",\"superkingdom\"]).sum().reset_index().groupby(\"superkingdom\").sum()\n",
    "ax = mt_co2cov_kingdom.div(mt_co2cov_kingdom.sum()).T.plot(kind=\"bar\",stacked=True)\n",
    "ax.set_title(\"CO2 proxy (Metatranscriptome)\", fontsize=10)\n",
    "ax.set_ylabel(\"Ratio\")\n",
    "plt.legend(bbox_to_anchor=(1,1))\n",
    "plt.savefig(\"model/figures/mt_CO2_kingdoms.png\", dpi=300, bbox_inches=\"tight\")\n",
    "mg_co2cov_kingdom.to_csv(\"model/results/mt_CO2_kingdoms.tsv\", sep=\"\\t\")"
   ]
  },
  {
   "cell_type": "markdown",
   "metadata": {},
   "source": [
    "## Read transporter abundances"
   ]
  },
  {
   "cell_type": "code",
   "execution_count": null,
   "metadata": {},
   "outputs": [],
   "source": [
    "mg_trans = pd.read_table(\"results/mg/bac_select_trans.tpm.tsv\")\n",
    "mt_trans = pd.read_table(\"results/mt/bac_select_trans.tpm.tsv\")"
   ]
  },
  {
   "cell_type": "markdown",
   "metadata": {},
   "source": [
    "### Add alkaline phosphatases"
   ]
  },
  {
   "cell_type": "code",
   "execution_count": null,
   "metadata": {},
   "outputs": [],
   "source": [
    "alk_pfams_def = pd.DataFrame(data={\"transporter\":[\"phoA\",\"phoD\",\"phoX\",\"phoD-like\"],\"fam\":[\"PF00245\",\"PF01663\",\"PF05787\",\"PF09423\"]})\n",
    "alk_pfams_info = pd.DataFrame(index=[\"phoA\",\"phoD\",\"phoX\",\"phoD-like\"],data={\"substrate_category\":[\"phosphonate\"]*4,\"abbreviation\": [\"PO\"]*4, \"name\":[\"Alkaline phosphatase phoA\",\"Alkaline phosphatase phoD\",\"Alkaline phosphatase phoX\",\"Alkaline phosphatase phoD-like\"]})\n",
    "alk_pfams_info.index.name=\"transporter\"\n",
    "alk_pfams_info = alk_pfams_info.reset_index()\n",
    "alk_pfams_def"
   ]
  },
  {
   "cell_type": "code",
   "execution_count": null,
   "metadata": {},
   "outputs": [],
   "source": [
    "mg_alk = pd.merge(mg_pfamcov, alk_pfams_def, left_on=\"pfam\", right_on=\"fam\")\n",
    "mg_alk_sum = mg_alk.groupby(\"transporter\").sum()\n",
    "mg_alk_sum = pd.merge(alk_pfams_info,mg_alk_sum, right_index=True, left_on=\"transporter\")\n",
    "mg_trans_alk = pd.concat([mg_alk_sum,mg_trans])[mg_alk_sum.columns]"
   ]
  },
  {
   "cell_type": "code",
   "execution_count": null,
   "metadata": {},
   "outputs": [],
   "source": [
    "mt_alk = pd.merge(mt_pfamcov, alk_pfams_def, left_on=\"pfam\", right_on=\"fam\")\n",
    "mt_alk_sum = mt_alk.groupby(\"transporter\").sum()\n",
    "mt_alk_sum = pd.merge(alk_pfams_info,mt_alk_sum, right_index=True, left_on=\"transporter\")\n",
    "mt_trans_alk = pd.concat([mt_alk_sum,mt_trans])[mt_alk_sum.columns]"
   ]
  },
  {
   "cell_type": "markdown",
   "metadata": {},
   "source": [
    "### Ratios between phosphonate, carbohydrate and protein transport"
   ]
  },
  {
   "cell_type": "code",
   "execution_count": null,
   "metadata": {},
   "outputs": [],
   "source": [
    "N_cats = [\"AA peptide\",\"NH3 Nitrate\",\"Urea\"]"
   ]
  },
  {
   "cell_type": "code",
   "execution_count": null,
   "metadata": {},
   "outputs": [],
   "source": [
    "organic_acids_t = list(mg_trans_alk.loc[mg_trans_alk.name.str.contains(\"TRAP\"),\"transporter\"]) + \\\n",
    "list(mg_trans_alk.loc[mg_trans_alk.name.str.contains(\"malonate\"),\"transporter\"])\n",
    "simplesugars_t = list(mg_trans_alk.loc[mg_trans_alk.name.str.contains(\"sugar\"),\"transporter\"]) + \\\n",
    "list(mg_trans_alk.loc[mg_trans_alk.name.str.contains(\"glucose\"),\"transporter\"]) + \\\n",
    "list(mg_trans_alk.loc[mg_trans_alk.name.str.contains(\"fucose\"),\"transporter\"])\n",
    "cpdom_t = list(mg_trans_alk.loc[mg_trans_alk.substrate_category==\"phosphonate\",\"transporter\"])\n",
    "peps_t = list(mg_trans_alk.loc[mg_trans_alk.substrate_category.isin(N_cats),\"transporter\"])\n",
    "other_t = set(mg_trans_alk.transporter).difference(set(organic_acids_t+simplesugars_t+cpdom_t+peps_t))"
   ]
  },
  {
   "cell_type": "code",
   "execution_count": null,
   "metadata": {},
   "outputs": [],
   "source": [
    "phos = mg_trans_alk.loc[mg_trans_alk[\"substrate_category\"]==\"phosphonate\"]\n",
    "#carb = mg_trans_alk.loc[mg_trans_alk[\"substrate_category\"]==\"carbohydrate\"]\n",
    "carb_sug = mg_trans_alk.loc[mg_trans_alk[\"transporter\"].isin(simplesugars_t)]\n",
    "carb_aci = mg_trans_alk.loc[mg_trans_alk[\"transporter\"].isin(organic_acids_t)]\n",
    "#carb_oth = mg_trans_alk.loc[mg_trans_alk[\"transporter\"].isin(other_carb)]\n",
    "prot = mg_trans_alk.loc[mg_trans_alk[\"substrate_category\"]==\"AA peptide\"]\n",
    "carbsum = pd.concat([carb_sug.groupby(\"substrate_category\").sum(),carb_aci.groupby(\"substrate_category\").sum()])\n",
    "carbsum.index = [\"Simple_sugars\",\"Organic_acids\"]\n",
    "phossum = phos.groupby(\"substrate_category\").sum().sum()\n",
    "#carbsum = carb.groupby(\"substrate_category\").sum().sum()\n",
    "protsum = prot.groupby(\"substrate_category\").sum().sum()\n",
    "\n",
    "mg_transratio = pd.DataFrame(data=[phossum,protsum],index=[\"Phosphonates\",\"Proteins\"])\n",
    "mg_transratio = pd.concat([mg_transratio, carbsum])\n",
    "mg_transration = mg_transratio.div(mg_transratio.sum())\n",
    "ax = mg_transration.T.plot(kind=\"bar\",stacked=True)\n",
    "ax.set_title(\"Metagenome\", fontsize=10)\n",
    "plt.legend(bbox_to_anchor=(1,1));\n",
    "mg_transration.to_csv(\"model/results/mg_p_c_aa_ratios.tsv\", sep=\"\\t\")\n",
    "plt.savefig(\"model/figures/mg_p_c_aa_ratios.png\", dpi=300, bbox_inches=\"tight\")"
   ]
  },
  {
   "cell_type": "markdown",
   "metadata": {},
   "source": [
    "#### Monthly average"
   ]
  },
  {
   "cell_type": "code",
   "execution_count": null,
   "metadata": {},
   "outputs": [],
   "source": [
    "_ = pd.melt(mg_transration.reset_index(), id_vars=[\"index\"], var_name=\"Date\")\n",
    "_.columns = [\"substrate\", \"Date\", \"value\"]\n",
    "months = [\"\".join(list(x)[2:4]) for x in _.Date]\n",
    "_ = _.assign(Month=pd.Series(months, index=_.index))\n",
    "ax = sns.barplot(data=_, x=\"Month\", y=\"value\", hue=\"substrate\", errwidth=.7)\n",
    "ax.legend(bbox_to_anchor=(1,1))\n",
    "ax.set_title(\"Metagenome\")\n",
    "pd.pivot_table(_.groupby([\"substrate\", \"Month\"]).mean().reset_index(), columns=\"Month\",index=\"substrate\")[\"value\"].to_csv(\"model/results/mg_p_c_aa_ratios_monthly.tsv\", sep=\"\\t\")\n",
    "plt.savefig(\"model/figures/mg_p_c_aa_ratios_monthly.png\", dpi=300, bbox_to_inches=\"tight\")"
   ]
  },
  {
   "cell_type": "code",
   "execution_count": null,
   "metadata": {},
   "outputs": [],
   "source": [
    "phos = mt_trans_alk.loc[mt_trans_alk[\"substrate_category\"]==\"phosphonate\"]\n",
    "#carb = mt_trans_alk.loc[mt_trans_alk[\"substrate_category\"]==\"carbohydrate\"]\n",
    "carb_sug = mt_trans_alk.loc[mt_trans_alk[\"transporter\"].isin(simplesugars_t)]\n",
    "carb_aci = mt_trans_alk.loc[mt_trans_alk[\"transporter\"].isin(organic_acids_t)]\n",
    "#carb_oth = mt_trans_alk.loc[mt_trans_alk[\"transporter\"].isin(other_carb)]\n",
    "prot = mt_trans_alk.loc[mt_trans_alk[\"substrate_category\"]==\"AA peptide\"]\n",
    "carbsum = pd.concat([carb_sug.groupby(\"substrate_category\").sum(),carb_aci.groupby(\"substrate_category\").sum()])\n",
    "carbsum.index = [\"Simple_sugars\",\"Organic_acids\"]\n",
    "phossum = phos.groupby(\"substrate_category\").sum().sum()\n",
    "#carbsum = carb.groupby(\"substrate_category\").sum().sum()\n",
    "protsum = prot.groupby(\"substrate_category\").sum().sum()\n",
    "\n",
    "mt_transratio = pd.DataFrame(data=[phossum,protsum],index=[\"Phosphonates\",\"Proteins\"])\n",
    "mt_transratio = pd.concat([mt_transratio, carbsum])\n",
    "mt_transration = mt_transratio.div(mt_transratio.sum())\n",
    "ax = mt_transration.T.plot(kind=\"bar\",stacked=True)\n",
    "ax.set_title(\"Metatranscriptome\", fontsize=10)\n",
    "plt.legend(bbox_to_anchor=(1,1));\n",
    "mt_transration.to_csv(\"model/results/mt_p_c_aa_ratios.tsv\", sep=\"\\t\")\n",
    "plt.savefig(\"model/figures/mt_p_c_aa_ratios.png\", dpi=300, bbox_inches=\"tight\")"
   ]
  },
  {
   "cell_type": "markdown",
   "metadata": {},
   "source": [
    "#### Monthly average"
   ]
  },
  {
   "cell_type": "code",
   "execution_count": null,
   "metadata": {},
   "outputs": [],
   "source": [
    "_ = pd.melt(mt_transration.reset_index(), id_vars=[\"index\"], var_name=\"Date\")\n",
    "_.columns = [\"substrate\", \"Date\", \"value\"]\n",
    "months = [\"\".join(list(x)[2:4]) for x in _.Date]\n",
    "_ = _.assign(Month=pd.Series(months, index=_.index))\n",
    "ax = sns.barplot(data=_, x=\"Month\", y=\"value\", hue=\"substrate\", errwidth=.7)\n",
    "ax.legend(bbox_to_anchor=(1,1))\n",
    "ax.set_title(\"Metatranscriptome\")\n",
    "pd.pivot_table(_.groupby([\"substrate\", \"Month\"]).mean().reset_index(), columns=\"Month\",index=\"substrate\")[\"value\"].to_csv(\"model/results/mt_p_c_aa_ratios_monthly.tsv\", sep=\"\\t\")\n",
    "plt.savefig(\"model/figures/mt_p_c_aa_ratios_monthly.png\", dpi=300, bbox_to_inches=\"tight\")"
   ]
  },
  {
   "cell_type": "markdown",
   "metadata": {},
   "source": [
    "### Phosphate ratio plots"
   ]
  },
  {
   "cell_type": "code",
   "execution_count": null,
   "metadata": {},
   "outputs": [],
   "source": [
    "po = mg_trans_alk.loc[mg_trans_alk[\"substrate_category\"]==\"phosphonate\"].groupby(\"substrate_category\").sum()\n",
    "pi = mg_trans_alk.loc[mg_trans_alk[\"substrate_category\"]==\"phosphate\"].groupby(\"substrate_category\").sum()\n",
    "p = pd.concat([po,pi])\n",
    "mg_p_rat = p.div(p.sum())\n",
    "ax = mg_p_rat.T.plot(kind=\"bar\",stacked=True)\n",
    "ax.set_ylabel(\"P uptake frac\")\n",
    "ax.set_title(\"Metagenome\", fontsize=10)\n",
    "p.div(p.sum()).to_csv(\"model/results/mg_pi2po_ratio.tsv\", sep=\"\\t\")\n",
    "plt.savefig(\"model/figures/mg_p_ratio.png\", dpi=300, bbox_inches=\"tight\")"
   ]
  },
  {
   "cell_type": "markdown",
   "metadata": {},
   "source": [
    "#### Monthly average"
   ]
  },
  {
   "cell_type": "code",
   "execution_count": null,
   "metadata": {},
   "outputs": [],
   "source": [
    "_ = pd.melt(mg_p_rat.reset_index(), id_vars=[\"substrate_category\"], var_name=\"Date\")\n",
    "_.columns = [\"substrate\", \"Date\", \"value\"]\n",
    "months = [\"\".join(list(x)[2:4]) for x in _.Date]\n",
    "_ = _.assign(Month=pd.Series(months, index=_.index))\n",
    "ax = sns.barplot(data=_, x=\"Month\", y=\"value\", hue=\"substrate\", errwidth=.7)\n",
    "ax.legend(bbox_to_anchor=(1,1))\n",
    "ax.set_title(\"Metagenome\")\n",
    "pd.pivot_table(_.groupby([\"substrate\", \"Month\"]).mean().reset_index(), columns=\"Month\",index=\"substrate\")[\"value\"].to_csv(\"model/results/mg_pi2po_ratio_monthly.tsv\", sep=\"\\t\")\n",
    "plt.savefig(\"model/figures/mg_p_ratio_monthly.png\", dpi=300, bbox_to_inches=\"tight\")"
   ]
  },
  {
   "cell_type": "code",
   "execution_count": null,
   "metadata": {},
   "outputs": [],
   "source": [
    "po = mt_trans_alk.loc[mt_trans_alk[\"substrate_category\"]==\"phosphonate\"].groupby(\"substrate_category\").sum()\n",
    "pi = mt_trans_alk.loc[mt_trans_alk[\"substrate_category\"]==\"phosphate\"].groupby(\"substrate_category\").sum()\n",
    "p = pd.concat([po,pi])\n",
    "mt_p_rat = p.div(p.sum())\n",
    "ax = mt_p_rat.T.plot(kind=\"bar\",stacked=True)\n",
    "ax.set_ylabel(\"P uptake frac\")\n",
    "ax.set_title(\"Metatranscriptome\", fontsize=10)\n",
    "p.div(p.sum()).to_csv(\"model/results/mt_pi2po_ratio.tsv\", sep=\"\\t\")\n",
    "plt.savefig(\"model/figures/mt_p_ratio.png\", dpi=300, bbox_inches=\"tight\")"
   ]
  },
  {
   "cell_type": "markdown",
   "metadata": {},
   "source": [
    "#### Monthly average"
   ]
  },
  {
   "cell_type": "code",
   "execution_count": null,
   "metadata": {},
   "outputs": [],
   "source": [
    "_ = pd.melt(mt_p_rat.reset_index(), id_vars=[\"substrate_category\"], var_name=\"Date\")\n",
    "_.columns = [\"substrate\", \"Date\", \"value\"]\n",
    "months = [\"\".join(list(x)[2:4]) for x in _.Date]\n",
    "_ = _.assign(Month=pd.Series(months, index=_.index))\n",
    "ax = sns.barplot(data=_, x=\"Month\", y=\"value\", hue=\"substrate\", errwidth=.7)\n",
    "ax.legend(bbox_to_anchor=(1,1))\n",
    "ax.set_title(\"Metatranscriptome\")\n",
    "pd.pivot_table(_.groupby([\"substrate\", \"Month\"]).mean().reset_index(), columns=\"Month\",index=\"substrate\")[\"value\"].to_csv(\"model/results/mt_pi2po_ratio_monthly.tsv\", sep=\"\\t\")\n",
    "plt.savefig(\"model/figures/mt_p_ratio_monthly.png\", dpi=300, bbox_to_inches=\"tight\")"
   ]
  },
  {
   "cell_type": "markdown",
   "metadata": {},
   "source": [
    "### Nitrogen ratio plots"
   ]
  },
  {
   "cell_type": "code",
   "execution_count": null,
   "metadata": {},
   "outputs": [],
   "source": [
    "N_cats = [\"AA peptide\",\"Urea\"]\n",
    "nh3_t = \"T133\"\n",
    "no3_t = \"T31\"\n",
    "mg_n_trans = mg_trans.loc[mg_trans.substrate_category.isin(N_cats)]\n",
    "mg_n_trans_sum = mg_n_trans.groupby(\"substrate_category\").sum()\n",
    "NH3 = mg_trans.loc[mg_trans.transporter==nh3_t].groupby(\"transporter\").sum()\n",
    "NO3 = mg_trans.loc[mg_trans.transporter==no3_t].groupby(\"transporter\").sum()\n",
    "NO3.index = [no3_t]\n",
    "NH3.index = [nh3_t]\n",
    "mg_n_trans_sum = pd.concat([pd.concat([mg_n_trans_sum,NO3]),NH3])\n",
    "mg_n_trans_sum.index = [\"AA peptide\", \"Urea\", \"NO3\", \"NH3\"]\n",
    "mg_n_trans_sum\n",
    "\n",
    "mg_n_trans_rat = mg_n_trans_sum.div(mg_n_trans_sum.sum())\n",
    "ax = mg_n_trans_rat.T.plot(kind=\"bar\",stacked=True)\n",
    "ax.set_title(\"Metagenome\", fontsize=10)\n",
    "ax.set_ylabel(\"N uptake frac\")\n",
    "ax.legend(bbox_to_anchor=(1,1))\n",
    "mg_n_trans_rat.to_csv(\"model/results/mg_n_ratios.tsv\", sep=\"\\t\")\n",
    "plt.savefig(\"model/figures/mg_n_ratio.png\", dpi=300, bbox_inches=\"tight\")"
   ]
  },
  {
   "cell_type": "markdown",
   "metadata": {},
   "source": [
    "#### Monthly average"
   ]
  },
  {
   "cell_type": "code",
   "execution_count": null,
   "metadata": {},
   "outputs": [],
   "source": [
    "_ = pd.melt(mg_n_trans_rat.reset_index(), id_vars=[\"index\"], var_name=\"Date\")\n",
    "_.columns = [\"substrate\", \"Date\", \"value\"]\n",
    "months = [\"\".join(list(x)[2:4]) for x in _.Date]\n",
    "_ = _.assign(Month=pd.Series(months, index=_.index))\n",
    "ax = sns.barplot(data=_, x=\"Month\", y=\"value\", hue=\"substrate\", errwidth=.7)\n",
    "ax.legend(bbox_to_anchor=(1,1))\n",
    "ax.set_title(\"Metagenome\")\n",
    "pd.pivot_table(_.groupby([\"substrate\", \"Month\"]).mean().reset_index(), columns=\"Month\",index=\"substrate\")[\"value\"].to_csv(\"model/results/mg_n_ratios_monthly.tsv\", sep=\"\\t\")\n",
    "plt.savefig(\"model/figures/mg_n_ratio_monthly.png\", dpi=300, bbox_to_inches=\"tight\")"
   ]
  },
  {
   "cell_type": "code",
   "execution_count": null,
   "metadata": {},
   "outputs": [],
   "source": [
    "N_cats = [\"AA peptide\",\"Urea\"]\n",
    "nh3_t = \"T133\"\n",
    "no3_t = \"T31\"\n",
    "mt_n_trans = mt_trans.loc[mt_trans.substrate_category.isin(N_cats)]\n",
    "mt_n_trans_sum = mt_n_trans.groupby(\"substrate_category\").sum()\n",
    "NH3 = mt_trans.loc[mt_trans.transporter==nh3_t].groupby(\"transporter\").sum()\n",
    "NO3 = mt_trans.loc[mt_trans.transporter==no3_t].groupby(\"transporter\").sum()\n",
    "NO3.index = [no3_t]\n",
    "NH3.index = [nh3_t]\n",
    "mt_n_trans_sum = pd.concat([pd.concat([mt_n_trans_sum,NO3]),NH3])\n",
    "mt_n_trans_sum.index = [\"AA peptide\", \"Urea\", \"NO3\", \"NH3\"]\n",
    "mt_n_trans_sum\n",
    "\n",
    "mt_n_trans_rat = mt_n_trans_sum.div(mt_n_trans_sum.sum())\n",
    "ax = mt_n_trans_rat.T.plot(kind=\"bar\",stacked=True)\n",
    "ax.set_title(\"Metatranscriptome\", fontsize=10)\n",
    "ax.set_ylabel(\"N uptake frac\")\n",
    "ax.legend(bbox_to_anchor=(1,1))\n",
    "mt_n_trans_rat.to_csv(\"model/results/mt_n_ratios.tsv\", sep=\"\\t\")\n",
    "plt.savefig(\"model/figures/mt_n_ratio.png\", dpi=300, bbox_inches=\"tight\")"
   ]
  },
  {
   "cell_type": "markdown",
   "metadata": {},
   "source": [
    "#### Monthly average"
   ]
  },
  {
   "cell_type": "code",
   "execution_count": null,
   "metadata": {},
   "outputs": [],
   "source": [
    "_ = pd.melt(mt_n_trans_rat.reset_index(), id_vars=[\"index\"], var_name=\"Date\")\n",
    "_.columns = [\"substrate\", \"Date\", \"value\"]\n",
    "months = [\"\".join(list(x)[2:4]) for x in _.Date]\n",
    "_ = _.assign(Month=pd.Series(months, index=_.index))\n",
    "ax = sns.barplot(data=_, x=\"Month\", y=\"value\", hue=\"substrate\", errwidth=.7)\n",
    "ax.legend(bbox_to_anchor=(1,1))\n",
    "ax.set_title(\"Metatranscriptome\")\n",
    "pd.pivot_table(_.groupby([\"substrate\", \"Month\"]).mean().reset_index(), columns=\"Month\",index=\"substrate\")[\"value\"].to_csv(\"model/results/mt_n_ratios_monthly.tsv\", sep=\"\\t\")\n",
    "plt.savefig(\"model/figures/mt_n_ratio_monthly.png\", dpi=300, bbox_to_inches=\"tight\")"
   ]
  },
  {
   "cell_type": "markdown",
   "metadata": {},
   "source": [
    "### Carbohydrate ratio plots"
   ]
  },
  {
   "cell_type": "code",
   "execution_count": null,
   "metadata": {},
   "outputs": [],
   "source": [
    "organic_acids_t = list(mg_trans_alk.loc[mg_trans_alk.name.str.contains(\"TRAP\"),\"transporter\"]) + \\\n",
    "list(mg_trans_alk.loc[mg_trans_alk.name.str.contains(\"malonate\"),\"transporter\"])\n",
    "simplesugars_t = list(mg_trans_alk.loc[mg_trans_alk.name.str.contains(\"sugar\"),\"transporter\"]) + \\\n",
    "list(mg_trans_alk.loc[mg_trans_alk.name.str.contains(\"glucose\"),\"transporter\"]) + \\\n",
    "list(mg_trans_alk.loc[mg_trans_alk.name.str.contains(\"fucose\"),\"transporter\"])\n",
    "cpdom_t = list(mg_trans_alk.loc[mg_trans_alk.substrate_category==\"phosphonate\",\"transporter\"])\n",
    "peps_t = list(mg_trans_alk.loc[mg_trans_alk.substrate_category.isin(N_cats),\"transporter\"])\n",
    "other_t = set(mg_trans_alk.transporter).difference(set(organic_acids_t+simplesugars_t+cpdom_t+peps_t))"
   ]
  },
  {
   "cell_type": "code",
   "execution_count": null,
   "metadata": {},
   "outputs": [],
   "source": [
    "mg_org_aci_sum = mg_trans_alk.loc[mg_trans_alk.transporter.isin(organic_acids_t)].groupby(\"transporter\").sum().sum()\n",
    "mg_sim_sug_sum = mg_trans_alk.loc[mg_trans_alk.transporter.isin(simplesugars_t)].groupby(\"transporter\").sum().sum()\n",
    "mg_cpdom_sum = mg_trans_alk.loc[mg_trans_alk.transporter.isin(cpdom_t)].groupby(\"transporter\").sum().sum()\n",
    "mg_pep_sum = mg_trans_alk.loc[mg_trans_alk.transporter.isin(peps_t)].groupby(\"transporter\").sum().sum()\n",
    "mg_other_sum = mg_trans_alk.loc[mg_trans_alk.transporter.isin(other_t)].groupby(\"transporter\").sum().sum()\n",
    "\n",
    "mg_c_ratio = pd.DataFrame()\n",
    "mg_c_ratio = mg_c_ratio.assign(org_acids=pd.Series(mg_org_aci_sum))\n",
    "mg_c_ratio = mg_c_ratio.assign(simple_sugars=pd.Series(mg_sim_sug_sum))\n",
    "mg_c_ratio = mg_c_ratio.assign(cpdom=pd.Series(mg_cpdom_sum))\n",
    "mg_c_ratio = mg_c_ratio.assign(peptides=pd.Series(mg_pep_sum))\n",
    "#mg_c_ratio = mg_c_ratio.assign(other=pd.Series(mg_other_sum))\n",
    "\n",
    "mg_c_ration = mg_c_ratio.T.div(mg_c_ratio.T.sum())\n",
    "\n",
    "ax = mg_c_ratio.plot(kind=\"bar\", stacked=True)\n",
    "ax.set_ylabel(\"C absolute values (TPM)\", fontsize=10)\n",
    "ax.set_title(\"Metagenome\", fontsize=10)\n",
    "plt.legend(bbox_to_anchor=(1,1))\n",
    "mg_c_ratio.to_csv(\"model/results/mg_c_ratios_absolute.tsv\", sep=\"\\t\")\n",
    "plt.savefig(\"model/figures/mg_c_ratios_absolute.png\", dpi=300, bbox_inches=\"tight\")"
   ]
  },
  {
   "cell_type": "code",
   "execution_count": null,
   "metadata": {},
   "outputs": [],
   "source": [
    "ax = mg_c_ration.T.plot(kind=\"bar\", stacked=True)\n",
    "ax.set_ylabel(\"C uptake frac\", fontsize=10)\n",
    "ax.set_title(\"Metagenome\", fontsize=10)\n",
    "plt.legend(bbox_to_anchor=(1,1))\n",
    "mg_c_ration.to_csv(\"model/results/mg_c_ratios.tsv\", sep=\"\\t\")\n",
    "plt.savefig(\"model/figures/mg_c_ratios.png\", dpi=300, bbox_inches=\"tight\")"
   ]
  },
  {
   "cell_type": "markdown",
   "metadata": {},
   "source": [
    "#### Monthly averages"
   ]
  },
  {
   "cell_type": "code",
   "execution_count": null,
   "metadata": {},
   "outputs": [],
   "source": [
    "_ = pd.melt(mg_c_ration.reset_index(), id_vars=[\"index\"], var_name=\"Date\")\n",
    "_.columns = [\"substrate\", \"Date\", \"value\"]\n",
    "months = [\"\".join(list(x)[2:4]) for x in _.Date]\n",
    "_ = _.assign(Month=pd.Series(months, index=_.index))\n",
    "ax = sns.barplot(data=_, x=\"Month\", y=\"value\", hue=\"substrate\", errwidth=.7)\n",
    "ax.legend(bbox_to_anchor=(1,1))\n",
    "ax.set_title(\"Metagenome\")\n",
    "pd.pivot_table(_.groupby([\"substrate\", \"Month\"]).mean().reset_index(), columns=\"Month\",index=\"substrate\")[\"value\"].to_csv(\"model/results/mg_c_ratios_monthly.tsv\", sep=\"\\t\")\n",
    "plt.savefig(\"model/figures/mg_c_ratios_monthly.png\", dpi=300, bbox_to_inches=\"tight\")"
   ]
  },
  {
   "cell_type": "code",
   "execution_count": null,
   "metadata": {},
   "outputs": [],
   "source": [
    "mt_org_aci_sum = mt_trans_alk.loc[mt_trans_alk.transporter.isin(organic_acids_t)].groupby(\"transporter\").sum().sum()\n",
    "mt_sim_sug_sum = mt_trans_alk.loc[mt_trans_alk.transporter.isin(simplesugars_t)].groupby(\"transporter\").sum().sum()\n",
    "mt_cpdom_sum = mt_trans_alk.loc[mt_trans_alk.transporter.isin(cpdom_t)].groupby(\"transporter\").sum().sum()\n",
    "mt_pep_sum = mt_trans_alk.loc[mt_trans_alk.transporter.isin(peps_t)].groupby(\"transporter\").sum().sum()\n",
    "mt_other_sum = mt_trans_alk.loc[mt_trans_alk.transporter.isin(other_t)].groupby(\"transporter\").sum().sum()\n",
    "\n",
    "mt_c_ratio = pd.DataFrame()\n",
    "mt_c_ratio = mt_c_ratio.assign(org_acids=pd.Series(mt_org_aci_sum))\n",
    "mt_c_ratio = mt_c_ratio.assign(simple_sugars=pd.Series(mt_sim_sug_sum))\n",
    "mt_c_ratio = mt_c_ratio.assign(cpdom=pd.Series(mt_cpdom_sum))\n",
    "mt_c_ratio = mt_c_ratio.assign(peptides=pd.Series(mt_pep_sum))\n",
    "#mt_c_ratio = mt_c_ratio.assign(other=pd.Series(mt_other_sum))\n",
    "\n",
    "mt_c_ration = mt_c_ratio.T.div(mt_c_ratio.T.sum())\n",
    "\n",
    "ax = mt_c_ratio.plot(kind=\"bar\", stacked=True)\n",
    "ax.set_ylabel(\"C absolute values (TPM)\", fontsize=10)\n",
    "ax.set_title(\"Metatranscriptome\", fontsize=10)\n",
    "plt.legend(bbox_to_anchor=(1,1))\n",
    "mt_c_ratio.to_csv(\"model/results/mt_c_ratios_absolute.tsv\", sep=\"\\t\")\n",
    "plt.savefig(\"model/figures/mt_c_ratios_absolute.png\", dpi=300, bbox_inches=\"tight\")\n"
   ]
  },
  {
   "cell_type": "code",
   "execution_count": null,
   "metadata": {},
   "outputs": [],
   "source": [
    "ax = mt_c_ration.T.plot(kind=\"bar\", stacked=True)\n",
    "ax.set_ylabel(\"C uptake frac\", fontsize=10)\n",
    "ax.set_title(\"Metatranscriptome\", fontsize=10)\n",
    "plt.legend(bbox_to_anchor=(1,1))\n",
    "mt_c_ration.to_csv(\"model/results/mt_c_ratios.tsv\", sep=\"\\t\")\n",
    "plt.savefig(\"model/figures/mt_c_ratios.png\", dpi=300, bbox_inches=\"tight\")"
   ]
  },
  {
   "cell_type": "markdown",
   "metadata": {},
   "source": [
    "#### Monthly averages"
   ]
  },
  {
   "cell_type": "code",
   "execution_count": null,
   "metadata": {},
   "outputs": [],
   "source": [
    "_ = pd.melt(mt_c_ration.reset_index(), id_vars=[\"index\"], var_name=\"Date\")\n",
    "_.columns = [\"substrate\", \"Date\", \"value\"]\n",
    "months = [\"\".join(list(x)[2:4]) for x in _.Date]\n",
    "_ = _.assign(Month=pd.Series(months, index=_.index))\n",
    "ax = sns.barplot(data=_, x=\"Month\", y=\"value\", hue=\"substrate\", errwidth=.7)\n",
    "ax.legend(bbox_to_anchor=(1,1))\n",
    "ax.set_title(\"Metatranscriptome\")\n",
    "pd.pivot_table(_.groupby([\"substrate\", \"Month\"]).mean().reset_index(), columns=\"Month\",index=\"substrate\")[\"value\"].to_csv(\"model/results/mt_c_ratios_monthly.tsv\", sep=\"\\t\")\n",
    "plt.savefig(\"model/figures/mt_c_ratios_monthly.png\", dpi=300, bbox_to_inches=\"tight\")"
   ]
  }
 ],
 "metadata": {
  "kernelspec": {
   "display_name": "Python 3",
   "language": "python",
   "name": "python3"
  },
  "language_info": {
   "codemirror_mode": {
    "name": "ipython",
    "version": 3
   },
   "file_extension": ".py",
   "mimetype": "text/x-python",
   "name": "python",
   "nbconvert_exporter": "python",
   "pygments_lexer": "ipython3",
   "version": "3.6.7"
  }
 },
 "nbformat": 4,
 "nbformat_minor": 2
}
